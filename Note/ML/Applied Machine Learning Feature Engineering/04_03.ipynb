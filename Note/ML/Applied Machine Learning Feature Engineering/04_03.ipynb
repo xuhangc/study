{
 "cells": [
  {
   "cell_type": "markdown",
   "metadata": {},
   "source": [
    "## Creating And Cleaning Features: Transform Skewed Features"
   ]
  },
  {
   "cell_type": "markdown",
   "metadata": {},
   "source": [
    "### Read In Data"
   ]
  },
  {
   "cell_type": "code",
   "execution_count": null,
   "metadata": {},
   "outputs": [],
   "source": [
    "# Read in data\n",
    "import numpy as np\n",
    "import pandas as pd\n",
    "import matplotlib.pyplot as plt\n",
    "import scipy.stats\n",
    "from statsmodels.graphics.gofplots import qqplot\n",
    "import seaborn as sns\n",
    "%matplotlib inline\n",
    "\n",
    "titanic = pd.read_csv('../../../data/titanic_capped.csv')\n",
    "titanic.head()"
   ]
  },
  {
   "cell_type": "code",
   "execution_count": null,
   "metadata": {},
   "outputs": [],
   "source": [
    "# Plot histogram for each continuous feature to see if a transformation is necessary\n",
    "for feature in ['Age_clean', 'Fare_clean']:\n",
    "    sns.distplot(titanic[feature], kde=False)\n",
    "    plt.title('Histogram for {}'.format(feature))\n",
    "    plt.show()"
   ]
  },
  {
   "cell_type": "markdown",
   "metadata": {},
   "source": [
    "### Box-Cox Power Transformation\n",
    "\n",
    "**Base Form** $$ y^x $$\n",
    "\n",
    "| X    | Base Form           |           Transformation               |\n",
    "|------|--------------------------|--------------------------|\n",
    "| -2   | $$ y ^ {-2} $$           | $$ \\frac{1}{y^2} $$      |\n",
    "| -1   | $$ y ^ {-1} $$           | $$ \\frac{1}{y} $$        |\n",
    "| -0.5 | $$ y ^ {\\frac{-1}{2}} $$ | $$ \\frac{1}{\\sqrt{y}} $$ |\n",
    "| 0    | $$ y^{0} $$              | $$ log(y) $$             |\n",
    "| 0.5  | $$ y ^ {\\frac{1}{2}}  $$ | $$ \\sqrt{y} $$           |\n",
    "| 1    | $$ y^{1} $$              | $$ y $$                  |\n",
    "| 2    | $$ y^{2} $$              | $$ y^2 $$                |\n",
    "\n",
    "**Example (Using Fare)**\n",
    "\n",
    "| Original value    | Transformation           |           Transformation               |\n",
    "|------|--------------------------|--------------------------|\n",
    "| $$ 50 $$    | $$ \\frac{1}{50^2} $$           |  $$ 0.0004 $$      |\n",
    "| $$ 50 $$    | $$ \\frac{1}{50} $$          | $$ 0.02 $$        |\n",
    "| $$ 50 $$  | $$ \\frac{1}{\\sqrt{50}} $$ | $$ 0.14 $$ |\n",
    "| $$ 50 $$     | $$ log(50) $$              | $$ 1.7 $$             |\n",
    "| $$ 50 $$   | $$ \\sqrt{50} $$ | $$ 7.07 $$           |\n",
    "| $$ 50 $$     | $$ 50 $$              | $$ 50 $$                  |\n",
    "| $$ 50 $$     | $$ 50^2 $$           | $$ 2500 $$                |\n",
    "\n",
    "**Process**\n",
    "\n",
    "1. Determine what range of exponents to test\n",
    "2. Apply each transformation to each value of your chosen feature\n",
    "3. Use some criteria to determine which of the transformations yield the best distribution"
   ]
  },
  {
   "cell_type": "code",
   "execution_count": null,
   "metadata": {},
   "outputs": [],
   "source": [
    "# Generate QQ plots\n",
    "for i in [0.5, 1, 2, 3, 4, 5, 6, 7, 8, 9, 10]:\n",
    "    data_t = titanic['Fare_clean']**(1/i)\n",
    "    qqplot(data_t, line='s')\n",
    "    plt.title(\"Transformation: 1/{}\".format(str(i)))"
   ]
  },
  {
   "cell_type": "code",
   "execution_count": null,
   "metadata": {},
   "outputs": [],
   "source": [
    "# Box-Cox transformation\n",
    "for i in [3, 4, 5, 6, 7]:\n",
    "    data_t = titanic['Fare_clean']**(1/i)\n",
    "    n, bins, patches = plt.hist(data_t, 50, density=True)\n",
    "    mu = np.mean(data_t)\n",
    "    sigma = np.std(data_t)\n",
    "    plt.plot(bins, scipy.stats.norm.pdf(bins, mu, sigma))\n",
    "    plt.title(\"Transformation: 1/{}\".format(str(i)))\n",
    "    plt.show()"
   ]
  },
  {
   "cell_type": "code",
   "execution_count": null,
   "metadata": {},
   "outputs": [],
   "source": [
    "# Create the new transformed feature\n",
    "titanic['Fare_clean_tr'] = titanic['Fare_clean'].apply()\n",
    "titanic.head()"
   ]
  },
  {
   "cell_type": "code",
   "execution_count": null,
   "metadata": {},
   "outputs": [],
   "source": [
    "# Create new CSV with updated data\n",
    "titanic.to_csv('../../../data/titanic_transformed.csv', index=False)"
   ]
  }
 ],
 "metadata": {
  "kernelspec": {
   "display_name": "Python 3",
   "language": "python",
   "name": "python3"
  },
  "language_info": {
   "codemirror_mode": {
    "name": "ipython",
    "version": 3
   },
   "file_extension": ".py",
   "mimetype": "text/x-python",
   "name": "python",
   "nbconvert_exporter": "python",
   "pygments_lexer": "ipython3",
   "version": "3.6.2"
  }
 },
 "nbformat": 4,
 "nbformat_minor": 2
}
