{
 "cells": [
  {
   "cell_type": "markdown",
   "metadata": {},
   "source": [
    "## Prepare Features For Modeling: Write Out All Final Datasets"
   ]
  },
  {
   "cell_type": "markdown",
   "metadata": {},
   "source": [
    "### Read In Data\n",
    "\n",
    "Using the Titanic dataset from [this](https://www.kaggle.com/c/titanic/overview) Kaggle competition.\n",
    "\n",
    "This dataset contains information about 891 people who were on board the ship when departed on April 15th, 1912. As noted in the description on Kaggle's website, some people aboard the ship were more likely to survive the wreck than others. There were not enough lifeboats for everybody so women, children, and the upper-class were prioritized. Using the information about these 891 passengers, the challenge is to build a model to predict which people would survive based on the following fields:\n",
    "\n",
    "- **Name** (str) - Name of the passenger\n",
    "- **Pclass** (int) - Ticket class (1st, 2nd, or 3rd)\n",
    "- **Sex** (str) - Gender of the passenger\n",
    "- **Age** (float) - Age in years\n",
    "- **SibSp** (int) - Number of siblings and spouses aboard\n",
    "- **Parch** (int) - Number of parents and children aboard\n",
    "- **Ticket** (str) - Ticket number\n",
    "- **Fare** (float) - Passenger fare\n",
    "- **Cabin** (str) - Cabin number\n",
    "- **Embarked** (str) - Port of embarkation (C = Cherbourg, Q = Queenstown, S = Southampton)"
   ]
  },
  {
   "cell_type": "code",
   "execution_count": null,
   "metadata": {},
   "outputs": [],
   "source": [
    "# Read in data\n",
    "import pandas as pd\n",
    "\n",
    "titanic_train = pd.read_csv('../../../data/split_data/train_features.csv')\n",
    "titanic_val = pd.read_csv('../../../data/split_data/val_features.csv')\n",
    "titanic_test = pd.read_csv('../../../data/split_data/test_features.csv')\n",
    "titanic_train.head()"
   ]
  },
  {
   "cell_type": "code",
   "execution_count": null,
   "metadata": {},
   "outputs": [],
   "source": [
    "# Define the list of features to be used for each dataset\n",
    "raw_original_features = ['Pclass', 'Sex', 'Age_clean', 'SibSp', 'Parch', 'Fare',\n",
    "                         'Cabin', 'Embarked']\n",
    "\n",
    "cleaned_original_features = ['Pclass', 'Sex', 'Age_clean', 'SibSp', 'Parch', 'Fare_clean',\n",
    "                             'Cabin', 'Embarked_clean']\n",
    "\n",
    "all_features = ['Pclass', 'Sex', 'Age_clean', 'SibSp', 'Parch', 'Fare_clean', 'Fare_clean_tr',\n",
    "                'Cabin', 'Cabin_ind', 'Embarked_clean', 'Title', 'Family_cnt']\n",
    "\n",
    "reduced_features = ['Pclass', 'Sex', 'Age_clean', 'Family_cnt', 'Fare_clean_tr',\n",
    "                    'Cabin_ind', 'Title']"
   ]
  },
  {
   "cell_type": "markdown",
   "metadata": {},
   "source": [
    "### Write Out All Data"
   ]
  },
  {
   "cell_type": "code",
   "execution_count": null,
   "metadata": {},
   "outputs": [],
   "source": [
    "# Write out final data for each feature set\n",
    "titanic_train[raw_original_features].to_csv('../../../data/final_data/train_features_raw.csv', index=False)\n",
    "titanic_val[raw_original_features].to_csv('../../../data/final_data/val_features_raw.csv', index=False)\n",
    "titanic_test[raw_original_features].to_csv('../../../data/final_data/test_features_raw.csv', index=False)\n",
    "\n",
    "titanic_train[cleaned_original_features].to_csv('../../../data/final_data/train_features_original.csv', index=False)\n",
    "titanic_val[cleaned_original_features].to_csv('../../../data/final_data/val_features_original.csv', index=False)\n",
    "titanic_test[cleaned_original_features].to_csv('../../../data/final_data/test_features_original.csv', index=False)\n",
    "\n",
    "titanic_train[all_features].to_csv('../../../data/final_data/train_features_all.csv', index=False)\n",
    "titanic_val[all_features].to_csv('../../../data/final_data/val_features_all.csv', index=False)\n",
    "titanic_test[all_features].to_csv('../../../data/final_data/test_features_all.csv', index=False)\n",
    "\n",
    "titanic_train[reduced_features].to_csv('../../../data/final_data/train_features_reduced.csv', index=False)\n",
    "titanic_val[reduced_features].to_csv('../../../data/final_data/val_features_reduced.csv', index=False)\n",
    "titanic_test[reduced_features].to_csv('../../../data/final_data/test_features_reduced.csv', index=False)"
   ]
  },
  {
   "cell_type": "markdown",
   "metadata": {},
   "source": [
    "### Move Labels To Proper Directory"
   ]
  },
  {
   "cell_type": "code",
   "execution_count": null,
   "metadata": {},
   "outputs": [],
   "source": [
    "# Read in all labels\n",
    "titanic_train_labels = pd.read_csv('../../../data/split_data/train_labels.csv')\n",
    "titanic_val_labels = pd.read_csv('../../../data/split_data/val_labels.csv')\n",
    "titanic_test_labels = pd.read_csv('../../../data/split_data/test_labels.csv')"
   ]
  },
  {
   "cell_type": "code",
   "execution_count": null,
   "metadata": {},
   "outputs": [],
   "source": [
    "# Double-check the labels"
   ]
  },
  {
   "cell_type": "code",
   "execution_count": null,
   "metadata": {},
   "outputs": [],
   "source": [
    "# Write out labels to final directory\n",
    "titanic_train_labels.to_csv('../../../data/final_data/train_labels.csv', index=False)\n",
    "titanic_val_labels.to_csv('../../../data/final_data/val_labels.csv', index=False)\n",
    "titanic_test_labels.to_csv('../../../data/final_data/test_labels.csv', index=False)"
   ]
  },
  {
   "cell_type": "code",
   "execution_count": null,
   "metadata": {},
   "outputs": [],
   "source": []
  }
 ],
 "metadata": {
  "kernelspec": {
   "display_name": "Python 3",
   "language": "python",
   "name": "python3"
  },
  "language_info": {
   "codemirror_mode": {
    "name": "ipython",
    "version": 3
   },
   "file_extension": ".py",
   "mimetype": "text/x-python",
   "name": "python",
   "nbconvert_exporter": "python",
   "pygments_lexer": "ipython3",
   "version": "3.6.2"
  }
 },
 "nbformat": 4,
 "nbformat_minor": 2
}
