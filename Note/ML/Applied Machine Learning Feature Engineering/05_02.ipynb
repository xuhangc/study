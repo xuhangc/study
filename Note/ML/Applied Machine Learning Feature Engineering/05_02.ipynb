{
 "cells": [
  {
   "cell_type": "markdown",
   "metadata": {},
   "source": [
    "## Prepare Features For Modeling: Standardize All Features"
   ]
  },
  {
   "cell_type": "markdown",
   "metadata": {},
   "source": [
    "### Read In Data"
   ]
  },
  {
   "cell_type": "code",
   "execution_count": null,
   "metadata": {},
   "outputs": [],
   "source": [
    "# Read in data\n",
    "import pandas as pd\n",
    "from sklearn.preprocessing import StandardScaler\n",
    "\n",
    "titanic_train = pd.read_csv('../../../data/split_data/train_features.csv')\n",
    "titanic_val = pd.read_csv('../../../data/split_data/val_features.csv')\n",
    "titanic_test = pd.read_csv('../../../data/split_data/test_features.csv')\n",
    "titanic_train.head()"
   ]
  },
  {
   "cell_type": "markdown",
   "metadata": {},
   "source": [
    "### Standardize Features"
   ]
  },
  {
   "cell_type": "code",
   "execution_count": null,
   "metadata": {},
   "outputs": [],
   "source": [
    "# Fit the scaler on the training data"
   ]
  },
  {
   "cell_type": "code",
   "execution_count": null,
   "metadata": {},
   "outputs": [],
   "source": [
    "# Scale the training, test, and validation sets\n",
    "features = titanic_train.columns\n",
    "\n",
    "titanic_train[features] = scaler.transform(titanic_train[features])\n",
    "titanic_val[features] = scaler.transform(titanic_val[features])\n",
    "titanic_test[features] = scaler.transform(titanic_test[features])\n",
    "\n",
    "titanic_train.head()"
   ]
  }
 ],
 "metadata": {
  "kernelspec": {
   "display_name": "Python 3",
   "language": "python",
   "name": "python3"
  },
  "language_info": {
   "codemirror_mode": {
    "name": "ipython",
    "version": 3
   },
   "file_extension": ".py",
   "mimetype": "text/x-python",
   "name": "python",
   "nbconvert_exporter": "python",
   "pygments_lexer": "ipython3",
   "version": "3.6.2"
  }
 },
 "nbformat": 4,
 "nbformat_minor": 2
}
