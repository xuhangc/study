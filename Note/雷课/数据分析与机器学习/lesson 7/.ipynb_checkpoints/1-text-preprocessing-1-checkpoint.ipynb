{
 "cells": [
  {
   "cell_type": "markdown",
   "metadata": {},
   "source": [
    "# Text preprocessing\n",
    "- Basic text preprocessing using Keras API\n",
    "- Doc: https://keras.io/preprocessing/text/"
   ]
  },
  {
   "cell_type": "code",
   "execution_count": 1,
   "metadata": {},
   "outputs": [
    {
     "name": "stderr",
     "output_type": "stream",
     "text": [
      "Using TensorFlow backend.\n"
     ]
    }
   ],
   "source": [
    "from keras.preprocessing.text import Tokenizer, text_to_word_sequence, one_hot\n",
    "from keras.preprocessing.sequence import pad_sequences"
   ]
  },
  {
   "cell_type": "markdown",
   "metadata": {},
   "source": [
    "### Tokenization of a sentence\n",
    "- Tokenization: the process of converting a sequence of characters into a sequence of tokens (https://en.wikipedia.org/wiki/Lexical_analysis#Token)"
   ]
  },
  {
   "cell_type": "code",
   "execution_count": 2,
   "metadata": {
    "collapsed": true
   },
   "outputs": [],
   "source": [
    "sentences = ['Curiosity killed the cat.', 'But satisfaction brought it back']"
   ]
  },
  {
   "cell_type": "code",
   "execution_count": 3,
   "metadata": {},
   "outputs": [
    {
     "data": {
      "text/plain": [
       "<keras_preprocessing.text.Tokenizer at 0x274088eff28>"
      ]
     },
     "execution_count": 3,
     "metadata": {},
     "output_type": "execute_result"
    }
   ],
   "source": [
    "tk = Tokenizer()    # create Tokenizer instance\n",
    "tk"
   ]
  },
  {
   "cell_type": "code",
   "execution_count": 4,
   "metadata": {
    "collapsed": true
   },
   "outputs": [],
   "source": [
    "tk.fit_on_texts(sentences)    # tokenizer should be fit with text data in advance"
   ]
  },
  {
   "cell_type": "code",
   "execution_count": 10,
   "metadata": {},
   "outputs": [
    {
     "data": {
      "text/plain": [
       "{'back': 9,\n",
       " 'brought': 7,\n",
       " 'but': 5,\n",
       " 'cat': 4,\n",
       " 'curiosity': 1,\n",
       " 'it': 8,\n",
       " 'killed': 2,\n",
       " 'satisfaction': 6,\n",
       " 'the': 3}"
      ]
     },
     "execution_count": 10,
     "metadata": {},
     "output_type": "execute_result"
    }
   ],
   "source": [
    "tk.word_index"
   ]
  },
  {
   "cell_type": "code",
   "execution_count": 11,
   "metadata": {},
   "outputs": [
    {
     "data": {
      "text/plain": [
       "{1: 'curiosity',\n",
       " 2: 'killed',\n",
       " 3: 'the',\n",
       " 4: 'cat',\n",
       " 5: 'but',\n",
       " 6: 'satisfaction',\n",
       " 7: 'brought',\n",
       " 8: 'it',\n",
       " 9: 'back'}"
      ]
     },
     "execution_count": 11,
     "metadata": {},
     "output_type": "execute_result"
    }
   ],
   "source": [
    "tk.index_word"
   ]
  },
  {
   "cell_type": "markdown",
   "metadata": {},
   "source": [
    "#### Converting sentence into (integer) sequence\n",
    "- One of simple ways of modeling text is to create sequence of integers for each sentence\n",
    "- By doing so, information regarding order of words can be preserved"
   ]
  },
  {
   "cell_type": "code",
   "execution_count": 5,
   "metadata": {},
   "outputs": [
    {
     "name": "stdout",
     "output_type": "stream",
     "text": [
      "[[1, 2, 3, 4], [5, 6, 7, 8, 9]]\n"
     ]
    }
   ],
   "source": [
    "seq = tk.texts_to_sequences(sentences)\n",
    "print(seq)"
   ]
  },
  {
   "cell_type": "markdown",
   "metadata": {},
   "source": [
    "#### One-hot encoding of sentence\n",
    "- Sometimes, it is preferred to check only whether certain word appeared in sentence or not\n",
    "- This way of characterizing sentence is called \"one-hot encoding\"\n",
    "    - IF word appeared in sentence, it is encoded as **\"one\"**\n",
    "    - IF not, it is encoded as **\"zero\"**"
   ]
  },
  {
   "cell_type": "code",
   "execution_count": 6,
   "metadata": {},
   "outputs": [
    {
     "name": "stdout",
     "output_type": "stream",
     "text": [
      "[[0. 1. 1. 1. 1. 0. 0. 0. 0. 0.]\n",
      " [0. 0. 0. 0. 0. 1. 1. 1. 1. 1.]]\n"
     ]
    }
   ],
   "source": [
    "mat = tk.sequences_to_matrix(seq)\n",
    "print(mat)"
   ]
  },
  {
   "cell_type": "markdown",
   "metadata": {},
   "source": [
    "#### Padding sequences\n",
    "- Oftentimes, to preserve the dimensionality of sentences, zero padding is performed\n",
    "- Idea is similar to that of padding exterior of image-format data, but applied to sequences"
   ]
  },
  {
   "cell_type": "code",
   "execution_count": 7,
   "metadata": {},
   "outputs": [
    {
     "name": "stdout",
     "output_type": "stream",
     "text": [
      "[[0 1 2 3 4]\n",
      " [5 6 7 8 9]]\n"
     ]
    }
   ],
   "source": [
    "# if set padding to 'pre', zeros are appended to start of sentences\n",
    "pad_seq = pad_sequences(seq, padding='pre')     \n",
    "print(pad_seq)"
   ]
  },
  {
   "cell_type": "code",
   "execution_count": 8,
   "metadata": {},
   "outputs": [
    {
     "name": "stdout",
     "output_type": "stream",
     "text": [
      "[[1 2 3 4 0]\n",
      " [5 6 7 8 9]]\n"
     ]
    }
   ],
   "source": [
    "# if set padding to 'post', zeros are appended to end of sentences\n",
    "pad_seq = pad_sequences(seq, padding='post')\n",
    "print(pad_seq)"
   ]
  }
 ],
 "metadata": {
  "kernelspec": {
   "display_name": "Python [conda env:pytorch]",
   "language": "python",
   "name": "conda-env-pytorch-py"
  },
  "language_info": {
   "codemirror_mode": {
    "name": "ipython",
    "version": 3
   },
   "file_extension": ".py",
   "mimetype": "text/x-python",
   "name": "python",
   "nbconvert_exporter": "python",
   "pygments_lexer": "ipython3",
   "version": "3.6.8"
  }
 },
 "nbformat": 4,
 "nbformat_minor": 2
}
