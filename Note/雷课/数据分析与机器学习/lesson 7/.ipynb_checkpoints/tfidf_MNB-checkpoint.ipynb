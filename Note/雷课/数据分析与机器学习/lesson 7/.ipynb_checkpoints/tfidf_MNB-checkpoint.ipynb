{
 "cells": [
  {
   "cell_type": "code",
   "execution_count": 1,
   "metadata": {
    "ExecuteTime": {
     "end_time": "2019-04-30T12:25:25.027993Z",
     "start_time": "2019-04-30T12:25:24.189334Z"
    },
    "collapsed": true
   },
   "outputs": [],
   "source": [
    "import numpy as np\n",
    "import pandas as pd\n",
    "import matplotlib.pyplot as plt\n",
    "import codecs\n",
    "import re\n",
    "import sys,os\n",
    "import warnings\n",
    "warnings.filterwarnings('ignore')"
   ]
  },
  {
   "cell_type": "code",
   "execution_count": 2,
   "metadata": {
    "ExecuteTime": {
     "end_time": "2019-04-30T12:25:26.151984Z",
     "start_time": "2019-04-30T12:25:26.101120Z"
    }
   },
   "outputs": [
    {
     "data": {
      "text/html": [
       "<div>\n",
       "<style scoped>\n",
       "    .dataframe tbody tr th:only-of-type {\n",
       "        vertical-align: middle;\n",
       "    }\n",
       "\n",
       "    .dataframe tbody tr th {\n",
       "        vertical-align: top;\n",
       "    }\n",
       "\n",
       "    .dataframe thead th {\n",
       "        text-align: right;\n",
       "    }\n",
       "</style>\n",
       "<table border=\"1\" class=\"dataframe\">\n",
       "  <thead>\n",
       "    <tr style=\"text-align: right;\">\n",
       "      <th></th>\n",
       "      <th>ID</th>\n",
       "      <th>review</th>\n",
       "    </tr>\n",
       "  </thead>\n",
       "  <tbody>\n",
       "    <tr>\n",
       "      <th>0</th>\n",
       "      <td>1</td>\n",
       "      <td>Mulazmat ke bahali ke dua farma dein aur koe w...</td>\n",
       "    </tr>\n",
       "    <tr>\n",
       "      <th>1</th>\n",
       "      <td>2</td>\n",
       "      <td>Dua farma dain meri sehat k luay aur meray baa...</td>\n",
       "    </tr>\n",
       "    <tr>\n",
       "      <th>2</th>\n",
       "      <td>3</td>\n",
       "      <td>Tum khabees nahi kutti aurat ho 馃槀馃槀馃槀馃槇馃槇</td>\n",
       "    </tr>\n",
       "    <tr>\n",
       "      <th>3</th>\n",
       "      <td>4</td>\n",
       "      <td>Mery ly r Meri behn k ly dua kren k Allah mjhy...</td>\n",
       "    </tr>\n",
       "    <tr>\n",
       "      <th>4</th>\n",
       "      <td>5</td>\n",
       "      <td>Aur agar Imran peshawar mei banayega toh 100 p...</td>\n",
       "    </tr>\n",
       "  </tbody>\n",
       "</table>\n",
       "</div>"
      ],
      "text/plain": [
       "   ID                                             review\n",
       "0   1  Mulazmat ke bahali ke dua farma dein aur koe w...\n",
       "1   2  Dua farma dain meri sehat k luay aur meray baa...\n",
       "2   3         Tum khabees nahi kutti aurat ho 馃槀馃槀馃槀馃槇馃槇\n",
       "3   4  Mery ly r Meri behn k ly dua kren k Allah mjhy...\n",
       "4   5  Aur agar Imran peshawar mei banayega toh 100 p..."
      ]
     },
     "execution_count": 2,
     "metadata": {},
     "output_type": "execute_result"
    }
   ],
   "source": [
    "train_data = pd.read_csv('./train_clean.csv')\n",
    "test_data = pd.read_csv('./test1_clean.csv')\n",
    "train_len = len(train_data.review)\n",
    "test_len = len(test_data.review)\n",
    "labels = np.array(train_data.label.values.tolist())\n",
    "labels\n",
    "test_data.head()"
   ]
  },
  {
   "cell_type": "code",
   "execution_count": 3,
   "metadata": {
    "ExecuteTime": {
     "end_time": "2019-04-30T12:25:29.231294Z",
     "start_time": "2019-04-30T12:25:26.756672Z"
    },
    "collapsed": true
   },
   "outputs": [],
   "source": [
    "from sklearn.feature_extraction.text import TfidfVectorizer\n",
    "tfidf_vec = TfidfVectorizer(max_df=0.5,ngram_range=(1,3))\n",
    "tfidf_matrix = tfidf_vec.fit_transform(train_data.review.astype('U').tolist()+test_data.review.astype('U').tolist())\n",
    "train = tfidf_matrix[:train_len]\n",
    "test = tfidf_matrix[train_len:]\n",
    "# tfidf_array = pd.DataFrame({'review':tfidf_array})"
   ]
  },
  {
   "cell_type": "code",
   "execution_count": 4,
   "metadata": {
    "ExecuteTime": {
     "end_time": "2019-04-30T12:25:29.830733Z",
     "start_time": "2019-04-30T12:25:29.232291Z"
    }
   },
   "outputs": [
    {
     "name": "stdout",
     "output_type": "stream",
     "text": [
      "0.8793074163994045\n",
      "0.841139570306237\n",
      "0.8568923360590028\n",
      "0.8607303190636524\n",
      "0.8597633076799743\n",
      "0.8393859227192559\n",
      "0.8813832772166106\n",
      "0.8367720398970399\n",
      "0.8501045688545689\n",
      "0.8675595238095238\n"
     ]
    },
    {
     "data": {
      "text/plain": [
       "2712"
      ]
     },
     "execution_count": 4,
     "metadata": {},
     "output_type": "execute_result"
    }
   ],
   "source": [
    "from sklearn.model_selection import StratifiedKFold\n",
    "from sklearn.linear_model import LogisticRegression\n",
    "from sklearn.naive_bayes import MultinomialNB\n",
    "from sklearn.metrics import roc_auc_score\n",
    "LR = LogisticRegression()\n",
    "MNB = MultinomialNB()\n",
    "sfd = StratifiedKFold(n_splits=10)\n",
    "sfd.get_n_splits(train, labels)\n",
    "predicts = []\n",
    "test_splits = [350,260,270,280,265,200,380,172,265,270]\n",
    "count = 0\n",
    "for train_index, test_index in sfd.split(train, labels):\n",
    "    X_train = train[train_index]\n",
    "    Y_train = labels[train_index]\n",
    "    x_test = train[test_index]\n",
    "    y_test = labels[test_index]\n",
    "    MNB.fit(X_train, Y_train)\n",
    "    print(roc_auc_score(y_test, MNB.predict_proba(x_test)[:, 1]))\n",
    "    flag = test_splits[count]\n",
    "    predicts.append(MNB.predict_proba(test[:flag])[:, 1])\n",
    "    test = test[flag:]\n",
    "    count += 1\n",
    "predicts = [y for x in predicts for y in x]\n",
    "len(predicts)"
   ]
  },
  {
   "cell_type": "code",
   "execution_count": 5,
   "metadata": {
    "ExecuteTime": {
     "end_time": "2019-04-30T12:25:29.852596Z",
     "start_time": "2019-04-30T12:25:29.831730Z"
    }
   },
   "outputs": [
    {
     "name": "stdout",
     "output_type": "stream",
     "text": [
      "Done!\n"
     ]
    }
   ],
   "source": [
    "result = pd.DataFrame({\n",
    "    'ID':list(range(1,test_len+1)),\n",
    "    'Pred':predicts\n",
    "})\n",
    "result\n",
    "result.to_csv('./res.csv',index=False)\n",
    "print(\"Done!\")"
   ]
  }
 ],
 "metadata": {
  "kernelspec": {
   "display_name": "Python [default]",
   "language": "python",
   "name": "python3"
  },
  "language_info": {
   "codemirror_mode": {
    "name": "ipython",
    "version": 3
   },
   "file_extension": ".py",
   "mimetype": "text/x-python",
   "name": "python",
   "nbconvert_exporter": "python",
   "pygments_lexer": "ipython3",
   "version": "3.6.1"
  }
 },
 "nbformat": 4,
 "nbformat_minor": 2
}
