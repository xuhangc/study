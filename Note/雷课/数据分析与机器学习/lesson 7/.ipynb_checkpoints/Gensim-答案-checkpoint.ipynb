{
 "cells": [
  {
   "cell_type": "markdown",
   "metadata": {
    "slideshow": {
     "slide_type": "slide"
    }
   },
   "source": [
    "# <center>自然语言处理——小练习</center>"
   ]
  },
  {
   "cell_type": "markdown",
   "metadata": {},
   "source": [
    "### 小练习\n",
    "* 训练样本\n",
    "```\n",
    "raw_documents = [\n",
    "    '南京江心洲污泥偷排”等污泥偷排或处置不当而造成的污染问题，不断被媒体曝光',\n",
    "    '面对美国金融危机冲击与国内经济增速下滑形势，中国政府在2008年11月初快速推出“4万亿”投资十项措施',\n",
    "    '全国大面积出现的雾霾，使解决我国环境质量恶化问题的紧迫性得到全社会的广泛关注',\n",
    "    '大约是1962年的夏天吧，潘文突然出现在我们居住的安宁巷中，她旁边走着40号王孃孃家的大儿子，一看就知道，他们是一对恋人。那时候，潘文梳着一条长长的独辫',\n",
    "    '坐落在美国科罗拉多州的小镇蒙特苏马有一座4200平方英尺(约合390平方米)的房子，该建筑外表上与普通民居毫无区别，但其内在构造却别有洞天',\n",
    "    '据英国《每日邮报》报道，美国威斯康辛州的非营利组织“占领麦迪逊建筑公司”(OMBuild)在华盛顿和俄勒冈州打造了99平方英尺(约9平方米)的迷你房屋',\n",
    "    '长沙市公安局官方微博@长沙警事发布消息称，3月14日上午10时15分许，长沙市开福区伍家岭沙湖桥菜市场内，两名摊贩因纠纷引发互殴，其中一人被对方砍死',\n",
    "    '乌克兰克里米亚就留在乌克兰还是加入俄罗斯举行全民公投，全部选票的统计结果表明，96.6%的选民赞成克里米亚加入俄罗斯，但未获得乌克兰和国际社会的普遍承认',\n",
    "    '京津冀的大气污染，造成了巨大的综合负面效应，显性的是空气污染、水质变差、交通拥堵、食品不安全等，隐性的是各种恶性疾病的患者增加，生存环境越来越差',\n",
    "    '1954年2月19日，苏联最高苏维埃主席团，在“兄弟的乌克兰与俄罗斯结盟300周年之际”通过决议，将俄罗斯联邦的克里米亚州，划归乌克兰加盟共和国',\n",
    "    '北京市昌平区一航空训练基地，演练人员身穿训练服，从机舱逃生门滑降到地面',\n",
    "    '腾讯入股京东的公告如期而至，与三周前的传闻吻合。毫无疑问，仅仅是传闻阶段的“联姻”，已经改变了京东赴美上市的舆论氛围',\n",
    "    '国防部网站消息，3月8日凌晨，马来西亚航空公司MH370航班起飞后与地面失去联系，西安卫星测控中心在第一时间启动应急机制，配合地面搜救人员开展对失联航班的搜索救援行动',\n",
    "    '新华社昆明3月2日电，记者从昆明市政府新闻办获悉，昆明“3·01”事件事发现场证据表明，这是一起由新疆分裂势力一手策划组织的严重暴力恐怖事件',\n",
    "    '在即将召开的全国“两会”上，中国政府将提出2014年GDP增长7.5%左右、CPI通胀率控制在3.5%的目标',\n",
    "    '中共中央总书记、国家主席、中央军委主席习近平看望出席全国政协十二届二次会议的委员并参加分组讨论时强调，团结稳定是福，分裂动乱是祸。全国各族人民都要珍惜民族大团结的政治局面，都要坚决反对一切危害各民族大团结的言行'\n",
    "]\n",
    "```\n",
    "\n",
    "* 测试目的\n",
    "  * \"小明，你妈妈喊你回家吃饭啦\" 与 以上16句话中最相似的5句话\n",
    "  * \"小明，你妈妈喊你回家吃饭啦\" 与 \"回家吃饭啦，小明\" 的相似度"
   ]
  },
  {
   "cell_type": "code",
   "execution_count": null,
   "metadata": {
    "collapsed": true
   },
   "outputs": [],
   "source": [
    "from gensim.models import LdaModel\n",
    "from sklearn.metrics.pairwise import cosine_similarity\n",
    "from gensim import corpora, similarities, models\n",
    "import jieba"
   ]
  },
  {
   "cell_type": "code",
   "execution_count": null,
   "metadata": {
    "collapsed": true
   },
   "outputs": [],
   "source": [
    "# 训练样本\n",
    "raw_documents = [\n",
    "    '0南京江心洲污泥偷排”等污泥偷排或处置不当而造成的污染问题，不断被媒体曝光',\n",
    "    '1面对美国金融危机冲击与国内经济增速下滑形势，中国政府在2008年11月初快速推出“4万亿”投资十项措施',\n",
    "    '2全国大面积出现的雾霾，使解决我国环境质量恶化问题的紧迫性得到全社会的广泛关注',\n",
    "    '3大约是1962年的夏天吧，潘文突然出现在我们居住的安宁巷中，她旁边走着40号王孃孃家的大儿子，一看就知道，他们是一对恋人。那时候，潘文梳着一条长长的独辫',\n",
    "    '4坐落在美国科罗拉多州的小镇蒙特苏马有一座4200平方英尺(约合390平方米)的房子，该建筑外表上与普通民居毫无区别，但其内在构造却别有洞天',\n",
    "    '5据英国《每日邮报》报道，美国威斯康辛州的非营利组织“占领麦迪逊建筑公司”(OMBuild)在华盛顿和俄勒冈州打造了99平方英尺(约9平方米)的迷你房屋',\n",
    "    '6长沙市公安局官方微博@长沙警事发布消息称，3月14日上午10时15分许，长沙市开福区伍家岭沙湖桥菜市场内，两名摊贩因纠纷引发互殴，其中一人被对方砍死',\n",
    "    '7乌克兰克里米亚就留在乌克兰还是加入俄罗斯举行全民公投，全部选票的统计结果表明，96.6%的选民赞成克里米亚加入俄罗斯，但未获得乌克兰和国际社会的普遍承认',\n",
    "    '8京津冀的大气污染，造成了巨大的综合负面效应，显性的是空气污染、水质变差、交通拥堵、食品不安全等，隐性的是各种恶性疾病的患者增加，生存环境越来越差',\n",
    "    '9 1954年2月19日，苏联最高苏维埃主席团，在“兄弟的乌克兰与俄罗斯结盟300周年之际”通过决议，将俄罗斯联邦的克里米亚州，划归乌克兰加盟共和国',\n",
    "    '10北京市昌平区一航空训练基地，演练人员身穿训练服，从机舱逃生门滑降到地面',\n",
    "    '11腾讯入股京东的公告如期而至，与三周前的传闻吻合。毫无疑问，仅仅是传闻阶段的“联姻”，已经改变了京东赴美上市的舆论氛围',\n",
    "    '12国防部网站消息，3月8日凌晨，马来西亚航空公司MH370航班起飞后与地面失去联系，西安卫星测控中心在第一时间启动应急机制，配合地面搜救人员开展对失联航班的搜索救援行动',\n",
    "    '13新华社昆明3月2日电，记者从昆明市政府新闻办获悉，昆明“3·01”事件事发现场证据表明，这是一起由新疆分裂势力一手策划组织的严重暴力恐怖事件',\n",
    "    '14在即将召开的全国“两会”上，中国政府将提出2014年GDP增长7.5%左右、CPI通胀率控制在3.5%的目标',\n",
    "    '15中共中央总书记、国家主席、中央军委主席习近平看望出席全国政协十二届二次会议的委员并参加分组讨论时强调，团结稳定是福，分裂动乱是祸。全国各族人民都要珍惜民族大团结的政治局面，都要坚决反对一切危害各民族大团结的言行'\n",
    "]\n",
    "# 分词处理，文档序列\n",
    "corpora_documents = []\n",
    "for item_text in raw_documents:\n",
    "    item_seg = list(jieba.cut(item_text))\n",
    "    corpora_documents.append(item_seg)\n",
    "print('-' * 20 + ' 文档序列 ' + '-' * 20)\n",
    "print(corpora_documents)\n",
    "\n",
    "# 生成字典和向量语料\n",
    "dictionary = corpora.Dictionary(corpora_documents)\n",
    "print('-' * 20 + ' 字典向量 ' + '-' * 20)\n",
    "print(dictionary)\n",
    "# dictionary.save('dict.txt') #保存生成的词典\n",
    "# dictionary=Dictionary.load('dict.txt')#加载\n",
    "\n",
    "# 通过下面一句得到语料中每一篇文档对应的稀疏向量（这里是bow向量）\n",
    "corpus = [dictionary.doc2bow(text) for text in corpora_documents]\n",
    "# 向量的每一个元素代表了一个word在这篇文档中出现的次数\n",
    "print('-' * 20 + ' 词袋模型 ' + '-' * 20)\n",
    "print(corpus)\n",
    "corpora.MmCorpus.serialize('corpuse.mm',corpus)#保存生成的语料\n",
    "corpus=corpora.MmCorpus('corpuse.mm')#加载\n",
    "\n",
    "lda = models.LdaModel(corpus=corpus, id2word=dictionary, num_topics=10)\n",
    "lda.save('lda.model')\n",
    "dictionary.save('dictionary.dic')"
   ]
  },
  {
   "cell_type": "code",
   "execution_count": null,
   "metadata": {
    "collapsed": true
   },
   "outputs": [],
   "source": [
    "class LdaSimilarity():\n",
    "    def __init__(self, model='lda.model', dictionary='dictionary.dic'):\n",
    "        self.lda = LdaModel.load(model)\n",
    "        self.dic = corpora.Dictionary.load(dictionary)\n",
    "\n",
    "    def sentence_to_bow(self, text):\n",
    "        \"\"\"\n",
    "        将文本转换成向量\n",
    "        :param text:\n",
    "        :return:[(id, val), (id, val)]\n",
    "        \"\"\"\n",
    "        bow = self.dic.doc2bow(jieba.lcut(text))\n",
    "        return self.lda[bow]\n",
    "\n",
    "    def bow_to_vector(self, bow1, bow2):\n",
    "        \"\"\"\n",
    "        转换数据格式\n",
    "        :param bow1:\n",
    "        :param bow2:\n",
    "        :return: [val_id1, val_id2]\n",
    "        \"\"\"\n",
    "        dic_1 = {}\n",
    "        dic_2 = {}\n",
    "        for id, tfidf in bow1:\n",
    "            dic_1[id] = tfidf\n",
    "\n",
    "        for id, tfidf in bow2:\n",
    "            dic_2[id] = tfidf\n",
    "\n",
    "        all_ids = set(dic_1.keys()) | set(dic_2.keys())\n",
    "\n",
    "        vector1 = [dic_1[id] if id in dic_1 else 0 for id in all_ids]\n",
    "        vector2 = [dic_2[id] if id in dic_2 else 0 for id in all_ids]\n",
    "        return vector1, vector2\n",
    "\n",
    "    def similarity(self, text1, text2):\n",
    "        bow_1 = self.sentence_to_bow(text1)\n",
    "        bow_2 = self.sentence_to_bow(text2)\n",
    "\n",
    "        vector1, vector2 = self.bow_to_vector(bow_1, bow_2)\n",
    "\n",
    "        return cosine_similarity([vector1], [vector2])[0][0]"
   ]
  },
  {
   "cell_type": "code",
   "execution_count": null,
   "metadata": {
    "collapsed": true
   },
   "outputs": [],
   "source": [
    "text1 = \"小明，你妈妈喊你回家吃饭啦\"\n",
    "text2 = \"回家吃饭啦，小明\"\n",
    "lda = LdaSimilarity()\n",
    "ret = lda.similarity(text1, text2)\n",
    "print(ret)"
   ]
  },
  {
   "cell_type": "code",
   "execution_count": null,
   "metadata": {
    "collapsed": true
   },
   "outputs": [],
   "source": [
    "from gensim import corpora, similarities, models"
   ]
  },
  {
   "cell_type": "code",
   "execution_count": null,
   "metadata": {
    "collapsed": true
   },
   "outputs": [],
   "source": [
    "corpus = [dictionary.doc2bow(text) for text in corpora_documents]"
   ]
  },
  {
   "cell_type": "code",
   "execution_count": null,
   "metadata": {
    "collapsed": true
   },
   "outputs": [],
   "source": [
    "tfidf_model = models.TfidfModel(corpus=corpus, id2word=dictionary)"
   ]
  },
  {
   "cell_type": "code",
   "execution_count": null,
   "metadata": {
    "collapsed": true
   },
   "outputs": [],
   "source": [
    "corpus"
   ]
  },
  {
   "cell_type": "code",
   "execution_count": null,
   "metadata": {
    "collapsed": true
   },
   "outputs": [],
   "source": [
    "corpus_tfidf = tfidf_model[corpus]\n",
    "similarity = similarities.MatrixSimilarity(corpus_tfidf, num_features=600)\n",
    "text_cut_raw = list(jieba.cut(text1))\n",
    "text_corpus = dictionary.doc2bow(text_cut_raw)\n",
    "similarity.num_best = 5\n",
    "text_corpus_tfidf = tfidf_model[text_corpus]\n",
    "result = similarity[text_corpus_tfidf]"
   ]
  },
  {
   "cell_type": "code",
   "execution_count": null,
   "metadata": {
    "collapsed": true
   },
   "outputs": [],
   "source": [
    "result"
   ]
  }
 ],
 "metadata": {
  "celltoolbar": "Slideshow",
  "kernelspec": {
   "display_name": "Python [conda env:pytorch]",
   "language": "python",
   "name": "conda-env-pytorch-py"
  },
  "language_info": {
   "codemirror_mode": {
    "name": "ipython",
    "version": 3
   },
   "file_extension": ".py",
   "mimetype": "text/x-python",
   "name": "python",
   "nbconvert_exporter": "python",
   "pygments_lexer": "ipython3",
   "version": "3.6.8"
  }
 },
 "nbformat": 4,
 "nbformat_minor": 1
}
