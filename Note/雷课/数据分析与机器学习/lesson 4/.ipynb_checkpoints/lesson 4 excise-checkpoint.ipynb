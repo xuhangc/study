{
 "cells": [
  {
   "cell_type": "markdown",
   "metadata": {},
   "source": [
    "0.2 Basic-Principles"
   ]
  },
  {
   "cell_type": "code",
   "execution_count": 1,
   "metadata": {},
   "outputs": [
    {
     "name": "stdout",
     "output_type": "stream",
     "text": [
      "['versicolor']\n"
     ]
    }
   ],
   "source": [
    "#大家尝试在下面的代码框，模仿上面的KNN的代码 写出来 鸢尾花预测的 SVM的代码\n",
    "\n",
    "from sklearn import neighbors, datasets\n",
    "\n",
    "from sklearn.svm import SVC\n",
    "\n",
    "iris = datasets.load_iris()\n",
    "X, y = iris.data, iris.target\n",
    "\n",
    "# 建立模型\n",
    "svc = SVC(gamma='scale')\n",
    "\n",
    "# 训练模型 (fit the model)\n",
    "svc.fit(X, y)\n",
    "# 一个 3cm x 5cm 萼片 and 4cm x 2cm 花瓣 的 iris 花，属于哪一个分类？\n",
    "# 调用\"predict\"方法:\n",
    "result = svc.predict([[3, 5, 4, 2],])\n",
    "print(iris.target_names[result])"
   ]
  },
  {
   "cell_type": "markdown",
   "metadata": {},
   "source": [
    "0.4 Regression Forest"
   ]
  },
  {
   "cell_type": "code",
   "execution_count": null,
   "metadata": {},
   "outputs": [],
   "source": [
    "\n",
    "#尝试用 随机森林 做手写识别的例子  sklearn.ensemble.RandomForestClassifier  \n",
    "#需要先执行那个练习前面的代码，然后 copy下面的到 练习框执行\n",
    "\n",
    "\n",
    "clf = RandomForestClassifier(max_depth=10,n_estimators=150)\n",
    "clf.fit(Xtrain, ytrain)\n",
    "ypred = clf.predict(Xtest)\n",
    "print(metrics.accuracy_score(ypred, ytest))\n",
    "print(metrics.f1_score(ypred, ytest,average='macro'))"
   ]
  },
  {
   "cell_type": "code",
   "execution_count": null,
   "metadata": {},
   "outputs": [],
   "source": [
    "#练习使用 svm来做\n",
    "\n",
    "from sklearn.svm import SVC\n",
    "svc = SVC(gamma='scale',kernel='linear',C=0.1)\n",
    "svc.fit(Xtrain, ytrain)\n",
    "ypred = svc.predict(Xtest)\n",
    "print(metrics.accuracy_score(ypred, ytest))\n",
    "print(metrics.f1_score(ypred, ytest,average='macro'))"
   ]
  },
  {
   "cell_type": "markdown",
   "metadata": {},
   "source": [
    "Case Study 糖尿病预测"
   ]
  },
  {
   "cell_type": "code",
   "execution_count": 6,
   "metadata": {},
   "outputs": [
    {
     "name": "stdout",
     "output_type": "stream",
     "text": [
      "RF\n",
      "0.7532467532467533\n",
      "SVC\n",
      "0.7467532467532467\n"
     ]
    }
   ],
   "source": [
    "#练习尝试使用 SVM、RandomForestClassifier 进行分类，并比较他们自己的准确率\n",
    "'''\n",
    "name: KNN; cross val score: 0.7448051948051948\n",
    "name: KNN with weights; cross val score: 0.7396103896103897\n",
    "name: Radius Neighbors; cross val score: 0.6497265892002735\n",
    "'''\n",
    "from sklearn.model_selection import train_test_split\n",
    "import pandas as pd\n",
    "# 加载数据\n",
    "data = pd.read_csv('data/diabetes.csv') \n",
    "# 含有特征的数据集\n",
    "X = data.iloc[:,0:8]\n",
    "# 标记数据\n",
    "Y = data.iloc[:,8]\n",
    "\n",
    "#随机森林\n",
    "X_train,X_test,Y_train,Y_test = train_test_split(X,Y,test_size = 0.2)\n",
    "from sklearn.ensemble import RandomForestClassifier\n",
    "clf = RandomForestClassifier(n_estimators=250, random_state=0)\n",
    "clf.fit(X_train,Y_train)\n",
    "print('RF')\n",
    "print(clf.score(X_test,Y_test))\n",
    "\n"
   ]
  },
  {
   "cell_type": "code",
   "execution_count": 8,
   "metadata": {},
   "outputs": [
    {
     "name": "stdout",
     "output_type": "stream",
     "text": [
      "SVC\n",
      "0.7142857142857143\n"
     ]
    }
   ],
   "source": [
    "#完整过程 糖尿病预测 SVM程序\n",
    "\n",
    "from sklearn.model_selection import train_test_split\n",
    "import pandas as pd\n",
    "# 加载数据\n",
    "data = pd.read_csv('data/diabetes.csv') \n",
    "# 含有特征的数据集\n",
    "X = data.iloc[:,0:8]\n",
    "# 标记数据\n",
    "Y = data.iloc[:,8]\n",
    "\n",
    "# 将数据集划分为训练集和测试集，其中测试数据为20%\n",
    "X_train,X_test,Y_train,Y_test = train_test_split(X,Y,test_size = 0.2)\n",
    "from sklearn.svm import SVC\n",
    "svc = SVC(kernel='rbf',gamma='scale')\n",
    "svc.fit(X_train,Y_train)\n",
    "print('SVC')\n",
    "print(svc.score(X_test,Y_test))\n"
   ]
  },
  {
   "cell_type": "code",
   "execution_count": 12,
   "metadata": {},
   "outputs": [
    {
     "data": {
      "text/plain": [
       "array([[0, 0, 0, ..., 0, 0, 0],\n",
       "       [0, 0, 0, ..., 0, 0, 0],\n",
       "       [0, 0, 0, ..., 0, 0, 0],\n",
       "       ...,\n",
       "       [0, 0, 0, ..., 0, 0, 0],\n",
       "       [0, 0, 0, ..., 0, 0, 0],\n",
       "       [0, 0, 0, ..., 0, 0, 0]])"
      ]
     },
     "execution_count": 12,
     "metadata": {},
     "output_type": "execute_result"
    }
   ],
   "source": [
    "#稀疏矩阵\n",
    "'''\n",
    "在矩阵中，如果数值为0的元素数目远远多于非0元素的数目，\n",
    "并且非0元素分布无规律时，则称该矩阵为稀疏矩阵；与之相反，若非0元素数目占大多数时，则称该矩阵为稠密矩阵。\n",
    "'''\n",
    "import numpy as np\n",
    "\n",
    "np.random.seed(seed=12)  ## for reproducibility\n",
    "dataset = np.random.binomial(1, 0.01, 20000000).reshape(2000,10000)  ## dummy data\n",
    "#numpy.random.binomial(n,p,size=None) n表示n次的试验，p表示的试验成功的概率，n可是是一个float但是也会被变成整数来使用。\n",
    "y = np.random.binomial(1, 0.5, 2000)  ## dummy target variable\n",
    "    \n",
    "    \n",
    "dataset"
   ]
  },
  {
   "cell_type": "code",
   "execution_count": 14,
   "metadata": {},
   "outputs": [
    {
     "data": {
      "image/png": "[encoded data removed]",
      "text/plain": [
       "<Figure size 432x288 with 1 Axes>"
      ]
     },
     "metadata": {
      "needs_background": "light"
     },
     "output_type": "display_data"
    }
   ],
   "source": [
    "import matplotlib.pyplot as plt\n",
    "plt.spy(dataset)\n",
    "plt.title(\"Sparse Matrix\")\n",
    "plt.show()\n",
    "    \n",
    " "
   ]
  },
  {
   "cell_type": "code",
   "execution_count": 18,
   "metadata": {},
   "outputs": [
    {
     "name": "stdout",
     "output_type": "stream",
     "text": [
      "  (0, 41)\t1\n",
      "  (0, 198)\t1\n",
      "  (0, 318)\t1\n",
      "  (0, 334)\t1\n",
      "  (0, 371)\t1\n",
      "  (0, 540)\t1\n",
      "  (0, 543)\t1\n",
      "  (0, 683)\t1\n",
      "  (0, 767)\t1\n",
      "  (0, 821)\t1\n",
      "  (0, 1081)\t1\n",
      "  (0, 1156)\t1\n",
      "  (0, 1214)\t1\n",
      "  (0, 1251)\t1\n",
      "  (0, 1345)\t1\n",
      "  (0, 1564)\t1\n",
      "  (0, 1636)\t1\n",
      "  (0, 1686)\t1\n",
      "  (0, 1804)\t1\n",
      "  (0, 1863)\t1\n",
      "  (0, 1883)\t1\n",
      "  (0, 1905)\t1\n",
      "  (0, 1932)\t1\n",
      "  (0, 2042)\t1\n",
      "  (0, 2289)\t1\n",
      "  :\t:\n",
      "  (1999, 7226)\t1\n",
      "  (1999, 7258)\t1\n",
      "  (1999, 7289)\t1\n",
      "  (1999, 7310)\t1\n",
      "  (1999, 7608)\t1\n",
      "  (1999, 7622)\t1\n",
      "  (1999, 7710)\t1\n",
      "  (1999, 8077)\t1\n",
      "  (1999, 8174)\t1\n",
      "  (1999, 8240)\t1\n",
      "  (1999, 8379)\t1\n",
      "  (1999, 8450)\t1\n",
      "  (1999, 8473)\t1\n",
      "  (1999, 8532)\t1\n",
      "  (1999, 8879)\t1\n",
      "  (1999, 9007)\t1\n",
      "  (1999, 9131)\t1\n",
      "  (1999, 9380)\t1\n",
      "  (1999, 9484)\t1\n",
      "  (1999, 9529)\t1\n",
      "  (1999, 9667)\t1\n",
      "  (1999, 9688)\t1\n",
      "  (1999, 9897)\t1\n",
      "  (1999, 9916)\t1\n",
      "  (1999, 9985)\t1\n"
     ]
    }
   ],
   "source": [
    "from scipy.sparse import csr_matrix\n",
    "sparse_dataset = csr_matrix(dataset)\n",
    "print(sparse_dataset)"
   ]
  },
  {
   "cell_type": "code",
   "execution_count": 25,
   "metadata": {},
   "outputs": [
    {
     "name": "stdout",
     "output_type": "stream",
     "text": [
      "0.15625\n",
      "0.03125\n"
     ]
    }
   ],
   "source": [
    "import time\n",
    "from sklearn.naive_bayes import BernoulliNB\n",
    "nb = BernoulliNB(binarize=None)\n",
    "starttime1= time.process_time()\n",
    "nb.fit(dataset, y)\n",
    "endtime1=time.process_time()\n",
    "print(endtime1-starttime1)\n",
    "\n",
    "nb.fit(sparse_dataset, y)\n",
    "endtime2=time.process_time()\n",
    "\n",
    "print(endtime2-endtime1)"
   ]
  },
  {
   "cell_type": "code",
   "execution_count": 24,
   "metadata": {},
   "outputs": [
    {
     "name": "stderr",
     "output_type": "stream",
     "text": [
      "C:\\ProgramData\\Anaconda3\\lib\\site-packages\\ipykernel_launcher.py:3: DeprecationWarning: time.clock has been deprecated in Python 3.3 and will be removed from Python 3.8: use time.perf_counter or time.process_time instead\n",
      "  This is separate from the ipykernel package so we can avoid doing imports until\n",
      "C:\\ProgramData\\Anaconda3\\lib\\site-packages\\ipykernel_launcher.py:5: DeprecationWarning: time.clock has been deprecated in Python 3.3 and will be removed from Python 3.8: use time.perf_counter or time.process_time instead\n",
      "  \"\"\"\n"
     ]
    },
    {
     "name": "stdout",
     "output_type": "stream",
     "text": [
      "53.50770898100018\n",
      "5.98817247199986\n"
     ]
    },
    {
     "name": "stderr",
     "output_type": "stream",
     "text": [
      "C:\\ProgramData\\Anaconda3\\lib\\site-packages\\ipykernel_launcher.py:9: DeprecationWarning: time.clock has been deprecated in Python 3.3 and will be removed from Python 3.8: use time.perf_counter or time.process_time instead\n",
      "  if __name__ == '__main__':\n"
     ]
    }
   ],
   "source": [
    "from sklearn.svm import SVC\n",
    "svc = SVC(gamma='scale')\n",
    "starttime1=time.clock()\n",
    "svc.fit(dataset, y)\n",
    "endtime1=time.clock()\n",
    "print(endtime1-starttime1)\n",
    "\n",
    "svc.fit(sparse_dataset, y)\n",
    "endtime2=time.clock()\n",
    "\n",
    "print(endtime2-endtime1)"
   ]
  },
  {
   "cell_type": "code",
   "execution_count": 29,
   "metadata": {},
   "outputs": [],
   "source": [
    "#学习率 SGDClassifier是一个用随机梯度下降算法训练的线性分类器的集合\n",
    "'''\n",
    "这个分类器跟其他线性分类器差不多，只是它用的是mini-batch来做梯度下降，在处理大数据的情况下收敛更快。\n",
    "对于特别大的数据还是优先使用SGDClassifier，其他的线性可能很慢或者直接跑不动。\n",
    "果然官方这样说：Linear classifiers (SVM, logistic regression, a.o.) with SGD training.\n",
    "通过选择loss来选择不同模型，hinge是SVM，log是LR\n",
    "'''\n",
    "\n",
    "作者：ddm2014\n",
    "链接：https://www.jianshu.com/p/c9331e6f927a\n",
    "来源：简书\n",
    "著作权归作者所有。商业转载请联系作者获得授权，非商业转载请注明出处。\n",
    "\n",
    "\n",
    "from sklearn.linear_model import LogisticRegression\n",
    "\n",
    "from sklearn.linear_model import SGDClassifier\n",
    "\n",
    "?SGDClassifier"
   ]
  },
  {
   "cell_type": "markdown",
   "metadata": {},
   "source": [
    "各种机器学习的应用场景分别是什么？例如，k近邻,贝叶斯，决策树，svm，逻辑斯蒂回归和最大熵模型。\n",
    "\n",
    "https://www.cnblogs.com/bonelee/p/7834026.html\n",
    "\n",
    "正好14年的时候有人做过一个实验[1]，比较在不同数据集上（121个），不同的分类器（179个）的实际效果。\n",
    "\n",
    "    随机森林平均来说最强，但也只在9.9%的数据集上拿到了第一，优点是鲜有短板。\n",
    "\n",
    "SVM的平均水平紧随其后，在10.7%的数据集上拿到第一。\n",
    "\n",
    "神经网络（13.2%）和boosting（~9%）表现不错。\n",
    "\n",
    "数据维度越高，随机森林就比AdaBoost强越多，但是整体不及SVM[2]。\n",
    "\n",
    "数据量越大，神经网络就越强。"
   ]
  }
 ],
 "metadata": {
  "kernelspec": {
   "display_name": "Python 3",
   "language": "python",
   "name": "python3"
  },
  "language_info": {
   "codemirror_mode": {
    "name": "ipython",
    "version": 3
   },
   "file_extension": ".py",
   "mimetype": "text/x-python",
   "name": "python",
   "nbconvert_exporter": "python",
   "pygments_lexer": "ipython3",
   "version": "3.7.3"
  }
 },
 "nbformat": 4,
 "nbformat_minor": 2
}
