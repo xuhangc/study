{
 "cells": [
  {
   "cell_type": "code",
   "execution_count": 12,
   "metadata": {},
   "outputs": [
    {
     "data": {
      "text/plain": [
       "array([0, 1, 1, 0, 1, 0, 0, 1, 1, 0, 1, 0, 1, 0, 0, 0, 0, 0, 1, 1, 1, 0,\n",
       "       1, 0, 0, 0, 1, 0, 1, 0, 0, 0, 0, 1, 1, 0, 1, 0, 0, 0, 1, 0, 1, 0,\n",
       "       1, 0, 0, 0, 1, 0, 0, 1, 0, 1, 0, 1, 0, 0, 0, 0, 0, 1, 0, 0, 0, 1,\n",
       "       1, 0, 0, 0, 1, 0, 0, 0, 1, 0, 0, 1, 0, 0, 0, 0, 0, 1, 0, 0, 0, 0,\n",
       "       0, 0, 0, 0, 0, 0, 0, 1, 0, 0, 0, 0, 0, 0, 0, 1, 0, 0, 1, 0, 0, 0,\n",
       "       1, 1, 0, 0, 0, 0, 0, 0, 0, 1, 0, 1, 0, 0, 0, 0, 0, 1, 0, 1, 0, 0,\n",
       "       0, 0, 1, 1, 1, 0, 0, 0, 1, 0, 0, 0, 0, 1, 0, 0, 1, 0, 0, 0, 0, 0],\n",
       "      dtype=int64)"
      ]
     },
     "execution_count": 12,
     "metadata": {},
     "output_type": "execute_result"
    }
   ],
   "source": [
    "# 随机森林   SVC 分别 做一些 糖尿病疾病预测\n",
    "\n",
    "#1. import\n",
    "from sklearn.ensemble import RandomForestClassifier\n",
    "import pandas as pd\n",
    "from sklearn.model_selection import train_test_split\n",
    "from sklearn.model_selection import KFold\n",
    "from sklearn.model_selection import cross_val_score\n",
    "\n",
    "#2. pands  load  csv\n",
    "# 加载数据\n",
    "data = pd.read_csv('data/diabetes.csv')\n",
    "\n",
    "# 含有特征的数据集\n",
    "X = data.iloc[:,0:8]\n",
    "# 标记数据\n",
    "Y = data.iloc[:,8]\n",
    "\n",
    "#3 数据划分\n",
    "# 将数据集划分为训练集和测试集，其中测试数据为20%\n",
    "X_train,X_test,Y_train,Y_test = train_test_split(X,Y,test_size = 0.2)\n",
    "\n",
    "\n",
    "#4. 创建 模型\n",
    "\n",
    "clf = RandomForestClassifier(n_estimators=50, random_state=0)\n",
    "\n",
    "#5. 训练\n",
    "clf.fit(X_train,Y_train)\n",
    "\n",
    "#6. 预测，输出准确率\n",
    "\n",
    "#clf.score(X_test,Y_test)\n",
    "\n",
    "kfold = KFold(n_splits=10)\n",
    "cv_result = cross_val_score(clf,X,Y,cv=kfold)\n",
    "\n",
    "#模型保存\n",
    "\n",
    "import sklearn.externals as sk_externals \n",
    "#sk_externals.joblib.dump(clf,'clfmodel.pickle') #保存 \n",
    "\n",
    "\n",
    "\n",
    "#模型加载\n",
    "\n",
    "new_clfmodel = sk_externals.joblib.load('clfmodel.pickle') #载入 \n",
    "new_clfmodel.predict(X_test)\n"
   ]
  }
 ],
 "metadata": {
  "kernelspec": {
   "display_name": "Python 3",
   "language": "python",
   "name": "python3"
  },
  "language_info": {
   "codemirror_mode": {
    "name": "ipython",
    "version": 3
   },
   "file_extension": ".py",
   "mimetype": "text/x-python",
   "name": "python",
   "nbconvert_exporter": "python",
   "pygments_lexer": "ipython3",
   "version": "3.7.3"
  }
 },
 "nbformat": 4,
 "nbformat_minor": 2
}
