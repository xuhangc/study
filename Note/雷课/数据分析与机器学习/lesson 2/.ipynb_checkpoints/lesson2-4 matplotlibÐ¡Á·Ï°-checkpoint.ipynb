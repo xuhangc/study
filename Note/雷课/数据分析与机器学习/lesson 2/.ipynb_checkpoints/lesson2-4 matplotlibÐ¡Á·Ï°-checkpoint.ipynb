{
 "cells": [
  {
   "cell_type": "markdown",
   "metadata": {},
   "source": [
    "## 如何使用我们自己的数据来画图"
   ]
  },
  {
   "cell_type": "code",
   "execution_count": null,
   "metadata": {},
   "outputs": [],
   "source": [
    "%matplotlib inline\n",
    "import os\n",
    "import pandas as pd\n",
    "import numpy as np\n",
    "import matplotlib.pyplot as plt"
   ]
  },
  {
   "cell_type": "code",
   "execution_count": null,
   "metadata": {},
   "outputs": [],
   "source": [
    "# 引入文件操作所需要的包\n",
    "import os\n",
    "import pandas as pd\n",
    "import numpy as np\n",
    "import matplotlib.pyplot as plt\n",
    "\n",
    "\n",
    "# 获取文件的当前路径\n",
    "current_dir = os.path.dirname(os.path.realpath('__file__'))\n",
    "\n",
    "# 设置读取文件的路径\n",
    "train_filename = os.path.join(current_dir, 'data/pfm_train.csv')\n",
    "print(train_filename)\n",
    "test_filename = os.path.join(current_dir, 'data/pfm_test.csv')\n",
    "print(test_filename)\n",
    "\n",
    "# 探索数据\n",
    "# 加载训练集和测试集\n",
    "train_data = pd.read_csv(train_filename)\n",
    "test_data = pd.read_csv(test_filename)\n",
    "\n",
    "\n"
   ]
  },
  {
   "cell_type": "code",
   "execution_count": null,
   "metadata": {},
   "outputs": [],
   "source": [
    "train_data.head()"
   ]
  },
  {
   "cell_type": "markdown",
   "metadata": {},
   "source": [
    "## 绘制直方图"
   ]
  },
  {
   "cell_type": "code",
   "execution_count": null,
   "metadata": {},
   "outputs": [],
   "source": [
    "\n",
    "# our_ages = train_data.iloc[:,0]  #DataFrame\n",
    "\n",
    "our_ages= train_data.loc[:,'Age']\n",
    "bins = [10,20,30,40,50,60]\n",
    "\n",
    "plt.rcParams['font.sans-serif'] = ['SimHei']\n",
    "plt.rcParams['axes.unicode_minus']=False\n",
    "\n",
    "#直方图，rwidth为条的宽度\n",
    "plt.hist(our_ages, bins, histtype='bar', rwidth=0.9, label=\"age\")\n",
    "\n",
    "plt.xlabel('年龄区间')\n",
    "plt.ylabel('人数')\n",
    "plt.title('年龄区间分布图')\n",
    "plt.legend()\n",
    "plt.savefig(\"age.jpg\")"
   ]
  },
  {
   "cell_type": "markdown",
   "metadata": {},
   "source": [
    "## 绘制散点图"
   ]
  },
  {
   "cell_type": "code",
   "execution_count": null,
   "metadata": {},
   "outputs": [],
   "source": [
    "\n",
    "x = train_data.loc[:,'JobLevel']   \n",
    "y = train_data.loc[:,'MonthlyIncome'] \n",
    "\n",
    "\n",
    "plt.scatter(x,y, label='skitscat', color='k', s=25, marker=\"+\")\n",
    "\n",
    "plt.xlabel('JobLevel')\n",
    "plt.ylabel('MonthlyIncome')\n",
    "plt.title('Interesting Graph\\nCheck it out')\n",
    "plt.legend()\n",
    "plt.show()"
   ]
  },
  {
   "cell_type": "markdown",
   "metadata": {},
   "source": [
    "## 箱型图"
   ]
  },
  {
   "cell_type": "code",
   "execution_count": null,
   "metadata": {},
   "outputs": [],
   "source": [
    "\n",
    "x = train_data.loc[:,'JobLevel']   \n",
    "plt.boxplot(x,sym='o',whis=1.5)#sym='o'异常值的形状 ,whis=1.5用于调节上下垂直线的长度\n",
    "plt.show()"
   ]
  },
  {
   "cell_type": "markdown",
   "metadata": {},
   "source": [
    "## 如何绘制其他图像，从搜索引擎找例子"
   ]
  },
  {
   "cell_type": "code",
   "execution_count": null,
   "metadata": {},
   "outputs": [],
   "source": [
    "from mpl_toolkits.mplot3d.axes3d import Axes3D\n",
    "\n",
    "#绘制3维的散点图\n",
    "x = np.random.randint(0,10,size=100)\n",
    "y = np.random.randint(-20,20,size=100)\n",
    "z = np.random.randint(0,30,size=100)\n",
    " \n",
    "# 此处fig是二维\n",
    "fig = plt.figure()\n",
    " \n",
    "# 将二维转化为三维\n",
    "axes3d = Axes3D(fig)\n",
    " \n",
    "# axes3d.scatter3D(x,y,z)\n",
    "# 效果相同\n",
    "axes3d.scatter(x,y,z)"
   ]
  },
  {
   "cell_type": "code",
   "execution_count": null,
   "metadata": {},
   "outputs": [],
   "source": [
    "# 绘制三维曲面\n",
    "fig = plt.figure()\n",
    " \n",
    "axes3d = Axes3D(fig)\n",
    " \n",
    "#!！面\n",
    "x = np.linspace(-10,10,100)\n",
    "y = np.linspace(-10,10,100)\n",
    " \n",
    "X,Y = np.meshgrid(x,y)\n",
    "Z = np.sqrt(X**2+Y**2)\n",
    " \n",
    "axes3d.plot_surface(X,Y,Z)"
   ]
  }
 ],
 "metadata": {
  "kernelspec": {
   "display_name": "Python 3",
   "language": "python",
   "name": "python3"
  },
  "language_info": {
   "codemirror_mode": {
    "name": "ipython",
    "version": 3
   },
   "file_extension": ".py",
   "mimetype": "text/x-python",
   "name": "python",
   "nbconvert_exporter": "python",
   "pygments_lexer": "ipython3",
   "version": "3.7.3"
  }
 },
 "nbformat": 4,
 "nbformat_minor": 2
}
