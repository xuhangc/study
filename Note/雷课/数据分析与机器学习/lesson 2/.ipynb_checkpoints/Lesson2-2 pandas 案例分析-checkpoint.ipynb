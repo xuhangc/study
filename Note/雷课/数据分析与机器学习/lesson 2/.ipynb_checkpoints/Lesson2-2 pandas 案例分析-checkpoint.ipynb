{
 "cells": [
  {
   "cell_type": "markdown",
   "metadata": {
    "slideshow": {
     "slide_type": "slide"
    }
   },
   "source": [
    "\n",
    "# <center>Pandas案例分析</center>"
   ]
  },
  {
   "cell_type": "markdown",
   "metadata": {
    "slideshow": {
     "slide_type": "slide"
    }
   },
   "source": [
    "### 实践题目\n",
    "#### 员工离职预测与劳资谈判应用\n",
    "\n",
    "* 为什么我们最好和最有经验的员工过早离职？数据来自Kaggle中的，想并尝试预测下一个什么样的有价值的员工将离开。通过分析数据，了解影响员工辞职的因素有哪些，以及最主要的原因，预测哪些优秀员工会离职。\n",
    "\n",
    "### 数据文件\n",
    "* pfm_train.csv\n",
    "* pfm_test.csv\n",
    "\n",
    "### 本节任务\n",
    "* 用pandas进行数据从文件读取、数据预览、异常数据查看和处理、数据转换等\n",
    "* 用sklearn进行模型构建，模型评估，并进行相关预测。\n",
    "* 从给定的影响员工离职的因素和员工是否离职的记录，建立一个逻辑回归模型预测有可能离职的员工"
   ]
  },
  {
   "cell_type": "markdown",
   "metadata": {},
   "source": [
    "> 数据主要包括影响员工离职的各种因素（工资、出差、工作环境满意度、工作投入度、是否加班、是否升职、工资提升比例等）以及员工是否已经离职的对应记录。 \n",
    "> 数据分为训练数据和测试数据，分别保存在pfm_train.csv和pfm_test.csv两个文件中。 其中训练数据主要包括1100条记录，31个字段，主要字段说明如下：\n",
    "* （1）Age：员工年龄\n",
    "* （2）Attrition：员工是否已经离职，1表示已经离职，2表示未离职，这是目标预测值；\n",
    "* （3）BusinessTravel：商务差旅频率，Non-Travel表示不出差，Travel_Rarely表示不经常出差，Travel_Frequently表示经常出差；\n",
    "* （4）Department：员工所在部门，Sales表示销售部，Research & Development表示研发部，Human Resources表示人力资源部；\n",
    "* （5）DistanceFromHome：公司跟家庭住址的距离，从1到29，1表示最近，29表示最远；\n",
    "* （6）Education：员工的教育程度，从1到5，5表示教育程度最高；\n",
    "* （7）EducationField：员工所学习的专业领域，Life Sciences表示生命科学，Medical表示医疗，Marketing表示市场营销，Technical Degree表示技术学位，Human Resources表示人力资源，Other表示其他；\n",
    "* （8）EmployeeNumber：员工号码；\n",
    "* （9）EnvironmentSatisfaction：员工对于工作环境的满意程度，从1到4，1的满意程度最低，4的满意程度最高；\n",
    "* （10）Gender：员工性别，Male表示男性，Female表示女性；\n",
    "* （11）JobInvolvement：员工工作投入度，从1到4，1为投入度最低，4为投入度最高；\n",
    "* （12）JobLevel：职业级别，从1到5，1为最低级别，5为最高级别；\n",
    "* （13）JobRole：工作角色：Sales Executive是销售主管，Research Scientist是科学研究员，Laboratory Technician实验室技术员，Manufacturing Director是制造总监，Healthcare Representative是医疗代表，Manager是经理，Sales Representative是销售代表，Research Director是研究总监，Human Resources是人力资源；\n",
    "* （14）JobSatisfaction：工作满意度，从1到4，1代表满意程度最低，4代表满意程度最高；\n",
    "* （15）MaritalStatus：员工婚姻状况，Single代表单身，Married代表已婚，Divorced代表离婚；\n",
    "* （16）MonthlyIncome：员工月收入，范围在1009到19999之间；\n",
    "* （17）NumCompaniesWorked：员工曾经工作过的公司数；\n",
    "* （18）Over18：年龄是否超过18岁；\n",
    "* （19）OverTime：是否加班，Yes表示加班，No表示不加班；\n",
    "* （20）PercentSalaryHike：工资提高的百分比；\n",
    "* （21）PerformanceRating：绩效评估；\n",
    "* （22）RelationshipSatisfaction：关系满意度，从1到4，1表示满意度最低，4表示满意度最高；\n",
    "* （23）StandardHours：标准工时；\n",
    "* （24）StockOptionLevel：股票期权水平；\n",
    "* （25）TotalWorkingYears：总工龄；\n",
    "* （26）TrainingTimesLastYear：上一年的培训时长，从0到6，0表示没有培训，6表示培训时间最长；\n",
    "* （27）WorkLifeBalance：工作与生活平衡程度，从1到4，1表示平衡程度最低，4表示平衡程度最高；\n",
    "* （28）YearsAtCompany：在目前公司工作年数；\n",
    "* （29）YearsInCurrentRole：在目前工作职责的工作年数\n",
    "* （30）YearsSinceLastPromotion：距离上次升职时长\n",
    "* （31）YearsWithCurrManager：跟目前的管理者共事年数；\n"
   ]
  },
  {
   "cell_type": "code",
   "execution_count": null,
   "metadata": {},
   "outputs": [],
   "source": [
    "# 引入文件操作所需要的包\n",
    "import os\n",
    "import pandas as pd\n",
    "import numpy as np\n",
    "import matplotlib.pyplot as plt"
   ]
  },
  {
   "cell_type": "code",
   "execution_count": null,
   "metadata": {},
   "outputs": [],
   "source": [
    "# 获取文件的当前路径\n",
    "current_dir = os.path.dirname(os.path.realpath('__file__'))\n",
    "print(current_dir)"
   ]
  },
  {
   "cell_type": "code",
   "execution_count": null,
   "metadata": {},
   "outputs": [],
   "source": [
    "# 设置读取文件的路径\n",
    "train_filename = os.path.join(current_dir, 'data/pfm_train.csv')\n",
    "print(train_filename)\n",
    "test_filename = os.path.join(current_dir, 'data/pfm_test.csv')\n",
    "print(test_filename)"
   ]
  },
  {
   "cell_type": "code",
   "execution_count": null,
   "metadata": {},
   "outputs": [],
   "source": [
    "# 探索数据\n",
    "# 加载训练集和测试集\n",
    "train_data = pd.read_csv(train_filename)\n",
    "test_data = pd.read_csv(test_filename)"
   ]
  },
  {
   "cell_type": "code",
   "execution_count": null,
   "metadata": {},
   "outputs": [],
   "source": [
    "train_data.head()"
   ]
  },
  {
   "cell_type": "code",
   "execution_count": null,
   "metadata": {},
   "outputs": [],
   "source": [
    "# 查看数据集形状\n",
    "print('train size:{}'.format(train_data.shape))  # train size:(1100, 31)\n",
    "print('test size:{}'.format(test_data.shape))  #test size:(350, 30)"
   ]
  },
  {
   "cell_type": "code",
   "execution_count": null,
   "metadata": {
    "scrolled": true
   },
   "outputs": [],
   "source": [
    "# 查看数据集中是否含有缺失值\n",
    "train_data.isnull().mean()  # false 0   True:1\n",
    "test_data.isnull().mean()"
   ]
  },
  {
   "cell_type": "code",
   "execution_count": null,
   "metadata": {
    "scrolled": true
   },
   "outputs": [],
   "source": [
    "# 查看数据有没有缺失值\n",
    "train_data.info()\n",
    "test_data.info()"
   ]
  },
  {
   "cell_type": "code",
   "execution_count": null,
   "metadata": {},
   "outputs": [],
   "source": [
    "# 设置显示所有列\n",
    "pd.options.display.max_columns = None\n",
    "pd.set_option('expand_frame_repr', False)"
   ]
  },
  {
   "cell_type": "code",
   "execution_count": null,
   "metadata": {},
   "outputs": [],
   "source": [
    "train_data.describe()"
   ]
  },
  {
   "cell_type": "code",
   "execution_count": null,
   "metadata": {},
   "outputs": [],
   "source": [
    "# 分别对数值类型与object类型的数据做数据汇总\n",
    "num_col = train_data.select_dtypes(['number']).columns\n",
    "train_data[num_col].describe()\n",
    "# train_data['JobLevel'].plot()  "
   ]
  },
  {
   "cell_type": "code",
   "execution_count": null,
   "metadata": {
    "scrolled": true
   },
   "outputs": [],
   "source": [
    "obj_col = train_data.select_dtypes(['object']).columns  #非数值型\n",
    "train_data[obj_col].describe()\n",
    "#count（非空值数）、unique（唯一值数）、top（频数最高者）、freq（最高频数）"
   ]
  },
  {
   "cell_type": "code",
   "execution_count": null,
   "metadata": {},
   "outputs": [],
   "source": [
    "# 计算数值型各个类别的离职概率，大概了解一部分对于离职率的影响\n",
    "for col in train_data.columns:\n",
    "    if train_data[col].dtype == 'int64':\n",
    "        print('column:'+col + ':')\n",
    "        print((train_data[train_data['Attrition'] == 1.0][col].value_counts()/\n",
    "               train_data[col].value_counts()).sort_values(ascending = False)) #两个Series相除，再排序\n",
    "        print('-----------------------')\n"
   ]
  },
  {
   "cell_type": "code",
   "execution_count": null,
   "metadata": {},
   "outputs": [],
   "source": [
    "train_data[train_data['Attrition'] == 1.0]['Age'].value_counts() "
   ]
  },
  {
   "cell_type": "code",
   "execution_count": null,
   "metadata": {
    "scrolled": true
   },
   "outputs": [],
   "source": [
    "# 计算对象型object各个类别的离职概率，大概了解一部分对于离职率的影响\n",
    "for i in train_data.columns:\n",
    "    if train_data[i].dtype == 'O':\n",
    "        print(i + ':')\n",
    "        print((train_data[train_data['Attrition'] == 1.0][i].value_counts()/\n",
    "               train_data[i].value_counts()).sort_values(ascending=False))\n",
    "        print('-----------------------')\n",
    "# 可以看出，大学专业和出差频率两项有明显的影响，单身职员的离职的概率比较大，职业角色里，代理销售的人员流动大。"
   ]
  },
  {
   "cell_type": "code",
   "execution_count": null,
   "metadata": {},
   "outputs": [],
   "source": [
    "# 在分析中发现有一些字段的值是单一的,进一步验证\n",
    "single_value_feature = []\n",
    "for col in train_data.columns:\n",
    "    lenght = len(train_data[col].unique())\n",
    "    if lenght == 1:\n",
    "        single_value_feature.append(col)\n",
    "print(single_value_feature)"
   ]
  },
  {
   "cell_type": "code",
   "execution_count": null,
   "metadata": {},
   "outputs": [],
   "source": [
    "# 整体数值比较平滑，部分数值受到极值影响，并且基本可以判断出几个字段基本没有意义。（EmployeeNumber，StandardHours，Over18）\n",
    "# 丢弃掉没有作用的数据\n",
    "train_data = train_data.drop(['StandardHours', 'Over18', 'EmployeeNumber'], axis=1)#删除数据\n",
    "print(train_data.shape)"
   ]
  },
  {
   "cell_type": "code",
   "execution_count": null,
   "metadata": {
    "scrolled": true
   },
   "outputs": [],
   "source": [
    "#DataFrame删除、插入数据\n",
    "# 将Attrition（该字段为标签）移至1列，方便索引\n",
    "Attrition = train_data['Attrition']\n",
    "train_data.drop(['Attrition'], axis = 1, inplace = True)#删除一个coloum\n",
    "train_data.insert(0, 'Attrition', Attrition) #插入一个新的column\n",
    "train_data.head(5)"
   ]
  },
  {
   "cell_type": "code",
   "execution_count": null,
   "metadata": {},
   "outputs": [],
   "source": [
    "# 特征处理\n",
    "# 主要是对部分特征进行分组以及one-hot编码\n",
    "# 对收入进行分箱\n",
    "print(train_data['MonthlyIncome'].min())  # 1009\n",
    "print(train_data['MonthlyIncome'].max())  # 19999\n",
    "print(test_data['MonthlyIncome'].min())  # 1051\n",
    "print(test_data['MonthlyIncome'].max())  # 19973"
   ]
  },
  {
   "cell_type": "code",
   "execution_count": null,
   "metadata": {},
   "outputs": [],
   "source": [
    "# 为了在train和test中的MonthlyIncome进行分组后的区间一致，需要保持两个数据集中MonthlyIncome的最大值和最小值一致，这里使用等宽分组\n",
    "# 使用pandas的cut进行分组，分为10组\n",
    "train_data['MonthlyIncome'] = pd.cut(train_data['MonthlyIncome'], bins=10)\n",
    "print(train_data['MonthlyIncome'])"
   ]
  },
  {
   "cell_type": "code",
   "execution_count": null,
   "metadata": {},
   "outputs": [],
   "source": [
    "# 将数据类型为‘object’的字段名提取出来，并使用one-hot-encode对其进行编码\n",
    "col_object = []\n",
    "for col in train_data.columns[1:]:\n",
    "    if train_data[col].dtype == 'object':\n",
    "        col_object.append(col)\n",
    "print(col_object)"
   ]
  },
  {
   "cell_type": "code",
   "execution_count": null,
   "metadata": {},
   "outputs": [],
   "source": [
    "# 对train数据集进行one-hot编码\n",
    "train_encode = pd.get_dummies(train_data) #哑编码\n",
    "pd.options.display.max_columns = None\n",
    "pd.set_option('expand_frame_repr', True)\n",
    "train_encode.head()"
   ]
  },
  {
   "cell_type": "code",
   "execution_count": null,
   "metadata": {},
   "outputs": [],
   "source": [
    "#这个例子帮助理解one hot编码\n",
    "import pandas as pd\n",
    "df = pd.DataFrame([  \n",
    "            ['green' , 'A'],   \n",
    "            ['red'   , 'B'],   \n",
    "            ['blue'  , 'A']])  \n",
    "df.columns = ['color',  'class'] \n",
    "df"
   ]
  },
  {
   "cell_type": "code",
   "execution_count": null,
   "metadata": {},
   "outputs": [],
   "source": [
    "pd.get_dummies(df) # 0 1编码  one hot 编码"
   ]
  },
  {
   "cell_type": "code",
   "execution_count": null,
   "metadata": {},
   "outputs": [],
   "source": [
    "# 保存数据集，方便日后使用\n",
    "# train_data.to_csv('trainwithoutencode.csv')\n",
    "# train_encode.to_csv('train.csv')"
   ]
  },
  {
   "cell_type": "code",
   "execution_count": null,
   "metadata": {},
   "outputs": [],
   "source": [
    "# 3 特征共线性处理\n",
    "corr = train_data.corr() # 相关性系数\n",
    "corr"
   ]
  },
  {
   "cell_type": "code",
   "execution_count": null,
   "metadata": {},
   "outputs": [],
   "source": [
    "corr[corr>0.75]   "
   ]
  },
  {
   "cell_type": "code",
   "execution_count": null,
   "metadata": {},
   "outputs": [],
   "source": [
    "# 'TotalWorkingYears' & 'JobLevel' 'YearsAtCompany' & 'YearsWithCurrManager'存在共线性，选择删除其中一个特征即可\n",
    "train_encode.drop(['TotalWorkingYears', 'YearsWithCurrManager'], axis = 1, inplace = True)"
   ]
  },
  {
   "cell_type": "code",
   "execution_count": null,
   "metadata": {},
   "outputs": [],
   "source": [
    "#到这一步，df 数据完全准备好了， 机器学习需要的特征向量准备好了"
   ]
  },
  {
   "cell_type": "code",
   "execution_count": null,
   "metadata": {},
   "outputs": [],
   "source": [
    "# 机器学习建模预测\n",
    "from sklearn.linear_model import LogisticRegression\n",
    "from sklearn.model_selection import train_test_split"
   ]
  },
  {
   "cell_type": "code",
   "execution_count": null,
   "metadata": {},
   "outputs": [],
   "source": [
    "X = train_encode.iloc[:, 1:]\n",
    "y = train_encode.iloc[:, 0]"
   ]
  },
  {
   "cell_type": "code",
   "execution_count": null,
   "metadata": {},
   "outputs": [],
   "source": [
    "# 划分训练集以及测试集\n",
    "X_train, X_test, y_train, y_test = train_test_split(X, y, test_size = 0.2)"
   ]
  },
  {
   "cell_type": "code",
   "execution_count": null,
   "metadata": {},
   "outputs": [],
   "source": [
    "lr = LogisticRegression()\n",
    "lr.fit(X_train, y_train)\n",
    "train_score = lr.score(X_train, y_train)  # 0.8886363636363637\n",
    "print(train_score)"
   ]
  },
  {
   "cell_type": "code",
   "execution_count": null,
   "metadata": {},
   "outputs": [],
   "source": [
    "pred = lr.predict(X_test)\n",
    "print(np.mean(pred == y_test))  # 0.8863636363636364"
   ]
  },
  {
   "cell_type": "markdown",
   "metadata": {
    "slideshow": {
     "slide_type": "slide"
    }
   },
   "source": [
    "# Any Questions?"
   ]
  }
 ],
 "metadata": {
  "celltoolbar": "Slideshow",
  "kernelspec": {
   "display_name": "Python 3",
   "language": "python",
   "name": "python3"
  },
  "language_info": {
   "codemirror_mode": {
    "name": "ipython",
    "version": 3
   },
   "file_extension": ".py",
   "mimetype": "text/x-python",
   "name": "python",
   "nbconvert_exporter": "python",
   "pygments_lexer": "ipython3",
   "version": "3.7.3"
  }
 },
 "nbformat": 4,
 "nbformat_minor": 1
}
