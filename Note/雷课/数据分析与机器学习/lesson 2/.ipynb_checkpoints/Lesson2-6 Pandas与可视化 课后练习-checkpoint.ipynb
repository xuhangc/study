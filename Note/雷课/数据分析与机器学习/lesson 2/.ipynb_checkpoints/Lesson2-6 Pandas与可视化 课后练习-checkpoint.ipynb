{
 "cells": [
  {
   "cell_type": "markdown",
   "metadata": {
    "slideshow": {
     "slide_type": "slide"
    }
   },
   "source": [
    "\n",
    "# <center>Python课程实践</center>"
   ]
  },
  {
   "cell_type": "markdown",
   "metadata": {
    "slideshow": {
     "slide_type": "slide"
    }
   },
   "source": [
    "## 课程内容\n",
    "\n",
    "### 实践题目\n",
    "#### TMDB电影数据挖掘分析高票房电影\n",
    "\n",
    "* 本数据集中包含 1 万条电影信息，信息来源为“电影数据库”（TMDb，The Movie Database），包括用户评分和票房。“演职人员 (cast)”、“电影类别 (genres)”等数据列包含由竖线字符（|）分隔的多个数值。\n",
    "* 通过观察数据我们可以尝试回答以下问题：\n",
    "  * （1）每年最受欢迎的电影是那些类别\n",
    "  * （2）盈利最多的电影有哪些特点\n",
    "\n",
    "### 数据文件\n",
    "* tmdb-movies.csv\n",
    "\n",
    "### 本节任务\n",
    "* 提出问题，对数据进行清洗\n",
    "* 数据探索、数据建模\n",
    "* 数据可视化的过程"
   ]
  },
  {
   "cell_type": "markdown",
   "metadata": {
    "collapsed": true,
    "slideshow": {
     "slide_type": "fragment"
    }
   },
   "source": [
    "> TMDB 电影数据分析\n",
    "* id: 电影 ID\n",
    "* imdb_id: IMDB_ID\n",
    "* popularity: 流行程度\n",
    "* budget: 预算\n",
    "* revenue: 收益\n",
    "* original_title: 电影名称\n",
    "* cast: 演员\n",
    "* homepage: 主页\n",
    "* director: 导演\n",
    "* tagline: 标语\n",
    "* keywords: 关键词\n",
    "* overview: 简介\n",
    "* runtime: 播放时间\n",
    "* genres: 电影风格\n",
    "* production_companies: 出品公司\n",
    "* release_date: 发行日\n",
    "* vote_count: 投票数\n",
    "* vote_average: 平均投票\n",
    "* release_year: 发行年份\n",
    "* budget_adj: 调整后预算\n",
    "* revenue_adj: 调整后收益"
   ]
  },
  {
   "cell_type": "code",
   "execution_count": null,
   "metadata": {},
   "outputs": [],
   "source": [
    "# 导入常用库。\n",
    "import numpy as np \n",
    "import pandas as pd\n",
    "import matplotlib.pyplot as plt\n",
    "%matplotlib inline"
   ]
  },
  {
   "cell_type": "code",
   "execution_count": null,
   "metadata": {},
   "outputs": [],
   "source": [
    "# 加载数据并打印几行。进行这几项操作，来检查数据类型，以及是否有缺失数据或错误数据的情况。\n",
    "df = pd.read_csv('data/tmdb-movies.csv')\n",
    "df.head(2)"
   ]
  },
  {
   "cell_type": "code",
   "execution_count": null,
   "metadata": {},
   "outputs": [],
   "source": [
    "# 查看数据有没有缺失值\n",
    "df.info()"
   ]
  },
  {
   "cell_type": "code",
   "execution_count": null,
   "metadata": {},
   "outputs": [],
   "source": [
    "# 检查缺失值\n",
    "df.isnull().sum()"
   ]
  },
  {
   "cell_type": "code",
   "execution_count": null,
   "metadata": {},
   "outputs": [],
   "source": [
    "# 缺失值向下填充  用前一个非缺失值去填充该缺失值\n",
    "a = df.isnull().sum()\n",
    "a = a[a > 0].index\n",
    "def mf(name):\n",
    "    df[name] = df[name].fillna(method='ffill')\n",
    "    return df\n",
    "for b in a:\n",
    "    mf(b)"
   ]
  },
  {
   "cell_type": "code",
   "execution_count": null,
   "metadata": {},
   "outputs": [],
   "source": [
    "# 确认修改\n",
    "df.isnull().sum()"
   ]
  },
  {
   "cell_type": "code",
   "execution_count": null,
   "metadata": {},
   "outputs": [],
   "source": [
    "# 检查重复\n",
    "sum(df.duplicated())"
   ]
  },
  {
   "cell_type": "code",
   "execution_count": null,
   "metadata": {},
   "outputs": [],
   "source": [
    "# 删除重复\n",
    "df.drop_duplicates(inplace=True)"
   ]
  },
  {
   "cell_type": "code",
   "execution_count": null,
   "metadata": {},
   "outputs": [],
   "source": [
    "# 确认修改\n",
    "sum(df.duplicated())"
   ]
  },
  {
   "cell_type": "code",
   "execution_count": null,
   "metadata": {},
   "outputs": [],
   "source": [
    "# vote用cut分段\n",
    "vote_labels = ['VOTE:0~2','VOTE:2~4','VOTE:4~6','VOTE:6~8','VOTE:8~10']\n",
    "df['vote_cut'] = pd.cut(df['vote_average'],bins=[0,2,4,6,8,10],labels=vote_labels)"
   ]
  },
  {
   "cell_type": "code",
   "execution_count": null,
   "metadata": {},
   "outputs": [],
   "source": [
    "df['vote_cut']"
   ]
  },
  {
   "cell_type": "code",
   "execution_count": null,
   "metadata": {},
   "outputs": [],
   "source": [
    "df.corr()"
   ]
  },
  {
   "cell_type": "code",
   "execution_count": null,
   "metadata": {},
   "outputs": [],
   "source": [
    "# 电影风格\n",
    "df['genres'].value_counts()"
   ]
  },
  {
   "cell_type": "code",
   "execution_count": null,
   "metadata": {},
   "outputs": [],
   "source": [
    "# 取数据中非nan值\n",
    "df = df[df['genres'].notnull()]\n",
    "df"
   ]
  },
  {
   "cell_type": "code",
   "execution_count": null,
   "metadata": {},
   "outputs": [],
   "source": [
    "# 一列中的文本拆分为多行,genres多个值的就每一行去一个取，其他列一样\n",
    "df = df.drop('genres', axis=1).join(df['genres'].str.split('|', expand=True).stack().reset_index(level=1, drop = True).rename('genres'))\n",
    "df.head()"
   ]
  },
  {
   "cell_type": "code",
   "execution_count": null,
   "metadata": {},
   "outputs": [],
   "source": [
    "#检查缺失值\n",
    "df.isnull().sum()"
   ]
  },
  {
   "cell_type": "code",
   "execution_count": null,
   "metadata": {},
   "outputs": [],
   "source": [
    "# 删除缺失值行\n",
    "df.dropna(axis=0, inplace=True)"
   ]
  },
  {
   "cell_type": "code",
   "execution_count": null,
   "metadata": {},
   "outputs": [],
   "source": [
    "#检查重复\n",
    "sum(df.duplicated())"
   ]
  },
  {
   "cell_type": "code",
   "execution_count": null,
   "metadata": {},
   "outputs": [],
   "source": [
    "df['genres'].value_counts()"
   ]
  },
  {
   "cell_type": "code",
   "execution_count": null,
   "metadata": {},
   "outputs": [],
   "source": [
    "b = df['genres'].value_counts().head(4).index\n",
    "b"
   ]
  },
  {
   "cell_type": "code",
   "execution_count": null,
   "metadata": {},
   "outputs": [],
   "source": [
    "c = df['genres'].value_counts().index\n",
    "c "
   ]
  },
  {
   "cell_type": "code",
   "execution_count": null,
   "metadata": {},
   "outputs": [],
   "source": [
    "df['genres5'] = df['genres']"
   ]
  },
  {
   "cell_type": "code",
   "execution_count": null,
   "metadata": {},
   "outputs": [],
   "source": [
    "for a in c:\n",
    "    if a not in b:\n",
    "        df['genres5'].replace(a,'other_genres',inplace=True)"
   ]
  },
  {
   "cell_type": "code",
   "execution_count": null,
   "metadata": {},
   "outputs": [],
   "source": [
    "df['genres5'].value_counts()"
   ]
  },
  {
   "cell_type": "code",
   "execution_count": null,
   "metadata": {},
   "outputs": [],
   "source": [
    "df_g = df[df['genres5']!= 'other_genres']\n",
    "df_g "
   ]
  },
  {
   "cell_type": "markdown",
   "metadata": {},
   "source": [
    "## 探索性数据分析1\n",
    "* 提示在你完成数据整理和清理之后，现在可以进行探索性数据分析了。你需要计算统计值，创建可视化图表，解决你在一开始的简介部分中提出的研究问题。我们推荐你采用系统化方法。一次只探索一个变量，然后探索变量之间的关系。"
   ]
  },
  {
   "cell_type": "markdown",
   "metadata": {},
   "source": [
    "### 研究问题 1（vote average 分布情况 ，各阶段评分占比多少？）"
   ]
  },
  {
   "cell_type": "code",
   "execution_count": null,
   "metadata": {},
   "outputs": [],
   "source": [
    "# 用这个代码框和其它代码框探索数据。请务必记得添加\n",
    "#   Markdown 框，以便记录你的观察和调查结果。\n",
    "df['vote_average'].hist(bins=20,figsize=(6,4))  \n",
    "plt.title('Vote Average Distribution')\n",
    "plt.ylabel('Frequency')\n",
    "plt.xlabel('Vote');"
   ]
  },
  {
   "cell_type": "code",
   "execution_count": null,
   "metadata": {},
   "outputs": [],
   "source": [
    "df['vote_average'].plot.box(showfliers=False,showmeans=True,figsize=(6,4))\n",
    "plt.title('Vote Distribution')\n",
    "plt.ylabel('USD');"
   ]
  },
  {
   "cell_type": "code",
   "execution_count": null,
   "metadata": {},
   "outputs": [],
   "source": [
    "df['vote_cut'].value_counts().plot.bar(figsize=(6,4))\n",
    "plt.title('Vote_cut VS Count')\n",
    "plt.ylabel('Count')\n",
    "plt.xlabel('Vote_cut');"
   ]
  },
  {
   "cell_type": "markdown",
   "metadata": {},
   "source": [
    "数据成正态分布，评分大多集中在4分到8分之间。"
   ]
  },
  {
   "cell_type": "code",
   "execution_count": null,
   "metadata": {},
   "outputs": [],
   "source": [
    "df.vote_cut.value_counts().plot.pie(explode = (0,0,0.3,0.3,0.3), autopct=lambda pct:'' if pct< 1 else \"{:.1f}%\".format(pct),figsize=(5,5))\n",
    "plt.title('Vote_cut VS Percentage');"
   ]
  },
  {
   "cell_type": "markdown",
   "metadata": {},
   "source": [
    "vote4~6与vote6~8占比差不多，都约是48%左右。"
   ]
  },
  {
   "cell_type": "markdown",
   "metadata": {},
   "source": [
    "### 研究问题 2（投票次数排名前四的电影风格与评分的关系）"
   ]
  },
  {
   "cell_type": "code",
   "execution_count": null,
   "metadata": {},
   "outputs": [],
   "source": [
    "df_g.groupby(['vote_cut','genres5']).size().unstack()"
   ]
  },
  {
   "cell_type": "code",
   "execution_count": null,
   "metadata": {},
   "outputs": [],
   "source": [
    "df_g.groupby(['vote_cut','genres5']).size().unstack().plot.bar(figsize=(8,5))\n",
    "plt.title('Vote Cut VS Genres')\n",
    "plt.xticks(rotation=0) # 控制 x 轴刻度文字的角度\n",
    "plt.ylabel('Count');"
   ]
  },
  {
   "cell_type": "markdown",
   "metadata": {},
   "source": [
    "在投票次数排名前四的电影类型中，大部分投票都集中在4至8分，在vote：4~6中Comedy和Drama次数相当，在vote：6~8中Drama次数最多。"
   ]
  },
  {
   "cell_type": "code",
   "execution_count": null,
   "metadata": {},
   "outputs": [],
   "source": [
    "df_g.groupby(['vote_average','genres5']).size().unstack().plot(figsize=(8,5))\n",
    "plt.title('genres VS vote_average VS Count')\n",
    "plt.ylabel('Count');"
   ]
  },
  {
   "cell_type": "markdown",
   "metadata": {},
   "source": [
    "5.5分之前，四种电影风格都差不多，5.5分之后，Drama比较靠前。"
   ]
  },
  {
   "cell_type": "markdown",
   "metadata": {},
   "source": [
    "### 研究问题 3（探索预算与收益的关系）"
   ]
  },
  {
   "cell_type": "code",
   "execution_count": null,
   "metadata": {},
   "outputs": [],
   "source": [
    "df.plot.scatter(x='revenue_adj',y='budget_adj',alpha=0.5)\n",
    "plt.title('revenue_adj VS budget_adj')"
   ]
  },
  {
   "cell_type": "code",
   "execution_count": null,
   "metadata": {},
   "outputs": [],
   "source": [
    "df['revenue_adj'].corr(df['budget_adj'])"
   ]
  },
  {
   "cell_type": "markdown",
   "metadata": {},
   "source": [
    "投资与收益的相关性一般。"
   ]
  },
  {
   "cell_type": "markdown",
   "metadata": {},
   "source": [
    "### 研究问题 4（探索平均投票分数与收益的关系）"
   ]
  },
  {
   "cell_type": "code",
   "execution_count": null,
   "metadata": {},
   "outputs": [],
   "source": [
    "df.plot.scatter(x='vote_average',y='revenue_adj',alpha=0.5)\n",
    "plt.title('user_rating VS price');"
   ]
  },
  {
   "cell_type": "code",
   "execution_count": null,
   "metadata": {},
   "outputs": [],
   "source": [
    "df.groupby('vote_cut')['revenue_adj'].max().plot.bar()\n",
    "plt.title('Top price for each rating score')\n",
    "plt.ylabel('revenue_adj');"
   ]
  },
  {
   "cell_type": "code",
   "execution_count": null,
   "metadata": {},
   "outputs": [],
   "source": [
    "df['vote_average'].corr(df['revenue_adj'])"
   ]
  },
  {
   "cell_type": "markdown",
   "metadata": {},
   "source": [
    "不具备相关性，较高的收益都集中在5到8分之间，评分高有可能有较高的收益。"
   ]
  },
  {
   "cell_type": "markdown",
   "metadata": {
    "collapsed": true
   },
   "source": [
    "### 结论\n",
    "* vote average评分大多集中在4分到8分之间。\n",
    "* 在投票次数排名前四的电影类型中，大部分投票都集中在4至8分，在vote：4~6中Comedy和Drama次数相当，在vote：6~8中Drama次数最多。\n",
    "* 投资与收益的相关性一般。\n",
    "* 平均投票与收益不具备相关性，较高的收益都集中在5到8分之间，评分高有可能有较高的收益。"
   ]
  },
  {
   "cell_type": "markdown",
   "metadata": {},
   "source": [
    "## 探索性数据分析2"
   ]
  },
  {
   "cell_type": "code",
   "execution_count": null,
   "metadata": {},
   "outputs": [],
   "source": [
    "# 载入相关的标准库\n",
    "import seaborn as sns\n",
    "from wordcloud import WordCloud\n",
    "%matplotlib inline"
   ]
  },
  {
   "cell_type": "markdown",
   "metadata": {},
   "source": [
    "### Q1:2014年里，制作成本大于1000000的电影，票房收入利润率是否与评分有关系？\n",
    "操作思路：首先筛选出14年发行且制作成本大于100万的电影，而要计算收入利润率，需要revenue为非0的数据，待筛选完之后将数据进行可视化操作。\n",
    "\n",
    "根据问题筛选出满足条件的数据，筛选完之后进行检查，然后再创建一个收入利润率的数据列income_ratio，方便我们的使用。"
   ]
  },
  {
   "cell_type": "code",
   "execution_count": null,
   "metadata": {},
   "outputs": [],
   "source": [
    "df_q1 = df.query('release_year == \"2014\"').query('budget > 1000000').query('revenue != 0')\n",
    "df_q1['income_ratio'] = (df_q1['revenue'] - df_q1['budget']) / df_q1['budget']\n",
    "df_q1.describe()"
   ]
  },
  {
   "cell_type": "code",
   "execution_count": null,
   "metadata": {},
   "outputs": [],
   "source": [
    "df_q1.info()"
   ]
  },
  {
   "cell_type": "markdown",
   "metadata": {},
   "source": [
    "筛选完的数据没有缺失值，而重复值在最初已经去除过，到此数据应该已经达到了我们所需要的程度，那么开始运用可视化展示并陈述结果"
   ]
  },
  {
   "cell_type": "code",
   "execution_count": null,
   "metadata": {},
   "outputs": [],
   "source": [
    "plt.style.use('default')\n",
    "plt.figure(figsize = (6,4))\n",
    "sns.regplot(x ='vote_average',y ='income_ratio',data = df_q1)\n",
    "plt.xlabel('Average Score')\n",
    "plt.ylabel('Profit Margin')\n",
    "plt.title('The Profit margin will more increase when it got higher average score');"
   ]
  },
  {
   "cell_type": "markdown",
   "metadata": {},
   "source": [
    "虽然有部分离散点散布在图里，但我们仍然能看到图像呈现出正相关的属性，而且回归线也符合数据间正相关的分布趋势，即大部分电影的收入利润率还是跟平均评分呈现出正相关的。"
   ]
  },
  {
   "cell_type": "markdown",
   "metadata": {},
   "source": [
    "### Q2:各年份中，不同类型的电影的发行情况是怎样的?"
   ]
  },
  {
   "cell_type": "code",
   "execution_count": null,
   "metadata": {},
   "outputs": [],
   "source": [
    "plt.style.use('dark_background')\n",
    "# 拆分电影类型中的内容成单个的类型\n",
    "df_genres = df.drop('genres', axis=1).join(df['genres'].str.split('|', expand=True).stack().reset_index(level=1, drop=True).rename('genres'))\n",
    "# 整理数据 \n",
    "target_data = df_genres.groupby('genres')['release_year'].value_counts().unstack().fillna(0)\n",
    "target_data['sort_val'] = target_data.sum(axis=1)\n",
    "target_data = target_data.sort_values('sort_val', axis=0, ascending=False).drop('sort_val', axis=1)\n",
    "target_data.head()"
   ]
  },
  {
   "cell_type": "code",
   "execution_count": null,
   "metadata": {},
   "outputs": [],
   "source": [
    "target_data.T.plot(colormap='gist_rainbow', figsize=(24, 8), grid=True);"
   ]
  },
  {
   "cell_type": "markdown",
   "metadata": {},
   "source": [
    "从上面的图像可以看出，戏剧（drama）类型的电影发行量与增速都是最高的，第二的是喜剧（comedy），恐怖片（thriller）排第三。"
   ]
  },
  {
   "cell_type": "markdown",
   "metadata": {},
   "source": [
    "### Q3: 哪些描述电影的关键字出现频率比较多？"
   ]
  },
  {
   "cell_type": "code",
   "execution_count": null,
   "metadata": {},
   "outputs": [],
   "source": [
    "df_10 = df\n",
    "df_data = df_10['keywords'].str.split('|',expand = True).stack().reset_index(level = 1,drop = True).rename('keywords')\n",
    "word_fre = df_data.value_counts()"
   ]
  },
  {
   "cell_type": "code",
   "execution_count": null,
   "metadata": {},
   "outputs": [],
   "source": [
    "word_fre"
   ]
  },
  {
   "cell_type": "code",
   "execution_count": null,
   "metadata": {},
   "outputs": [],
   "source": [
    "wc = WordCloud(width = 1200,height = 800,mode = 'RGBA',background_color = 'rgba(255, 255, 255, 0)',\n",
    "               colormap = 'Spectral',color_func = lambda *args, **kwargs: 'white')\n",
    "wc.generate_from_frequencies(word_fre)"
   ]
  },
  {
   "cell_type": "code",
   "execution_count": null,
   "metadata": {},
   "outputs": [],
   "source": [
    "plt.figure(figsize = (8,6))\n",
    "plt.imshow(wc,interpolation = 'bilinear')\n",
    "plt.axis('off');"
   ]
  },
  {
   "cell_type": "markdown",
   "metadata": {},
   "source": [
    "看起来，女导演，独立电影，小说改编电影等关键词高频词，用于形容电影出现的频率比较高。那么是否存在某个女导演的作品好评度是所有导演中最高的呢？"
   ]
  },
  {
   "cell_type": "markdown",
   "metadata": {},
   "source": [
    "### Q4:哪个导演的电影评分最高？"
   ]
  },
  {
   "cell_type": "markdown",
   "metadata": {},
   "source": [
    "操作思路：此问题，需要将电影按照导演进行分组，并取出该导演的电影作品的平均评分进行比较，得出最高分的导演"
   ]
  },
  {
   "cell_type": "code",
   "execution_count": null,
   "metadata": {},
   "outputs": [],
   "source": [
    "# 提取director列非缺失值的数据\n",
    "df_q2 = df[df['director'].notna()]"
   ]
  },
  {
   "cell_type": "code",
   "execution_count": null,
   "metadata": {},
   "outputs": [],
   "source": [
    "df_q2"
   ]
  },
  {
   "cell_type": "markdown",
   "metadata": {},
   "source": [
    "因为存在着几个导演一起出作品的情况，我们需要把他们分离出来"
   ]
  },
  {
   "cell_type": "code",
   "execution_count": null,
   "metadata": {},
   "outputs": [],
   "source": [
    "dir_split = df_q2['director'].str.split('|',expand = True).stack().reset_index(level = 1,drop = True).rename('director')\n",
    "df_q2 = df_q2.drop('director',axis = 1).join(dir_split)"
   ]
  },
  {
   "cell_type": "markdown",
   "metadata": {},
   "source": [
    "我们提取含有10部作品数据以上的导演，保证导演的水平不会出现太大的偶然性"
   ]
  },
  {
   "cell_type": "code",
   "execution_count": null,
   "metadata": {},
   "outputs": [],
   "source": [
    "dir_list = list(df_q2['director'].value_counts()[df_q2['director'].value_counts()>9].index)\n",
    "df_q2['check'] = df_q2['director'].isin(dir_list)\n",
    "df_q2 = df_q2[df_q2['check']]"
   ]
  },
  {
   "cell_type": "code",
   "execution_count": null,
   "metadata": {},
   "outputs": [],
   "source": [
    "df_q2_mean = df_q2.groupby('director')['vote_average'].mean()\n",
    "h_dir = df_q2_mean.idxmax()\n",
    "h_soc = df_q2_mean.max()\n",
    "print('The champion is: {} .And his/her movie got a topping average score: {} !'.format(h_dir,h_soc))"
   ]
  },
  {
   "cell_type": "markdown",
   "metadata": {},
   "source": [
    "### Q5：电影评分与时间是否存在某种趋势？"
   ]
  },
  {
   "cell_type": "markdown",
   "metadata": {},
   "source": [
    "操作思路：将数据按照10年进行切片分组，接着再用年份区间内电影评分的平均数与年份区间进行比较，观察数据间的关系"
   ]
  },
  {
   "cell_type": "code",
   "execution_count": null,
   "metadata": {},
   "outputs": [],
   "source": [
    "df_q3 = df\n",
    "bin_edge = [1960,1970,1980,1990,2000,2010,2020]\n",
    "bin_labels = ['1960s','1970s','1980s','1990s','2000s','2010s']\n",
    "df_q3 ['years'] = pd.cut(df_q3['release_year'],bin_edge,labels = bin_labels)"
   ]
  },
  {
   "cell_type": "code",
   "execution_count": null,
   "metadata": {},
   "outputs": [],
   "source": [
    "# 按新变量years检查下所有数据数量的情况\n",
    "df_q3['years'].value_counts()"
   ]
  },
  {
   "cell_type": "markdown",
   "metadata": {},
   "source": [
    "虽然1960-1980年之间的电影数据比后续的任意十年间的少，但是数据数量也能满足我们的需求，继续接下来的操作"
   ]
  },
  {
   "cell_type": "code",
   "execution_count": null,
   "metadata": {},
   "outputs": [],
   "source": [
    "# 求出按years分组后各组评分的平均值，作为可视化的条件之一\n",
    "df_q3_mean = df_q3.groupby('years')['vote_average'].mean()\n",
    "plt.style.use('default')\n",
    "df_q3_mean.plot(figsize = (8,4),style = 'bo--')\n",
    "plt.xlabel('Years')\n",
    "plt.ylabel('Average Score')\n",
    "plt.title('Score decreases as the year increases');"
   ]
  },
  {
   "cell_type": "markdown",
   "metadata": {},
   "source": [
    "在以每10年作为递进梯度时可以看到1970s，即1970-1980的电影总体评分是最高的，而往后，电影评分随时间变化而降低，这是否意味着越往后电影作品的总体质量将越来越低，电影行业是否遇到了瓶颈期呢"
   ]
  },
  {
   "cell_type": "markdown",
   "metadata": {},
   "source": [
    "### 结论\n",
    "（注：由于该数据只是提取自其中一个电影数据库的数据，因此所有结论仅适用于该电影数据库范围内的数据。）\n",
    "\n",
    "* 1.在2014年里，制作成本大于100万的电影，它的平均评分越高，利润率也会越高，但是制作成本低于100万时是否也符合这个规律，就需要重新进行其他相关数据的分析，而其他年份里是否也符合这个规律，也需要探索其他年份的数据才能得出中体的结论。\n",
    "\n",
    "* 2.越往后发行的电影，戏剧，喜剧与恐怖片是电影发布类型的三巨头，可能近年来的观众比较喜欢这三种类型的电影，但需要其他类型的数据才能进行更深入的分析探讨，而2000年前的电影因为存在统计数据缺失等情况，可能此三类电影不是发行类型的前三名，可能需要考虑其他电影数据库数据进行对比分析。\n",
    "\n",
    "* 3.女导演，独立电影，小说改编电影等是概括电影的高频词汇。\n",
    "\n",
    "* 4.数据集中Carl Tibbetts的电影总体评分最高，达到了8.66分。但是数据库中可能存在着大量其他导演的作品未存在数据集中的情况，因此可能存在其他导演具有更高分作品的情况。\n",
    "\n",
    "* 5.电影作品的总体质量正随着每十年时间的增加而降低，未来可能质量会继续降低，但降低的幅度却在逐渐减少，因此可能电影界遇到了某种瓶颈，电影总体质量在短时间内不会有大的反弹。但是该数据集只是一个电影数据库中的数据，可能需要多比较其他的电影数据库才能得出最终正确的判断。"
   ]
  },
  {
   "cell_type": "markdown",
   "metadata": {},
   "source": [
    "## 探索性数据分析3\n",
    "* （1）每年最受欢迎的电影是那些类别 \n",
    "* （2）盈利最多的电影有哪些特点"
   ]
  },
  {
   "cell_type": "code",
   "execution_count": null,
   "metadata": {},
   "outputs": [],
   "source": [
    "# 加载数据并打印几行。\n",
    "df=pd.read_csv('data/tmdb-movies.csv')\n",
    "df.head()"
   ]
  },
  {
   "cell_type": "code",
   "execution_count": null,
   "metadata": {},
   "outputs": [],
   "source": [
    "df.info()"
   ]
  },
  {
   "cell_type": "markdown",
   "metadata": {},
   "source": [
    "#### 数据清理（提取有可能需要用到的列，组成新的dataframe）\n",
    "* 问题一：每年最受欢迎的电影是那些类别---可能用到的列：popularity，orginal title,genres,release year \n",
    "* 问题二：盈利最多的电影有哪些特点---可能用到的列：budget,revenue,original_title,cast,director,genres，release year，release date，production_company"
   ]
  },
  {
   "cell_type": "code",
   "execution_count": null,
   "metadata": {},
   "outputs": [],
   "source": [
    "df=df[['original_title','popularity','genres','release_year','release_date','budget','revenue','cast','production_companies']]\n",
    "df.head()"
   ]
  },
  {
   "cell_type": "markdown",
   "metadata": {},
   "source": [
    "#### 数据清理（寻找并处理重复行）"
   ]
  },
  {
   "cell_type": "code",
   "execution_count": null,
   "metadata": {},
   "outputs": [],
   "source": [
    "sum(df.duplicated())"
   ]
  },
  {
   "cell_type": "code",
   "execution_count": null,
   "metadata": {},
   "outputs": [],
   "source": [
    "#从上面知道，有一行是完全重复的，对其进行操作\n",
    "df.drop_duplicates(inplace=True)\n",
    "df.info()"
   ]
  },
  {
   "cell_type": "code",
   "execution_count": null,
   "metadata": {},
   "outputs": [],
   "source": [
    "df.head()"
   ]
  },
  {
   "cell_type": "markdown",
   "metadata": {},
   "source": [
    "#### 数据清理（将复杂的字符串分解）\n",
    "* 通过上面的输出结果，以下列是多个字符串，需要分解：genres,cast,production_companies"
   ]
  },
  {
   "cell_type": "code",
   "execution_count": null,
   "metadata": {},
   "outputs": [],
   "source": [
    "df_temp=df['genres'].str.split('|',expand=True) \n",
    "df_temp.head()"
   ]
  },
  {
   "cell_type": "code",
   "execution_count": null,
   "metadata": {},
   "outputs": [],
   "source": [
    "df_temp=df['cast'].str.split('|',expand=True) \n",
    "df_temp.head()"
   ]
  },
  {
   "cell_type": "code",
   "execution_count": null,
   "metadata": {},
   "outputs": [],
   "source": [
    "df_temp=df['production_companies'].str.split('|',expand=True) \n",
    "df_temp.head()"
   ]
  },
  {
   "cell_type": "code",
   "execution_count": null,
   "metadata": {},
   "outputs": [],
   "source": [
    "#通过上面的计算，各个列都会被扩展成5列，所以：\n",
    "df[['g1','g2','g3','g4','g5']]=df['genres'].str.split('|',expand=True)\n",
    "df[['c1','c2','c3','c4','c5']]=df['cast'].str.split('|',expand=True)\n",
    "df[['p1','p2','p3','p4','p5']]=df['production_companies'].str.split('|',expand=True)\n",
    "df.info()"
   ]
  },
  {
   "cell_type": "code",
   "execution_count": null,
   "metadata": {
    "scrolled": true
   },
   "outputs": [],
   "source": [
    "df.head()"
   ]
  },
  {
   "cell_type": "markdown",
   "metadata": {},
   "source": [
    "#### 数据清理（处理缺省值）\n",
    "* 通过上面的输出结果，我们知道总行数为10865，所以以下列存在缺省值：cast,director,genres,production_companies 注意到上述缺省列大部分为string 类型，无法用平均值进行填充，所以下面用0填充缺省处"
   ]
  },
  {
   "cell_type": "code",
   "execution_count": null,
   "metadata": {},
   "outputs": [],
   "source": [
    "# 用0去填充缺省值\n",
    "df.fillna(0, inplace=True)\n",
    "df.info()"
   ]
  },
  {
   "cell_type": "code",
   "execution_count": null,
   "metadata": {},
   "outputs": [],
   "source": [
    "df.head()"
   ]
  },
  {
   "cell_type": "markdown",
   "metadata": {},
   "source": [
    "#### 数据清理（更改数据类型）\n",
    "* 通过上面的输出结果，我们知道以下列的数据类型存在问题，需要转换：release_date"
   ]
  },
  {
   "cell_type": "code",
   "execution_count": null,
   "metadata": {},
   "outputs": [],
   "source": [
    "#因为我不需要精确到具体哪一天，所以只提取month\n",
    "df['release_date']=pd.to_datetime(df['release_date']).dt.month\n",
    "df.info()"
   ]
  },
  {
   "cell_type": "code",
   "execution_count": null,
   "metadata": {},
   "outputs": [],
   "source": [
    "#到此，原始数据处理完毕\n",
    "df.head()"
   ]
  },
  {
   "cell_type": "markdown",
   "metadata": {},
   "source": [
    "### 研究问题 1（每年最受欢迎的电影是那些类别 ）"
   ]
  },
  {
   "cell_type": "markdown",
   "metadata": {},
   "source": [
    "根据这个问题，我认为需要用到的列是：popularity,release_year，和genres(g1...g5)"
   ]
  },
  {
   "cell_type": "code",
   "execution_count": null,
   "metadata": {},
   "outputs": [],
   "source": [
    "df['release_year'].min(),  df['release_year'].max()"
   ]
  },
  {
   "cell_type": "markdown",
   "metadata": {},
   "source": [
    "通过上面的结果，我们知道，需要找出从1960年到2015年，每年最受欢迎的电影"
   ]
  },
  {
   "cell_type": "code",
   "execution_count": null,
   "metadata": {},
   "outputs": [],
   "source": [
    "#先按照popularity排好序，然后按照release——year分组，最后每组取第一个\n",
    "df1=df.sort_values('popularity', ascending=False).groupby('release_year', as_index=False).first()\n",
    "df1"
   ]
  },
  {
   "cell_type": "markdown",
   "metadata": {},
   "source": [
    "通过上面的结果，我们已经找出从1960年到2015年，每年最受欢迎的电影，可以从genres列，看出他们是那些类别。 如果想要进一步分析这些电影的类别集中在那些地方"
   ]
  },
  {
   "cell_type": "code",
   "execution_count": null,
   "metadata": {},
   "outputs": [],
   "source": [
    "df_g=(df1[['g1','g2','g3','g4','g5']] ).apply(pd.value_counts)   \n",
    "df_g"
   ]
  },
  {
   "cell_type": "code",
   "execution_count": null,
   "metadata": {},
   "outputs": [],
   "source": [
    "#去掉没有意义的倒数第二行\n",
    "df_g.drop([0], inplace=True)\n",
    "\n",
    "#填充nan值，方便计算\n",
    "df_g.fillna(0, inplace=True)\n",
    "df_g"
   ]
  },
  {
   "cell_type": "code",
   "execution_count": null,
   "metadata": {},
   "outputs": [],
   "source": [
    "df_g['Col_sum'] = df_g.apply(lambda x: x.sum(), axis=1)\n",
    "df_g"
   ]
  },
  {
   "cell_type": "markdown",
   "metadata": {},
   "source": [
    "对数据进行可视化："
   ]
  },
  {
   "cell_type": "code",
   "execution_count": null,
   "metadata": {},
   "outputs": [],
   "source": [
    "df_g['Col_sum'].plot(kind='bar',figsize=(12,10))\n",
    "plt.title('Popularity vs Genres for Most Popular Moive(1960-2105)',fontsize=18)\n",
    "plt.xlabel('Genres',fontsize=14)\n",
    "plt.ylabel('Popularity',fontsize=14)"
   ]
  },
  {
   "cell_type": "markdown",
   "metadata": {},
   "source": [
    "结论：通过上面的数据处理，我们知道：从1960年到2015年的66部最受欢迎的电影中，以下类型是数量最多的：Action，Adventure，Science Fiction，Thriller"
   ]
  },
  {
   "cell_type": "markdown",
   "metadata": {},
   "source": [
    "### 研究问题 2（盈利最多的电影有哪些特点。）"
   ]
  },
  {
   "cell_type": "code",
   "execution_count": null,
   "metadata": {},
   "outputs": [],
   "source": [
    "df.head()"
   ]
  },
  {
   "cell_type": "code",
   "execution_count": null,
   "metadata": {},
   "outputs": [],
   "source": [
    "#计算电影成本，并取出盈利最高的前10部电影\n",
    "df['profit']=df['revenue']-df['budget']\n",
    "df2=df.sort_values('profit',ascending=False).head(10)\n",
    "df2"
   ]
  },
  {
   "cell_type": "code",
   "execution_count": null,
   "metadata": {},
   "outputs": [],
   "source": [
    "#（1）查看这10部电影与genres有哪些关系：\n",
    "df2_g=(df2[['g1','g2','g3','g4','g5']] ).apply(pd.value_counts)   \n",
    "\n",
    "#去掉没有意义的倒数第二行\n",
    "df2_g.drop([0], inplace=True)\n",
    "\n",
    "#填充nan值，方便计算\n",
    "df2_g.fillna(0, inplace=True)\n",
    "\n",
    "df2_g['Col_sum'] = df2_g.apply(lambda x: x.sum(), axis=1)\n",
    "\n",
    "df2_g['Col_sum'].plot(kind='pie',figsize=(10,10),autopct='%.0f%%')\n",
    "\n",
    "plt.title('Profit vs Genres (Top 10 Best profit Movie)',fontsize=18)"
   ]
  },
  {
   "cell_type": "markdown",
   "metadata": {},
   "source": [
    "结论（1）：通过上面的数据处理，我们知道：盈利最多的10部电影中，以下类型是数量最多的：Action，Adventure，Science Fiction，Thriller"
   ]
  },
  {
   "cell_type": "code",
   "execution_count": null,
   "metadata": {
    "scrolled": true
   },
   "outputs": [],
   "source": [
    "#（2）查看这10部电影与cast有哪些关系：\n",
    "df2_c=(df2[['c1','c2','c3','c4','c5']] ).apply(pd.value_counts)   \n",
    "\n",
    "\n",
    "#填充nan值，方便计算\n",
    "df2_c.fillna(0, inplace=True)\n",
    "\n",
    "df2_c['Col_sum'] = df2_c.apply(lambda x: x.sum(), axis=1)\n",
    "\n",
    "df2_c['Col_sum'].plot(kind='bar',figsize=(8,6),color='y')\n",
    "\n",
    "plt.title('Profit vs Cast (Top 10 Best profit Movie)',fontsize=18)\n",
    "plt.ylabel('Movie Quantites',fontsize=14)\n",
    "plt.xlabel('Cast Name',fontsize=14)"
   ]
  },
  {
   "cell_type": "markdown",
   "metadata": {},
   "source": [
    "结论（2）：通过上面的数据处理，我们知道：盈利最多的10部电影中，以下演员参演过2部最受欢迎的电影：Chris Evans，Chris hemsworth，Mark Ruffalo，Michellw Rodriguez，Robert Downey，Scarlett Johansson"
   ]
  },
  {
   "cell_type": "code",
   "execution_count": null,
   "metadata": {},
   "outputs": [],
   "source": [
    "#（3）查看这10部电影production companies有哪些特征：\n",
    "df2_p=(df2[['p1','p2','p3','p4','p5']] ).apply(pd.value_counts)   \n",
    "\n",
    "#去掉没有意义的行\n",
    "df2_p.drop([0], inplace=True)\n",
    "\n",
    "#填充nan值，方便计算\n",
    "df2_p.fillna(0, inplace=True)\n",
    "\n",
    "df2_p['Col_sum'] = df2_p.apply(lambda x: x.sum(), axis=1)\n",
    "\n",
    "# df2_p['Col_sum'].plot(kind='point',figsize=(12,10),color='g')\n",
    "\n",
    "plt.figure(figsize=(12, 3))\n",
    "plt.plot(df2_p['Col_sum'],'*',color='g')\n",
    "plt.xticks(rotation=90)\n",
    "\n",
    "plt.title('Profit vs Production Companies (Top 10 Best profit Movie)',fontsize=18)\n",
    "plt.ylabel('Movie Quantites',fontsize=14)\n",
    "plt.xlabel('Production Companies',fontsize=14)"
   ]
  },
  {
   "cell_type": "markdown",
   "metadata": {},
   "source": [
    "结论（3）：通过上面的数据处理，我们知道：盈利最多的10部电影中，以下公司投资过2部最受欢迎的电影：Marvel Studio，Twentieth Century Fox Film Corporation，Lightstorm Enteratinment,Dentsu"
   ]
  },
  {
   "cell_type": "code",
   "execution_count": null,
   "metadata": {},
   "outputs": [],
   "source": [
    "#（4）查看这10部电影与popularity，release_year，release_date有哪些关系\n",
    "\n",
    "#plt.barh(np.arange(10),df2['profit'],tick_label=df2['popularity'])\n",
    "#plt.xlabel('Profit')\n",
    "#plt.ylabel('Popularity')\n",
    "\n",
    "#设置画布大小\n",
    "fig = plt.figure(figsize=(12,5)) \n",
    "#加上图像标题, fontsize=14 字体大小, fontweight='bold' 加粗\n",
    "fig.suptitle('profit factors', fontsize=18, fontweight='bold') \n",
    "\n",
    "#添加第一个子图\n",
    "ax1 = fig.add_subplot(131)\n",
    "plt.barh(np.arange(10), df2['profit'], height=0.5, color='y')\n",
    "plt.ylabel('Popularity',fontsize=14) \n",
    "plt.xlabel('Profit',fontsize=14) \n",
    "\n",
    "#添加第二个子图\n",
    "ax2 = fig.add_subplot(132)\n",
    "plt.barh(np.arange(10),df2['profit'], height=0.5,color='r')\n",
    "plt.ylabel('Release_year',fontsize=14) \n",
    "plt.xlabel('Profit',fontsize=14)\n",
    "\n",
    "#添加第三个子图\n",
    "ax3 = fig.add_subplot(133)\n",
    "plt.barh(np.arange(10),df2['profit'], height=0.5,color='b')\n",
    "plt.ylabel('Release_month',fontsize=14) \n",
    "plt.xlabel('Profit',fontsize=14)"
   ]
  },
  {
   "cell_type": "markdown",
   "metadata": {},
   "source": [
    "从上面的图形中并不能直观的看出联系，所以我们对数据进行进一步处理："
   ]
  },
  {
   "cell_type": "code",
   "execution_count": null,
   "metadata": {},
   "outputs": [],
   "source": [
    "df2['popularity'].mean()"
   ]
  },
  {
   "cell_type": "markdown",
   "metadata": {},
   "source": [
    "结论（4.1）：通过上面的数据处理，我们知道：盈利最多的10部电影,受欢迎的平均程度为9.4分，"
   ]
  },
  {
   "cell_type": "code",
   "execution_count": null,
   "metadata": {},
   "outputs": [],
   "source": [
    "df2['release_year'].value_counts()"
   ]
  },
  {
   "cell_type": "markdown",
   "metadata": {},
   "source": [
    "结论（4.2）：通过上面的数据处理，我们知道：盈利最多的10部电影,有4部电影出自2015年。"
   ]
  },
  {
   "cell_type": "code",
   "execution_count": null,
   "metadata": {},
   "outputs": [],
   "source": [
    "df2['release_date'].value_counts()"
   ]
  },
  {
   "cell_type": "markdown",
   "metadata": {},
   "source": [
    "结论（4.3）：通过上面的数据处理，我们知道：盈利最多的10部电影,4月份上映的有3部，7，11，12月各自2部。"
   ]
  },
  {
   "cell_type": "markdown",
   "metadata": {},
   "source": [
    "### 结论\n",
    "* 通过上面的数据处理，我们知道：从1960年到2015年的66部最受欢迎的电影中，以下类型是数量最多的：\n",
    "  * Action，Adventure，Science Fiction，Thriller\n",
    "\n",
    "* 通过上面的数据处理，我们知道：盈利最多的10部电影中:\n",
    "  * (1)以下类型是数量最多的：Action，Adventure，Science Fiction，Thriller \n",
    "  * (2)以下演员参演过2部最受欢迎的电影：Chris Evans，Chris hemsworth，Mark Ruffalo，Michellw Rodriguez，Robert Downey，Scarlett Johansson \n",
    "  * (3)以下公司投资过2部最受欢迎的电影：Marvel Studio，Twentieth Century Fox Film Corporation，Lightstorm Enteratinment,Dentsu \n",
    "  * (4)受欢迎的平均程度为9.4分， \n",
    "  * (5)有4部电影出自2015年。 \n",
    "  * (6)4月份上映的有3部，7，11，12月各自2部。"
   ]
  },
  {
   "cell_type": "markdown",
   "metadata": {
    "slideshow": {
     "slide_type": "slide"
    }
   },
   "source": [
    "# Any Questions?"
   ]
  }
 ],
 "metadata": {
  "celltoolbar": "Slideshow",
  "kernelspec": {
   "display_name": "Python 3",
   "language": "python",
   "name": "python3"
  },
  "language_info": {
   "codemirror_mode": {
    "name": "ipython",
    "version": 3
   },
   "file_extension": ".py",
   "mimetype": "text/x-python",
   "name": "python",
   "nbconvert_exporter": "python",
   "pygments_lexer": "ipython3",
   "version": "3.7.3"
  }
 },
 "nbformat": 4,
 "nbformat_minor": 1
}
