{
 "cells": [
  {
   "cell_type": "markdown",
   "metadata": {},
   "source": [
    "### 复习python基础语法\n",
    "\n",
    "查看知识点思维导图\n",
    "\n",
    "\n",
    "\n"
   ]
  },
  {
   "cell_type": "markdown",
   "metadata": {},
   "source": [
    "## Pandas基本语法"
   ]
  },
  {
   "cell_type": "markdown",
   "metadata": {},
   "source": [
    "2008年，为满足需要高性能，灵活的数据分析工具，开发商Wes McKinney开始开发Pandas。\n",
    "\n",
    "- 在Pandas之前，Python主要用于数据迁移和准备。它对数据分析的贡献更小。 Pandas解决了这个问题。 使用Pandas可以完成数据处理和分析的五个典型步骤，而不管数据的来源 - ***加载，准备，操作，模型和分析***。\n",
    "\n",
    "- Pandas是通过代码来实现**Excel和数据库**的基本功能，并提供了更丰富的分析函数\n",
    "\n",
    "- Python Pandas用于广泛的领域，包括金融，经济，统计，分析等学术和商业领域。"
   ]
  },
  {
   "cell_type": "markdown",
   "metadata": {},
   "source": [
    "<img style=\"float: center;\" src=\"img/pandasoutline.png\" width=600>"
   ]
  },
  {
   "cell_type": "markdown",
   "metadata": {},
   "source": [
    "### 导入\n",
    "习惯上，我们这样导入pandas:"
   ]
  },
  {
   "cell_type": "code",
   "execution_count": 1,
   "metadata": {
    "ExecuteTime": {
     "end_time": "2018-01-13T07:45:25.520115Z",
     "start_time": "2018-01-13T07:45:25.301417Z"
    }
   },
   "outputs": [],
   "source": [
    "import numpy as np\n",
    "import pandas as pd\n",
    "import matplotlib.pyplot as plt\n",
    "from pandas import Series,DataFrame"
   ]
  },
  {
   "cell_type": "markdown",
   "metadata": {},
   "source": [
    "### Series\n",
    "\n",
    "#### 创建\n",
    "<img style=\"float: center;\" src=\"img/series.png\" width=600 height=600>\n",
    "\n",
    "带索引的一维数组。 通过list或者ndarray可以创建Series，Pandas会自动创建整型索引。"
   ]
  },
  {
   "cell_type": "code",
   "execution_count": 2,
   "metadata": {},
   "outputs": [
    {
     "output_type": "execute_result",
     "data": {
      "text/plain": [
       "[1, 2, 3, 4]"
      ]
     },
     "metadata": {},
     "execution_count": 2
    }
   ],
   "source": [
    "list1=[1,2,3,4]  # python的list \n",
    "list1"
   ]
  },
  {
   "cell_type": "code",
   "execution_count": 3,
   "metadata": {},
   "outputs": [
    {
     "output_type": "execute_result",
     "data": {
      "text/plain": [
       "array([1, 2, 3, 4])"
      ]
     },
     "metadata": {},
     "execution_count": 3
    }
   ],
   "source": [
    "nparray1=np.array(list1)  #NumPy的ndarray\n",
    "nparray1"
   ]
  },
  {
   "cell_type": "code",
   "execution_count": 4,
   "metadata": {},
   "outputs": [
    {
     "output_type": "execute_result",
     "data": {
      "text/plain": [
       "0    1\n",
       "1    2\n",
       "2    3\n",
       "3    4\n",
       "dtype: int64"
      ]
     },
     "metadata": {},
     "execution_count": 4
    }
   ],
   "source": [
    "series1=Series(list1)  # Pandas的 Series，使用list创建\n",
    "series1\n",
    "# series1.values     # series底层是基于ndarray管理数据的，所以 list数据传进来也会转换为 ndrray"
   ]
  },
  {
   "cell_type": "code",
   "execution_count": 5,
   "metadata": {},
   "outputs": [
    {
     "output_type": "execute_result",
     "data": {
      "text/plain": [
       "0    1\n",
       "1    2\n",
       "2    3\n",
       "3    4\n",
       "dtype: int64"
      ]
     },
     "metadata": {},
     "execution_count": 5
    }
   ],
   "source": [
    "series2=Series(nparray1) # Pandas的 Series，使用ndarray创建\n",
    "series2\n",
    "# series2.values"
   ]
  },
  {
   "cell_type": "code",
   "execution_count": 6,
   "metadata": {
    "ExecuteTime": {
     "end_time": "2018-01-13T07:46:46.841237Z",
     "start_time": "2018-01-13T07:46:46.833237Z"
    }
   },
   "outputs": [
    {
     "output_type": "execute_result",
     "data": {
      "text/plain": [
       "0      1.0\n",
       "1      3.0\n",
       "2      5.0\n",
       "3    777.0\n",
       "4      6.0\n",
       "5      1.5\n",
       "dtype: float64"
      ]
     },
     "metadata": {},
     "execution_count": 6
    }
   ],
   "source": [
    "s=Series([1,3,5,777,6,1.5]) #值的类型会自动统一，因为它的值就是按ndaary存储管理的\n",
    "s"
   ]
  },
  {
   "cell_type": "code",
   "execution_count": 7,
   "metadata": {},
   "outputs": [
    {
     "output_type": "execute_result",
     "data": {
      "text/plain": [
       "array([  1. ,   3. ,   5. , 777. ,   6. ,   1.5])"
      ]
     },
     "metadata": {},
     "execution_count": 7
    }
   ],
   "source": [
    "s.values # 值是 ndarray来存储"
   ]
  },
  {
   "cell_type": "code",
   "execution_count": 8,
   "metadata": {},
   "outputs": [
    {
     "output_type": "execute_result",
     "data": {
      "text/plain": [
       "RangeIndex(start=0, stop=6, step=1)"
      ]
     },
     "metadata": {},
     "execution_count": 8
    }
   ],
   "source": [
    "s.index"
   ]
  },
  {
   "cell_type": "code",
   "execution_count": 9,
   "metadata": {},
   "outputs": [
    {
     "output_type": "execute_result",
     "data": {
      "text/plain": [
       "0      1.0\n",
       "5      1.5\n",
       "1      3.0\n",
       "2      5.0\n",
       "4      6.0\n",
       "3    777.0\n",
       "dtype: float64"
      ]
     },
     "metadata": {},
     "execution_count": 9
    }
   ],
   "source": [
    "s.sort_values()"
   ]
  },
  {
   "cell_type": "markdown",
   "metadata": {},
   "source": [
    "#### 索引自定义"
   ]
  },
  {
   "cell_type": "code",
   "execution_count": 10,
   "metadata": {},
   "outputs": [
    {
     "output_type": "execute_result",
     "data": {
      "text/plain": [
       "a     3\n",
       "b    51\n",
       "c     5\n",
       "d     2\n",
       "e     6\n",
       "dtype: int64"
      ]
     },
     "metadata": {},
     "execution_count": 10
    }
   ],
   "source": [
    "s2 = pd.Series([3,51,5,2,6],index=['a','b','c','d','e'])#自己定义索引\n",
    "s2"
   ]
  },
  {
   "cell_type": "code",
   "execution_count": 11,
   "metadata": {},
   "outputs": [
    {
     "output_type": "execute_result",
     "data": {
      "text/plain": [
       "Index(['a', 'b', 'c', 'd', 'e'], dtype='object')"
      ]
     },
     "metadata": {},
     "execution_count": 11
    }
   ],
   "source": [
    "s2.index"
   ]
  },
  {
   "cell_type": "code",
   "execution_count": 12,
   "metadata": {},
   "outputs": [
    {
     "output_type": "execute_result",
     "data": {
      "text/plain": [
       "one       3\n",
       "two      51\n",
       "three     5\n",
       "four      2\n",
       "five      6\n",
       "dtype: int64"
      ]
     },
     "metadata": {},
     "execution_count": 12
    }
   ],
   "source": [
    "s2.index = ['one','two','three','four','five'] #整体更换索引，但不能单独替换某个索引指\n",
    "s2"
   ]
  },
  {
   "cell_type": "code",
   "execution_count": 13,
   "metadata": {},
   "outputs": [
    {
     "output_type": "error",
     "ename": "TypeError",
     "evalue": "Index does not support mutable operations",
     "traceback": [
      "\u001b[0;31m---------------------------------------------------------------------------\u001b[0m",
      "\u001b[0;31mTypeError\u001b[0m                                 Traceback (most recent call last)",
      "\u001b[0;32m<ipython-input-13-d0c853cab09f>\u001b[0m in \u001b[0;36m<module>\u001b[0;34m\u001b[0m\n\u001b[0;32m----> 1\u001b[0;31m \u001b[0ms2\u001b[0m\u001b[0;34m.\u001b[0m\u001b[0mindex\u001b[0m\u001b[0;34m[\u001b[0m\u001b[0;36m2\u001b[0m\u001b[0;34m]\u001b[0m\u001b[0;34m=\u001b[0m\u001b[0;34m'x'\u001b[0m  \u001b[0;31m#，但不能单独替换某个自定义索引值， 索引是 元组Tuple类型，不能修改值\u001b[0m\u001b[0;34m\u001b[0m\u001b[0;34m\u001b[0m\u001b[0m\n\u001b[0m",
      "\u001b[0;32m~/opt/anaconda3/lib/python3.8/site-packages/pandas/core/indexes/base.py\u001b[0m in \u001b[0;36m__setitem__\u001b[0;34m(self, key, value)\u001b[0m\n\u001b[1;32m   4079\u001b[0m \u001b[0;34m\u001b[0m\u001b[0m\n\u001b[1;32m   4080\u001b[0m     \u001b[0;32mdef\u001b[0m \u001b[0m__setitem__\u001b[0m\u001b[0;34m(\u001b[0m\u001b[0mself\u001b[0m\u001b[0;34m,\u001b[0m \u001b[0mkey\u001b[0m\u001b[0;34m,\u001b[0m \u001b[0mvalue\u001b[0m\u001b[0;34m)\u001b[0m\u001b[0;34m:\u001b[0m\u001b[0;34m\u001b[0m\u001b[0;34m\u001b[0m\u001b[0m\n\u001b[0;32m-> 4081\u001b[0;31m         \u001b[0;32mraise\u001b[0m \u001b[0mTypeError\u001b[0m\u001b[0;34m(\u001b[0m\u001b[0;34m\"Index does not support mutable operations\"\u001b[0m\u001b[0;34m)\u001b[0m\u001b[0;34m\u001b[0m\u001b[0;34m\u001b[0m\u001b[0m\n\u001b[0m\u001b[1;32m   4082\u001b[0m \u001b[0;34m\u001b[0m\u001b[0m\n\u001b[1;32m   4083\u001b[0m     \u001b[0;32mdef\u001b[0m \u001b[0m__getitem__\u001b[0m\u001b[0;34m(\u001b[0m\u001b[0mself\u001b[0m\u001b[0;34m,\u001b[0m \u001b[0mkey\u001b[0m\u001b[0;34m)\u001b[0m\u001b[0;34m:\u001b[0m\u001b[0;34m\u001b[0m\u001b[0;34m\u001b[0m\u001b[0m\n",
      "\u001b[0;31mTypeError\u001b[0m: Index does not support mutable operations"
     ]
    }
   ],
   "source": [
    "s2.index[2]='x'  #，但不能单独替换某个自定义索引值， 索引是 元组Tuple类型，不能修改值"
   ]
  },
  {
   "cell_type": "code",
   "execution_count": 14,
   "metadata": {},
   "outputs": [
    {
     "output_type": "execute_result",
     "data": {
      "text/plain": [
       "Ohio      35000\n",
       "Texas      7000\n",
       "Orange    10902\n",
       "dtype: int64"
      ]
     },
     "metadata": {},
     "execution_count": 14
    }
   ],
   "source": [
    "#使用字典类型初始化，会自动带有 自定义标签\n",
    "sdata = {'Ohio':35000, 'Texas':7000, 'Orange':10902}\n",
    "s3 = pd.Series(sdata)\n",
    "s3"
   ]
  },
  {
   "cell_type": "markdown",
   "metadata": {},
   "source": [
    "#### 值的读取和修改"
   ]
  },
  {
   "cell_type": "code",
   "execution_count": 15,
   "metadata": {},
   "outputs": [
    {
     "output_type": "execute_result",
     "data": {
      "text/plain": [
       "a     3\n",
       "b    51\n",
       "c     5\n",
       "d     2\n",
       "e     6\n",
       "dtype: int64"
      ]
     },
     "metadata": {},
     "execution_count": 15
    }
   ],
   "source": [
    "s2 = pd.Series([3,51,5,2,6],index=['a','b','c','d','e'])#自己定义索引\n",
    "s2"
   ]
  },
  {
   "cell_type": "code",
   "execution_count": 16,
   "metadata": {},
   "outputs": [
    {
     "output_type": "execute_result",
     "data": {
      "text/plain": [
       "2"
      ]
     },
     "metadata": {},
     "execution_count": 16
    }
   ],
   "source": [
    "s2['d']  #使用索引读取值"
   ]
  },
  {
   "cell_type": "code",
   "execution_count": 17,
   "metadata": {},
   "outputs": [
    {
     "output_type": "execute_result",
     "data": {
      "text/plain": [
       "2"
      ]
     },
     "metadata": {},
     "execution_count": 17
    }
   ],
   "source": [
    "s2[3]  #也可以使用位置（Series默认有整数索引，list和ndarray也有）来读取值，类似 字符串、list、ndarray一样的操作"
   ]
  },
  {
   "cell_type": "code",
   "execution_count": 18,
   "metadata": {},
   "outputs": [
    {
     "output_type": "execute_result",
     "data": {
      "text/plain": [
       "a      3\n",
       "b     51\n",
       "c      5\n",
       "d    100\n",
       "e      6\n",
       "dtype: int64"
      ]
     },
     "metadata": {},
     "execution_count": 18
    }
   ],
   "source": [
    "s2['d']=100  #类似 list一样修改值，相关的操作都支持\n",
    "s2"
   ]
  },
  {
   "cell_type": "code",
   "execution_count": 19,
   "metadata": {},
   "outputs": [
    {
     "output_type": "execute_result",
     "data": {
      "text/plain": [
       "a     3\n",
       "b    51\n",
       "c     5\n",
       "dtype: int64"
      ]
     },
     "metadata": {},
     "execution_count": 19
    }
   ],
   "source": [
    "s2[0:3]  #使用切片的方式来读取值，按照位置，类似 字符串、list、ndarray一样的操作"
   ]
  },
  {
   "cell_type": "code",
   "execution_count": 20,
   "metadata": {},
   "outputs": [
    {
     "output_type": "execute_result",
     "data": {
      "text/plain": [
       "Ohio      False\n",
       "Texas     False\n",
       "Orange    False\n",
       "dtype: bool"
      ]
     },
     "metadata": {},
     "execution_count": 20
    }
   ],
   "source": [
    "pd.isnull(s3) #判断空值\n",
    "#pd.notnull(s3) 上面一样功能\n",
    "#s3.isnull()    上面一样功能"
   ]
  },
  {
   "cell_type": "markdown",
   "metadata": {},
   "source": [
    "### DataFrame\n",
    "\n",
    "<img style=\"float: center;\" src=\"img/dataframe.png\" width=600 height=600>\n",
    "二维数组，通过NumPy的数组ndarray可以创建一个DataFrame。\n",
    "\n",
    "* DataFrame可以对应Excel里一个表格，数据库里一张表 "
   ]
  },
  {
   "cell_type": "code",
   "execution_count": 21,
   "metadata": {
    "ExecuteTime": {
     "end_time": "2018-01-13T07:46:47.105287Z",
     "start_time": "2018-01-13T07:46:47.093258Z"
    }
   },
   "outputs": [
    {
     "output_type": "stream",
     "name": "stdout",
     "text": [
      "DatetimeIndex(['2013-01-01', '2013-01-02', '2013-01-03', '2013-01-04',\n               '2013-01-05', '2013-01-06'],\n              dtype='datetime64[ns]', freq='D')\n"
     ]
    },
    {
     "output_type": "execute_result",
     "data": {
      "text/plain": [
       "                   A         B         C         D\n",
       "2013-01-01  0.295626 -1.046529 -2.070924  0.207803\n",
       "2013-01-02  1.593907  1.214734  2.201508 -1.806104\n",
       "2013-01-03  1.372561  1.017685 -1.202874 -0.983028\n",
       "2013-01-04 -0.939182  1.277851 -0.513078  0.178664\n",
       "2013-01-05  0.026390  0.378180  1.677854  2.018240\n",
       "2013-01-06 -0.124400  0.453993  0.218700 -1.646511"
      ],
      "text/html": "<div>\n<style scoped>\n    .dataframe tbody tr th:only-of-type {\n        vertical-align: middle;\n    }\n\n    .dataframe tbody tr th {\n        vertical-align: top;\n    }\n\n    .dataframe thead th {\n        text-align: right;\n    }\n</style>\n<table border=\"1\" class=\"dataframe\">\n  <thead>\n    <tr style=\"text-align: right;\">\n      <th></th>\n      <th>A</th>\n      <th>B</th>\n      <th>C</th>\n      <th>D</th>\n    </tr>\n  </thead>\n  <tbody>\n    <tr>\n      <th>2013-01-01</th>\n      <td>0.295626</td>\n      <td>-1.046529</td>\n      <td>-2.070924</td>\n      <td>0.207803</td>\n    </tr>\n    <tr>\n      <th>2013-01-02</th>\n      <td>1.593907</td>\n      <td>1.214734</td>\n      <td>2.201508</td>\n      <td>-1.806104</td>\n    </tr>\n    <tr>\n      <th>2013-01-03</th>\n      <td>1.372561</td>\n      <td>1.017685</td>\n      <td>-1.202874</td>\n      <td>-0.983028</td>\n    </tr>\n    <tr>\n      <th>2013-01-04</th>\n      <td>-0.939182</td>\n      <td>1.277851</td>\n      <td>-0.513078</td>\n      <td>0.178664</td>\n    </tr>\n    <tr>\n      <th>2013-01-05</th>\n      <td>0.026390</td>\n      <td>0.378180</td>\n      <td>1.677854</td>\n      <td>2.018240</td>\n    </tr>\n    <tr>\n      <th>2013-01-06</th>\n      <td>-0.124400</td>\n      <td>0.453993</td>\n      <td>0.218700</td>\n      <td>-1.646511</td>\n    </tr>\n  </tbody>\n</table>\n</div>"
     },
     "metadata": {},
     "execution_count": 21
    }
   ],
   "source": [
    "dates=pd.date_range('20130101',periods=6)#生成一个时间类型的索引序列\n",
    "print(dates)\n",
    "df=pd.DataFrame(np.random.randn(6,4),index=dates,columns=list('ABCD'))\n",
    "df"
   ]
  },
  {
   "cell_type": "markdown",
   "metadata": {},
   "source": [
    "也可以通过字典来创建DataFrame"
   ]
  },
  {
   "cell_type": "code",
   "execution_count": 22,
   "metadata": {
    "ExecuteTime": {
     "end_time": "2018-01-13T07:46:47.426719Z",
     "start_time": "2018-01-13T07:46:47.412682Z"
    }
   },
   "outputs": [
    {
     "output_type": "stream",
     "name": "stdout",
     "text": [
      "     A          B    C  D      E    F\n0  1.0 2013-01-02  1.0  3   test  foo\n1  1.0 2013-01-02  1.0  3  train  foo\n2  1.0 2013-01-02  1.0  3   test  foo\n3  1.0 2013-01-02  1.0  3  train  foo\n"
     ]
    }
   ],
   "source": [
    "df2=pd.DataFrame({'A':1.,\n",
    "                 'B':pd.Timestamp('20130102'),\n",
    "                 'C':pd.Series(1,index=list(range(4)),dtype='float32'),\n",
    "                 'D':np.array([3]*4,dtype='int32'),\n",
    "                 'E':pd.Categorical(['test','train','test','train']),\n",
    "                 'F':'foo'})\n",
    "print(df2)"
   ]
  },
  {
   "cell_type": "code",
   "execution_count": 23,
   "metadata": {},
   "outputs": [
    {
     "output_type": "execute_result",
     "data": {
      "text/plain": [
       "A           float64\n",
       "B    datetime64[ns]\n",
       "C           float32\n",
       "D             int32\n",
       "E          category\n",
       "F            object\n",
       "dtype: object"
      ]
     },
     "metadata": {},
     "execution_count": 23
    }
   ],
   "source": [
    "df2.dtypes #每一列（column）类型可以不同      ndarray：要求所有数据类型一样"
   ]
  },
  {
   "cell_type": "markdown",
   "metadata": {},
   "source": [
    "* 从 CSV文件里读"
   ]
  },
  {
   "cell_type": "code",
   "execution_count": 24,
   "metadata": {},
   "outputs": [
    {
     "output_type": "stream",
     "name": "stdout",
     "text": [
      "   Student ID    name   age   gender\n0         1100  Kelly     22  Female\n1         1101    Clo     21  Female\n2         1102  Tilly     22  Female\n3         1103   Tony     24    Male\n4         1104  David     20    Male\n5         1105  Catty     22  Female\n6         1106      M      3  Female\n7         1107      N     43    Male\n8         1108      A     13    Male\n9         1109      S     12    Male\n"
     ]
    },
    {
     "output_type": "execute_result",
     "data": {
      "text/plain": [
       "    Student ID    name   age   gender\n",
       "0          1100  Kelly     22  Female\n",
       "1          1101    Clo     21  Female\n",
       "2          1102  Tilly     22  Female\n",
       "3          1103   Tony     24    Male\n",
       "4          1104  David     20    Male\n",
       "5          1105  Catty     22  Female\n",
       "6          1106      M      3  Female\n",
       "7          1107      N     43    Male\n",
       "8          1108      A     13    Male\n",
       "9          1109      S     12    Male\n",
       "10         1110  David     33    Male\n",
       "11         1111     Dw      3  Female\n",
       "12         1112      Q     23    Male\n",
       "13         1113      W     21  Female"
      ],
      "text/html": "<div>\n<style scoped>\n    .dataframe tbody tr th:only-of-type {\n        vertical-align: middle;\n    }\n\n    .dataframe tbody tr th {\n        vertical-align: top;\n    }\n\n    .dataframe thead th {\n        text-align: right;\n    }\n</style>\n<table border=\"1\" class=\"dataframe\">\n  <thead>\n    <tr style=\"text-align: right;\">\n      <th></th>\n      <th>Student ID</th>\n      <th>name</th>\n      <th>age</th>\n      <th>gender</th>\n    </tr>\n  </thead>\n  <tbody>\n    <tr>\n      <th>0</th>\n      <td>1100</td>\n      <td>Kelly</td>\n      <td>22</td>\n      <td>Female</td>\n    </tr>\n    <tr>\n      <th>1</th>\n      <td>1101</td>\n      <td>Clo</td>\n      <td>21</td>\n      <td>Female</td>\n    </tr>\n    <tr>\n      <th>2</th>\n      <td>1102</td>\n      <td>Tilly</td>\n      <td>22</td>\n      <td>Female</td>\n    </tr>\n    <tr>\n      <th>3</th>\n      <td>1103</td>\n      <td>Tony</td>\n      <td>24</td>\n      <td>Male</td>\n    </tr>\n    <tr>\n      <th>4</th>\n      <td>1104</td>\n      <td>David</td>\n      <td>20</td>\n      <td>Male</td>\n    </tr>\n    <tr>\n      <th>5</th>\n      <td>1105</td>\n      <td>Catty</td>\n      <td>22</td>\n      <td>Female</td>\n    </tr>\n    <tr>\n      <th>6</th>\n      <td>1106</td>\n      <td>M</td>\n      <td>3</td>\n      <td>Female</td>\n    </tr>\n    <tr>\n      <th>7</th>\n      <td>1107</td>\n      <td>N</td>\n      <td>43</td>\n      <td>Male</td>\n    </tr>\n    <tr>\n      <th>8</th>\n      <td>1108</td>\n      <td>A</td>\n      <td>13</td>\n      <td>Male</td>\n    </tr>\n    <tr>\n      <th>9</th>\n      <td>1109</td>\n      <td>S</td>\n      <td>12</td>\n      <td>Male</td>\n    </tr>\n    <tr>\n      <th>10</th>\n      <td>1110</td>\n      <td>David</td>\n      <td>33</td>\n      <td>Male</td>\n    </tr>\n    <tr>\n      <th>11</th>\n      <td>1111</td>\n      <td>Dw</td>\n      <td>3</td>\n      <td>Female</td>\n    </tr>\n    <tr>\n      <th>12</th>\n      <td>1112</td>\n      <td>Q</td>\n      <td>23</td>\n      <td>Male</td>\n    </tr>\n    <tr>\n      <th>13</th>\n      <td>1113</td>\n      <td>W</td>\n      <td>21</td>\n      <td>Female</td>\n    </tr>\n  </tbody>\n</table>\n</div>"
     },
     "metadata": {},
     "execution_count": 24
    }
   ],
   "source": [
    "student_df=pd.read_csv('data/student.csv')\n",
    "print(student_df[:10])\n",
    "student_df"
   ]
  },
  {
   "cell_type": "markdown",
   "metadata": {
    "ExecuteTime": {
     "end_time": "2018-01-09T03:20:11.361273Z",
     "start_time": "2018-01-09T03:20:11.356261Z"
    }
   },
   "source": [
    "### 查看数据\n",
    "查看数据的顶部和底部"
   ]
  },
  {
   "cell_type": "code",
   "execution_count": 25,
   "metadata": {
    "ExecuteTime": {
     "end_time": "2018-01-13T07:46:48.033330Z",
     "start_time": "2018-01-13T07:46:48.024337Z"
    }
   },
   "outputs": [
    {
     "output_type": "stream",
     "name": "stdout",
     "text": [
      "   Student ID    name   age   gender\n0         1100  Kelly     22  Female\n1         1101    Clo     21  Female\n2         1102  Tilly     22  Female\n    Student ID    name   age   gender\n9          1109      S     12    Male\n10         1110  David     33    Male\n11         1111     Dw      3  Female\n12         1112      Q     23    Male\n13         1113      W     21  Female\n"
     ]
    }
   ],
   "source": [
    "print(student_df.head(3)) \n",
    "print(student_df.tail(5))"
   ]
  },
  {
   "cell_type": "markdown",
   "metadata": {},
   "source": [
    "查看索引，列名，以及纯的NumPy数据"
   ]
  },
  {
   "cell_type": "code",
   "execution_count": 26,
   "metadata": {
    "ExecuteTime": {
     "end_time": "2018-01-13T07:46:48.406942Z",
     "start_time": "2018-01-13T07:46:48.399922Z"
    }
   },
   "outputs": [
    {
     "output_type": "stream",
     "name": "stdout",
     "text": [
      "RangeIndex(start=0, stop=14, step=1)\nIndex(['Student ID ', 'name ', 'age ', 'gender'], dtype='object')\n[[1100 'Kelly ' 22 'Female']\n [1101 'Clo ' 21 'Female']\n [1102 'Tilly ' 22 'Female']\n [1103 'Tony ' 24 'Male']\n [1104 'David ' 20 'Male']\n [1105 'Catty ' 22 'Female']\n [1106 'M ' 3 'Female']\n [1107 'N ' 43 'Male']\n [1108 'A ' 13 'Male']\n [1109 'S ' 12 'Male']\n [1110 'David ' 33 'Male']\n [1111 'Dw ' 3 'Female']\n [1112 'Q ' 23 'Male']\n [1113 'W ' 21 'Female']]\n"
     ]
    }
   ],
   "source": [
    "print(student_df.index)\n",
    "print(student_df.columns)\n",
    "print(student_df.values)"
   ]
  },
  {
   "cell_type": "markdown",
   "metadata": {},
   "source": [
    "```DataFrame.describe()```提供了便捷的数据统计\n",
    "\n",
    "1、count：返回数组的个数，如上述为4个元素，所以返回为4；\n",
    "\n",
    "2、mean：返回数组的平均e79fa5e98193e59b9ee7ad9431333433623135值，1 3 5 9的平均值为4.5；\n",
    "\n",
    "3、std：返回数组的标准差；\n",
    "\n",
    "4、min：返回数组的最小值；\n",
    "\n",
    "5、25%，50%，75%：返回数组的三个不同百分位置的数值，也就是统计学中的四分位数。\n",
    "\n",
    "6、 max：最大值"
   ]
  },
  {
   "cell_type": "code",
   "execution_count": 27,
   "metadata": {
    "ExecuteTime": {
     "end_time": "2018-01-13T07:46:48.714876Z",
     "start_time": "2018-01-13T07:46:48.693822Z"
    },
    "scrolled": true
   },
   "outputs": [
    {
     "output_type": "stream",
     "name": "stdout",
     "text": [
      "    Student ID    name   age   gender\n0          1100  Kelly     22  Female\n1          1101    Clo     21  Female\n2          1102  Tilly     22  Female\n3          1103   Tony     24    Male\n4          1104  David     20    Male\n5          1105  Catty     22  Female\n6          1106      M      3  Female\n7          1107      N     43    Male\n8          1108      A     13    Male\n9          1109      S     12    Male\n10         1110  David     33    Male\n11         1111     Dw      3  Female\n12         1112      Q     23    Male\n13         1113      W     21  Female\n       Student ID        age \ncount      14.0000  14.000000\nmean     1106.5000  20.142857\nstd         4.1833  10.479703\nmin      1100.0000   3.000000\n25%      1103.2500  14.750000\n50%      1106.5000  21.500000\n75%      1109.7500  22.750000\nmax      1113.0000  43.000000\n"
     ]
    }
   ],
   "source": [
    "print(student_df)\n",
    "print(student_df.describe())# 描述性统计"
   ]
  },
  {
   "cell_type": "markdown",
   "metadata": {},
   "source": [
    "转置矩阵"
   ]
  },
  {
   "cell_type": "code",
   "execution_count": 28,
   "metadata": {},
   "outputs": [
    {
     "output_type": "execute_result",
     "data": {
      "text/plain": [
       "                   A         B         C         D\n",
       "2013-01-01  0.295626 -1.046529 -2.070924  0.207803\n",
       "2013-01-02  1.593907  1.214734  2.201508 -1.806104\n",
       "2013-01-03  1.372561  1.017685 -1.202874 -0.983028\n",
       "2013-01-04 -0.939182  1.277851 -0.513078  0.178664\n",
       "2013-01-05  0.026390  0.378180  1.677854  2.018240\n",
       "2013-01-06 -0.124400  0.453993  0.218700 -1.646511"
      ],
      "text/html": "<div>\n<style scoped>\n    .dataframe tbody tr th:only-of-type {\n        vertical-align: middle;\n    }\n\n    .dataframe tbody tr th {\n        vertical-align: top;\n    }\n\n    .dataframe thead th {\n        text-align: right;\n    }\n</style>\n<table border=\"1\" class=\"dataframe\">\n  <thead>\n    <tr style=\"text-align: right;\">\n      <th></th>\n      <th>A</th>\n      <th>B</th>\n      <th>C</th>\n      <th>D</th>\n    </tr>\n  </thead>\n  <tbody>\n    <tr>\n      <th>2013-01-01</th>\n      <td>0.295626</td>\n      <td>-1.046529</td>\n      <td>-2.070924</td>\n      <td>0.207803</td>\n    </tr>\n    <tr>\n      <th>2013-01-02</th>\n      <td>1.593907</td>\n      <td>1.214734</td>\n      <td>2.201508</td>\n      <td>-1.806104</td>\n    </tr>\n    <tr>\n      <th>2013-01-03</th>\n      <td>1.372561</td>\n      <td>1.017685</td>\n      <td>-1.202874</td>\n      <td>-0.983028</td>\n    </tr>\n    <tr>\n      <th>2013-01-04</th>\n      <td>-0.939182</td>\n      <td>1.277851</td>\n      <td>-0.513078</td>\n      <td>0.178664</td>\n    </tr>\n    <tr>\n      <th>2013-01-05</th>\n      <td>0.026390</td>\n      <td>0.378180</td>\n      <td>1.677854</td>\n      <td>2.018240</td>\n    </tr>\n    <tr>\n      <th>2013-01-06</th>\n      <td>-0.124400</td>\n      <td>0.453993</td>\n      <td>0.218700</td>\n      <td>-1.646511</td>\n    </tr>\n  </tbody>\n</table>\n</div>"
     },
     "metadata": {},
     "execution_count": 28
    }
   ],
   "source": [
    "df  #再回到最开始创建的那个DataFrame，这个数据好演示"
   ]
  },
  {
   "cell_type": "code",
   "execution_count": 29,
   "metadata": {
    "ExecuteTime": {
     "end_time": "2018-01-13T07:46:49.018446Z",
     "start_time": "2018-01-13T07:46:49.008420Z"
    }
   },
   "outputs": [
    {
     "output_type": "stream",
     "name": "stdout",
     "text": [
      "   2013-01-01  2013-01-02  2013-01-03  2013-01-04  2013-01-05  2013-01-06\nA    0.295626    1.593907    1.372561   -0.939182    0.026390   -0.124400\nB   -1.046529    1.214734    1.017685    1.277851    0.378180    0.453993\nC   -2.070924    2.201508   -1.202874   -0.513078    1.677854    0.218700\nD    0.207803   -1.806104   -0.983028    0.178664    2.018240   -1.646511\n"
     ]
    },
    {
     "output_type": "execute_result",
     "data": {
      "text/plain": [
       "       2013-01-01  2013-01-02  2013-01-03  2013-01-04  2013-01-05  2013-01-06\n",
       "count    4.000000    4.000000    4.000000    4.000000    4.000000    4.000000\n",
       "mean    -0.653506    0.801011    0.051086    0.001064    1.025166   -0.274555\n",
       "std      1.126387    1.784964    1.331968    0.967838    0.970969    0.944968\n",
       "min     -2.070924   -1.806104   -1.202874   -0.939182    0.026390   -1.646511\n",
       "25%     -1.302627    0.459525   -1.037990   -0.619604    0.290232   -0.504928\n",
       "50%     -0.419363    1.404321    0.017328   -0.167207    1.028017    0.047150\n",
       "75%      0.229759    1.745807    1.106404    0.453461    1.762950    0.277523\n",
       "max      0.295626    2.201508    1.372561    1.277851    2.018240    0.453993"
      ],
      "text/html": "<div>\n<style scoped>\n    .dataframe tbody tr th:only-of-type {\n        vertical-align: middle;\n    }\n\n    .dataframe tbody tr th {\n        vertical-align: top;\n    }\n\n    .dataframe thead th {\n        text-align: right;\n    }\n</style>\n<table border=\"1\" class=\"dataframe\">\n  <thead>\n    <tr style=\"text-align: right;\">\n      <th></th>\n      <th>2013-01-01</th>\n      <th>2013-01-02</th>\n      <th>2013-01-03</th>\n      <th>2013-01-04</th>\n      <th>2013-01-05</th>\n      <th>2013-01-06</th>\n    </tr>\n  </thead>\n  <tbody>\n    <tr>\n      <th>count</th>\n      <td>4.000000</td>\n      <td>4.000000</td>\n      <td>4.000000</td>\n      <td>4.000000</td>\n      <td>4.000000</td>\n      <td>4.000000</td>\n    </tr>\n    <tr>\n      <th>mean</th>\n      <td>-0.653506</td>\n      <td>0.801011</td>\n      <td>0.051086</td>\n      <td>0.001064</td>\n      <td>1.025166</td>\n      <td>-0.274555</td>\n    </tr>\n    <tr>\n      <th>std</th>\n      <td>1.126387</td>\n      <td>1.784964</td>\n      <td>1.331968</td>\n      <td>0.967838</td>\n      <td>0.970969</td>\n      <td>0.944968</td>\n    </tr>\n    <tr>\n      <th>min</th>\n      <td>-2.070924</td>\n      <td>-1.806104</td>\n      <td>-1.202874</td>\n      <td>-0.939182</td>\n      <td>0.026390</td>\n      <td>-1.646511</td>\n    </tr>\n    <tr>\n      <th>25%</th>\n      <td>-1.302627</td>\n      <td>0.459525</td>\n      <td>-1.037990</td>\n      <td>-0.619604</td>\n      <td>0.290232</td>\n      <td>-0.504928</td>\n    </tr>\n    <tr>\n      <th>50%</th>\n      <td>-0.419363</td>\n      <td>1.404321</td>\n      <td>0.017328</td>\n      <td>-0.167207</td>\n      <td>1.028017</td>\n      <td>0.047150</td>\n    </tr>\n    <tr>\n      <th>75%</th>\n      <td>0.229759</td>\n      <td>1.745807</td>\n      <td>1.106404</td>\n      <td>0.453461</td>\n      <td>1.762950</td>\n      <td>0.277523</td>\n    </tr>\n    <tr>\n      <th>max</th>\n      <td>0.295626</td>\n      <td>2.201508</td>\n      <td>1.372561</td>\n      <td>1.277851</td>\n      <td>2.018240</td>\n      <td>0.453993</td>\n    </tr>\n  </tbody>\n</table>\n</div>"
     },
     "metadata": {},
     "execution_count": 29
    }
   ],
   "source": [
    "df1=df.T \n",
    "print(df1)\n",
    "df1.describe()"
   ]
  },
  {
   "cell_type": "markdown",
   "metadata": {},
   "source": [
    "沿某一轴排序"
   ]
  },
  {
   "cell_type": "code",
   "execution_count": 30,
   "metadata": {
    "ExecuteTime": {
     "end_time": "2018-01-13T07:46:49.328897Z",
     "start_time": "2018-01-13T07:46:49.319897Z"
    }
   },
   "outputs": [
    {
     "output_type": "stream",
     "name": "stdout",
     "text": [
      "                   A         B         C         D\n2013-01-06 -0.124400  0.453993  0.218700 -1.646511\n2013-01-05  0.026390  0.378180  1.677854  2.018240\n2013-01-04 -0.939182  1.277851 -0.513078  0.178664\n2013-01-03  1.372561  1.017685 -1.202874 -0.983028\n2013-01-02  1.593907  1.214734  2.201508 -1.806104\n2013-01-01  0.295626 -1.046529 -2.070924  0.207803\n"
     ]
    }
   ],
   "source": [
    "print(df.sort_index(axis=0,ascending=False))  #axis=0 表示行索引排序 ，axis=1 表示列操作"
   ]
  },
  {
   "cell_type": "code",
   "execution_count": 31,
   "metadata": {},
   "outputs": [
    {
     "output_type": "stream",
     "text": [
      "\u001b[0;31mSignature:\u001b[0m\n",
      "\u001b[0mdf\u001b[0m\u001b[0;34m.\u001b[0m\u001b[0msort_index\u001b[0m\u001b[0;34m(\u001b[0m\u001b[0;34m\u001b[0m\n",
      "\u001b[0;34m\u001b[0m    \u001b[0maxis\u001b[0m\u001b[0;34m=\u001b[0m\u001b[0;36m0\u001b[0m\u001b[0;34m,\u001b[0m\u001b[0;34m\u001b[0m\n",
      "\u001b[0;34m\u001b[0m    \u001b[0mlevel\u001b[0m\u001b[0;34m=\u001b[0m\u001b[0;32mNone\u001b[0m\u001b[0;34m,\u001b[0m\u001b[0;34m\u001b[0m\n",
      "\u001b[0;34m\u001b[0m    \u001b[0mascending\u001b[0m\u001b[0;34m:\u001b[0m \u001b[0mbool\u001b[0m \u001b[0;34m=\u001b[0m \u001b[0;32mTrue\u001b[0m\u001b[0;34m,\u001b[0m\u001b[0;34m\u001b[0m\n",
      "\u001b[0;34m\u001b[0m    \u001b[0minplace\u001b[0m\u001b[0;34m:\u001b[0m \u001b[0mbool\u001b[0m \u001b[0;34m=\u001b[0m \u001b[0;32mFalse\u001b[0m\u001b[0;34m,\u001b[0m\u001b[0;34m\u001b[0m\n",
      "\u001b[0;34m\u001b[0m    \u001b[0mkind\u001b[0m\u001b[0;34m:\u001b[0m \u001b[0mstr\u001b[0m \u001b[0;34m=\u001b[0m \u001b[0;34m'quicksort'\u001b[0m\u001b[0;34m,\u001b[0m\u001b[0;34m\u001b[0m\n",
      "\u001b[0;34m\u001b[0m    \u001b[0mna_position\u001b[0m\u001b[0;34m:\u001b[0m \u001b[0mstr\u001b[0m \u001b[0;34m=\u001b[0m \u001b[0;34m'last'\u001b[0m\u001b[0;34m,\u001b[0m\u001b[0;34m\u001b[0m\n",
      "\u001b[0;34m\u001b[0m    \u001b[0msort_remaining\u001b[0m\u001b[0;34m:\u001b[0m \u001b[0mbool\u001b[0m \u001b[0;34m=\u001b[0m \u001b[0;32mTrue\u001b[0m\u001b[0;34m,\u001b[0m\u001b[0;34m\u001b[0m\n",
      "\u001b[0;34m\u001b[0m    \u001b[0mignore_index\u001b[0m\u001b[0;34m:\u001b[0m \u001b[0mbool\u001b[0m \u001b[0;34m=\u001b[0m \u001b[0;32mFalse\u001b[0m\u001b[0;34m,\u001b[0m\u001b[0;34m\u001b[0m\n",
      "\u001b[0;34m\u001b[0m    \u001b[0mkey\u001b[0m\u001b[0;34m:\u001b[0m \u001b[0mUnion\u001b[0m\u001b[0;34m[\u001b[0m\u001b[0mCallable\u001b[0m\u001b[0;34m[\u001b[0m\u001b[0;34m[\u001b[0m\u001b[0mForwardRef\u001b[0m\u001b[0;34m(\u001b[0m\u001b[0;34m'Index'\u001b[0m\u001b[0;34m)\u001b[0m\u001b[0;34m]\u001b[0m\u001b[0;34m,\u001b[0m \u001b[0mUnion\u001b[0m\u001b[0;34m[\u001b[0m\u001b[0mForwardRef\u001b[0m\u001b[0;34m(\u001b[0m\u001b[0;34m'Index'\u001b[0m\u001b[0;34m)\u001b[0m\u001b[0;34m,\u001b[0m \u001b[0;34m~\u001b[0m\u001b[0mAnyArrayLike\u001b[0m\u001b[0;34m]\u001b[0m\u001b[0;34m]\u001b[0m\u001b[0;34m,\u001b[0m \u001b[0mNoneType\u001b[0m\u001b[0;34m]\u001b[0m \u001b[0;34m=\u001b[0m \u001b[0;32mNone\u001b[0m\u001b[0;34m,\u001b[0m\u001b[0;34m\u001b[0m\n",
      "\u001b[0;34m\u001b[0m\u001b[0;34m)\u001b[0m\u001b[0;34m\u001b[0m\u001b[0;34m\u001b[0m\u001b[0m\n",
      "\u001b[0;31mDocstring:\u001b[0m\n",
      "Sort object by labels (along an axis).\n",
      "\n",
      "Returns a new DataFrame sorted by label if `inplace` argument is\n",
      "``False``, otherwise updates the original DataFrame and returns None.\n",
      "\n",
      "Parameters\n",
      "----------\n",
      "axis : {0 or 'index', 1 or 'columns'}, default 0\n",
      "    The axis along which to sort.  The value 0 identifies the rows,\n",
      "    and 1 identifies the columns.\n",
      "level : int or level name or list of ints or list of level names\n",
      "    If not None, sort on values in specified index level(s).\n",
      "ascending : bool or list of bools, default True\n",
      "    Sort ascending vs. descending. When the index is a MultiIndex the\n",
      "    sort direction can be controlled for each level individually.\n",
      "inplace : bool, default False\n",
      "    If True, perform operation in-place.\n",
      "kind : {'quicksort', 'mergesort', 'heapsort'}, default 'quicksort'\n",
      "    Choice of sorting algorithm. See also ndarray.np.sort for more\n",
      "    information.  `mergesort` is the only stable algorithm. For\n",
      "    DataFrames, this option is only applied when sorting on a single\n",
      "    column or label.\n",
      "na_position : {'first', 'last'}, default 'last'\n",
      "    Puts NaNs at the beginning if `first`; `last` puts NaNs at the end.\n",
      "    Not implemented for MultiIndex.\n",
      "sort_remaining : bool, default True\n",
      "    If True and sorting by level and index is multilevel, sort by other\n",
      "    levels too (in order) after sorting by specified level.\n",
      "ignore_index : bool, default False\n",
      "    If True, the resulting axis will be labeled 0, 1, …, n - 1.\n",
      "\n",
      "    .. versionadded:: 1.0.0\n",
      "\n",
      "key : callable, optional\n",
      "    If not None, apply the key function to the index values\n",
      "    before sorting. This is similar to the `key` argument in the\n",
      "    builtin :meth:`sorted` function, with the notable difference that\n",
      "    this `key` function should be *vectorized*. It should expect an\n",
      "    ``Index`` and return an ``Index`` of the same shape. For MultiIndex\n",
      "    inputs, the key is applied *per level*.\n",
      "\n",
      "    .. versionadded:: 1.1.0\n",
      "\n",
      "Returns\n",
      "-------\n",
      "DataFrame\n",
      "    The original DataFrame sorted by the labels.\n",
      "\n",
      "See Also\n",
      "--------\n",
      "Series.sort_index : Sort Series by the index.\n",
      "DataFrame.sort_values : Sort DataFrame by the value.\n",
      "Series.sort_values : Sort Series by the value.\n",
      "\n",
      "Examples\n",
      "--------\n",
      ">>> df = pd.DataFrame([1, 2, 3, 4, 5], index=[100, 29, 234, 1, 150],\n",
      "...                   columns=['A'])\n",
      ">>> df.sort_index()\n",
      "     A\n",
      "1    4\n",
      "29   2\n",
      "100  1\n",
      "150  5\n",
      "234  3\n",
      "\n",
      "By default, it sorts in ascending order, to sort in descending order,\n",
      "use ``ascending=False``\n",
      "\n",
      ">>> df.sort_index(ascending=False)\n",
      "     A\n",
      "234  3\n",
      "150  5\n",
      "100  1\n",
      "29   2\n",
      "1    4\n",
      "\n",
      "A key function can be specified which is applied to the index before\n",
      "sorting. For a ``MultiIndex`` this is applied to each level separately.\n",
      "\n",
      ">>> df = pd.DataFrame({\"a\": [1, 2, 3, 4]}, index=['A', 'b', 'C', 'd'])\n",
      ">>> df.sort_index(key=lambda x: x.str.lower())\n",
      "   a\n",
      "A  1\n",
      "b  2\n",
      "C  3\n",
      "d  4\n",
      "\u001b[0;31mFile:\u001b[0m      ~/opt/anaconda3/lib/python3.8/site-packages/pandas/core/frame.py\n",
      "\u001b[0;31mType:\u001b[0m      method\n"
     ],
     "name": "stdout"
    }
   ],
   "source": [
    "df.sort_index?"
   ]
  },
  {
   "cell_type": "markdown",
   "metadata": {},
   "source": [
    "按照值进行排序"
   ]
  },
  {
   "cell_type": "code",
   "execution_count": 32,
   "metadata": {
    "ExecuteTime": {
     "end_time": "2018-01-13T07:46:49.682760Z",
     "start_time": "2018-01-13T07:46:49.672733Z"
    },
    "scrolled": true
   },
   "outputs": [
    {
     "output_type": "stream",
     "name": "stdout",
     "text": [
      "                   A         B         C         D\n2013-01-04 -0.939182  1.277851 -0.513078  0.178664\n2013-01-06 -0.124400  0.453993  0.218700 -1.646511\n2013-01-05  0.026390  0.378180  1.677854  2.018240\n2013-01-01  0.295626 -1.046529 -2.070924  0.207803\n2013-01-03  1.372561  1.017685 -1.202874 -0.983028\n2013-01-02  1.593907  1.214734  2.201508 -1.806104\n"
     ]
    }
   ],
   "source": [
    "print(df.sort_values(by='A'))  # 每一行是同时排序"
   ]
  },
  {
   "cell_type": "markdown",
   "metadata": {},
   "source": [
    "### 数据选择\n",
    "\n",
    "类似Excel中选择一部分数据\n",
    "\n",
    "**注意：**尽管Python标准库和NumPy的语句在选择和设置数据时更直观和方便交互。但是在生产环境中，我们更建议使用Pandas的数据访问函数：```.at, .iat, .loc, .iloc```\n",
    "\n",
    "#### 数据获取\n",
    "选择一列，返回Series。等同于df.A"
   ]
  },
  {
   "cell_type": "code",
   "execution_count": 33,
   "metadata": {},
   "outputs": [
    {
     "output_type": "execute_result",
     "data": {
      "text/plain": [
       "                   A         B         C         D\n",
       "2013-01-01  0.295626 -1.046529 -2.070924  0.207803\n",
       "2013-01-02  1.593907  1.214734  2.201508 -1.806104\n",
       "2013-01-03  1.372561  1.017685 -1.202874 -0.983028\n",
       "2013-01-04 -0.939182  1.277851 -0.513078  0.178664\n",
       "2013-01-05  0.026390  0.378180  1.677854  2.018240\n",
       "2013-01-06 -0.124400  0.453993  0.218700 -1.646511"
      ],
      "text/html": "<div>\n<style scoped>\n    .dataframe tbody tr th:only-of-type {\n        vertical-align: middle;\n    }\n\n    .dataframe tbody tr th {\n        vertical-align: top;\n    }\n\n    .dataframe thead th {\n        text-align: right;\n    }\n</style>\n<table border=\"1\" class=\"dataframe\">\n  <thead>\n    <tr style=\"text-align: right;\">\n      <th></th>\n      <th>A</th>\n      <th>B</th>\n      <th>C</th>\n      <th>D</th>\n    </tr>\n  </thead>\n  <tbody>\n    <tr>\n      <th>2013-01-01</th>\n      <td>0.295626</td>\n      <td>-1.046529</td>\n      <td>-2.070924</td>\n      <td>0.207803</td>\n    </tr>\n    <tr>\n      <th>2013-01-02</th>\n      <td>1.593907</td>\n      <td>1.214734</td>\n      <td>2.201508</td>\n      <td>-1.806104</td>\n    </tr>\n    <tr>\n      <th>2013-01-03</th>\n      <td>1.372561</td>\n      <td>1.017685</td>\n      <td>-1.202874</td>\n      <td>-0.983028</td>\n    </tr>\n    <tr>\n      <th>2013-01-04</th>\n      <td>-0.939182</td>\n      <td>1.277851</td>\n      <td>-0.513078</td>\n      <td>0.178664</td>\n    </tr>\n    <tr>\n      <th>2013-01-05</th>\n      <td>0.026390</td>\n      <td>0.378180</td>\n      <td>1.677854</td>\n      <td>2.018240</td>\n    </tr>\n    <tr>\n      <th>2013-01-06</th>\n      <td>-0.124400</td>\n      <td>0.453993</td>\n      <td>0.218700</td>\n      <td>-1.646511</td>\n    </tr>\n  </tbody>\n</table>\n</div>"
     },
     "metadata": {},
     "execution_count": 33
    }
   ],
   "source": [
    "df"
   ]
  },
  {
   "cell_type": "code",
   "execution_count": 34,
   "metadata": {
    "ExecuteTime": {
     "end_time": "2018-01-13T07:46:50.050583Z",
     "start_time": "2018-01-13T07:46:50.038517Z"
    }
   },
   "outputs": [
    {
     "output_type": "execute_result",
     "data": {
      "text/plain": [
       "                   A         B\n",
       "2013-01-01  0.295626 -1.046529\n",
       "2013-01-02  1.593907  1.214734\n",
       "2013-01-03  1.372561  1.017685\n",
       "2013-01-04 -0.939182  1.277851\n",
       "2013-01-05  0.026390  0.378180\n",
       "2013-01-06 -0.124400  0.453993"
      ],
      "text/html": "<div>\n<style scoped>\n    .dataframe tbody tr th:only-of-type {\n        vertical-align: middle;\n    }\n\n    .dataframe tbody tr th {\n        vertical-align: top;\n    }\n\n    .dataframe thead th {\n        text-align: right;\n    }\n</style>\n<table border=\"1\" class=\"dataframe\">\n  <thead>\n    <tr style=\"text-align: right;\">\n      <th></th>\n      <th>A</th>\n      <th>B</th>\n    </tr>\n  </thead>\n  <tbody>\n    <tr>\n      <th>2013-01-01</th>\n      <td>0.295626</td>\n      <td>-1.046529</td>\n    </tr>\n    <tr>\n      <th>2013-01-02</th>\n      <td>1.593907</td>\n      <td>1.214734</td>\n    </tr>\n    <tr>\n      <th>2013-01-03</th>\n      <td>1.372561</td>\n      <td>1.017685</td>\n    </tr>\n    <tr>\n      <th>2013-01-04</th>\n      <td>-0.939182</td>\n      <td>1.277851</td>\n    </tr>\n    <tr>\n      <th>2013-01-05</th>\n      <td>0.026390</td>\n      <td>0.378180</td>\n    </tr>\n    <tr>\n      <th>2013-01-06</th>\n      <td>-0.124400</td>\n      <td>0.453993</td>\n    </tr>\n  </tbody>\n</table>\n</div>"
     },
     "metadata": {},
     "execution_count": 34
    }
   ],
   "source": [
    "dataframe2=df[['A','B']]#列名\n",
    "dataframe2"
   ]
  },
  {
   "cell_type": "markdown",
   "metadata": {
    "ExecuteTime": {
     "end_time": "2018-01-09T06:24:49.301694Z",
     "start_time": "2018-01-09T06:24:49.293642Z"
    }
   },
   "source": [
    "使用```[]```来切分多行数据，按行切分"
   ]
  },
  {
   "cell_type": "code",
   "execution_count": 35,
   "metadata": {
    "ExecuteTime": {
     "end_time": "2018-01-13T07:46:50.386679Z",
     "start_time": "2018-01-13T07:46:50.375687Z"
    }
   },
   "outputs": [
    {
     "output_type": "stream",
     "name": "stdout",
     "text": [
      "                   A         B         C         D\n2013-01-01  0.295626 -1.046529 -2.070924  0.207803\n2013-01-02  1.593907  1.214734  2.201508 -1.806104\n2013-01-03  1.372561  1.017685 -1.202874 -0.983028\n                   A         B         C         D\n2013-01-02  1.593907  1.214734  2.201508 -1.806104\n2013-01-03  1.372561  1.017685 -1.202874 -0.983028\n2013-01-04 -0.939182  1.277851 -0.513078  0.178664\n"
     ]
    }
   ],
   "source": [
    "print(df[0:3])   # 按照位置来取值，后面不包含\n",
    "print(df['20130102':'20130104'])  # 按照索引标签来取值，两头都包含\n"
   ]
  },
  {
   "cell_type": "markdown",
   "metadata": {},
   "source": [
    "#### 根据标签选择 loc\n",
    "使用标签（index的名字，coloumn的名字）来得到特定的一行,loc根据两个方向的index来选取，行列通过逗号隔开"
   ]
  },
  {
   "cell_type": "code",
   "execution_count": 36,
   "metadata": {
    "ExecuteTime": {
     "end_time": "2018-01-13T07:46:50.716513Z",
     "start_time": "2018-01-13T07:46:50.710495Z"
    }
   },
   "outputs": [
    {
     "output_type": "execute_result",
     "data": {
      "text/plain": [
       "A    0.295626\n",
       "B   -1.046529\n",
       "C   -2.070924\n",
       "D    0.207803\n",
       "Name: 2013-01-01 00:00:00, dtype: float64"
      ]
     },
     "metadata": {},
     "execution_count": 36
    }
   ],
   "source": [
    "#dates 是 df的 index\n",
    "df.loc['2013-01-01']"
   ]
  },
  {
   "cell_type": "markdown",
   "metadata": {},
   "source": [
    "使用标签来得到多个指定的列"
   ]
  },
  {
   "cell_type": "code",
   "execution_count": 37,
   "metadata": {
    "ExecuteTime": {
     "end_time": "2018-01-13T07:46:51.029548Z",
     "start_time": "2018-01-13T07:46:51.022530Z"
    }
   },
   "outputs": [
    {
     "output_type": "stream",
     "name": "stdout",
     "text": [
      "                   A         B\n2013-01-02  1.593907  1.214734\n2013-01-03  1.372561  1.017685\n2013-01-04 -0.939182  1.277851\n"
     ]
    }
   ],
   "source": [
    "print(df.loc[ '20130102':'20130104',  ['A','B']]) "
   ]
  },
  {
   "cell_type": "markdown",
   "metadata": {},
   "source": [
    "用标签来切片时，**端点的值都是被包含在内的** (和字符串按位置的切片不同)"
   ]
  },
  {
   "cell_type": "code",
   "execution_count": null,
   "metadata": {
    "ExecuteTime": {
     "end_time": "2018-01-13T07:46:51.384300Z",
     "start_time": "2018-01-13T07:46:51.375251Z"
    }
   },
   "outputs": [],
   "source": [
    "print(df.loc['20130102':'20130104',['A']])"
   ]
  },
  {
   "cell_type": "markdown",
   "metadata": {
    "ExecuteTime": {
     "end_time": "2018-01-09T06:50:46.866941Z",
     "start_time": "2018-01-09T06:50:46.851903Z"
    }
   },
   "source": [
    "选择的返回值可以降低维度"
   ]
  },
  {
   "cell_type": "code",
   "execution_count": 38,
   "metadata": {
    "ExecuteTime": {
     "end_time": "2018-01-13T07:46:51.710760Z",
     "start_time": "2018-01-13T07:46:51.701723Z"
    }
   },
   "outputs": [
    {
     "output_type": "execute_result",
     "data": {
      "text/plain": [
       "A    1.593907\n",
       "B    1.214734\n",
       "Name: 2013-01-02 00:00:00, dtype: float64"
      ]
     },
     "metadata": {},
     "execution_count": 38
    }
   ],
   "source": [
    "df.loc['20130102',['A','B']]"
   ]
  },
  {
   "cell_type": "code",
   "execution_count": 39,
   "metadata": {},
   "outputs": [
    {
     "output_type": "execute_result",
     "data": {
      "text/plain": [
       "                A      B      C      D\n",
       "2013-01-01  False  False  False  False\n",
       "2013-01-02  False  False  False  False\n",
       "2013-01-03  False  False  False  False\n",
       "2013-01-04  False  False  False  False\n",
       "2013-01-05  False  False  False  False\n",
       "2013-01-06  False  False  False  False"
      ],
      "text/html": "<div>\n<style scoped>\n    .dataframe tbody tr th:only-of-type {\n        vertical-align: middle;\n    }\n\n    .dataframe tbody tr th {\n        vertical-align: top;\n    }\n\n    .dataframe thead th {\n        text-align: right;\n    }\n</style>\n<table border=\"1\" class=\"dataframe\">\n  <thead>\n    <tr style=\"text-align: right;\">\n      <th></th>\n      <th>A</th>\n      <th>B</th>\n      <th>C</th>\n      <th>D</th>\n    </tr>\n  </thead>\n  <tbody>\n    <tr>\n      <th>2013-01-01</th>\n      <td>False</td>\n      <td>False</td>\n      <td>False</td>\n      <td>False</td>\n    </tr>\n    <tr>\n      <th>2013-01-02</th>\n      <td>False</td>\n      <td>False</td>\n      <td>False</td>\n      <td>False</td>\n    </tr>\n    <tr>\n      <th>2013-01-03</th>\n      <td>False</td>\n      <td>False</td>\n      <td>False</td>\n      <td>False</td>\n    </tr>\n    <tr>\n      <th>2013-01-04</th>\n      <td>False</td>\n      <td>False</td>\n      <td>False</td>\n      <td>False</td>\n    </tr>\n    <tr>\n      <th>2013-01-05</th>\n      <td>False</td>\n      <td>False</td>\n      <td>False</td>\n      <td>False</td>\n    </tr>\n    <tr>\n      <th>2013-01-06</th>\n      <td>False</td>\n      <td>False</td>\n      <td>False</td>\n      <td>False</td>\n    </tr>\n  </tbody>\n</table>\n</div>"
     },
     "metadata": {},
     "execution_count": 39
    }
   ],
   "source": [
    "df.isnull()"
   ]
  },
  {
   "cell_type": "markdown",
   "metadata": {
    "ExecuteTime": {
     "end_time": "2018-01-09T06:51:10.599086Z",
     "start_time": "2018-01-09T06:51:10.589060Z"
    }
   },
   "source": [
    "选择一个标量"
   ]
  },
  {
   "cell_type": "code",
   "execution_count": 40,
   "metadata": {
    "ExecuteTime": {
     "end_time": "2018-01-13T07:46:52.070121Z",
     "start_time": "2018-01-13T07:46:52.065107Z"
    }
   },
   "outputs": [
    {
     "output_type": "execute_result",
     "data": {
      "text/plain": [
       "0.29562622524353865"
      ]
     },
     "metadata": {},
     "execution_count": 40
    }
   ],
   "source": [
    "df.loc[dates[0],'A']"
   ]
  },
  {
   "cell_type": "markdown",
   "metadata": {},
   "source": [
    "#### 根据位置进行选择  iloc\n",
    "根据整数下标来选择数据；iloc  根据 index的具体位置 ，从0开始的整数序列"
   ]
  },
  {
   "cell_type": "code",
   "execution_count": 41,
   "metadata": {
    "ExecuteTime": {
     "end_time": "2018-01-13T07:46:52.745211Z",
     "start_time": "2018-01-13T07:46:52.739198Z"
    }
   },
   "outputs": [
    {
     "output_type": "stream",
     "name": "stdout",
     "text": [
      "                   A         B         C         D\n2013-01-01  0.295626 -1.046529 -2.070924  0.207803\n2013-01-02  1.593907  1.214734  2.201508 -1.806104\n2013-01-03  1.372561  1.017685 -1.202874 -0.983028\n2013-01-04 -0.939182  1.277851 -0.513078  0.178664\n2013-01-05  0.026390  0.378180  1.677854  2.018240\n2013-01-06 -0.124400  0.453993  0.218700 -1.646511\n"
     ]
    },
    {
     "output_type": "execute_result",
     "data": {
      "text/plain": [
       "A   -0.939182\n",
       "B    1.277851\n",
       "C   -0.513078\n",
       "D    0.178664\n",
       "Name: 2013-01-04 00:00:00, dtype: float64"
      ]
     },
     "metadata": {},
     "execution_count": 41
    }
   ],
   "source": [
    "print(df)\n",
    "df.iloc[3]"
   ]
  },
  {
   "cell_type": "markdown",
   "metadata": {},
   "source": [
    "用整数来切片，类似于Python标准库和NumPy"
   ]
  },
  {
   "cell_type": "code",
   "execution_count": 42,
   "metadata": {
    "ExecuteTime": {
     "end_time": "2018-01-13T07:46:53.074663Z",
     "start_time": "2018-01-13T07:46:53.067643Z"
    }
   },
   "outputs": [
    {
     "output_type": "stream",
     "name": "stdout",
     "text": [
      "                   A         B\n2013-01-04 -0.939182  1.277851\n2013-01-05  0.026390  0.378180\n"
     ]
    }
   ],
   "source": [
    "print(df.iloc[3:5,0:2])"
   ]
  },
  {
   "cell_type": "markdown",
   "metadata": {
    "ExecuteTime": {
     "end_time": "2018-01-09T07:25:26.762911Z",
     "start_time": "2018-01-09T07:25:26.756895Z"
    }
   },
   "source": [
    "用整数列表来进行选择，与Python标准库和NumPy类似"
   ]
  },
  {
   "cell_type": "code",
   "execution_count": 43,
   "metadata": {
    "ExecuteTime": {
     "end_time": "2018-01-13T07:46:53.452416Z",
     "start_time": "2018-01-13T07:46:53.444912Z"
    }
   },
   "outputs": [
    {
     "output_type": "stream",
     "name": "stdout",
     "text": [
      "                   A         C\n2013-01-02  1.593907  2.201508\n2013-01-03  1.372561 -1.202874\n2013-01-05  0.026390  1.677854\n"
     ]
    }
   ],
   "source": [
    "print(df.iloc[[1,2,4],[0,2]])"
   ]
  },
  {
   "cell_type": "markdown",
   "metadata": {},
   "source": [
    "对行进行切片选择"
   ]
  },
  {
   "cell_type": "code",
   "execution_count": 44,
   "metadata": {
    "ExecuteTime": {
     "end_time": "2018-01-13T07:46:53.766568Z",
     "start_time": "2018-01-13T07:46:53.759571Z"
    }
   },
   "outputs": [
    {
     "output_type": "stream",
     "name": "stdout",
     "text": [
      "                   A         B         C         D\n2013-01-02  1.593907  1.214734  2.201508 -1.806104\n2013-01-03  1.372561  1.017685 -1.202874 -0.983028\n"
     ]
    }
   ],
   "source": [
    "print(df.iloc[1:3,:])"
   ]
  },
  {
   "cell_type": "markdown",
   "metadata": {},
   "source": [
    "对列进行切片选择"
   ]
  },
  {
   "cell_type": "code",
   "execution_count": 45,
   "metadata": {
    "ExecuteTime": {
     "end_time": "2018-01-13T07:46:54.090242Z",
     "start_time": "2018-01-13T07:46:54.082250Z"
    }
   },
   "outputs": [
    {
     "output_type": "stream",
     "name": "stdout",
     "text": [
      "                   B         C\n2013-01-01 -1.046529 -2.070924\n2013-01-02  1.214734  2.201508\n2013-01-03  1.017685 -1.202874\n2013-01-04  1.277851 -0.513078\n2013-01-05  0.378180  1.677854\n2013-01-06  0.453993  0.218700\n"
     ]
    }
   ],
   "source": [
    "print(df.iloc[:,1:3])"
   ]
  },
  {
   "cell_type": "markdown",
   "metadata": {},
   "source": [
    "获取某个标量"
   ]
  },
  {
   "cell_type": "code",
   "execution_count": 46,
   "metadata": {
    "ExecuteTime": {
     "end_time": "2018-01-13T07:46:54.427372Z",
     "start_time": "2018-01-13T07:46:54.423365Z"
    }
   },
   "outputs": [
    {
     "output_type": "execute_result",
     "data": {
      "text/plain": [
       "1.214734385720026"
      ]
     },
     "metadata": {},
     "execution_count": 46
    }
   ],
   "source": [
    "df.iloc[1,1]"
   ]
  },
  {
   "cell_type": "markdown",
   "metadata": {},
   "source": [
    ".loc for label based indexing 基于标签取一组数据\n",
    "\n",
    ".at 按照标签获取一个具体的值\n",
    "\n",
    ".iloc for positional indexing 基于位置取一组数据\n",
    "\n",
    ".iat 按照位置获取一个而具体的值\n"
   ]
  },
  {
   "cell_type": "code",
   "execution_count": 47,
   "metadata": {},
   "outputs": [
    {
     "output_type": "stream",
     "name": "stdout",
     "text": [
      "A    0.295626\nB   -1.046529\nName: 2013-01-01 00:00:00, dtype: float64\nA    0.295626\nB   -1.046529\nName: 2013-01-01 00:00:00, dtype: float64\n"
     ]
    }
   ],
   "source": [
    "print(df.loc['2013-01-01','A':'B'])\n",
    "print(df.iloc[0,0:2])"
   ]
  },
  {
   "cell_type": "markdown",
   "metadata": {},
   "source": [
    "#### 布尔索引，过滤数据\n",
    "使用某列值来选择数据"
   ]
  },
  {
   "cell_type": "code",
   "execution_count": 48,
   "metadata": {},
   "outputs": [
    {
     "output_type": "execute_result",
     "data": {
      "text/plain": [
       "2013-01-01     True\n",
       "2013-01-02     True\n",
       "2013-01-03     True\n",
       "2013-01-04    False\n",
       "2013-01-05     True\n",
       "2013-01-06    False\n",
       "Freq: D, Name: A, dtype: bool"
      ]
     },
     "metadata": {},
     "execution_count": 48
    }
   ],
   "source": [
    "df.A>0"
   ]
  },
  {
   "cell_type": "code",
   "execution_count": 49,
   "metadata": {
    "ExecuteTime": {
     "end_time": "2018-01-13T07:46:55.132799Z",
     "start_time": "2018-01-13T07:46:55.123799Z"
    }
   },
   "outputs": [
    {
     "output_type": "stream",
     "name": "stdout",
     "text": [
      "                   A         B         C         D\n2013-01-04 -0.939182  1.277851 -0.513078  0.178664\n2013-01-06 -0.124400  0.453993  0.218700 -1.646511\n                   A         B         C         D\n2013-01-02  1.593907  1.214734  2.201508 -1.806104\n2013-01-03  1.372561  1.017685 -1.202874 -0.983028\n2013-01-05  0.026390  0.378180  1.677854  2.018240\n"
     ]
    }
   ],
   "source": [
    "print(df[df.A<0])  #可以进行按照条件过滤数据  \n",
    "dfa=df[df.A>0]\n",
    "print(dfa[dfa.B>0]) "
   ]
  },
  {
   "cell_type": "markdown",
   "metadata": {},
   "source": [
    "从DataFrame中选择满足某条件的数据"
   ]
  },
  {
   "cell_type": "code",
   "execution_count": null,
   "metadata": {},
   "outputs": [],
   "source": [
    "df"
   ]
  },
  {
   "cell_type": "code",
   "execution_count": null,
   "metadata": {
    "ExecuteTime": {
     "end_time": "2018-01-13T07:46:55.502012Z",
     "start_time": "2018-01-13T07:46:55.492005Z"
    }
   },
   "outputs": [],
   "source": [
    "print(df[df>0])"
   ]
  },
  {
   "cell_type": "markdown",
   "metadata": {},
   "source": [
    "使用```isin()```函数来过滤数据"
   ]
  },
  {
   "cell_type": "code",
   "execution_count": null,
   "metadata": {
    "ExecuteTime": {
     "end_time": "2018-01-13T07:46:55.855504Z",
     "start_time": "2018-01-13T07:46:55.839958Z"
    }
   },
   "outputs": [],
   "source": [
    "df2=df.copy()\n",
    "df2['E']=['one','one','two','three','four','three']\n",
    "print(df2)\n",
    "print(df2[df2['E'].isin(['two','four'])]) # 类别数据的过滤"
   ]
  },
  {
   "cell_type": "markdown",
   "metadata": {},
   "source": [
    "#### 设置与修改数据\n",
    "设置一个新列并设置索引"
   ]
  },
  {
   "cell_type": "code",
   "execution_count": null,
   "metadata": {
    "ExecuteTime": {
     "end_time": "2018-01-13T07:46:56.254550Z",
     "start_time": "2018-01-13T07:46:56.235969Z"
    }
   },
   "outputs": [],
   "source": [
    "s1=pd.Series([1,2,3,4,5,6],index=pd.date_range('20130102',periods=6))\n",
    "df['F']=s1\n",
    "df"
   ]
  },
  {
   "cell_type": "markdown",
   "metadata": {},
   "source": [
    "根据标签来设置值\n",
    "at函数, 具体到某个元素\n",
    "\n",
    "根据指定行index及列label，快速定位DataFrame的元素，选择列时仅支持列名"
   ]
  },
  {
   "cell_type": "code",
   "execution_count": null,
   "metadata": {
    "ExecuteTime": {
     "end_time": "2018-01-13T07:46:56.548368Z",
     "start_time": "2018-01-13T07:46:56.539358Z"
    },
    "scrolled": true
   },
   "outputs": [],
   "source": [
    "df.at[dates[0],'A']=0\n",
    "print(df)"
   ]
  },
  {
   "cell_type": "code",
   "execution_count": null,
   "metadata": {},
   "outputs": [],
   "source": [
    "df.at?"
   ]
  },
  {
   "cell_type": "markdown",
   "metadata": {},
   "source": [
    "根据位置的来设置值\n",
    "与at的功能相同，只使用索引参数"
   ]
  },
  {
   "cell_type": "code",
   "execution_count": null,
   "metadata": {
    "ExecuteTime": {
     "end_time": "2018-01-13T07:46:56.911348Z",
     "start_time": "2018-01-13T07:46:56.903352Z"
    }
   },
   "outputs": [],
   "source": [
    "df.iat[0,1]=0\n",
    "print(df)"
   ]
  },
  {
   "cell_type": "markdown",
   "metadata": {},
   "source": [
    "在过滤的同时进行赋值"
   ]
  },
  {
   "cell_type": "code",
   "execution_count": null,
   "metadata": {
    "ExecuteTime": {
     "end_time": "2018-01-13T07:46:57.636646Z",
     "start_time": "2018-01-13T07:46:57.622610Z"
    }
   },
   "outputs": [],
   "source": [
    "df2=df.copy()\n",
    "df2[df2>0]=-df2\n",
    "print(df2)"
   ]
  },
  {
   "cell_type": "markdown",
   "metadata": {},
   "source": [
    "### 处理缺失数据\n",
    "Pandas主要使用```np.nan```来表示缺失数据。这个值不会加入在计算中。\n",
    "重新索引允许你对某一轴的索引进行更改/添加/删除操作。这会返回操作数据的拷贝对象。"
   ]
  },
  {
   "cell_type": "code",
   "execution_count": null,
   "metadata": {
    "ExecuteTime": {
     "end_time": "2018-01-13T07:46:58.037021Z",
     "start_time": "2018-01-13T07:46:58.024986Z"
    }
   },
   "outputs": [],
   "source": [
    "df1=df.reindex(index=dates[0:4],columns=list(df.columns)+['E'])\n",
    "df1.loc[dates[0]:dates[1],'E']=1\n",
    "df1"
   ]
  },
  {
   "cell_type": "markdown",
   "metadata": {},
   "source": [
    "删除含有缺失数据的行"
   ]
  },
  {
   "cell_type": "code",
   "execution_count": null,
   "metadata": {
    "ExecuteTime": {
     "end_time": "2018-01-13T07:46:58.417311Z",
     "start_time": "2018-01-13T07:46:58.409315Z"
    }
   },
   "outputs": [],
   "source": [
    "# print(df1.dropna(how='all')) #这一行所有值都为空时删除\n",
    "print(df1.dropna(how='any'))#这一行有任意值为空时删除"
   ]
  },
  {
   "cell_type": "code",
   "execution_count": null,
   "metadata": {},
   "outputs": [],
   "source": [
    "print(df1.dropna(how='any',axis=1))  #删除有空值的列"
   ]
  },
  {
   "cell_type": "markdown",
   "metadata": {},
   "source": [
    "填充缺失数据"
   ]
  },
  {
   "cell_type": "code",
   "execution_count": null,
   "metadata": {
    "ExecuteTime": {
     "end_time": "2018-01-13T07:46:58.746563Z",
     "start_time": "2018-01-13T07:46:58.738533Z"
    }
   },
   "outputs": [],
   "source": [
    "print(df1['E'].fillna(value=5))  "
   ]
  },
  {
   "cell_type": "code",
   "execution_count": null,
   "metadata": {},
   "outputs": [],
   "source": [
    "DataFrame.fillna?"
   ]
  },
  {
   "cell_type": "code",
   "execution_count": null,
   "metadata": {},
   "outputs": [],
   "source": [
    "print(df1['E'].fillna(method='ffill'))  "
   ]
  },
  {
   "cell_type": "code",
   "execution_count": null,
   "metadata": {},
   "outputs": [],
   "source": [
    "df1  #上面并没有对df1本身做修改，返回了修改后的结果"
   ]
  },
  {
   "cell_type": "code",
   "execution_count": null,
   "metadata": {},
   "outputs": [],
   "source": [
    "df1['E']=df1['E'].fillna(method='ffill')  # 用修改后结果为 df1 赋值\n",
    "df1['E']"
   ]
  },
  {
   "cell_type": "markdown",
   "metadata": {},
   "source": [
    "获取数据中是```nan```的位置"
   ]
  },
  {
   "cell_type": "code",
   "execution_count": null,
   "metadata": {
    "ExecuteTime": {
     "end_time": "2018-01-13T07:46:59.081650Z",
     "start_time": "2018-01-13T07:46:59.073646Z"
    }
   },
   "outputs": [],
   "source": [
    "print(pd.isnull(df1))"
   ]
  },
  {
   "cell_type": "markdown",
   "metadata": {},
   "source": [
    "### 基础操作\n",
    "#### 基本的统计\n",
    "操作默认排除了缺失的数据  \n",
    "执行一个描述性的统计"
   ]
  },
  {
   "cell_type": "code",
   "execution_count": null,
   "metadata": {
    "ExecuteTime": {
     "end_time": "2018-01-13T07:46:59.497992Z",
     "start_time": "2018-01-13T07:46:59.491970Z"
    }
   },
   "outputs": [],
   "source": [
    "print(df)\n",
    "df.sum()  #默认按列，每一列一般是一种数据类型"
   ]
  },
  {
   "cell_type": "markdown",
   "metadata": {
    "ExecuteTime": {
     "end_time": "2018-01-09T08:11:20.821022Z",
     "start_time": "2018-01-09T08:11:20.811020Z"
    }
   },
   "source": [
    "在另外的轴执行该操作"
   ]
  },
  {
   "cell_type": "code",
   "execution_count": null,
   "metadata": {
    "ExecuteTime": {
     "end_time": "2018-01-13T07:46:59.877399Z",
     "start_time": "2018-01-13T07:46:59.863830Z"
    }
   },
   "outputs": [],
   "source": [
    "df.mean(1)  #横向"
   ]
  },
  {
   "cell_type": "code",
   "execution_count": null,
   "metadata": {},
   "outputs": [],
   "source": [
    "print(df)\n",
    "df.mean(1)  #只对数值型平均"
   ]
  },
  {
   "cell_type": "markdown",
   "metadata": {},
   "source": [
    "#### 直方图"
   ]
  },
  {
   "cell_type": "code",
   "execution_count": null,
   "metadata": {
    "ExecuteTime": {
     "end_time": "2018-01-13T07:47:01.247458Z",
     "start_time": "2018-01-13T07:47:01.239436Z"
    }
   },
   "outputs": [],
   "source": [
    "s=pd.Series(['blue','red','yellow','blue','black'])\n",
    "print(s)\n",
    "print(s.value_counts()) #统计每个值出现的次数"
   ]
  },
  {
   "cell_type": "markdown",
   "metadata": {},
   "source": [
    "### 数据合并\n",
    "#### 数据拼接concat   各个DataFrame的coloumn都是一样的\n",
    "Pandas提供了许多工具来根据索引逻辑和线性代数关系组合Series、DataFrame和Panel。\n",
    "用```concat()```组合Pandas数据"
   ]
  },
  {
   "cell_type": "code",
   "execution_count": null,
   "metadata": {
    "ExecuteTime": {
     "end_time": "2018-01-13T07:47:02.215026Z",
     "start_time": "2018-01-13T07:47:02.199983Z"
    }
   },
   "outputs": [],
   "source": [
    "df=pd.DataFrame(np.random.randn(10,4))\n",
    "print(df)\n",
    "pieces=[df[:3],df[3:7],df[7:]]  #按行拆分\n",
    "print(pieces[0])\n",
    "\n"
   ]
  },
  {
   "cell_type": "code",
   "execution_count": null,
   "metadata": {},
   "outputs": [],
   "source": [
    "print(pd.concat(pieces))   #拼接还原"
   ]
  },
  {
   "cell_type": "markdown",
   "metadata": {},
   "source": [
    "#### 数据关联 Merge     来自不同的来源，DataFrame的 column不同，但是有相同index\n",
    "合并\n",
    "\n",
    "<img style=\"float: center;\" src=\"img/merge.png\" width=400>"
   ]
  },
  {
   "cell_type": "code",
   "execution_count": null,
   "metadata": {
    "ExecuteTime": {
     "end_time": "2018-01-13T07:47:02.608433Z",
     "start_time": "2018-01-13T07:47:02.591388Z"
    }
   },
   "outputs": [],
   "source": [
    "left=pd.DataFrame({'姓名':['小明','小强'],'身高cm':[180,175]})\n",
    "right=pd.DataFrame({'姓名':['小明','小刚'],'体重g':[120,130]})\n",
    "print(left)\n",
    "print(right)\n",
    "print(pd.merge(left,right,on='姓名'))"
   ]
  },
  {
   "cell_type": "code",
   "execution_count": null,
   "metadata": {},
   "outputs": [],
   "source": [
    "print(pd.merge(left,right,on='姓名',how='left'))"
   ]
  },
  {
   "cell_type": "markdown",
   "metadata": {},
   "source": [
    "#### 添加数据（Append）\n",
    "给DataFrame添加行"
   ]
  },
  {
   "cell_type": "code",
   "execution_count": null,
   "metadata": {
    "ExecuteTime": {
     "end_time": "2018-01-13T07:47:03.070830Z",
     "start_time": "2018-01-13T07:47:03.053277Z"
    }
   },
   "outputs": [],
   "source": [
    "df=pd.DataFrame(np.random.randn(8,4),columns=['A','B','C','D'])\n",
    "print(df)\n",
    "s=df.iloc[3]\n",
    "print(df.append(s,ignore_index=True))"
   ]
  },
  {
   "cell_type": "markdown",
   "metadata": {},
   "source": [
    "### 分组\n",
    "分组包含以下的一个或多个流程：\n",
    " - 分组 根据某种标准分组数据\n",
    " - 应用 对每个组应用一个函数\n",
    " - 组合 把分组的结果组合成一个整体结构"
   ]
  },
  {
   "cell_type": "code",
   "execution_count": null,
   "metadata": {
    "ExecuteTime": {
     "end_time": "2018-01-13T07:47:03.520375Z",
     "start_time": "2018-01-13T07:47:03.510323Z"
    }
   },
   "outputs": [],
   "source": [
    "df=pd.DataFrame({'Month':['May','July','May','May','May','July','May','May'],'Team' : ['team_one', 'team_one', 'team_two', 'team_three',\n",
    "                              'team_two', 'team_two', 'team_one', 'team_three'],\n",
    "                       'Score1' : np.random.randn(8),\n",
    "                      'Score2' : np.random.randn(8)})\n",
    "df"
   ]
  },
  {
   "cell_type": "markdown",
   "metadata": {},
   "source": [
    "分组并对分组后的结果求和"
   ]
  },
  {
   "cell_type": "code",
   "execution_count": null,
   "metadata": {},
   "outputs": [],
   "source": [
    "print(df.groupby(['Team']).sum())"
   ]
  },
  {
   "cell_type": "code",
   "execution_count": null,
   "metadata": {},
   "outputs": [],
   "source": [
    "df_group= df.groupby('Team')   #分组\n",
    "dataframe1=df_group.get_group('team_one')  #取 B==‘one’的分组为一个新的dataframe\n",
    "dataframe1"
   ]
  },
  {
   "cell_type": "markdown",
   "metadata": {},
   "source": [
    "根据多个列进行分组可以如下操作"
   ]
  },
  {
   "cell_type": "code",
   "execution_count": null,
   "metadata": {
    "ExecuteTime": {
     "end_time": "2018-01-13T07:47:04.352567Z",
     "start_time": "2018-01-13T07:47:04.341537Z"
    }
   },
   "outputs": [],
   "source": [
    "print(df.groupby(['Month','Team']).sum())"
   ]
  },
  {
   "cell_type": "markdown",
   "metadata": {},
   "source": [
    "### 时间序列\n",
    "Pandas拥有易用、强大且高效的方法来在频率变换中执行重采样操作（例如：把秒级别的数据转换成5分钟级别的数据）。这通常在金融应用中使用，但不仅限于金融应用。"
   ]
  },
  {
   "cell_type": "code",
   "execution_count": null,
   "metadata": {
    "ExecuteTime": {
     "end_time": "2018-01-13T07:47:06.995285Z",
     "start_time": "2018-01-13T07:47:06.979238Z"
    }
   },
   "outputs": [],
   "source": [
    "rng=pd.date_range('1/1/2012',periods=100,freq='S')   # 构造一个日期序列， 开始 1/1/2012  ， 100个时间点, 频率S 表示秒\n",
    "print(rng)\n",
    "ts=pd.Series(np.random.randint(0,500,len(rng)),index=rng)  #构造一个随机数序列  长度100\n",
    "print(ts.head(5))\n"
   ]
  },
  {
   "cell_type": "code",
   "execution_count": null,
   "metadata": {},
   "outputs": [],
   "source": [
    "ts_sample=ts.resample('60s').sum()    #按照5秒重采样 聚合，  sum表示采样后按求和运算\n",
    "ts_sample"
   ]
  },
  {
   "cell_type": "markdown",
   "metadata": {},
   "source": [
    "表现时区"
   ]
  },
  {
   "cell_type": "code",
   "execution_count": null,
   "metadata": {
    "ExecuteTime": {
     "end_time": "2018-01-13T07:47:07.442870Z",
     "start_time": "2018-01-13T07:47:07.423820Z"
    }
   },
   "outputs": [],
   "source": [
    "rng=pd.date_range('3/6/2012 00:00',periods=5,freq='D')\n",
    "ts=pd.Series(np.random.randn(len(rng)),rng)\n",
    "print(ts)\n",
    "ts_utc=ts.tz_localize('UTC')\n",
    "ts_utc"
   ]
  },
  {
   "cell_type": "markdown",
   "metadata": {},
   "source": [
    "转换到其他时区"
   ]
  },
  {
   "cell_type": "code",
   "execution_count": null,
   "metadata": {
    "ExecuteTime": {
     "end_time": "2018-01-13T07:47:08.002107Z",
     "start_time": "2018-01-13T07:47:07.892132Z"
    }
   },
   "outputs": [],
   "source": [
    "ts_utc.tz_convert('US/Eastern')"
   ]
  },
  {
   "cell_type": "markdown",
   "metadata": {},
   "source": [
    "转换时间间隔的表现形式"
   ]
  },
  {
   "cell_type": "code",
   "execution_count": null,
   "metadata": {
    "ExecuteTime": {
     "end_time": "2018-01-13T07:47:08.496275Z",
     "start_time": "2018-01-13T07:47:08.472708Z"
    },
    "scrolled": true
   },
   "outputs": [],
   "source": [
    "rng=pd.date_range('1/1/2012',periods=5,freq='S')\n",
    "ts=pd.Series(np.random.randn(len(rng)),index=rng)\n",
    "print(ts)\n",
    "ps=ts.to_period('D')   # Q M D\n",
    "print(ps)\n"
   ]
  },
  {
   "cell_type": "markdown",
   "metadata": {},
   "source": [
    "### 绘图"
   ]
  },
  {
   "cell_type": "code",
   "execution_count": null,
   "metadata": {
    "ExecuteTime": {
     "end_time": "2018-01-13T07:47:12.401288Z",
     "start_time": "2018-01-13T07:47:12.186099Z"
    }
   },
   "outputs": [],
   "source": [
    "import matplotlib.pyplot as plt\n",
    "%matplotlib inline\n",
    "ts=pd.Series(np.random.randn(1000),index=pd.date_range('1/1/2000',periods=1000))\n",
    "ts=ts.cumsum()\n",
    "ts.plot()"
   ]
  },
  {
   "cell_type": "markdown",
   "metadata": {},
   "source": [
    "在DataFrame上，```plot()```是一个函数可以方便地对数据的每个列进行绘图"
   ]
  },
  {
   "cell_type": "code",
   "execution_count": null,
   "metadata": {
    "ExecuteTime": {
     "end_time": "2018-01-13T07:47:13.098274Z",
     "start_time": "2018-01-13T07:47:12.787162Z"
    }
   },
   "outputs": [],
   "source": [
    "df=pd.DataFrame(np.random.randn(1000,4),index=ts.index,columns=['A','B','C','D'])\n",
    "df=df.cumsum()\n",
    "df.plot()\n"
   ]
  },
  {
   "cell_type": "markdown",
   "metadata": {},
   "source": [
    "### 数据获取与导出\n",
    "#### CSV\n",
    "保存数据到csv文件中"
   ]
  },
  {
   "cell_type": "code",
   "execution_count": null,
   "metadata": {
    "ExecuteTime": {
     "end_time": "2018-01-13T07:47:13.440814Z",
     "start_time": "2018-01-13T07:47:13.418780Z"
    }
   },
   "outputs": [],
   "source": [
    "df1.to_csv('foo.csv')"
   ]
  },
  {
   "cell_type": "markdown",
   "metadata": {},
   "source": [
    "从csv中读取数据"
   ]
  },
  {
   "cell_type": "code",
   "execution_count": null,
   "metadata": {
    "ExecuteTime": {
     "end_time": "2018-01-13T07:47:14.067226Z",
     "start_time": "2018-01-13T07:47:14.055193Z"
    },
    "scrolled": true
   },
   "outputs": [],
   "source": [
    "df=pd.read_csv('foo.csv')\n",
    "print(df[:10])\n",
    "df"
   ]
  },
  {
   "cell_type": "markdown",
   "metadata": {},
   "source": [
    "#### Excel\n",
    "生成Excel文件（需要自己安装openpyxl库```pip3 install openpyxl```）"
   ]
  },
  {
   "cell_type": "code",
   "execution_count": null,
   "metadata": {
    "ExecuteTime": {
     "end_time": "2018-01-13T07:47:21.522778Z",
     "start_time": "2018-01-13T07:47:20.692815Z"
    }
   },
   "outputs": [],
   "source": [
    "df.to_excel('foo.xlsx',sheet_name='Sheet01')"
   ]
  },
  {
   "cell_type": "markdown",
   "metadata": {},
   "source": [
    "从Excel中读取数据"
   ]
  },
  {
   "cell_type": "code",
   "execution_count": null,
   "metadata": {
    "ExecuteTime": {
     "end_time": "2018-01-13T07:47:21.631120Z",
     "start_time": "2018-01-13T07:47:21.524783Z"
    }
   },
   "outputs": [],
   "source": [
    "print(pd.read_excel('foo.xlsx', 'Sheet01',\n",
    "                    index_col=None, na_values=['NA'])[:10])"
   ]
  },
  {
   "cell_type": "markdown",
   "metadata": {},
   "source": [
    "### Pandas主要功能小结\n",
    "    快速高效的DataFrame对象，具有默认和自定义的索引。\n",
    "    将数据从不同文件格式加载到内存中的数据对象的工具。\n",
    "    丢失数据的数据对齐和综合处理。\n",
    "    重组和摆动日期集。\n",
    "    基于标签的切片，索引和大数据集的子集。\n",
    "    可以删除或插入来自数据结构的列。\n",
    "    按数据分组进行聚合和转换。\n",
    "    高性能合并和数据加入。\n",
    "    时间序列功能。"
   ]
  },
  {
   "cell_type": "markdown",
   "metadata": {},
   "source": [
    "## 本节小练习：\n",
    "通过pandas 加载 lesson1 中  lesson1 catering_sales.csv\n",
    "\n",
    "将案例使用pandas编写\n",
    "\n"
   ]
  }
 ],
 "metadata": {
  "kernelspec": {
   "display_name": "Python 3",
   "language": "python",
   "name": "python3"
  },
  "language_info": {
   "codemirror_mode": {
    "name": "ipython",
    "version": 3
   },
   "file_extension": ".py",
   "mimetype": "text/x-python",
   "name": "python",
   "nbconvert_exporter": "python",
   "pygments_lexer": "ipython3",
   "version": "3.8.5-final"
  },
  "toc": {
   "nav_menu": {},
   "number_sections": true,
   "sideBar": true,
   "skip_h1_title": false,
   "toc_cell": false,
   "toc_position": {},
   "toc_section_display": "block",
   "toc_window_display": false
  },
  "varInspector": {
   "cols": {
    "lenName": 16,
    "lenType": 16,
    "lenVar": 40
   },
   "kernels_config": {
    "python": {
     "delete_cmd_postfix": "",
     "delete_cmd_prefix": "del ",
     "library": "var_list.py",
     "varRefreshCmd": "print(var_dic_list())"
    },
    "r": {
     "delete_cmd_postfix": ") ",
     "delete_cmd_prefix": "rm(",
     "library": "var_list.r",
     "varRefreshCmd": "cat(var_dic_list()) "
    }
   },
   "types_to_exclude": [
    "module",
    "function",
    "builtin_function_or_method",
    "instance",
    "_Feature"
   ],
   "window_display": false
  }
 },
 "nbformat": 4,
 "nbformat_minor": 2
}