{
 "cells": [
  {
   "cell_type": "markdown",
   "metadata": {},
   "source": [
    "### 新冠疫情数据绘图案例"
   ]
  },
  {
   "cell_type": "markdown",
   "metadata": {},
   "source": [
    "### 下载数据"
   ]
  },
  {
   "cell_type": "code",
   "execution_count": null,
   "metadata": {},
   "outputs": [],
   "source": [
    "\n",
    "import time\n",
    "import json\n",
    "import requests\n",
    "\n",
    "url = 'https://view.inews.qq.com/g2/getOnsInfo?name=disease_h5&callback=&_=%d'%int(time.time()*1000)  #从腾讯网站上直接下载使用\n",
    "print(url)\n",
    "\n",
    "#使用json提供的函数下载，并解析为json对象\n",
    "data = json.loads(requests.get(url=url).json()['data'])\n",
    "\n",
    "#http://json.cn 在线查看json格式文件\n"
   ]
  },
  {
   "cell_type": "code",
   "execution_count": null,
   "metadata": {},
   "outputs": [],
   "source": [
    "#json文件格式， 类似嵌套的字典\n",
    "{\n",
    "    \"status\": \"0\",\n",
    "    \"message\": \"success\",\n",
    "    \"data\": {\n",
    "        \"title\": {\n",
    "            \"id\": \"001\",\n",
    "            \"name\" : \"test\"\n",
    "        },\n",
    "        \"content\": [\n",
    "            {\n",
    "                \"id\": \"001\",\n",
    "                \"value\":\"hello 001\"\n",
    "            },\n",
    "            {\n",
    "                \"id\": \"002\",\n",
    "                 \"value\":\"hello 002\"\n",
    "            }\n",
    "        ]\n",
    "    }\n",
    "}"
   ]
  },
  {
   "cell_type": "code",
   "execution_count": null,
   "metadata": {},
   "outputs": [],
   "source": [
    "print(data.keys())"
   ]
  },
  {
   "cell_type": "markdown",
   "metadata": {},
   "source": [
    "### 绘制中国不同省份确诊病柱状图"
   ]
  },
  {
   "cell_type": "code",
   "execution_count": null,
   "metadata": {},
   "outputs": [],
   "source": [
    "# 通过分析json的结构，获取省份信息列表\n",
    "province_list = data['areaTree'][0]['children'] # 省份信息列表\n",
    "\n",
    "print(province_list[8])   # 打印其中一个省份查看数据\n"
   ]
  },
  {
   "cell_type": "code",
   "execution_count": null,
   "metadata": {},
   "outputs": [],
   "source": [
    "# 解析每个省份确诊的总人数\n",
    "total_data = {}  #字典数据结构，key为省份名，， value为截止目前确诊病例数\n",
    "for province in province_list:\n",
    "    if province['name'] not in total_data:\n",
    "        total_data.update({province['name']:0})  #字典中没有，首次初始化\n",
    "    for city_data in province['children']:\n",
    "        total_data[province['name']] += int(city_data['total']['confirm'])    #一个省的确诊为下属城市的总和\n",
    "print(total_data)\n"
   ]
  },
  {
   "cell_type": "code",
   "execution_count": null,
   "metadata": {},
   "outputs": [],
   "source": [
    "%matplotlib inline\n",
    "#省的名字列表\n",
    "province_names = total_data.keys()\n",
    "print(province_names)\n",
    "#省的确诊病例列表\n",
    "province_confirm_count = total_data.values()\n",
    "print(province_confirm_count)\n",
    "\n",
    "import matplotlib.pyplot as plt \n",
    "import numpy as np\n",
    "plt.rcParams['font.sans-serif'] = ['simhei']   # 用来正常显示中文标签\n",
    "\n",
    "# 绘图\n",
    "plt.figure(figsize=[12,8])\n",
    "\n",
    "plt.bar(province_names,province_confirm_count)\n",
    "\n",
    "plt.xlabel(\"地区\", size=12)\n",
    "plt.ylabel(\"人数\", fontproperties='SimHei', rotation=90, size=12)\n",
    "localtime = time.asctime( time.localtime(time.time()) )\n",
    "plt.title(\"中国不同省份疫情确诊数对比图   \"+localtime, size=16)\n",
    "plt.xticks(list(province_names), rotation=45, size=12)\n",
    "    \n",
    "plt.show()\n"
   ]
  },
  {
   "cell_type": "markdown",
   "metadata": {},
   "source": [
    "本案例基于下面文章修改\n",
    "\n",
    "版权声明：本文为qq_33499889原创文章，遵循 CC 4.0 BY-SA 版权协议，转载请附上原文出处链接和本声明。\n",
    "本文链接：https://blog.csdn.net/qq_33499889/article/details/104800789 "
   ]
  }
 ],
 "metadata": {
  "kernelspec": {
   "display_name": "Python 3",
   "language": "python",
   "name": "python3"
  },
  "language_info": {
   "codemirror_mode": {
    "name": "ipython",
    "version": 3
   },
   "file_extension": ".py",
   "mimetype": "text/x-python",
   "name": "python",
   "nbconvert_exporter": "python",
   "pygments_lexer": "ipython3",
   "version": "3.7.3"
  }
 },
 "nbformat": 4,
 "nbformat_minor": 2
}
