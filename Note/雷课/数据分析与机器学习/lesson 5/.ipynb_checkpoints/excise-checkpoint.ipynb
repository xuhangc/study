{
 "cells": [
  {
   "cell_type": "markdown",
   "metadata": {},
   "source": [
    "0.2 Basic-Principles"
   ]
  },
  {
   "cell_type": "code",
   "execution_count": null,
   "metadata": {},
   "outputs": [],
   "source": [
    "#大家尝试在下面的代码框，模仿上面的KNN的代码 写出来 鸢尾花预测的 SVM的代码\n",
    "\n",
    "from sklearn import neighbors, datasets\n",
    "\n",
    "from sklearn.svm import SVC\n",
    "\n",
    "iris = datasets.load_iris()\n",
    "X, y = iris.data, iris.target\n",
    "\n",
    "# 建立模型\n",
    "svc = SVC(gamma='scale')\n",
    "\n",
    "# 训练模型 (fit the model)\n",
    "svc.fit(X, y)\n",
    "# 一个 3cm x 5cm 萼片 and 4cm x 2cm 花瓣 的 iris 花，属于哪一个分类？\n",
    "# 调用\"predict\"方法:\n",
    "result = svc.predict([[3, 5, 4, 2],])\n",
    "print(iris.target_names[result])"
   ]
  },
  {
   "cell_type": "markdown",
   "metadata": {},
   "source": [
    "0.4 Regression Forest"
   ]
  },
  {
   "cell_type": "code",
   "execution_count": null,
   "metadata": {},
   "outputs": [],
   "source": [
    "\n",
    "#尝试用 随机森林 做手写识别的例子  sklearn.ensemble.RandomForestClassifier  \n",
    "#需要先执行那个练习前面的代码，然后 copy下面的到 练习框执行\n",
    "\n",
    "\n",
    "clf = RandomForestClassifier(max_depth=10,n_estimators=150)\n",
    "clf.fit(Xtrain, ytrain)\n",
    "ypred = clf.predict(Xtest)\n",
    "print(metrics.accuracy_score(ypred, ytest))\n",
    "print(metrics.f1_score(ypred, ytest,average='macro'))"
   ]
  },
  {
   "cell_type": "code",
   "execution_count": null,
   "metadata": {},
   "outputs": [],
   "source": [
    "#练习使用 svm来做\n",
    "\n",
    "from sklearn.svm import SVC\n",
    "svc = SVC(gamma='scale',kernel='linear',C=0.1)\n",
    "svc.fit(Xtrain, ytrain)\n",
    "ypred = svc.predict(Xtest)\n",
    "print(metrics.accuracy_score(ypred, ytest))\n",
    "print(metrics.f1_score(ypred, ytest,average='macro'))"
   ]
  },
  {
   "cell_type": "markdown",
   "metadata": {},
   "source": [
    "Case Study 糖尿病预测"
   ]
  },
  {
   "cell_type": "code",
   "execution_count": null,
   "metadata": {},
   "outputs": [],
   "source": [
    "#练习尝试使用 SVM、RandomForestClassifier 进行分类，并比较他们自己的准确率\n",
    "'''\n",
    "name: KNN; cross val score: 0.7448051948051948\n",
    "name: KNN with weights; cross val score: 0.7396103896103897\n",
    "name: Radius Neighbors; cross val score: 0.6497265892002735\n",
    "'''\n",
    "#随机森林\n",
    "X_train,X_test,Y_train,Y_test = train_test_split(X,Y,test_size = 0.2)\n",
    "from sklearn.ensemble import RandomForestClassifier\n",
    "clf = RandomForestClassifier(n_estimators=250, random_state=0)\n",
    "clf.fit(X_train,Y_train)\n",
    "print('RF')\n",
    "print(clf.score(X_test,Y_test))\n",
    "\n",
    "#SVM\n",
    "from sklearn.svm import SVC\n",
    "svc = SVC(kernel='rbf',gamma='scale')\n",
    "svc.fit(X_train,Y_train)\n",
    "print('SVC')\n",
    "print(svc.score(X_test,Y_test))\n"
   ]
  },
  {
   "cell_type": "code",
   "execution_count": 3,
   "metadata": {},
   "outputs": [
    {
     "name": "stdout",
     "output_type": "stream",
     "text": [
      "SVC\n",
      "0.7077922077922078\n"
     ]
    },
    {
     "name": "stderr",
     "output_type": "stream",
     "text": [
      "C:\\ProgramData\\Anaconda3\\lib\\importlib\\_bootstrap.py:219: RuntimeWarning: numpy.ufunc size changed, may indicate binary incompatibility. Expected 192 from C header, got 216 from PyObject\n",
      "  return f(*args, **kwds)\n"
     ]
    }
   ],
   "source": [
    "#完整过程 糖尿病预测 SVM程序\n",
    "\n",
    "from sklearn.model_selection import train_test_split\n",
    "import pandas as pd\n",
    "# 加载数据\n",
    "data = pd.read_csv('data/diabetes.csv') \n",
    "# 含有特征的数据集\n",
    "X = data.iloc[:,0:8]\n",
    "# 标记数据\n",
    "Y = data.iloc[:,8]\n",
    "\n",
    "# 将数据集划分为训练集和测试集，其中测试数据为20%\n",
    "X_train,X_test,Y_train,Y_test = train_test_split(X,Y,test_size = 0.2)\n",
    "from sklearn.svm import SVC\n",
    "svc = SVC(kernel='rbf',gamma='scale')\n",
    "svc.fit(X_train,Y_train)\n",
    "print('SVC')\n",
    "print(svc.score(X_test,Y_test))\n"
   ]
  }
 ],
 "metadata": {
  "kernelspec": {
   "display_name": "Python 3",
   "language": "python",
   "name": "python3"
  },
  "language_info": {
   "codemirror_mode": {
    "name": "ipython",
    "version": 3
   },
   "file_extension": ".py",
   "mimetype": "text/x-python",
   "name": "python",
   "nbconvert_exporter": "python",
   "pygments_lexer": "ipython3",
   "version": "3.7.3"
  }
 },
 "nbformat": 4,
 "nbformat_minor": 2
}
