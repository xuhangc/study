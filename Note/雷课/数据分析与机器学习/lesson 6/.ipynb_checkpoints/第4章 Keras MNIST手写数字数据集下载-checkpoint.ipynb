{
 "cells": [
  {
   "cell_type": "markdown",
   "metadata": {},
   "source": [
    "本节将介绍MNIST手写数字识别数据集，这是由Yann LeCun所搜集的，他也是Convolution Neuarl Networks的创始人。MNIST数据集的数据量并不大，而且是单色的图像，比较简单，很适合深度学习的初学者用来建立模型、训练、预测。  \n",
    "\n",
    "MNIST数据集共有60000项训练数据，10000项测试数据。MNIST数据集中的每一项数据images（数字图像）与Labels(真实数字)所组成，如图6-0所示：  \n",
    "![title](images/6-0.png)  \n",
    "\n",
    "# 1. 下载MNIST数据集  \n",
    "\n",
    "我们将创建以下Keras程序，下载并读取MNIST数据。  \n",
    "\n",
    "## 1.1 导入Kears及相关模块"
   ]
  },
  {
   "cell_type": "markdown",
   "metadata": {},
   "source": [
    "![title](images/6-1.png) "
   ]
  },
  {
   "cell_type": "markdown",
   "metadata": {},
   "source": [
    "因为我们已经同时安装了Kears和TensorFlow，所以导入Keras模块后，可以看到Keras自动以TensorFlow作为Backend。  \n",
    "程序代码说明见表6-1.  \n",
    "<center>表6-1 程序代码说明</center>  \n",
    "\n",
    "| 项目 | 说明 |  \n",
    "| -----|----- |  \n",
    "|from kears.utils import np_utils | 导入keral.utis，因为后续要将标签转换为One-Hot Encoding（一位有效编码）|  \n",
    "|import numpy as np|导入numpy模块，Numpy是Python语言的扩展链接库，支持数组与矩阵运算|   \n",
    "|np.random.seed(10)|设置seed可以产生的随机数据|  \n",
    "\n",
    "## 1.2 导入Keras模块  \n",
    "Keras已经提供了现成的模块，可以帮助我们下载并读取MNIST数据，所以先导入MNIST模块。"
   ]
  },
  {
   "cell_type": "markdown",
   "metadata": {},
   "source": [
    "![title](images/6-2.png) "
   ]
  },
  {
   "cell_type": "markdown",
   "metadata": {},
   "source": [
    "## 1.3 第一此进行MNIST数据的下载  \n",
    "\n",
    "第一次执行mnist.load_data()方法，程序会检查用户目录下是否已经有MNIST数据集文件，如果没有，就会下载文件。以下是第一次下载文件的屏幕显示界面，因为必须要下载文件，所以运行时间会比较长。  \n",
    "\n",
    "![title](images/6-3.png)  "
   ]
  },
  {
   "cell_type": "markdown",
   "metadata": {},
   "source": [
    "## 1.4 查看下载的MNIST数据文件  \n",
    "\n",
    "查看下载的MNIST数据文件，根据所使用的环境是Windows或Linux Ubuntu会有所不同，说明如下。  \n",
    "\n",
    "- 在Windows下查看已下载的MNIST数据文件  \n",
    "\n",
    "MNIST数据文件下载后存储在用户个人的文件夹中，因为笔者的用户名称是admin，所以下载后存储的目录在C:\\Users\\admin\\.keras\\datasets中，文件名是mnist.npz，下图所示：  \n",
    "\n",
    "![title](images/6-4.png) "
   ]
  },
  {
   "cell_type": "markdown",
   "metadata": {},
   "source": [
    "## 1.5 读取MNIST数据  \n",
    "\n",
    "当再次运行时，由于之前已经下载了文件，因此不需要进行下载，只需要读取文件，这样运行速度就会快很多。  \n",
    "\n",
    "![title](images/6-5.png) "
   ]
  },
  {
   "cell_type": "markdown",
   "metadata": {},
   "source": [
    "# 2.查看训练数据  \n",
    "\n",
    "## 2.1训练数据是由images与labels所组成的  \n",
    "\n",
    "images与labels共60000项，images是单色的数字图像，labels是数字图像的真实值，如下图所示：  \n",
    "\n",
    "![title](images/6-6.png) \n"
   ]
  },
  {
   "cell_type": "markdown",
   "metadata": {},
   "source": [
    "## 2.2 定义plot_image函数显示图像  \n",
    "\n",
    "为了能够显示images数字图像，我们创建下列plot_image函数。  \n",
    "![title](images/6-7.png)   \n",
    "\n",
    "以上程序代码说明见表6-2.  \n",
    "\n",
    "| 项目 | 说明 |  \n",
    "| -----|----- |  \n",
    "|import matplotlib.pyplot as plt | 首先导入matplotlib.pyplot模块|  \n",
    "|def plot_image(image)|定义plot_image函数，传入image作为参数|   \n",
    "|fig = plt.gct fig.set_size_inches(2,2)|设置图形大小|\n",
    "|plt.imshow(image, cmap='binary')|显示图形，以黑白灰度显示|\n",
    "|plt.show()|开始绘图|"
   ]
  },
  {
   "cell_type": "markdown",
   "metadata": {},
   "source": [
    "## 2.3 执行plot_image函数产看第0个图像  \n",
    "\n",
    "以下程序调用plot_image函数传入mnist.train.images[0],也就是训练数据集的第0项数据，从显示结果可以看到这是一个数字5的图形。 \n",
    "![title](images/6-8.png)  \n",
    "\n",
    "第0项label数据是第0个数字图像的真实值，所以是5。"
   ]
  },
  {
   "cell_type": "markdown",
   "metadata": {},
   "source": [
    "# 3.查看多项训练数据images与label  \n",
    "接下来，我们将创建plot_images_labels_prediction函数，可以显示多项MNIST数据的images和label。  "
   ]
  },
  {
   "cell_type": "markdown",
   "metadata": {},
   "source": [
    "## 3.1 创建plot_images_labels_prediction函数  \n",
    "\n",
    "我们希望能很方便的查看数字图形，真实的数字与预测结果，因此编写了如下函数。  \n",
    "\n",
    "![title](images/6-9.png)  \n",
    "\n",
    "- 导入pyplot模块，后续会使用plt来引用  "
   ]
  },
  {
   "cell_type": "code",
   "execution_count": 1,
   "metadata": {
    "collapsed": true
   },
   "outputs": [],
   "source": [
    "import matplotlib.pyplot as plt"
   ]
  },
  {
   "cell_type": "markdown",
   "metadata": {},
   "source": [
    "- 定义plot_images_labels_prediction函数"
   ]
  },
  {
   "cell_type": "code",
   "execution_count": null,
   "metadata": {
    "collapsed": true
   },
   "outputs": [],
   "source": [
    "def plot_images_labels_prediction(images,labels,\n",
    "                                  prediction,idx,num=10):"
   ]
  },
  {
   "cell_type": "markdown",
   "metadata": {},
   "source": [
    "定义def plot_images_labels_prediction函数需要传入下列参数：  \n",
    "images（数字图像）、label（真是值）、pridiction（预测结果）、idx（开始显示的数据index）、num（要显示的数据项数，默认10，不超过25）"
   ]
  },
  {
   "cell_type": "markdown",
   "metadata": {},
   "source": [
    "## 3.2 查看训练数据前10项数据  \n",
    "\n",
    "执行def plot_images_labels_prediction()函数显示前10项训练数据。输入x_test_imgae和y_test_label，不过，目前还没有预测结果，所以传入空值list[]，从第0项数据开始一直显示到第9项数据。\n",
    "\n",
    "![title](images/6-10.png)  "
   ]
  },
  {
   "cell_type": "markdown",
   "metadata": {},
   "source": [
    "## 3.3 查看test数据  \n",
    "\n",
    "查看test测试数据项，我们可以看到共计10000项数据。\n",
    "\n",
    "![title](images/6-11.png)  "
   ]
  },
  {
   "cell_type": "markdown",
   "metadata": {},
   "source": [
    "# 4.多层感知器模型数据预处理  \n",
    "\n",
    "features（数字图像的特征值）数据预处理可以分为下列几个步骤：  \n",
    "\n",
    "（1） 将原本$28\\times 28$的数字图像以reshape转换为以为的向量，其长度是784，并且为Float。  \n",
    "（2） 数字图像image的数字标准化  "
   ]
  },
  {
   "cell_type": "markdown",
   "metadata": {},
   "source": [
    "## 4.1 将image以reshape转换    \n",
    "\n",
    "下面的程序将原本$28\\times 28$的数字图像以reshape转换为以为的向量，其长度是784，在以astype转换为float，共784个浮点数。"
   ]
  },
  {
   "cell_type": "code",
   "execution_count": null,
   "metadata": {
    "collapsed": true
   },
   "outputs": [],
   "source": [
    "x_Train =x_train_image.reshape(60000, 784).astype('float32')\n",
    "x_Test = x_test_image.reshape(10000, 784).astype('float32')"
   ]
  },
  {
   "cell_type": "markdown",
   "metadata": {},
   "source": [
    "## 4.2 将数字图像images的数字标准化  \n",
    "\n",
    "images的数字图像标准化可以提高后续训练模型的准确性，因为imgaes的数字是从0~255的值，所以最简单的方式是除以255.  "
   ]
  },
  {
   "cell_type": "code",
   "execution_count": null,
   "metadata": {
    "collapsed": true
   },
   "outputs": [],
   "source": [
    "x_Train_normalize = x_Train/ 255\n",
    "x_Test_normalize = x_Test/ 255"
   ]
  },
  {
   "cell_type": "markdown",
   "metadata": {},
   "source": [
    "# 5.label数据预处理  \n",
    "\n",
    "label（数字图像的真实值）标签字段原本是0~9的数字，必须以One-Hot Encoding(以为有效编码)转换为10个0或1的组合，例如数字7经过One-Hot Encoding转换后是000000100，正好对应输出层的10个神经元。  "
   ]
  },
  {
   "cell_type": "markdown",
   "metadata": {},
   "source": [
    "## 5.1 查看原本的label标签字段。 \n",
    "\n",
    "以下列指令查看训练数据label标签字段的前5项训练数据，我们可以看到这是0~9的数字。  "
   ]
  },
  {
   "cell_type": "code",
   "execution_count": null,
   "metadata": {
    "collapsed": true
   },
   "outputs": [],
   "source": [
    "y_train_label[:5]"
   ]
  },
  {
   "cell_type": "markdown",
   "metadata": {},
   "source": [
    "## 5.3 label标签字段进行One-Hot Encoding 转换  \n",
    "\n",
    "下面的程序代码用np_utils.to_categorical分别传入参数y_train_label的label标签字段，进行One-Hot Encoding转换。  \n",
    "\n",
    "y_TrainOneHot = np_utils.to_categorical(y_train_label)  \n",
    "y_TestOneHot = np_utils.to_categorical(y_test_label)  \n",
    "\n",
    "## 5.3 查看进行One-Hot Encoding转换之后的label标签字段  \n",
    "\n",
    "进行One-Hot Encoding转换之后，查看训练数据label标签字段的前5项数据，我们可以看到转换后的结果。  \n",
    "\n",
    "![title](images/6-12.png)  "
   ]
  },
  {
   "cell_type": "markdown",
   "metadata": {},
   "source": [
    "参考上面的结果，例如第1项数据，原来的真实值是5，进行One-Hot Encoding转换之后，只有第5个数字是1，其余都是0."
   ]
  },
  {
   "cell_type": "markdown",
   "metadata": {},
   "source": [
    "# 6 结论  \n",
    "\n",
    "在本节中，我们已经介绍了如何使用Keras下载并且读取MINST数据集，并介绍了MNIST数据集的特征，也完成了数据的预处理。"
   ]
  }
 ],
 "metadata": {
  "kernelspec": {
   "display_name": "Python [default]",
   "language": "python",
   "name": "python3"
  },
  "language_info": {
   "codemirror_mode": {
    "name": "ipython",
    "version": 3
   },
   "file_extension": ".py",
   "mimetype": "text/x-python",
   "name": "python",
   "nbconvert_exporter": "python",
   "pygments_lexer": "ipython3",
   "version": "3.6.1"
  }
 },
 "nbformat": 4,
 "nbformat_minor": 1
}
