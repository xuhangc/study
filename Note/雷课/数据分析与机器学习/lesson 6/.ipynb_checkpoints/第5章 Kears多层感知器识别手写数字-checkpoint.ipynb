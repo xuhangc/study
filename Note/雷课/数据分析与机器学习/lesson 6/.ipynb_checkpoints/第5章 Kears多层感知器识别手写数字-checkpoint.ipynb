{
 "cells": [
  {
   "cell_type": "markdown",
   "metadata": {},
   "source": [
    "# 1 Keras多元感知器识别MNIST手写数字识别 \n",
    "\n",
    "## 1.1 多层感知器模型的介绍  \n",
    "\n",
    "为了能够识别MNIST手写数字图像，我们将建立如下图所示的多层感知器模型。  \n",
    "![title](images/7.0.png)  "
   ]
  },
  {
   "cell_type": "markdown",
   "metadata": {},
   "source": [
    "## 1.2 多层感知器的训练与预测  \n",
    "\n",
    "建立如上图所示的多层感知器模型后，必须线训练模型才能够进行预测这写手写数字图像。  \n",
    "![title](images/7.1.png)  \n",
    "\n",
    "以多层感知模型识别MNIST数字图像可分为训练与预测。  \n",
    "- 训练  \n",
    "MNIST训练数据集的训练数据总共有60000项，经过数据预处理后会产生Features(数字图像特征值)与Label（数字真实的值），然后输入多层感知器模型进行训练，训练完成后的模型可以作为下一个阶段预测使用。  \n",
    "- 预测  \n",
    "输入数字图像，预处理后会产生Features（数字图像特征值），使用训练完成的多层感知器模型进行预测，最后产生预测结果是0~9的数字。"
   ]
  },
  {
   "cell_type": "markdown",
   "metadata": {},
   "source": [
    "## 1.3 建立多层感知器模型的步骤  \n",
    "\n",
    "多层感知器识别MNIST数据集中的手写数字的步骤说明如图所示：  \n",
    "![title](images/7.2.png)  \n"
   ]
  },
  {
   "cell_type": "markdown",
   "metadata": {
    "collapsed": true
   },
   "source": [
    "# 2 进行数据预处理"
   ]
  },
  {
   "cell_type": "markdown",
   "metadata": {
    "collapsed": true
   },
   "source": [
    "**步骤01 导入所需模块**   \n",
    "![title](images/7.3.png)  "
   ]
  },
  {
   "cell_type": "markdown",
   "metadata": {},
   "source": [
    "**步骤02 读取MNIST数据集**   \n",
    "![title](images/7.4.png) "
   ]
  },
  {
   "cell_type": "markdown",
   "metadata": {},
   "source": [
    "**步骤03 降features(数字图像特征值)使用reshape转换成784个Float数**   \n",
    "![title](images/7.5.png) "
   ]
  },
  {
   "cell_type": "markdown",
   "metadata": {},
   "source": [
    "**步骤04 降features特征标准化**  \n",
    "降features标准化可以提高模型预测的准确度，并且更快收敛  \n",
    "![title](images/7.6.png) "
   ]
  },
  {
   "cell_type": "markdown",
   "metadata": {},
   "source": [
    "**步骤05 读取MNIST数据集**  \n",
    "使用np_utils.to_categoricial降训练数据与测试数据的label进行one-hot Encoding转换\n",
    "![title](images/7.7.png) "
   ]
  },
  {
   "cell_type": "markdown",
   "metadata": {},
   "source": [
    "# 3 建立模型  \n",
    "\n",
    "我们降建立下列多层感知器模型，输入层$x$共有784个神经元，隐藏层(h)共有256个神经元，如图所示。我们将使用下面的程序代码建立多层感知器模型。  \n",
    "![title](images/7.8.png)  "
   ]
  },
  {
   "cell_type": "markdown",
   "metadata": {},
   "source": [
    "## 3.1 导入所需模块  \n",
    "![title](images/7.9.png)"
   ]
  },
  {
   "cell_type": "markdown",
   "metadata": {},
   "source": [
    "## 3.2 建立Sequential模型  \n",
    "\n",
    "建立一个线性堆模型，后续只需要使用model.add()方法将个神经网路层加入模型即可。\n",
    "![title](images/7.9.png)"
   ]
  },
  {
   "cell_type": "markdown",
   "metadata": {},
   "source": [
    "## 3.3 建立“输入层”与“隐藏层”  \n",
    "\n",
    "以下程序代码将“输入层”与“隐藏层”加入模型，使用model.add方法加入Dense神经网络。Dense神经网络层的特色是：所有的上一层与下一层的神经元都是完全链接。 \n",
    "![title](images/7.10.png)  "
   ]
  },
  {
   "cell_type": "markdown",
   "metadata": {},
   "source": [
    "## 3.4 建立“输出层”  \n",
    "\n",
    "使用下面程序代码建立“输出层”，使用model.add方法加入Dense神经网络，共有10个神经元，对应0~9是个数字，并且使用softmax激活函数进行转换，softmax可以将神经元的输出转换为预测每一个数字的概率。  \n",
    "\n",
    "![title](images/7.11.png)  \n",
    "  \n",
    "建立“输出层”输入表7-1的参数  \n",
    "<center>表7-2 建立输出层的参数</center>\n"
   ]
  },
  {
   "cell_type": "markdown",
   "metadata": {},
   "source": [
    "  \n",
    "| 参数 | 参数说明 |  \n",
    "| ------ | ------ |\n",
    "| units=10 | 定义输出层神经元个数为10  |  \n",
    "| kerne_initialieze='normal' | 定义normal distribution正太分布的随机数来初始化weight与bias|  \n",
    "| activation | softmax |  \n"
   ]
  },
  {
   "cell_type": "markdown",
   "metadata": {},
   "source": [
    "以上建立Dense神经网络不需要设置input_dim，因为Keras会自动按照上一层的units是256个神经元，设置这一层的input_dim为256个神经元。"
   ]
  },
  {
   "cell_type": "markdown",
   "metadata": {},
   "source": [
    "## 3.5 查看模型的摘要  \n",
    "\n",
    "我们可以使用下列指令来查看模型的摘要  \n",
    "![title](images/7.12.png)  "
   ]
  },
  {
   "cell_type": "markdown",
   "metadata": {},
   "source": [
    "执行后屏幕显示界面如下图所示：  \n",
    "![title](images/7.13.png)   \n",
    "我们可以看到共有以下两层。  \n",
    "\n",
    "- **隐藏层：**共有256个神经元，因为输入层与隐藏层是一起建立的，所以没有显示输入层。  \n",
    "- **输出层：**共有10个神经元  "
   ]
  },
  {
   "cell_type": "markdown",
   "metadata": {},
   "source": [
    "# 4 进行训练  \n",
    "\n",
    "在我们建立好深度学习模型之后，就可以使用方向传播算法进行训练了。"
   ]
  },
  {
   "cell_type": "markdown",
   "metadata": {},
   "source": [
    "## 4.1 在训练之前，我们必须使用compile方法对训练模型进行设置，指令如下：  \n",
    "![title](images/7.14.png)  \n",
    "complie方法需输入下列参数  \n",
    "\n",
    "- **loss：**设置损失函数，在深度学习中使用cross_entropy(交叉熵)训练的效果比较好。  \n",
    "- **optimizer：**设置训练时，在深度学习中使用adam优化器可以让训练更快收敛，并提高准确率。  \n",
    "- **metrics：**设置评估模型的方式是准确率。  "
   ]
  },
  {
   "cell_type": "markdown",
   "metadata": {},
   "source": [
    "## 4.2 执行训练的程序代如下：  \n",
    "![title](images/7.15.png)  \n",
    "使用model.fit进行训练，训练过程会存储在train_history变量中，需输入下列参数。  \n",
    "（1）输入训练参数  \n",
    "- **x=x_Train_normalize(features数字图像的特征值)**。   \n",
    "- **y=y_Train_Onehot(label数字图像真实的值)**  \n",
    "（2）设置训练与严重数据比例  \n",
    "\n",
    "- 设置参数vlidation_split=0.2  \n",
    "训练之前Keras会自动将数据分成：80%作为训练数据，20%作为严重数据。因为全部数据是60000项，所以$60000\\times 0.2=12000$作为验证数据。  \n",
    "\n",
    "(3)设置epoch（训练周期）次数与每一批次项数。  \n",
    "\n",
    "- epochs=10：执行10个训练周期\n",
    "- batch_size=200： 每一批次200项数据。  \n",
    "\n",
    "(3)设置显示训练过程  \n",
    "\n",
    "- verbose=2： 显示训练过程  \n",
    "以上程序代码共执行了10次训练周期，每一次训练执行下列功能：  \n",
    "\n",
    "- 使用48000项训练数据进行训练，分为每一批次200项，所以大约分为240个批次进行训练。  \n",
    "- 训练完成后，会计算这个训练周期的准确率与误差，并且在train_history中薪资一个记录。  \n",
    "**以上程序代码执行后的结果如图所示:**  \n",
    "![title](images/7.16.png)  \n",
    "从以上执行结果可知，共执行力10个训练周期，并且可以反向误差越来越小，准确率越来越高。"
   ]
  },
  {
   "cell_type": "markdown",
   "metadata": {},
   "source": [
    "## 4.3 建立show_train_history过程  \n",
    "之前的训练步骤会将每一个训练周期的准确率与误差记录在traiin_histroy变量中。我们可以使用下面的程序代码读取train_histoy，以图表显示训练过程。  \n",
    "![title](images/7.17.png)   \n",
    "程序执行结果如下图所示：  \n",
    "![title](images/7.18.png)  \n",
    "在以上执行后的屏幕显示界面中，\"acc训练的准确率\"是蓝色的，\"val_acc验证的准确率是\"黄色的，以上共执行力10个训练周期，我们可以发现：  \n",
    "- 无论是训练还是验证，准确率都越来越高  \n",
    "- 在epoch训练后期，\"acc训练的准确率\"比\"val_acc验证的准确率高\"  \n",
    "**为何\"acc训练的准确率\"比\"val_acc验证的准确率高\"？**  \n",
    "这是因为计算准确率的数据不同  \n",
    "\n",
    "- **acc训练的准确率：**以训练的数据来计算准确率，因为相同的数据已经训练过了，又拿来计算准确率，所以准确率会比较高  \n",
    "- **val_acc验证的准确率高：**以验证数据来计算准确率，这些验证数据在之前训练时并未拿来训练，所以计算的准确率会比较第。但是，这样计算出来的准确率比较客观，比较符号真实情况。  "
   ]
  },
  {
   "cell_type": "markdown",
   "metadata": {},
   "source": [
    "# 5 以测试数据评估模型准确率  \n",
    "\n",
    "之前我们以将完成了训练，现在要使用test测试数据来评估模型准确率。  \n",
    "## 5.1 评估模型准确率  \n",
    "下面的程序用于评估模型准确率  \n",
    "![title](images/7.19.png)  \n",
    "以上程序代码的执行结果时准确率为0.97。  \n",
    "## 5.2 进行预测  \n",
    "通过之前的步骤，我们建立了模型，并且完成了模型训练，准确率达到还可以接收的0.97，接下来我们将使用此模型进行预测。  \n",
    "**执行预测并显示预测结果**  \n",
    "![title](images/7.20.png) \n",
    "![title](images/7.21.png) \n",
    "![title](images/7.22.png)  \n",
    "我们可以看到有一项预测错误：label真实值是5，但predict预测是3，这个手写数字图像确实挺潦草的，难怪会识别错误。  "
   ]
  },
  {
   "cell_type": "markdown",
   "metadata": {},
   "source": [
    "# 6 显示混淆矩阵  \n",
    "在上一节中我们看到了一个预测错误，真实值是5，但是预测值是3。如果我们项进一步知道在所建立的模型中哪些数字的预测准确率最高，哪些数字最容易混淆，我们可以使用confusion matrix来显示。  \n",
    "在机器学习领取中，特别是统计分类问题，混淆矩阵也称为误差矩阵，可以让我们以可视化的方式了解有监督学习算法的结果。  \n",
    "**建立并显示混淆矩阵，如图所示**  \n",
    "![title](images/7.23.png)  \n",
    "从以上混淆矩阵中，我们观察的结果如下：  \n",
    "- **对角线是预测正确的数字，我们发现：**真实值是1，被正确预测为1的项数为1125项，预测准确率最高，最不容易混淆。真实值\"5\"，被预测为”5“的项数852项，也是最低的，也就是说最容易混淆。  \n",
    "- **其它非对角线的数字代码某一个标签预测错误，成为另一个标签，我们发现：真实是5，但预测值是3**\n",
    "![title](images/7.24.png) \n",
    "因为这个数字图形看起来像5，也像3，所以会预测错误。"
   ]
  },
  {
   "cell_type": "markdown",
   "metadata": {},
   "source": [
    "# 7 结论  \n",
    "在本章中，我们使用多层感知器来识别MNIST数据集中的手写数字，准确率接近0.97，我们还可以将模型加宽，加深，以提高准确率，如果还要进一步提升准确率，就必须使用卷积神经网络。"
   ]
  }
 ],
 "metadata": {
  "kernelspec": {
   "display_name": "Python [default]",
   "language": "python",
   "name": "python3"
  },
  "language_info": {
   "codemirror_mode": {
    "name": "ipython",
    "version": 3
   },
   "file_extension": ".py",
   "mimetype": "text/x-python",
   "name": "python",
   "nbconvert_exporter": "python",
   "pygments_lexer": "ipython3",
   "version": "3.6.1"
  }
 },
 "nbformat": 4,
 "nbformat_minor": 1
}
