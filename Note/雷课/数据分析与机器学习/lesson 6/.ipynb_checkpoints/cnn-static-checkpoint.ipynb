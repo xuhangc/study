{
 "cells": [
  {
   "cell_type": "markdown",
   "metadata": {},
   "source": [
    "## CNN-static implementation with Keras & Gensim\n",
    "- A model with pre-trained vectors from word2vec. \n",
    "- All words including the unknown ones that are randomly initialized are kept static and only the other parameters of the model are learned.\n",
    "- The dataset could be downloaded at: http://ai.stanford.edu/~amaas/data/sentiment/"
   ]
  },
  {
   "cell_type": "code",
   "execution_count": null,
   "metadata": {
    "collapsed": true
   },
   "outputs": [],
   "source": [
    "import os\n",
    "import numpy as np\n",
    "import re\n",
    "import random\n",
    "\n",
    "from gensim.models import Word2Vec\n",
    "from sklearn.model_selection import train_test_split, GridSearchCV, RandomizedSearchCV\n",
    "from sklearn.metrics import accuracy_score\n",
    "from multiprocessing import Pool\n",
    "from nltk.corpus import stopwords\n",
    "\n",
    "from keras.models import Sequential, Model\n",
    "from keras.layers import Dense, Dropout, Flatten, Activation, concatenate, Input\n",
    "from keras.layers.convolutional import Conv2D, MaxPooling2D\n",
    "from keras.layers.normalization import BatchNormalization\n",
    "from keras import backend as K\n",
    "from keras import optimizers\n",
    "from keras.wrappers.scikit_learn import KerasClassifier\n",
    "from keras.callbacks import ModelCheckpoint\n",
    "from keras.constraints import maxnorm"
   ]
  },
  {
   "cell_type": "code",
   "execution_count": null,
   "metadata": {
    "collapsed": true
   },
   "outputs": [],
   "source": [
    "stop_words = set(stopwords.words('english'))    # english stopwords from nltk"
   ]
  },
  {
   "cell_type": "code",
   "execution_count": null,
   "metadata": {
    "collapsed": true
   },
   "outputs": [],
   "source": [
    "# lists to contain reviews and labels (pos/neg)\n",
    "review_list = []\n",
    "labels_list = []"
   ]
  },
  {
   "cell_type": "code",
   "execution_count": null,
   "metadata": {
    "collapsed": true
   },
   "outputs": [],
   "source": [
    "num_instances = 5000   # number of instances to consider. Actual number of whole data instances would be (num_instances * 4)"
   ]
  },
  {
   "cell_type": "code",
   "execution_count": null,
   "metadata": {
    "collapsed": true
   },
   "outputs": [],
   "source": [
    "# reading text files. \n",
    "files = os.listdir('aclImdb/train/pos')[:num_instances]\n",
    "for file in files:\n",
    "    with open('aclImdb/train/pos/{}'.format(file), 'r', encoding = 'utf-8') as f:\n",
    "        sentence = [word for word in f.read().split() if word not in stop_words]\n",
    "        sentence = [word.lower() for word in sentence if re.match('^[a-zA-Z]+', word)]\n",
    "        f.close()\n",
    "    review_list.append(sentence)\n",
    "    labels_list.append(1)\n",
    "\n",
    "files = os.listdir('aclImdb/train/neg')[:num_instances]\n",
    "for file in files:\n",
    "    review = ''\n",
    "    with open('aclImdb/train/neg/{}'.format(file), 'r', encoding = 'utf-8') as f:\n",
    "        sentence = [word for word in f.read().split() if word not in stop_words]\n",
    "        sentence = [word.lower() for word in sentence if re.match('^[a-zA-Z]+', word)]\n",
    "        f.close()\n",
    "    review_list.append(sentence)\n",
    "    labels_list.append(0)\n",
    "\n",
    "files = os.listdir('aclImdb/test/pos')[:num_instances]\n",
    "for file in files:\n",
    "    review = ''\n",
    "    with open('aclImdb/test/pos/{}'.format(file), 'r', encoding = 'utf-8') as f:\n",
    "        sentence = [word for word in f.read().split() if word not in stop_words]\n",
    "        sentence = [word.lower() for word in sentence if re.match('^[a-zA-Z]+', word)]\n",
    "        f.close()\n",
    "    review_list.append(sentence)\n",
    "    labels_list.append(1)\n",
    "\n",
    "files = os.listdir('aclImdb/test/neg')[:num_instances]\n",
    "for file in files:\n",
    "    review = ''\n",
    "    with open('aclImdb/test/neg/{}'.format(file), 'r', encoding = 'utf-8') as f:\n",
    "        sentence = [word for word in f.read().split() if word not in stop_words]\n",
    "        sentence = [word.lower() for word in sentence if re.match('^[a-zA-Z]+', word)]\n",
    "        f.close()\n",
    "    review_list.append(sentence)\n",
    "    labels_list.append(0)"
   ]
  },
  {
   "cell_type": "code",
   "execution_count": null,
   "metadata": {},
   "outputs": [],
   "source": [
    "print(len(review_list))\n",
    "print(len(labels_list))"
   ]
  },
  {
   "cell_type": "code",
   "execution_count": null,
   "metadata": {},
   "outputs": [],
   "source": [
    "max_len = len(max(review_list, key = len))    # maximum length of a sentence\n",
    "print(max_len)"
   ]
  },
  {
   "cell_type": "code",
   "execution_count": null,
   "metadata": {
    "collapsed": true
   },
   "outputs": [],
   "source": [
    "threshold = max_len = 500   # in order to cut out excessively long sentences, define a thresold (i.e., a maximum number of words to be considered)"
   ]
  },
  {
   "cell_type": "code",
   "execution_count": null,
   "metadata": {
    "collapsed": true
   },
   "outputs": [],
   "source": [
    "# if the length of the sentence is longer than the threshold, exclude that sentence\n",
    "for i in range(len(review_list)):\n",
    "    if len(review_list[i]) > threshold :\n",
    "        review_list[i] = None\n",
    "        labels_list[i] = None"
   ]
  },
  {
   "cell_type": "code",
   "execution_count": null,
   "metadata": {
    "collapsed": true
   },
   "outputs": [],
   "source": [
    "review_list = [rev for rev in review_list if rev is not None] \n",
    "labels_list = [rev for rev in labels_list if rev is not None] "
   ]
  },
  {
   "cell_type": "code",
   "execution_count": null,
   "metadata": {},
   "outputs": [],
   "source": [
    "print(len(review_list))\n",
    "print(len(labels_list))"
   ]
  },
  {
   "cell_type": "code",
   "execution_count": null,
   "metadata": {
    "collapsed": true
   },
   "outputs": [],
   "source": [
    "embed_dim = 100    # assign the dimension of the embedding space"
   ]
  },
  {
   "cell_type": "code",
   "execution_count": null,
   "metadata": {
    "collapsed": true
   },
   "outputs": [],
   "source": [
    "model = Word2Vec(sentences = review_list, size = embed_dim, sg = 1, window = 5, min_count = 1, iter = 10, workers = Pool()._processes)\n",
    "model.init_sims(replace = True)    "
   ]
  },
  {
   "cell_type": "code",
   "execution_count": null,
   "metadata": {
    "collapsed": true
   },
   "outputs": [],
   "source": [
    "# create a 3-D numpy array to carry X data\n",
    "X_data = np.zeros((len(review_list), max_len, embed_dim))"
   ]
  },
  {
   "cell_type": "code",
   "execution_count": null,
   "metadata": {
    "collapsed": true
   },
   "outputs": [],
   "source": [
    "for i in range(len(review_list)):\n",
    "    for j in range(max_len):\n",
    "        try:\n",
    "            X_data[i][j] = model[review_list[i][j]]\n",
    "        except:\n",
    "            pass   # if the word is not included in the embedding space, assign zero (i.e., zero padding)"
   ]
  },
  {
   "cell_type": "code",
   "execution_count": null,
   "metadata": {
    "scrolled": true
   },
   "outputs": [],
   "source": [
    "X_data = X_data.reshape(X_data.shape[0], X_data.shape[1], X_data.shape[2], 1)    # reshape the data into 4-D shape\n",
    "print(X_data.shape)"
   ]
  },
  {
   "cell_type": "code",
   "execution_count": null,
   "metadata": {
    "collapsed": true
   },
   "outputs": [],
   "source": [
    "X_train, X_test, y_train, y_test = train_test_split(X_data, labels_list, test_size = 0.3, random_state = 777)"
   ]
  },
  {
   "cell_type": "code",
   "execution_count": null,
   "metadata": {
    "collapsed": true
   },
   "outputs": [],
   "source": [
    "# assign the hyperparameters of the model\n",
    "filter_sizes = [3, 4, 5]\n",
    "dropout_rate = 0.5\n",
    "l2_constraint = 3.0"
   ]
  },
  {
   "cell_type": "code",
   "execution_count": null,
   "metadata": {
    "collapsed": true
   },
   "outputs": [],
   "source": [
    "def convolution():\n",
    "    inn = Input(shape = (max_len, embed_dim, 1))\n",
    "    convolutions = []\n",
    "    # we conduct three convolutions & poolings then concatenate them.\n",
    "    for fs in filter_sizes:\n",
    "        conv = Conv2D(filters = 100, kernel_size = (fs, embed_dim), strides = 1, padding = \"valid\")(inn)\n",
    "        nonlinearity = Activation('relu')(conv)\n",
    "        maxpool = MaxPooling2D(pool_size = (max_len - fs + 1, 1), padding = \"valid\")(nonlinearity)\n",
    "        convolutions.append(maxpool)\n",
    "    outt = concatenate(convolutions)\n",
    "    model = Model(input = inn, output = outt)\n",
    "    \n",
    "    return model"
   ]
  },
  {
   "cell_type": "code",
   "execution_count": null,
   "metadata": {
    "collapsed": true
   },
   "outputs": [],
   "source": [
    "def cnn_model():\n",
    "    convolutions = convolution()\n",
    "    \n",
    "    model = Sequential()\n",
    "    model.add(convolutions)\n",
    "    model.add(Dropout(dropout_rate))\n",
    "    \n",
    "    model.add(Flatten())\n",
    "    model.add(Dense(1, kernel_constraint=maxnorm(l2_constraint), activation = 'sigmoid'))\n",
    "    \n",
    "    adam = optimizers.Adam(lr = 0.01)\n",
    "    model.compile(optimizer = adam, loss = 'binary_crossentropy', metrics = ['accuracy'])\n",
    "    \n",
    "    return model"
   ]
  },
  {
   "cell_type": "code",
   "execution_count": null,
   "metadata": {},
   "outputs": [],
   "source": [
    "cnn = cnn_model()\n",
    "cnn.summary()    # summary of the model"
   ]
  },
  {
   "cell_type": "code",
   "execution_count": null,
   "metadata": {
    "collapsed": true
   },
   "outputs": [],
   "source": [
    "cnn_model = KerasClassifier(build_fn = cnn_model, epochs = 100, batch_size = 50, verbose = 1)"
   ]
  },
  {
   "cell_type": "code",
   "execution_count": null,
   "metadata": {},
   "outputs": [],
   "source": [
    "cnn_model.fit(X_train, y_train)"
   ]
  },
  {
   "cell_type": "code",
   "execution_count": null,
   "metadata": {},
   "outputs": [],
   "source": [
    "y_pred = cnn_model.predict(X_test)"
   ]
  },
  {
   "cell_type": "code",
   "execution_count": null,
   "metadata": {},
   "outputs": [],
   "source": [
    "print(accuracy_score(y_test, y_pred))"
   ]
  }
 ],
 "metadata": {
  "kernelspec": {
   "display_name": "Python [default]",
   "language": "python",
   "name": "python3"
  },
  "language_info": {
   "codemirror_mode": {
    "name": "ipython",
    "version": 3
   },
   "file_extension": ".py",
   "mimetype": "text/x-python",
   "name": "python",
   "nbconvert_exporter": "python",
   "pygments_lexer": "ipython3",
   "version": "3.6.1"
  }
 },
 "nbformat": 4,
 "nbformat_minor": 2
}
