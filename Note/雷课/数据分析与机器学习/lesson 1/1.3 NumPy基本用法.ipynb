{
 "cells": [
  {
   "cell_type": "markdown",
   "metadata": {},
   "source": [
    "### <center>NumPy基本使用语法</center>"
   ]
  },
  {
   "cell_type": "markdown",
   "metadata": {},
   "source": [
    "### 1.什么是NumPy？\n",
    "\n",
    "NumPy(Numerical Python) 是 Python 语言的一个扩展程序库，支持大规模的**维度数组与矩阵运算**，此外也针对数组运算提供大量的数学函数库。\n",
    "\n",
    "- 数组矩阵是科学计算、机器学习的基础。  NumPy操作简单，避免写大量循环\n",
    "\n",
    "对于同样的数值计算任务，使用NumPy要比直接编写Python代码便捷得多。这是因为NumPy能够直接对数组和矩阵进行操作，可以省略很多循环语句，其众多的数学函数也会让编写代码的工作轻松许多。\n",
    "\n",
    "- 底层基于c语言编写，性能好\n",
    "\n",
    "NumPy中数组的存储效率和输入输出性能均远远优于Python中等价的基本数据结构（如嵌套的list容器）。其能够提升的性能是与数组中元素的数目成比例的。对于大型数组的运算，使用NumPy的确很有优势。对于TB级的大文件，NumPy使用内存映射文件来处理，以达到最优的数据读写性能。\n",
    "\n",
    "- 适合存储计算图像、音频、视频等数据\n",
    "\n",
    "\n",
    "NumPy的官方文档：\n",
    "https://docs.scipy.org/doc/numpy/reference/\n"
   ]
  },
  {
   "cell_type": "markdown",
   "metadata": {},
   "source": [
    "### 2.如何创建数组？\n",
    "\n",
    "- ndarray：  多维数据数据结构，一种新的数据类型\n",
    "- ufunc： 配套的很多函数"
   ]
  },
  {
   "cell_type": "code",
   "execution_count": null,
   "metadata": {},
   "outputs": [],
   "source": [
    "#导入numpy包，这样才能使用它提供的对象和函数，按惯例大家命名为 简写的 np\n",
    "import numpy as np  "
   ]
  },
  {
   "cell_type": "markdown",
   "metadata": {},
   "source": [
    "#### 使用list创建数据组ndarray"
   ]
  },
  {
   "cell_type": "code",
   "execution_count": null,
   "metadata": {},
   "outputs": [],
   "source": [
    "# 使用list数据初始化一个 ndarray\n",
    "a=np.array([1,2,3])\n",
    "\n",
    "\n",
    "\n",
    "print(a) # a变量就是 numpy的数据对象， ndarray\n",
    "b=np.array([1.1,2.2,3.3])\n",
    "print(b.dtype)\n",
    "c=np.array([[1,2,3],[4,5,6]]) #创建二维数组\n",
    "c\n"
   ]
  },
  {
   "cell_type": "code",
   "execution_count": null,
   "metadata": {},
   "outputs": [],
   "source": [
    "a=np.array([1,2,'3'])  #ndarray里数据需要为统一类型，为自动转换；  list里不要求\n",
    "a"
   ]
  },
  {
   "cell_type": "code",
   "execution_count": null,
   "metadata": {},
   "outputs": [],
   "source": [
    "a=np.array([1,2,3.3])\n",
    "a"
   ]
  },
  {
   "cell_type": "markdown",
   "metadata": {},
   "source": [
    "#### 使用arange函数\n",
    "\n",
    "为了创建列表，NumPy提供了和 ```range``` 类似的函数，通过指定开始值、终值和步长来创建一维数组，注意数组不包括终值。\n",
    "```py\n",
    "np.arange(start,end,step)\n",
    "a=np.arange(10,30,5)\n",
    "b=np.arange(0,2,0.3)#同样可以接收浮点数\n",
    "```\n",
    "arange函数可以看做是range函数的数组版，能生成一个一维数组，然后可以用reshape函数将一维数组改变成想要的形状，原数组的shape保持不变。\n",
    "```py\n",
    "b = a.reshape(5, -1)\n",
    "```"
   ]
  },
  {
   "cell_type": "code",
   "execution_count": null,
   "metadata": {},
   "outputs": [],
   "source": [
    "a = np.arange(1, 100,2)    #步长为2\n",
    "print(a )\n",
    "b = np.arange(0, 3, 0.3)\n",
    "print(b)\n"
   ]
  },
  {
   "cell_type": "code",
   "execution_count": null,
   "metadata": {},
   "outputs": [],
   "source": [
    "#生成随机数组\n",
    "ra=np.random.rand(10)\n",
    "print(ra)"
   ]
  },
  {
   "cell_type": "code",
   "execution_count": null,
   "metadata": {},
   "outputs": [],
   "source": [
    "#修改数组形状shape\n",
    "b = ra.reshape(5 , -1)  #   -1表示 对a重组，为5行，列的数目自动计算即10/5=2\n",
    "print(b)"
   ]
  },
  {
   "cell_type": "markdown",
   "metadata": {},
   "source": [
    "### 2.如何访问数组里数据？\n",
    "\n",
    "数组元素的存取方法和Python中字符串和list的标准方法相同"
   ]
  },
  {
   "cell_type": "code",
   "execution_count": null,
   "metadata": {},
   "outputs": [],
   "source": [
    "a = np.arange(10)\n",
    "a[5] # 用整数作为下标可以获取数组中的某个元素\n",
    "a[3:5] # 用范围作为下标获取数组的一个切片，包括a[3]不包括a[5]\n",
    "a[:5] # 省略开始下标，表示从a[0]开始\n",
    "a[:-1] # 下标可以使用负数，表示从数组后往前数\n",
    "a[2:4] = 100,101 # 下标还可以用来修改元素的值\n",
    "a[1:-1:2] # 范围中的第三个参数表示步长，2表示隔一个元素取一个元素\n",
    "a[::-1] # 省略范围的开始下标和结束下标，步长为-1，整个数组头尾颠倒\n",
    "a[5:1:-2] # 步长为负数时，开始下标必须大于结束下标"
   ]
  },
  {
   "cell_type": "markdown",
   "metadata": {},
   "source": [
    "### 3.数组的运算\n",
    "\n"
   ]
  },
  {
   "cell_type": "markdown",
   "metadata": {},
   "source": [
    "构造数组\n",
    "![Data Layout](img/data.png)\n",
    "\n",
    "加法： 实现对应位置上的数据相加的操作（即每行数据进行相加），这种操作比循环读取数组的方法代码实现更加简洁。\n",
    "![Data Layout](img/jiafa.png)\n",
    "![Data Layout](img/jianfa.jpeg)"
   ]
  },
  {
   "cell_type": "code",
   "execution_count": null,
   "metadata": {},
   "outputs": [],
   "source": [
    "data=np.array([1,2])\n",
    "data"
   ]
  },
  {
   "cell_type": "code",
   "execution_count": null,
   "metadata": {},
   "outputs": [],
   "source": [
    "ones=np.ones(2)\n",
    "ones"
   ]
  },
  {
   "cell_type": "code",
   "execution_count": null,
   "metadata": {},
   "outputs": [],
   "source": [
    "data+ones"
   ]
  },
  {
   "cell_type": "code",
   "execution_count": null,
   "metadata": {},
   "outputs": [],
   "source": [
    "data-ones"
   ]
  },
  {
   "cell_type": "markdown",
   "metadata": {},
   "source": [
    "## 矩阵点乘\n",
    "![Data Layout](img/dot.png)\n",
    "\n",
    "![Data Layout](img/dot2.jpeg)"
   ]
  },
  {
   "cell_type": "markdown",
   "metadata": {},
   "source": [
    "### 4.多维数组\n",
    "\n",
    "多维数组的存取和一维数组类似，因为多维数组有多个轴，因此它的下标需要用多个值来表示"
   ]
  },
  {
   "cell_type": "code",
   "execution_count": null,
   "metadata": {},
   "outputs": [],
   "source": [
    "duowei = np.arange(0, 60).reshape(6,10)\n",
    "duowei"
   ]
  },
  {
   "cell_type": "code",
   "execution_count": null,
   "metadata": {},
   "outputs": [],
   "source": [
    "duowei[1:3, 3:5]"
   ]
  },
  {
   "cell_type": "markdown",
   "metadata": {},
   "source": [
    "### 5.NumPy提供的数组的函数ufunc\n",
    "\n",
    "ufunc是universal function的缩写，它是一种能对数组的每个元素进行操作的函数。许多ufunc函数都是在C语言级别实现的，因此它们的计算速度非常快。"
   ]
  },
  {
   "cell_type": "markdown",
   "metadata": {},
   "source": [
    "**一元ufunc**  ：数学运算\n",
    "* ceil(x): 向上最接近的整数，参数是 number 或 array\n",
    "* floor(x): 向下最接近的整数，参数是 number 或 array\n",
    "* rint(x): 四舍五入，参数是 number 或 array\n",
    "* negative(x): 元素取反，参数是 number 或 array\n",
    "* abs(x)：元素的绝对值，参数是 number 或 array\n",
    "* square(x)：元素的平方，参数是 number 或 array\n",
    "* aqrt(x)：元素的平方根，参数是 number 或 array\n",
    "* sign(x)：计算各元素的正负号, 1(正数)、0（零）、-1(负数)，参数是 number 或 array\n",
    "* modf(x)：将数组的小数和整数部分以两个独立数组的形式返回，参数是 number 或 array\n",
    "* isnan(x): 判断元素是否为 NaN(Not a Number)，返回bool，参数是 number 或 array\n"
   ]
  },
  {
   "cell_type": "code",
   "execution_count": null,
   "metadata": {},
   "outputs": [],
   "source": [
    "x=np.array([1.1,2.2,3]) \n",
    "np.square(x)  #一元ufunc调用实例"
   ]
  },
  {
   "cell_type": "markdown",
   "metadata": {},
   "source": [
    "**二元ufunc**  ：数组的四则运算与比较运算\n",
    "* add(x, y): 元素相加，x + y，参数是 number 或 array\n",
    "* subtract(x, y): 元素相减，x – y，参数是 number 或 array\n",
    "* multiply(x, y): 元素相乘，x * y，参数是 number 或 array\n",
    "* divide(x, y): 元素相除，x / y，参数是 number 或 array\n",
    "* floor_divide(x, y): 元素相除取整数商(丢弃余数)，x // y，参数是 number 或 array\n",
    "* mod(x, y): 元素求余数，x % y，参数是 number 或 array\n",
    "* power(x, y): 元素求次方，x ** y，参数是 number 或 array\n",
    "* equal(x1, x2 [, y]) : y = x1 == x2 \n",
    "* not_equal(x1, x2 [, y]) : y = x1 != x2 \n",
    "* less(x1, x2, [, y]) : y = x1 < x2 \n",
    "* less_equal(x1, x2, [, y]) : y = x1 <= x2 \n",
    "* greater(x1, x2, [, y]) : y = x1 > x2 \n",
    "* greater_equal(x1, x2, [, y]) : y = x1 >= x2 \n"
   ]
  },
  {
   "cell_type": "code",
   "execution_count": null,
   "metadata": {},
   "outputs": [],
   "source": [
    "#数组间运算，是每个位置的元素对应分别计算,形状需要一样\n",
    "x=np.array([1,2,3])\n",
    "y=np.array([5,6,7]) \n",
    "\n",
    "print(x+y)\n",
    "print(x-y)\n",
    "print(x*y)\n",
    "print(x/y)"
   ]
  },
  {
   "cell_type": "code",
   "execution_count": null,
   "metadata": {},
   "outputs": [],
   "source": [
    "print(x<y)"
   ]
  },
  {
   "cell_type": "markdown",
   "metadata": {},
   "source": [
    "### 7.NumPy提供了其他的函数库\n",
    "\n",
    "函数库不是只针对ndarray数组，是一些通用的函数，对int ，float也可以使用"
   ]
  },
  {
   "cell_type": "markdown",
   "metadata": {},
   "source": [
    "**比较运算**\n",
    "* allclose(a, b[, rtol, atol, equal_nan]) 如果两个数组在容差范围内在元素方面相等，则返回True。\n",
    "* isclose(a, b[, rtol, atol, equal_nan]) 返回一个布尔数组，其中两个数组在容差范围内是元素相等的。\n",
    "* array_equal(a1, a2) 如果两个数组具有相同的形状和元素，则为真，否则为False。\n",
    "* array_equiv(a1, a2) 如果输入数组的形状一致且所有元素相等，则返回True。\n",
    "* greater(x1, x2, /[, out, where, casting, …]) 逐个元素方式返回（x1> x2）的真值。\n",
    "* greater_equal(x1, x2, /[, out, where, …]) 逐个元素方式返回（x1> = x2）的真值。\n",
    "* less(x1, x2, /[, out, where, casting, …]) 逐个元素方式返回\n",
    "* less_equal(x1, x2, /[, out, where, casting, …]) 逐个元素方式返回\n",
    "* equal(x1, x2, /[, out, where, casting, …]) 逐个元素返回（x1 == x2）。\n",
    "* not_equal(x1, x2, /[, out, where, casting, …]) 逐个元素返回 Return (x1 != x2)。\n",
    "\n",
    "**三角函数**\n",
    "* sin(x, /[, out, where, casting, order, …]) 逐个元素运算三角正弦函数。\n",
    "* cos(x, /[, out, where, casting, order, …]) 逐个元素运算三角余弦函数。\n",
    "* tan(x, /[, out, where, casting, order, …]) 逐个元素运算三角正切函数。\n",
    "* arcsin(x, /[, out, where, casting, order, …]) 逐个元素运算三角反正弦函数。\n",
    "* arccos(x, /[, out, where, casting, order, …]) 逐个元素运算三角反余弦函数。\n",
    "* arctan(x, /[, out, where, casting, order, …]) 逐个元素运算三角反正切函数。\n",
    "* hypot(x1, x2, /[, out, where, casting, …]) 给定直角三角形的“腿”，返回它的斜边。\n",
    "* arctan2(x1, x2, /[, out, where, casting, …]) 元素弧切线x1/x2正确选择象限。\n",
    "* degrees(x, /[, out, where, casting, order, …]) 将角度从弧度转换为度数。\n",
    "* radians(x, /[, out, where, casting, order, …]) 将角度从度数转换为弧度。\n",
    "* unwrap(p[, discont, axis]) 通过将值之间的差值更改为2*pi补码来展开。\n",
    "* deg2rad(x, /[, out, where, casting, order, …]) 将角度从度数转换为弧度。\n",
    "* rad2deg(x, /[, out, where, casting, order, …]) 将角度从弧度转换为度数。\n",
    "\n",
    "**求总和, 求乘积, 求差异**\n",
    "* prod(a[, axis, dtype, out, keepdims]) 返回给定轴上的数组元素的乘积。\n",
    "* sum(a[, axis, dtype, out, keepdims]) 给定轴上的数组元素的总和。\n",
    "* nanprod(a[, axis, dtype, out, keepdims]) 返回给定轴上的数组元素的乘积。\n",
    "* nansum(a[, axis, dtype, out, keepdims]) 返回给定轴上的数组元素的总和。\n",
    "* cumprod(a[, axis, dtype, out]) 返回给定轴上元素的累积乘积。\n",
    "* cumsum(a[, axis, dtype, out]) 返回给定轴上元素的累积和。\n",
    "* nancumprod(a[, axis, dtype, out]) 返回给定轴上的数组元素的累积乘积\n",
    "* nancumsum(a[, axis, dtype, out]) 返回给定轴上的数组元素的累积和。\n",
    "* diff(a[, n, axis]) 计算沿给定轴的第n个离散差。\n",
    "* ediff1d(ary[, to_end, to_begin]) 数组的连续元素之间的差异。\n",
    "* gradient(f, varargs, *kwargs) 返回N维数组的渐变。\n",
    "* cross(a, b[, axisa, axisb, axisc, axis]) 返回两个（数组）向量的叉积。\n",
    "* trapz(y[, x, dx, axis]) 沿给定的轴积分使用复合梯形规则运算。\n",
    "\n",
    "**平均数和差异**\n",
    "* median(a[, axis, out, overwrite_input, keepdims]) 沿指定轴计算中值。\n",
    "* average(a[, axis, weights, returned]) 计算沿指定轴的加权平均。\n",
    "* mean(a[, axis, dtype, out, keepdims]) 沿指定的轴计算算术平均值。\n",
    "* std(a[, axis, dtype, out, ddof, keepdims]) 计算沿指定轴的标准偏差。\n",
    "* var(a[, axis, dtype, out, ddof, keepdims]) 计算沿指定轴的方差。\n",
    "* nanmedian(a[, axis, out, overwrite_input, …]) 在忽略NAS的情况下，沿指定的轴计算中值。\n",
    "* nanmean(a[, axis, dtype, out, keepdims]) 计算沿指定轴的算术平均值，忽略NAS。\n",
    "* nanstd(a[, axis, dtype, out, ddof, keepdims]) 计算指定轴上的标准偏差，而忽略NAS。\n",
    "* nanvar(a[, axis, dtype, out, ddof, keepdims]) 计算指定轴上的方差，同时忽略NAS。"
   ]
  },
  {
   "cell_type": "code",
   "execution_count": null,
   "metadata": {},
   "outputs": [],
   "source": [
    "import time\n",
    "import math\n",
    "\n",
    "x = [i * 0.001 for i in range(1000000)]\n",
    "start = time.process_time()\n",
    "for i, t in enumerate(x):\n",
    "    x[i] = math.sin(t)   #python自带的函数\n",
    "print(\"math.sin:\", time.process_time() - start)    #统计计算时间"
   ]
  },
  {
   "cell_type": "code",
   "execution_count": null,
   "metadata": {},
   "outputs": [],
   "source": [
    "#采用numpy函数会计算的更快\n",
    "x = [i * 0.001 for i in range(1000000)]\n",
    "x = np.array(x)   # x已经转变为 ndarray对象\n",
    "start = time.process_time()\n",
    "np.sin(x)  #numpy的函数\n",
    "print (\"numpy.sin:\", time.process_time() - start)"
   ]
  },
  {
   "cell_type": "markdown",
   "metadata": {},
   "source": [
    "### 8.NumPy的文件读取函数\n",
    "\n",
    "从文件里读取数据直接构建ndarray，或者把结果保存"
   ]
  },
  {
   "cell_type": "markdown",
   "metadata": {},
   "source": [
    "使用numpy.savetxt和numpy.loadtxt可以读写1维和2维的数组\n",
    "```\n",
    "np.loadtxt(FILENAME, dtype=int, delimiter=' ')\n",
    "np.savetxt(FILENAME, a, fmt=\"%d\", delimiter=\",\")\n",
    "\n",
    "a = np.arange(0,12,0.5).reshape(4,-1)\n",
    "np.savetxt(\"a.txt\", a) # 缺省按照'%.18e'格式保存数据，以空格分隔\n",
    "np.loadtxt(\"a.txt\")\n",
    "\n",
    "np.savetxt(\"a.txt\", a, fmt=\"%d\", delimiter=\",\") #改为保存为整数，以逗号分隔\n",
    "np.loadtxt(\"a.txt\",delimiter=\",\") # 读入的时候也需要指定逗号分隔\n",
    "```"
   ]
  },
  {
   "cell_type": "code",
   "execution_count": null,
   "metadata": {},
   "outputs": [],
   "source": [
    "a = np.arange(0,12).reshape(3,4)\n",
    "np.savetxt(\"a.txt\", a, delimiter=\",\",fmt='%10.5f')\n",
    "a "
   ]
  },
  {
   "cell_type": "code",
   "execution_count": null,
   "metadata": {},
   "outputs": [],
   "source": [
    "b = np.loadtxt(\"a.txt\",delimiter=\",\", dtype=float)\n",
    "b"
   ]
  },
  {
   "cell_type": "markdown",
   "metadata": {},
   "source": [
    "### 练习\n",
    "\n",
    "不执行下面的代码，阅读代码分析，会输出什么结果？ 然后添加一个新的cell，复制代码执行看是否正确\n",
    "```\n",
    "list1=[]\n",
    "for i in range(1,10):\n",
    "    for j in range(1,10):\n",
    "        list1.append(i*j)\n",
    "\n",
    "a1 = np.array(list1).reshape(9,9)\n",
    "print(a1)\n",
    "```"
   ]
  }
 ],
 "metadata": {
  "kernelspec": {
   "display_name": "Python 3",
   "language": "python",
   "name": "python3"
  },
  "language_info": {
   "codemirror_mode": {
    "name": "ipython",
    "version": 3
   },
   "file_extension": ".py",
   "mimetype": "text/x-python",
   "name": "python",
   "nbconvert_exporter": "python",
   "pygments_lexer": "ipython3",
   "version": "3.7.3"
  }
 },
 "nbformat": 4,
 "nbformat_minor": 2
}
