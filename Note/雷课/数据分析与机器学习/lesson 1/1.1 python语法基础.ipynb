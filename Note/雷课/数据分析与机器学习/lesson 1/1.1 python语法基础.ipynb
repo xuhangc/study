{
 "cells": [
  {
   "cell_type": "markdown",
   "metadata": {},
   "source": [
    "## 1.1 Python3 语法基础"
   ]
  },
  {
   "cell_type": "markdown",
   "metadata": {},
   "source": [
    "### 0. 在什么软件里编写python代码，如何执行？\n",
    "- jupyter notebook\n",
    "- 命令行\n",
    "- IDE，比如pycharm"
   ]
  },
  {
   "cell_type": "code",
   "execution_count": 1,
   "metadata": {},
   "outputs": [
    {
     "output_type": "execute_result",
     "data": {
      "text/plain": [
       "4"
      ]
     },
     "metadata": {},
     "execution_count": 1
    }
   ],
   "source": [
    "1+3  "
   ]
  },
  {
   "cell_type": "markdown",
   "metadata": {},
   "source": [
    "### 1. 什么是python语句？什么是代码注释？如何在屏幕上输出Hello world！"
   ]
  },
  {
   "cell_type": "code",
   "execution_count": 2,
   "metadata": {},
   "outputs": [
    {
     "output_type": "stream",
     "name": "stdout",
     "text": [
      "Hello world!\n"
     ]
    }
   ],
   "source": [
    "#这是一条注释，是给阅读代码的程序员看的，机器会忽略\n",
    "print(\"Hello world!\")   #这是一条语句，每条语句计算机里的python软件都会进行解析和按顺序执行"
   ]
  },
  {
   "cell_type": "code",
   "execution_count": 3,
   "metadata": {},
   "outputs": [
    {
     "output_type": "stream",
     "name": "stdout",
     "text": [
      "leike\n"
     ]
    }
   ],
   "source": [
    "print(\"leike\")"
   ]
  },
  {
   "cell_type": "code",
   "execution_count": 4,
   "metadata": {},
   "outputs": [
    {
     "output_type": "stream",
     "name": "stdout",
     "text": [
      "aaa\n"
     ]
    }
   ],
   "source": [
    "'''\n",
    "hahaha\n",
    "'''\n",
    "print(\"aaa\")"
   ]
  },
  {
   "cell_type": "code",
   "execution_count": 5,
   "metadata": {},
   "outputs": [
    {
     "output_type": "stream",
     "name": "stdout",
     "text": [
      "Hello world1!\nHello world2!\nHello world3!\nHello world4!\nHello world4!\n"
     ]
    }
   ],
   "source": [
    "#这是注释\n",
    "print(\"Hello world1!\")  #这是注释\n",
    "print(\"Hello world2!\")  \n",
    "print(\"Hello world3!\")  \n",
    "print(\"Hello world4!\") \n",
    "'''\n",
    "这是注释\n",
    "这是注释\n",
    "这是注释\n",
    "\n",
    "'''\n",
    "print(\"Hello world4!\") "
   ]
  },
  {
   "cell_type": "markdown",
   "metadata": {},
   "source": [
    "###  2. 如何使用python进行数学四则运算？实现计算器的功能\n"
   ]
  },
  {
   "cell_type": "code",
   "execution_count": 6,
   "metadata": {},
   "outputs": [
    {
     "output_type": "stream",
     "name": "stdout",
     "text": [
      "1+2= 3\n1-2= -1\n1*2= 2\n1/2= 0.5\n1%2= 1\n1**2= 1\n11\n"
     ]
    }
   ],
   "source": [
    "#计算机最开始发明就是用于数学运算，进一步自动求解各种复杂的数学问题\n",
    "#python语言支持四则运算符\n",
    "#支持整数和小数运算\n",
    "\n",
    "print(\"1+2=\",1+2)\n",
    "print(\"1-2=\",1-2) \n",
    "print(\"1*2=\",1*2) #乘法 * \n",
    "print(\"1/2=\",1/2) #除法 /\n",
    "print(\"1%2=\",1%2) #余数\n",
    "print(\"1**2=\",1**2) #幂  几次方\n",
    "print((1+3)*4-5) #通过括号确定优先级"
   ]
  },
  {
   "cell_type": "code",
   "execution_count": 7,
   "metadata": {},
   "outputs": [
    {
     "output_type": "execute_result",
     "data": {
      "text/plain": [
       "-1"
      ]
     },
     "metadata": {},
     "execution_count": 7
    }
   ],
   "source": [
    "1-2"
   ]
  },
  {
   "cell_type": "code",
   "execution_count": 8,
   "metadata": {},
   "outputs": [
    {
     "output_type": "execute_result",
     "data": {
      "text/plain": [
       "12.166666666666666"
      ]
     },
     "metadata": {},
     "execution_count": 8
    }
   ],
   "source": [
    "1+3*4-5/6*1"
   ]
  },
  {
   "cell_type": "code",
   "execution_count": 9,
   "metadata": {},
   "outputs": [
    {
     "output_type": "stream",
     "name": "stdout",
     "text": [
      "3\n7\n"
     ]
    }
   ],
   "source": [
    "print(1+2)\n",
    "print(3+4)"
   ]
  },
  {
   "cell_type": "markdown",
   "metadata": {},
   "source": [
    "###  3. 什么是变量？什么是数据类型？\n"
   ]
  },
  {
   "cell_type": "code",
   "execution_count": 10,
   "metadata": {},
   "outputs": [
    {
     "output_type": "stream",
     "name": "stdout",
     "text": [
      "age1 30\nage2 30\nsum 60\n"
     ]
    }
   ],
   "source": [
    "#变量， 是一个值的名字 variable\n",
    "age1 =30 #定义一个变量age，  赋值给他 20\n",
    "age2 = 30 \n",
    "sum3= age1+age2\n",
    "print('age1',age1)\n",
    "print('age2',age2)\n",
    "print('sum',sum3)\n",
    "# 好处1：代码好理解，变量名 要是一个好理解的 单词或者拼音\n",
    "# 好处2：代码可以重复使用"
   ]
  },
  {
   "cell_type": "code",
   "execution_count": 11,
   "metadata": {},
   "outputs": [
    {
     "output_type": "stream",
     "name": "stdout",
     "text": [
      "70\n"
     ]
    }
   ],
   "source": [
    "print(40+30) #40是年龄 30是另一个人的年龄 "
   ]
  },
  {
   "cell_type": "code",
   "execution_count": 12,
   "metadata": {},
   "outputs": [
    {
     "output_type": "error",
     "ename": "NameError",
     "evalue": "name 'hao_ren' is not defined",
     "traceback": [
      "\u001b[0;31m---------------------------------------------------------------------------\u001b[0m",
      "\u001b[0;31mNameError\u001b[0m                                 Traceback (most recent call last)",
      "\u001b[0;32m<ipython-input-12-66cd88934f3e>\u001b[0m in \u001b[0;36m<module>\u001b[0;34m\u001b[0m\n\u001b[1;32m      6\u001b[0m \u001b[0mao_ren\u001b[0m\u001b[0;34m=\u001b[0m\u001b[0;36m2\u001b[0m\u001b[0;34m\u001b[0m\u001b[0;34m\u001b[0m\u001b[0m\n\u001b[1;32m      7\u001b[0m \u001b[0mHao_ren\u001b[0m\u001b[0;34m=\u001b[0m\u001b[0;36m3\u001b[0m\u001b[0;34m\u001b[0m\u001b[0;34m\u001b[0m\u001b[0m\n\u001b[0;32m----> 8\u001b[0;31m \u001b[0mprint\u001b[0m\u001b[0;34m(\u001b[0m\u001b[0mhao_ren\u001b[0m\u001b[0;34m)\u001b[0m\u001b[0;34m\u001b[0m\u001b[0;34m\u001b[0m\u001b[0m\n\u001b[0m\u001b[1;32m      9\u001b[0m \u001b[0mprint\u001b[0m\u001b[0;34m(\u001b[0m\u001b[0mHao_ren\u001b[0m\u001b[0;34m)\u001b[0m\u001b[0;34m\u001b[0m\u001b[0;34m\u001b[0m\u001b[0m\n",
      "\u001b[0;31mNameError\u001b[0m: name 'hao_ren' is not defined"
     ]
    }
   ],
   "source": [
    "#变量命名规则\n",
    "#第一个字符是字母或者下划线\n",
    "#其他字符是 字母、数字、下划线\n",
    "#大小写敏感\n",
    "# 系统保留字不能用 \n",
    "ao_ren=2\n",
    "Hao_ren=3\n",
    "print(hao_ren)\n",
    "print(Hao_ren)"
   ]
  },
  {
   "cell_type": "code",
   "execution_count": 13,
   "metadata": {},
   "outputs": [
    {
     "output_type": "stream",
     "name": "stdout",
     "text": [
      "<class 'int'>\n20\n20.0\n1010\n"
     ]
    }
   ],
   "source": [
    "#变量赋值后就具有数据类型， 不同数据类型python支持的操作不一样，操作语义不一样\n",
    "#因此写代码时一定要清楚一个变量的数据类型，从名字无法判断\n",
    "\n",
    "var1= 10   #整数，整形  int\n",
    "print(type(var1))\n",
    "print(var1+var1)\n",
    "\n",
    "var2= float(10) #小数，浮点型 float\n",
    "print(var2+var2)\n",
    "\n",
    "var3= '10'   #文本，字符串 str\n",
    "print(var3+var3)\n"
   ]
  },
  {
   "cell_type": "markdown",
   "metadata": {},
   "source": [
    "###  4. 如何在python代码里处理文本数据？什么是字符串？通过程序实现word软件里的各种编辑功能\n"
   ]
  },
  {
   "cell_type": "code",
   "execution_count": 14,
   "metadata": {},
   "outputs": [
    {
     "output_type": "stream",
     "name": "stdout",
     "text": [
      "Hello world!\nHello world!\n"
     ]
    },
    {
     "output_type": "execute_result",
     "data": {
      "text/plain": [
       "str"
      ]
     },
     "metadata": {},
     "execution_count": 14
    }
   ],
   "source": [
    "# python中用字符串数据类型来存储文本数据， 包含各国语言及特殊字符\n",
    "# 字符串的各种操作 可以实现 word中的各种编辑功能\n",
    "#文本的 数据类型 ：字符串\n",
    "\n",
    "str1='Hello world!'  # 成对的单引号\n",
    "str2=\"Hello world!\"  #成对的双引号\n",
    "print(str1)\n",
    "print(str2)\n",
    "type(str1)"
   ]
  },
  {
   "cell_type": "markdown",
   "metadata": {},
   "source": [
    "选择、复制文本"
   ]
  },
  {
   "cell_type": "code",
   "execution_count": 15,
   "metadata": {},
   "outputs": [
    {
     "output_type": "stream",
     "name": "stdout",
     "text": [
      "b\nac\nabcd\nabcdefg\ngfedcb\n"
     ]
    }
   ],
   "source": [
    "# 如何截取字符串的一部分，类似word中选择一段文本，复制\n",
    "#字符串切片\n",
    "\n",
    "str1 ='abcdefg'\n",
    "print(str1[1]) # 读取字符串某个位置的字符。 字符串中字符的位置从0\n",
    "\n",
    "# 从字符串其 截取子串   slice  切片\n",
    "# str[start:end:step] 从start这个位置开始，到end-1 截止， 每次跳step步\n",
    "print(str1[0:4:2])\n",
    "print(str1[0:4])# 默认step=1\n",
    "print(str1[0:]) #end不写表示到字符串的最后\n",
    "print(str1[8:0:-1])\n"
   ]
  },
  {
   "cell_type": "markdown",
   "metadata": {},
   "source": [
    "替换、搜索定位文本"
   ]
  },
  {
   "cell_type": "code",
   "execution_count": 16,
   "metadata": {},
   "outputs": [
    {
     "output_type": "stream",
     "name": "stdout",
     "text": [
      "My name is Xiaoming. He is sad yesterday\n"
     ]
    }
   ],
   "source": [
    "str1 = 'My name was Xiaoming. He was sad yesterday'\n",
    "\n",
    "#字符串替换函数 replace\n",
    "print(str1.replace('was','is')) #全部替换\n"
   ]
  },
  {
   "cell_type": "code",
   "execution_count": 17,
   "metadata": {},
   "outputs": [
    {
     "output_type": "execute_result",
     "data": {
      "text/plain": [
       "'My name was Xiaoming. He is sad yesterday'"
      ]
     },
     "metadata": {},
     "execution_count": 17
    }
   ],
   "source": [
    "#先定位，再处理。  替换确定位置的字符串\n",
    "index1 = str1.find(\"was\")  #搜索，返回位置，找不到返回-1\n",
    "index2 = str1.find(\"was\",index1+1)  #从index1+1这个位置往后找 \n",
    "str2 = str1[0:index2]+'is'+str1[index2+3:] \n",
    "str2"
   ]
  },
  {
   "cell_type": "markdown",
   "metadata": {},
   "source": [
    "转义字符，  字符串中反斜杠\\ 有特殊含义"
   ]
  },
  {
   "cell_type": "code",
   "execution_count": 18,
   "metadata": {},
   "outputs": [
    {
     "output_type": "stream",
     "name": "stdout",
     "text": [
      "I am 5 years \\n old!\nI am 5 years \t old!\nI am 5 years \\r old!\nHe said:'Hello'\n"
     ]
    }
   ],
   "source": [
    "print(r\"I am 5 years \\n old!\") # \\n 换行 \n",
    "print(\"I am 5 years \\t old!\") # \\t 制表tab \n",
    "print(r\"I am 5 years \\r old!\") # 字符串前面加上r，转义字符失效\n",
    "print('He said:\\'Hello\\'') #引号前面加 反斜杠"
   ]
  },
  {
   "cell_type": "code",
   "execution_count": 19,
   "metadata": {},
   "outputs": [
    {
     "output_type": "stream",
     "name": "stdout",
     "text": [
      "I am 5 years \\n old!\n"
     ]
    }
   ],
   "source": [
    "print(r\"I am 5 years \\n old!\") # \\n 换行 "
   ]
  },
  {
   "cell_type": "markdown",
   "metadata": {},
   "source": [
    "格式化字符串，如何按照更好的格式将计算结果输出为字符串？"
   ]
  },
  {
   "cell_type": "code",
   "execution_count": 20,
   "metadata": {},
   "outputs": [
    {
     "output_type": "stream",
     "name": "stdout",
     "text": [
      "我是 小明 我今年 10 岁\n我是小王,我今年11岁\n我是        小王,我的体重  120.50斤\n"
     ]
    }
   ],
   "source": [
    "name = \"小明\"\n",
    "age = 10\n",
    "# 我是小明，我今年10岁\n",
    "print(\"我是\",name,\"我今年\",age,\"岁\")\n",
    "\n",
    "print(\"我是%s,我今年%d岁\"%(\"小王\",11))   # %s %d是占位符，会用后面变量值替换\n",
    "\n",
    "print(\"我是%10s,我的体重%8.2f斤\"%(\"小王\",120.5)) #%10s表示字符串长度10，不够前面补空格\n",
    "# %8.2f 表示长度8，小数2位，不够前面补空格"
   ]
  },
  {
   "cell_type": "markdown",
   "metadata": {},
   "source": [
    "###  5. 如何在python中表示 真 和 假？布尔数据类型与 逻辑运算\n"
   ]
  },
  {
   "cell_type": "markdown",
   "metadata": {},
   "source": [
    "布尔数据类型，表示条件是否成立"
   ]
  },
  {
   "cell_type": "code",
   "execution_count": 21,
   "metadata": {},
   "outputs": [
    {
     "output_type": "stream",
     "name": "stdout",
     "text": [
      "True\nFalse\nTrue\nFalse\nFalse\nTrue\n"
     ]
    },
    {
     "output_type": "execute_result",
     "data": {
      "text/plain": [
       "bool"
      ]
     },
     "metadata": {},
     "execution_count": 21
    }
   ],
   "source": [
    "#布尔类型,表示 真  假   逻辑的表达；  \n",
    "\n",
    "# bool： True 1；  False 0\n",
    "# 比较运算符的结果是bool类型的值\n",
    "\n",
    "print(1>0) #\n",
    "print(1<0) #\n",
    "print(1>=0) #\n",
    "print(1<=0) #\n",
    "print(1==0) #等于，   = 赋值\n",
    "print(1!=0) #不等于\n",
    "b = 1>0 \n",
    "type(b)"
   ]
  },
  {
   "cell_type": "code",
   "execution_count": 22,
   "metadata": {},
   "outputs": [
    {
     "output_type": "execute_result",
     "data": {
      "text/plain": [
       "2"
      ]
     },
     "metadata": {},
     "execution_count": 22
    }
   ],
   "source": [
    "x1=1>0\n",
    "x2=3>2\n",
    "x1+x2  # bool值 就是1  0"
   ]
  },
  {
   "cell_type": "code",
   "execution_count": 23,
   "metadata": {},
   "outputs": [
    {
     "output_type": "stream",
     "name": "stdout",
     "text": [
      "True\nFalse\nFalse\nTrue\nFalse\nFalse\nTrue\n"
     ]
    }
   ],
   "source": [
    "#布尔类型逻辑运算  与and 或or 非not\n",
    "print(True and True)\n",
    "print(True and False)\n",
    "print(False and False)\n",
    "\n",
    "print(True or False)\n",
    "print(False or False)\n",
    "\n",
    "\n",
    "print(not(True))\n",
    "print((True and False) or (False or True))"
   ]
  },
  {
   "cell_type": "code",
   "execution_count": 24,
   "metadata": {},
   "outputs": [
    {
     "output_type": "execute_result",
     "data": {
      "text/plain": [
       "False"
      ]
     },
     "metadata": {},
     "execution_count": 24
    }
   ],
   "source": [
    "(2>1)and(3<4)or(5==6)\n",
    "#定义业务规则，控制逻辑\n",
    "\n",
    "# birthday=='2020-9-5' \n",
    "\n",
    "age = 20 \n",
    "gender ='female'\n",
    "(age>18)and (gender=='male') or age<6  #。。。。。"
   ]
  },
  {
   "cell_type": "markdown",
   "metadata": {},
   "source": [
    "###  6. 如何在python编写语句表达“在\\*\\*\\*\\*情况下，进行\\*\\*\\*计算”？ 条件语句if/else"
   ]
  },
  {
   "cell_type": "code",
   "execution_count": 25,
   "metadata": {},
   "outputs": [
    {
     "output_type": "stream",
     "name": "stdout",
     "text": [
      "3\nhaha\nfinish\n"
     ]
    }
   ],
   "source": [
    "#如果 ****条件下  ，那么 做*****； 否则 做 #####\n",
    "\n",
    "'''\n",
    "if first_condition:    #condition为True，则执行boy;  \n",
    "    first_body\n",
    "elif second_condition:\n",
    "    second_body\n",
    "else:\n",
    "    third_body\n",
    "\n",
    "'''\n",
    "#每个语句块都有缩进\n",
    "#每个语句块里的每条语句相同缩进\n",
    "a=3 \n",
    "b=2\n",
    "if -1:          #每个condition后面有一个冒号:\n",
    " print(a)  #一个条件满足，执行对应的语句，然后结束整个控制,调到后面代码\n",
    " print(\"haha\")\n",
    "elif a<b: \n",
    " print(\"b\")\n",
    "else:\n",
    " print(\"They are same!\")\n",
    "\n",
    "print(\"finish\")"
   ]
  },
  {
   "cell_type": "markdown",
   "metadata": {},
   "source": [
    "##### condition值的确定\n",
    "condition 的值最终会解析为 bool类型，True 或者Flase\n",
    "\n",
    "下面的值在作为布尔表达式的时候，会被解释器看作假（false）：\n",
    "- False  None 0  “” () [] {}\n",
    "\n",
    "标准值False和None、所有类型的数字0（包括浮点型、长整型和其他类型）、空序列（如空字符串、空元组和空列表）以及空的字典都为假。其他的都解释为真，包括原生的布尔值True。\n",
    "\n",
    "- 其他所有值都被解释器看做True， 比如所有非0的 整数或小数\n"
   ]
  },
  {
   "cell_type": "markdown",
   "metadata": {},
   "source": [
    "###  7. 如何管理一组数据而不是一个数据？列表数据结构：list"
   ]
  },
  {
   "cell_type": "code",
   "execution_count": 26,
   "metadata": {},
   "outputs": [
    {
     "output_type": "execute_result",
     "data": {
      "text/plain": [
       "list"
      ]
     },
     "metadata": {},
     "execution_count": 26
    }
   ],
   "source": [
    "#列表  list  数据结构， 序列结构  存储一组数据\n",
    "\n",
    "one_friend='xiao ming'\n",
    "second_friend='xiao qiang'\n",
    "\n",
    "my_friends=['xiao ming','xiao qiang','xiao xing'] #list，list里的数据类型可以不一样\n",
    "type(my_friends)"
   ]
  },
  {
   "cell_type": "code",
   "execution_count": null,
   "metadata": {},
   "outputs": [],
   "source": [
    "#list数据的访问\n",
    "# list 的数据访问和字符串str中字符和子串的访问完全一致\n",
    "list1 = [1,2,3,4,5,6]\n",
    "print(list1[0]) \n",
    "print(list1[0:3:2])  #和字符串切片操作一样"
   ]
  },
  {
   "cell_type": "code",
   "execution_count": 27,
   "metadata": {},
   "outputs": [
    {
     "output_type": "stream",
     "name": "stdout",
     "text": [
      "[1, 2, 10, 3, 4, 5]\n[1, 2, 10, 3, 4, 5, 8]\n[100, 2, 10, 3, 4, 5, 8]\n[100, 10, 3, 4, 5, 8]\n[8, 5, 4, 2, 1]\n[]\n"
     ]
    }
   ],
   "source": [
    "list1=[1,2,3,4,5]\n",
    "list1.insert(2,10) #在指定位置插入\n",
    "print(list1)\n",
    "list1.append(8) #在list最后增加元素\n",
    "print(list1)\n",
    "list1[0]=100  #修改数据\n",
    "print(list1)\n",
    "list1.pop(1) # 1是索引位置，删除数据\n",
    "print(list1)\n",
    "#排序\n",
    "list1 =[1,2,8,4,5]\n",
    "list1.sort(reverse=True)\n",
    "print(list1)\n",
    "#清空一个list\n",
    "list1.clear()\n",
    "print(list1)\n"
   ]
  },
  {
   "cell_type": "code",
   "execution_count": 28,
   "metadata": {},
   "outputs": [
    {
     "output_type": "execute_result",
     "data": {
      "text/plain": [
       "[1, 2.5, 3, 'haha']"
      ]
     },
     "metadata": {},
     "execution_count": 28
    }
   ],
   "source": [
    "mylist=[1,2.5,3,'haha'] #List 里面数据类型可以不一样\n",
    "mylist"
   ]
  },
  {
   "cell_type": "markdown",
   "metadata": {},
   "source": [
    "###  8. 还有哪些管理一组序列数据的数据类型？元组、集合、字典\n"
   ]
  },
  {
   "cell_type": "code",
   "execution_count": 29,
   "metadata": {},
   "outputs": [
    {
     "output_type": "stream",
     "name": "stdout",
     "text": [
      "(1, 2, 3, 4, 5)\n{1, 3, 21}\n"
     ]
    }
   ],
   "source": [
    "tuple1=(1,2,3,4,5) #圆括号，元组tuple创建后值不能修改，函数都和list一样\n",
    "print(tuple1)\n",
    "\n",
    "set1={1,21,3,1}#大括号，集合创建后自动去重\n",
    "print(set1)"
   ]
  },
  {
   "cell_type": "code",
   "execution_count": 30,
   "metadata": {},
   "outputs": [
    {
     "output_type": "error",
     "ename": "TypeError",
     "evalue": "'tuple' object does not support item assignment",
     "traceback": [
      "\u001b[0;31m---------------------------------------------------------------------------\u001b[0m",
      "\u001b[0;31mTypeError\u001b[0m                                 Traceback (most recent call last)",
      "\u001b[0;32m<ipython-input-30-670c72a16ffb>\u001b[0m in \u001b[0;36m<module>\u001b[0;34m\u001b[0m\n\u001b[0;32m----> 1\u001b[0;31m \u001b[0mtuple1\u001b[0m\u001b[0;34m[\u001b[0m\u001b[0;36m1\u001b[0m\u001b[0;34m]\u001b[0m \u001b[0;34m=\u001b[0m \u001b[0;36m100\u001b[0m\u001b[0;34m\u001b[0m\u001b[0;34m\u001b[0m\u001b[0m\n\u001b[0m",
      "\u001b[0;31mTypeError\u001b[0m: 'tuple' object does not support item assignment"
     ]
    }
   ],
   "source": [
    "tuple1[1] = 100"
   ]
  },
  {
   "cell_type": "code",
   "execution_count": 31,
   "metadata": {},
   "outputs": [
    {
     "output_type": "stream",
     "name": "stdout",
     "text": [
      "18\n{'xiaoming': 18, 'xiao ding': 19, 'xiao qiang': 20}\n"
     ]
    }
   ],
   "source": [
    "##  字典\n",
    "dic={'xiaoming':18,'xiao ding':19}   #大括号，里面是一对 key:value\n",
    "print(dic.get('xiaoming'))\n",
    "dic.setdefault('xiao qiang',20) \n",
    "print(dic)"
   ]
  },
  {
   "cell_type": "markdown",
   "metadata": {},
   "source": [
    "###  9. 如何对一个组数据（一个list中的数据），每一个值进行相同的处理？循环语句for/while"
   ]
  },
  {
   "cell_type": "code",
   "execution_count": 32,
   "metadata": {},
   "outputs": [
    {
     "output_type": "stream",
     "name": "stdout",
     "text": [
      "15\n"
     ]
    }
   ],
   "source": [
    "#for 循环语句\n",
    "'''\n",
    "\n",
    "for  <variable> in <sequence>:    #有个冒号\n",
    "    <statement>      #一个语句块必须有缩进，相同缩进， 和 if elif一样的\n",
    "    <statement>\n",
    "    <statement>\n",
    "else:                # for循环全部执行完，会执行一次 else\n",
    "    <statement>\n",
    "    <statement>\n",
    "    <statement>\n",
    "\n",
    "'''\n",
    "list1=[1,2,3,4,5]\n",
    "sum1=0 \n",
    "\n",
    "\n",
    "for num in list1:   #对于list，每一次循环，从左往右读取一个元素，赋值给num\n",
    "    sum1=sum1+num   #每个循环更新sum1\n",
    "    \n",
    "print(sum1)"
   ]
  },
  {
   "cell_type": "code",
   "execution_count": 33,
   "metadata": {},
   "outputs": [
    {
     "output_type": "stream",
     "name": "stdout",
     "text": [
      "for对应的else\n12\n"
     ]
    }
   ],
   "source": [
    "#  求和的时候遇到3，跳过去，执行下一轮循环\n",
    "list1=[1,2,3,4,5]\n",
    "sum1=0\n",
    "for num in list1:\n",
    "    if(num==3):\n",
    "        continue   #本轮循环结束，开始下一轮\n",
    "    sum1=sum1+num\n",
    "else:\n",
    "    print(\"for对应的else\")\n",
    "print(sum1)"
   ]
  },
  {
   "cell_type": "code",
   "execution_count": 34,
   "metadata": {},
   "outputs": [
    {
     "output_type": "stream",
     "name": "stdout",
     "text": [
      "3\n"
     ]
    }
   ],
   "source": [
    "#  求和的时候遇到3，跳过去，跳出循环\n",
    "list1=[1,2,3,4,5]\n",
    "sum1=0\n",
    "for num in list1:\n",
    "    if  num==3:\n",
    "        break   #循环终止，调到循环体后面第一行代码\n",
    "    sum1=sum1+num\n",
    "else:\n",
    "    print(\"for对应的else\")  # break的时候，这个else也不执行\n",
    "\n",
    "print(sum1)"
   ]
  },
  {
   "cell_type": "markdown",
   "metadata": {},
   "source": [
    "#### while循环语句"
   ]
  },
  {
   "cell_type": "code",
   "execution_count": 36,
   "metadata": {},
   "outputs": [
    {
     "output_type": "stream",
     "name": "stdout",
     "text": [
      "请输入数字 1 、2 或者0来终止程序\n",
      "扫地\n",
      "请输入数字 1 、2 或者0来终止程序\n",
      "做饭\n",
      "请输入数字 1 、2 或者0来终止程序\n",
      "关闭机器人\n"
     ]
    }
   ],
   "source": [
    "# while   循环语句  不是针对list\n",
    "#语义：在某种条件下，不停循环执行\n",
    "a=True\n",
    "while(a):\n",
    "    print('请输入数字 1 、2 或者0来终止程序')\n",
    "    var1 = input() # 接受用户的输入值\n",
    "    button=int(var1)\n",
    "    if button ==1 :\n",
    "        print(\"扫地\")\n",
    "    elif button ==2:\n",
    "        print('做饭')\n",
    "    elif button ==0:\n",
    "        a=False      #退出 停止\n",
    "\n",
    "print(\"关闭机器人\")"
   ]
  },
  {
   "cell_type": "markdown",
   "metadata": {},
   "source": [
    "###  10. 编写好的一些算法如何 重复调用或者在别的地方调用？函数function"
   ]
  },
  {
   "cell_type": "code",
   "execution_count": 37,
   "metadata": {},
   "outputs": [
    {
     "output_type": "execute_result",
     "data": {
      "text/plain": [
       "function"
      ]
     },
     "metadata": {},
     "execution_count": 37
    }
   ],
   "source": [
    "def my_func(list1):\n",
    "    sum1=0 \n",
    "    for num in list1:\n",
    "        sum1=sum1+num\n",
    "    return sum1\n",
    "\n",
    "type(my_func)"
   ]
  },
  {
   "cell_type": "code",
   "execution_count": 38,
   "metadata": {},
   "outputs": [
    {
     "output_type": "stream",
     "name": "stdout",
     "text": [
      "29\n"
     ]
    }
   ],
   "source": [
    "list1=[1,4,6,8,10]\n",
    "sum2=my_func(list1)\n",
    "print(sum2)"
   ]
  },
  {
   "cell_type": "code",
   "execution_count": 39,
   "metadata": {},
   "outputs": [
    {
     "output_type": "stream",
     "name": "stdout",
     "text": [
      "6\n3\n4\n4\n"
     ]
    }
   ],
   "source": [
    "# 函数的参数\n",
    "def func1(a,b=2):   #b的默认值是2\n",
    "    return a+b\n",
    "\n",
    "print(func1(1,5))\n",
    "print(func1(1)) \n",
    "print(func1(a=1,b=3))  \n",
    "print(func1(b=3,a=1))  "
   ]
  },
  {
   "cell_type": "markdown",
   "metadata": {},
   "source": [
    "###  11.  开发的函数如何发给其他人调用？或者在其他代码里调用？ 模块module/包package"
   ]
  },
  {
   "cell_type": "markdown",
   "metadata": {},
   "source": [
    "#### import 与 from...import\n",
    "* 在 python 用 import 或者 from...import 来导入相应的模块。\n",
    "* 将整个模块(somemodule)导入，格式为： import somemodule\n",
    "* 从某个模块中导入某个函数,格式为： from somemodule import somefunction\n",
    "* 从某个模块中导入多个函数,格式为： from somemodule import firstfunc, secondfunc, thirdfunc\n",
    "* 将某个模块中的全部函数导入，格式为： from somemodule import *"
   ]
  },
  {
   "cell_type": "code",
   "execution_count": 40,
   "metadata": {},
   "outputs": [],
   "source": [
    "#将下面的代码粘贴到 新建一个 文件 myfunc.py，保存在 和本notebook文件相同目录\n",
    "#可以新建一个 文本文件 后缀是 txt，修改后缀为 py\n",
    "def changedata100(a):\n",
    "    a=a+100\n",
    "    return a"
   ]
  },
  {
   "cell_type": "code",
   "execution_count": 41,
   "metadata": {},
   "outputs": [
    {
     "output_type": "stream",
     "name": "stdout",
     "text": [
      "105\n"
     ]
    }
   ],
   "source": [
    "import myfunc  #需要提前准备好myfunc.py，否则无法导入\n",
    "x=5\n",
    "y=myfunc.changedata100(x)\n",
    "print(y)"
   ]
  },
  {
   "cell_type": "code",
   "execution_count": 42,
   "metadata": {},
   "outputs": [
    {
     "output_type": "stream",
     "name": "stdout",
     "text": [
      "105\n"
     ]
    }
   ],
   "source": [
    "from myfunc import *  #导入 myfunc文件里所有函数\n",
    "x=5\n",
    "y=changedata100(x)\n",
    "print(y)"
   ]
  },
  {
   "cell_type": "code",
   "execution_count": null,
   "metadata": {},
   "outputs": [],
   "source": [
    "## 包  package  是 python的软件分发的一个规范\n",
    "\n",
    "## 一个 module有多个函数，  一个package 包含多个module\n",
    "\n",
    "# 一个package 里包含多个文件夹，每个文件夹里需要有一个 _init_.py\n",
    "# pageage 可以通过 anaconda ，或者 pip等安装\n",
    "\n",
    "# TensorFlow ，jieba ，  都是package，    pip install tensorflow"
   ]
  },
  {
   "cell_type": "markdown",
   "metadata": {},
   "source": [
    "###  12.  如何从硬盘的文件里读取数据，把计算结果写入文件？"
   ]
  },
  {
   "cell_type": "code",
   "execution_count": 43,
   "metadata": {},
   "outputs": [
    {
     "output_type": "stream",
     "name": "stdout",
     "text": [
      "2020-09-19\nthis is second line\n"
     ]
    }
   ],
   "source": [
    "#打开文件\n",
    "fp=open('sample.txt','r')  #打开一个文件 r读文件\n",
    "content=fp.read() #把文件内容全部读出来\n",
    "print(content)\n",
    "fp.close()"
   ]
  },
  {
   "cell_type": "code",
   "execution_count": 44,
   "metadata": {},
   "outputs": [
    {
     "output_type": "stream",
     "name": "stdout",
     "text": [
      "2020-09-19\nthis is second line\n"
     ]
    }
   ],
   "source": [
    "# 第二种打开文件的方法，常用的\n",
    "with open('sample.txt','r') as fp:  # 下面的语句块执行完，自动关闭文件\n",
    "   content=fp.read() #把文件内容全部读出来\n",
    "   print(content) "
   ]
  },
  {
   "cell_type": "code",
   "execution_count": null,
   "metadata": {},
   "outputs": [],
   "source": [
    "with open('sample.txt','r') as fp:  # 下面的语句块执行完，自动关闭文件\n",
    "   content=fp.readlines() #读文件的所有行，按行读，构建list\n",
    "   print(content)  "
   ]
  },
  {
   "cell_type": "code",
   "execution_count": 45,
   "metadata": {},
   "outputs": [],
   "source": [
    "#写文件\n",
    "with open('sample.txt','w') as fp:  # 打开文件 写文件 w表示已经存在的文件清空 再写，不存在的文件创建\n",
    "   fp.write('2020-09-19') "
   ]
  },
  {
   "cell_type": "code",
   "execution_count": 46,
   "metadata": {},
   "outputs": [],
   "source": [
    "#写文件  追加内容\n",
    "with open('sample.txt','a') as fp: # a表示追加内容\n",
    "   fp.write('\\nthis is second line') "
   ]
  },
  {
   "cell_type": "markdown",
   "metadata": {},
   "source": [
    "### 重新看这个问题：Excel和word也可以做这些基本数据管理，为什么用python？\n",
    "- excel和word需要人工操作， 而且几十次操作后，无法回溯进行了哪些操作，对于新的数据也无法重复\n",
    "- python编写为代码，执行后自动处理，可以根据需要不停修改代码，重复使用代码，而且支持更丰富的操作\n",
    "- 大规模数据，python性能更优\n",
    "- python还会提供更多丰富的功能，后面还会学到很多功能，可以对数据做各种可视化与机器学习分析，这些是word和excel做不到的"
   ]
  },
  {
   "cell_type": "markdown",
   "metadata": {},
   "source": [
    "### 代码阅读练习，理解代码"
   ]
  },
  {
   "cell_type": "code",
   "execution_count": 47,
   "metadata": {},
   "outputs": [
    {
     "output_type": "stream",
     "name": "stdout",
     "text": [
      "Welcome to the GPA calculator\n",
      "Please enter all your letter grades, one per line.\n",
      "Enter a blank line to designate the end.\n",
      "Your GPA is 3.4\n"
     ]
    }
   ],
   "source": [
    "print(\"Welcome to the GPA calculator\")\n",
    "print(\"Please enter all your letter grades, one per line.\")\n",
    "print(\"Enter a blank line to designate the end.\")\n",
    "\n",
    "# map from letter grade to point value\n",
    "points = { 'A+': 4.0, 'A': 3.8, 'A-': 3.67, 'B+': 3.33, 'B': 3.0, 'B-': 2.67, 'C+': 2.33, 'C': 2.0, 'C-': 1.67, 'D': 1.0, 'F': 0.0, }\n",
    "num_courses = 0\n",
    "total_points = 0\n",
    "done = False\n",
    "\n",
    "while not done:\n",
    "    # readline from user input\n",
    "    grade = input()\n",
    "    if grade == '': # empty line was entered\n",
    "        done = True\n",
    "    elif grade not in points:\n",
    "        print(\"Unknow grade '{0}' being ignored\".format(grade))\n",
    "    else:\n",
    "        num_courses += 1\n",
    "        total_points += points[grade]\n",
    "\n",
    "if num_courses > 0: # avoid division by zero\n",
    "    print(\"Your GPA is {0:.3}\".format(total_points / num_courses))"
   ]
  },
  {
   "cell_type": "code",
   "execution_count": null,
   "metadata": {},
   "outputs": [],
   "source": []
  }
 ],
 "metadata": {
  "kernelspec": {
   "display_name": "Python 3",
   "language": "python",
   "name": "python3"
  },
  "language_info": {
   "codemirror_mode": {
    "name": "ipython",
    "version": 3
   },
   "file_extension": ".py",
   "mimetype": "text/x-python",
   "name": "python",
   "nbconvert_exporter": "python",
   "pygments_lexer": "ipython3",
   "version": "3.8.5-final"
  }
 },
 "nbformat": 4,
 "nbformat_minor": 2
}