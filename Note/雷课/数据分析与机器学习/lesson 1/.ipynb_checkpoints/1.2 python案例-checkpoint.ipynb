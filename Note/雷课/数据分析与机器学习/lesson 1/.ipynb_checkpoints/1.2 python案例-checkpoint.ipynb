{
 "cells": [
  {
   "cell_type": "markdown",
   "metadata": {},
   "source": [
    "### 从一个案例说起\n",
    "餐馆销售情况分析，每天的销售情况分布是怎么样的？哪些菜最受欢迎？如何使用python编写程序来实现。\n",
    "\n",
    "- 1. 收集数据、读取数据\n",
    "- 2. 编写程序进行数据的统计分析\n",
    "- 3. 输出结果"
   ]
  },
  {
   "cell_type": "code",
   "execution_count": null,
   "metadata": {},
   "outputs": [],
   "source": [
    "# 打开文件，读文件内容\n",
    "with open('catering_sale.csv', 'r',encoding='UTF-8') as fp:  #打开文件\n",
    "    content = fp.readlines() #读所有行，赋值给变量content\n",
    "    print(content) # content是list\n",
    "type(content)"
   ]
  },
  {
   "cell_type": "markdown",
   "metadata": {},
   "source": [
    "#### 判断异常值"
   ]
  },
  {
   "cell_type": "code",
   "execution_count": null,
   "metadata": {},
   "outputs": [],
   "source": [
    "# 将原始数据中表头、和空值去掉，先构造一个新的list\n",
    "content.pop(0)  #content是一个list，pop函数 删除第一个数据（表头）\n",
    "content"
   ]
  },
  {
   "cell_type": "code",
   "execution_count": null,
   "metadata": {},
   "outputs": [],
   "source": [
    "newlist=[] #定义一个新列表变量\n",
    "for item in content:\n",
    "    str1=item[0:-1].split(',') #字符串拆分，-1表示倒着数第一个字符，就是\\n这个转义字符\n",
    "    itemlist=[]\n",
    "    if(str1[1]!=''):   #空值跳过\n",
    "        itemlist.append(str1[0])\n",
    "        itemlist.append(float(str1[1]))#类型转换为小数\n",
    "        newlist.append(itemlist)\n",
    "newlist"
   ]
  },
  {
   "cell_type": "code",
   "execution_count": null,
   "metadata": {},
   "outputs": [],
   "source": [
    "sales = []  #构造一个空的list 对象,存储销量\n",
    "for row in newlist:\n",
    "    sales.append(row[1])  # 销量放到sales列表中\n",
    "print(sales)"
   ]
  },
  {
   "cell_type": "code",
   "execution_count": null,
   "metadata": {},
   "outputs": [],
   "source": [
    "# 求最大值、最小值\n",
    "max_value = max(sales) # list的函数 \n",
    "print(\"序号：%s   最大值：%s\" % (sales.index(max_value), max_value))\n",
    "min_value = min(sales)\n",
    "print(\"序号：%s   最小值：%s\" % (sales.index(min_value), min_value))"
   ]
  },
  {
   "cell_type": "code",
   "execution_count": null,
   "metadata": {},
   "outputs": [],
   "source": [
    "# 计算平均值\n",
    "avg_value = sum(sales) / len(sales)    # list的函数，我们不需要自己实现\n",
    "print('平均值：%f' % avg_value)"
   ]
  },
  {
   "cell_type": "code",
   "execution_count": null,
   "metadata": {},
   "outputs": [],
   "source": [
    "# 计算标准差\n",
    "import math\n",
    "bias_pow = []\n",
    "for row in sales:\n",
    "    bias_pow.append(pow(abs(row - avg_value),2))\n",
    "avg_range = math.sqrt(sum(bias_pow)/len(bias_pow))\n",
    "print('标准差：%s' % avg_range)"
   ]
  },
  {
   "cell_type": "code",
   "execution_count": null,
   "metadata": {},
   "outputs": [],
   "source": [
    "# 计算与平均值的偏差\n",
    "bias_index = []\n",
    "for i in range(len(sales)):\n",
    "    bias_value = abs(sales[i]-avg_value)\n",
    "    if bias_value > (avg_range *3) :\n",
    "        bias_index.append(i)\n",
    "        print(\"序号：%s   偏差值：%s\" % (i, bias_value))"
   ]
  },
  {
   "cell_type": "code",
   "execution_count": null,
   "metadata": {},
   "outputs": [],
   "source": [
    "# 删除异常值\n",
    "print(\"原始列表长度：\",len(newlist))\n",
    "# 复制一份数据\n",
    "data1 = newlist[:]\n",
    "bias_index.reverse()  #从后往前删除[139,105,98,4]\n",
    "for i in bias_index:\n",
    "    data1.pop(i)\n",
    "print('现在列表长度：',len(data1))"
   ]
  },
  {
   "cell_type": "markdown",
   "metadata": {},
   "source": [
    "#### 数组分布分析"
   ]
  },
  {
   "cell_type": "code",
   "execution_count": null,
   "metadata": {},
   "outputs": [],
   "source": [
    "# 取出销量列\n",
    "sales = []\n",
    "for row in data1:\n",
    "    sales.append(float(row[1]))  # 要进行数值转换\n",
    "\n",
    "# 求最大值、最小值\n",
    "max_value = max(sales)\n",
    "print(\"序号：%s   最大值：%s\" % (sales.index(max(sales)), max_value))\n",
    "min_value = min(sales)\n",
    "print(\"序号：%s   最小值：%s\" % (sales.index(min(sales)), min_value))"
   ]
  },
  {
   "cell_type": "code",
   "execution_count": null,
   "metadata": {},
   "outputs": [],
   "source": [
    "# 分8组，间隔400\n",
    "# [, 400)\n",
    "# [400, 800)\n",
    "# [800, 1200)\n",
    "# [1200, 1600)\n",
    "# [1600, 2000)\n",
    "# [2000, 2400)\n",
    "# [2400, 2800)\n",
    "# [2800, )\n",
    "sale_dict = {'[, 400)': 0, '[400, 800)': 0, '[800, 1200)': 0, '[1200, 1600)': 0, '[1600, 2000)': 0,\n",
    "             '[2000, 2400)': 0, '[2400, 2800)': 0, '[2800, )': 0}\n",
    "for val in sales:\n",
    "    interval = val-min_value\n",
    "    if interval < 400:\n",
    "        sale_dict['[, 400)'] += 1\n",
    "    elif 400 <= interval < 800:\n",
    "        sale_dict['[400, 800)'] += 1\n",
    "    elif 800 <= interval < 1200:\n",
    "        sale_dict['[800, 1200)'] += 1\n",
    "    elif 1200 <= interval < 1600:\n",
    "        sale_dict['[1200, 1600)'] += 1\n",
    "    elif 1600 <= interval < 2000:\n",
    "        sale_dict['[1600, 2000)'] += 1\n",
    "    elif 2000 <= interval < 2400:\n",
    "        sale_dict['[2000, 2400)'] += 1\n",
    "    else:\n",
    "        sale_dict['[2800, )'] += 1\n",
    "print(sale_dict)"
   ]
  },
  {
   "cell_type": "code",
   "execution_count": null,
   "metadata": {},
   "outputs": [],
   "source": [
    "# 输出百分比\n",
    "for key, value in sale_dict.items(): #字典类型的循环语句用法\n",
    "    print('%s 区间: %4.2f %%'%(key, 100*value/len(sales)))  #字符串格式化"
   ]
  },
  {
   "cell_type": "markdown",
   "metadata": {},
   "source": [
    "### 练习\n",
    "\n",
    "分别计算2014年、2015年平均日销量\n",
    "提示需要使用字符串的搜索函数，判断是否日期里包含年份，每个年份的销售额可以放到一个list，最后做统计"
   ]
  }
 ],
 "metadata": {
  "kernelspec": {
   "display_name": "Python 3",
   "language": "python",
   "name": "python3"
  },
  "language_info": {
   "codemirror_mode": {
    "name": "ipython",
    "version": 3
   },
   "file_extension": ".py",
   "mimetype": "text/x-python",
   "name": "python",
   "nbconvert_exporter": "python",
   "pygments_lexer": "ipython3",
   "version": "3.7.3"
  }
 },
 "nbformat": 4,
 "nbformat_minor": 2
}
