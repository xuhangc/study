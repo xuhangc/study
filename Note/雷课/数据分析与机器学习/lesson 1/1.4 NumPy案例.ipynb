{
 "cells": [
  {
   "cell_type": "markdown",
   "metadata": {
    "slideshow": {
     "slide_type": "slide"
    }
   },
   "source": [
    "\n",
    "# <center>NumPy案例</center>"
   ]
  },
  {
   "cell_type": "markdown",
   "metadata": {
    "slideshow": {
     "slide_type": "slide"
    }
   },
   "source": [
    "### 实践题目\n",
    "#### 泰坦尼克乘客数据分析生还率\n",
    "\n",
    "* 著名的数据分析竞赛网站Kaggle上，举行了很多数据分析比赛，其中比较著名的就有 泰坦尼克号乘客生还预测 。\n",
    "* Kaggle提供的数据集中，共有1309名乘客数据，其中891是已知存活情况，剩下418则是需要进行分析预测的。\n",
    "\n",
    "### 数据文件\n",
    "* titanic-data.csv\n",
    "\n",
    "### 本节任务\n",
    "* 分析探索原始数据，查看数据空值等情况\n",
    "* 构建特征工程，统计特征分布与生还关系"
   ]
  },
  {
   "cell_type": "markdown",
   "metadata": {},
   "source": [
    "数据主要字段说明如下：\n",
    "* PassengerId: 乘客编号\n",
    "* Survived: Survived (1) or died (0)是否存活\n",
    "* Pclass: 船舱\n",
    "* Name: 姓名\n",
    "* Sex: 性别\n",
    "* Age: 年龄\n",
    "* SibSp: 兄弟/姐妹/配偶的数量\n",
    "* Parch: 父母/子女的数量\n",
    "* Ticket: 票号\n",
    "* Fare: 票价\n",
    "* Cabin: 座号\n",
    "* Embarked: 登船港口"
   ]
  },
  {
   "cell_type": "markdown",
   "metadata": {
    "collapsed": true
   },
   "source": [
    "引入文件操作所需的包\n"
   ]
  },
  {
   "cell_type": "code",
   "execution_count": null,
   "metadata": {},
   "outputs": [],
   "source": [
    "import os\n",
    "import numpy as np"
   ]
  },
  {
   "cell_type": "code",
   "execution_count": null,
   "metadata": {},
   "outputs": [],
   "source": [
    "#在这里直接读取首行的时候会出现换行符 \\n 所以利用切边给它过滤掉，通过字符串分割转换成列表\n",
    "filename=\"titanic-data.csv\"  #文件在代码的当前目录，如果不在需要给出全路径\n",
    "with open(filename,encoding='utf-8') as f:\n",
    "    head_index=np.array(f.readline()[:-1].split(','))  #第一行是列名,多个函数通过.连起来，顺序执行\n",
    "head_index"
   ]
  },
  {
   "cell_type": "code",
   "execution_count": null,
   "metadata": {},
   "outputs": [],
   "source": [
    "data = np.loadtxt('titanic-data.csv', delimiter=',',dtype=np.str, skiprows=1) \n",
    "#从文件中加载数据直接生成array\n",
    "data"
   ]
  },
  {
   "cell_type": "code",
   "execution_count": null,
   "metadata": {},
   "outputs": [],
   "source": [
    "# 查看首行数据\n",
    "first_line = data[0]\n",
    "first_line"
   ]
  },
  {
   "cell_type": "code",
   "execution_count": null,
   "metadata": {},
   "outputs": [],
   "source": [
    "# 有效字段索引\n",
    "a = np.arange(12)\n",
    "data_index = np.delete(a, 3)  # name字段的值对生还率预测没有意义，可以删除\n",
    "data_index"
   ]
  },
  {
   "cell_type": "code",
   "execution_count": null,
   "metadata": {},
   "outputs": [],
   "source": [
    "# 去除name索引数据，通过整数数组来取ndarray的数据\n",
    "head_index = head_index[data_index]\n",
    "head_index"
   ]
  },
  {
   "cell_type": "code",
   "execution_count": null,
   "metadata": {},
   "outputs": [],
   "source": [
    "# 去除name那一列数据\n",
    "corpus_data = data[:,data_index]  #数组切片，冒号表示所有行都取，data_index是取的列的编号列表\n",
    "corpus_data"
   ]
  },
  {
   "cell_type": "markdown",
   "metadata": {},
   "source": [
    "### 缺失值分析\n",
    "\n",
    "Age和Cabin字段有较多缺失值，Embanked字段有2个缺失值"
   ]
  },
  {
   "cell_type": "code",
   "execution_count": null,
   "metadata": {},
   "outputs": [],
   "source": [
    "items_data = corpus_data.T  #矩阵转置， 旋转90度，原来每一列 成为 新矩阵的每一行\n",
    "items_data.shape"
   ]
  },
  {
   "cell_type": "code",
   "execution_count": null,
   "metadata": {
    "scrolled": true
   },
   "outputs": [],
   "source": [
    "null_data = []\n",
    "for col in items_data:    #对于 items_data每一行 复制给变量col\n",
    "    null_data.append(sum(col==''))   #计算这一行空值个数\n",
    "null_data\n",
    "\n",
    "for i in range(0,head_index.size):\n",
    "    print('%s 空值个数： %s' % (head_index[i], null_data[i]))"
   ]
  },
  {
   "cell_type": "markdown",
   "metadata": {},
   "source": [
    "处理缺失值\n",
    "\n",
    "需要进行缺失值处理的有：Age、Cabin、Embarked\n",
    "\n"
   ]
  },
  {
   "cell_type": "code",
   "execution_count": null,
   "metadata": {},
   "outputs": [],
   "source": [
    "items_data.shape"
   ]
  },
  {
   "cell_type": "code",
   "execution_count": null,
   "metadata": {},
   "outputs": [],
   "source": [
    "# age属性中有缺失, 通过计算该属性的均值将缺失处填补,使得数据的数量一致\n",
    "age_index = 4\n",
    "print(head_index.shape)\n",
    "print(age_index)\n",
    "\n",
    "print(\"age_index:%d\"%age_index) \n",
    "age_data = items_data[age_index]\n",
    "print(age_data)\n",
    "age_data_null = sum(age_data=='')\n",
    "handle_data = np.where(age_data == '', 0, age_data) #dkdkfdkkaa\n",
    "age_mean = sum(handle_data.astype(np.float))/(len(handle_data)-age_data_null) #非空的年龄的平均值\n",
    "print(age_mean)"
   ]
  },
  {
   "cell_type": "code",
   "execution_count": null,
   "metadata": {},
   "outputs": [],
   "source": [
    "items_data[4] = np.where(items_data[4] == '', age_mean, items_data[4])  #数组赋值为数组"
   ]
  },
  {
   "cell_type": "code",
   "execution_count": null,
   "metadata": {},
   "outputs": [],
   "source": [
    "#embarked填充众数\n",
    "embarked_index = 10\n",
    "embarked_data = items_data[embarked_index ]\n",
    "embarked_data"
   ]
  },
  {
   "cell_type": "code",
   "execution_count": null,
   "metadata": {},
   "outputs": [],
   "source": [
    "np.unique(embarked_data)"
   ]
  },
  {
   "cell_type": "code",
   "execution_count": null,
   "metadata": {},
   "outputs": [],
   "source": [
    "from collections import  Counter\n",
    "Counter(embarked_data)  #统计不同舱位数量"
   ]
  },
  {
   "cell_type": "markdown",
   "metadata": {},
   "source": [
    "解释：np.where(condition, x, y)\n",
    "函数参数：满足条件(condition)，输出x，不满足输出y， 对array每个数据迭代处理，最后输出还是一个array"
   ]
  },
  {
   "cell_type": "code",
   "execution_count": null,
   "metadata": {},
   "outputs": [],
   "source": [
    "items_data[10] = np.where(items_data[10] == '', 'S', items_data[10])  #填充缺失值为 众数"
   ]
  },
  {
   "cell_type": "code",
   "execution_count": null,
   "metadata": {},
   "outputs": [],
   "source": [
    "head_index = np.delete(head_index,9)   #座号 Cablin 可以删掉这一行\n",
    "items_data = np.delete(items_data,9, axis = 0)"
   ]
  },
  {
   "cell_type": "markdown",
   "metadata": {},
   "source": [
    "### 数据离散化\n",
    "```\n",
    "# 获取sex的值, 并用0和1代表男性和女性\n",
    "np.unique(items_data[3])\n",
    "items_data[3] = np.where(items_data[3] == 'male', 0, items_data[3])\n",
    "items_data[3] = np.where(items_data[3] == 'female', 1, items_data[3])\n",
    "\n",
    "# 获取embarked的值, 用0,1,2分别表示S,C,Q\n",
    "np.unique(items_data[9])\n",
    "items_data[9] = np.where(items_data[9] == 'S', 0, items_data[9])\n",
    "items_data[9] = np.where(items_data[9] == 'C', 1, items_data[9])\n",
    "items_data[9] = np.where(items_data[9] == 'Q', 2, items_data[9])\n",
    "```"
   ]
  },
  {
   "cell_type": "code",
   "execution_count": null,
   "metadata": {},
   "outputs": [],
   "source": [
    "np.unique(items_data[3])"
   ]
  },
  {
   "cell_type": "code",
   "execution_count": null,
   "metadata": {},
   "outputs": [],
   "source": [
    "items_data[3] = np.where(items_data[3] == 'male', 0, items_data[3])\n",
    "items_data[3] = np.where(items_data[3] == 'female', 1, items_data[3])"
   ]
  },
  {
   "cell_type": "code",
   "execution_count": null,
   "metadata": {},
   "outputs": [],
   "source": [
    "np.unique(items_data[9])\n",
    "items_data[9] = np.where(items_data[9] == 'S', 0, items_data[9])\n",
    "items_data[9] = np.where(items_data[9] == 'C', 1, items_data[9])\n",
    "items_data[9] = np.where(items_data[9] == 'Q', 2, items_data[9])"
   ]
  },
  {
   "cell_type": "markdown",
   "metadata": {},
   "source": [
    "### 数据分析1\n",
    "```\n",
    "# 生还者总数\n",
    "items_data[1].astype(np.int32).sum(axis=0)\n",
    "# 平均生还率\n",
    "items_data[1].astype(np.int32).mean(axis=0)\n",
    "```\n",
    "结论1：生还者总数为342人，平均生还率约为38%"
   ]
  },
  {
   "cell_type": "code",
   "execution_count": null,
   "metadata": {},
   "outputs": [],
   "source": [
    "head_index"
   ]
  },
  {
   "cell_type": "code",
   "execution_count": null,
   "metadata": {},
   "outputs": [],
   "source": [
    "items_data[1].astype(np.int32).sum()    #一维数组 axis只有0，可以不写"
   ]
  },
  {
   "cell_type": "code",
   "execution_count": null,
   "metadata": {},
   "outputs": [],
   "source": [
    "items_data[1].astype(np.int32).mean()  # 342/总人数"
   ]
  },
  {
   "cell_type": "markdown",
   "metadata": {},
   "source": [
    "### 数据分析2\n",
    "```\n",
    "# 各等级船舱Pclass乘客总数量统计：\n",
    "from collections import  Counter\n",
    "data = np.array(items_data[2])\n",
    "Counter(data)\n",
    "\n",
    "# 各等级船舱生还数量统计：'Pclass', 'Survived'\n",
    "pclass_survived = np.vstack((items_data[2],items_data[1]))\n",
    "unique, counts = np.unique(pclass_survived, return_counts=True,axis=1)\n",
    "\n",
    "# 各船舱等级对应的平均生还率\n",
    "```\n",
    "\n",
    "结论2：\n",
    "\n",
    "头等舱总人数为216人，二等舱为184人，三等舱为491人。\n",
    "\n",
    "头等舱生还人数为136人，二等舱为87人，三等舱为119人。\n",
    "\n",
    "头等舱生还率为62.96%，二等舱为47.28%，三等舱为24.24%。"
   ]
  },
  {
   "cell_type": "code",
   "execution_count": null,
   "metadata": {},
   "outputs": [],
   "source": [
    "from collections import  Counter\n",
    "data = np.array(items_data[2])\n",
    "Counter(data)"
   ]
  },
  {
   "cell_type": "code",
   "execution_count": null,
   "metadata": {},
   "outputs": [],
   "source": [
    "pclass_survived = np.vstack((items_data[2],items_data[1]))  #两个数组 垂直方向连接， 本案例就是两行数据 并起来"
   ]
  },
  {
   "cell_type": "code",
   "execution_count": null,
   "metadata": {},
   "outputs": [],
   "source": [
    "pclass_survived"
   ]
  },
  {
   "cell_type": "code",
   "execution_count": null,
   "metadata": {},
   "outputs": [],
   "source": [
    "unique, counts = np.unique(pclass_survived, return_counts=True,axis=1) # 垂直方向的组合 统计不同组合个数"
   ]
  },
  {
   "cell_type": "code",
   "execution_count": null,
   "metadata": {},
   "outputs": [],
   "source": [
    "unique"
   ]
  },
  {
   "cell_type": "code",
   "execution_count": null,
   "metadata": {},
   "outputs": [],
   "source": [
    "counts"
   ]
  },
  {
   "cell_type": "code",
   "execution_count": null,
   "metadata": {},
   "outputs": [],
   "source": [
    "a = [216, 184, 491]\n",
    "b = [136, 87, 119]\n",
    "np.array(b)/np.array(a)  #不同舱位生还率"
   ]
  },
  {
   "cell_type": "markdown",
   "metadata": {
    "slideshow": {
     "slide_type": "slide"
    }
   },
   "source": [
    "### 编程练习\n",
    "\n",
    "模仿数据分析2， 计算不同性别平均生还率 ['Sex','Survived']\n",
    "\n"
   ]
  },
  {
   "cell_type": "code",
   "execution_count": null,
   "metadata": {},
   "outputs": [],
   "source": [
    "from collections import  Counter\n",
    "data = np.array(items_data[2])\n",
    "Counter(data)\n",
    "\n"
   ]
  }
 ],
 "metadata": {
  "kernelspec": {
   "display_name": "Python 3",
   "language": "python",
   "name": "python3"
  },
  "language_info": {
   "codemirror_mode": {
    "name": "ipython",
    "version": 3
   },
   "file_extension": ".py",
   "mimetype": "text/x-python",
   "name": "python",
   "nbconvert_exporter": "python",
   "pygments_lexer": "ipython3",
   "version": "3.7.3"
  }
 },
 "nbformat": 4,
 "nbformat_minor": 1
}
