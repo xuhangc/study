{
 "cells": [
  {
   "cell_type": "markdown",
   "metadata": {
    "slideshow": {
     "slide_type": "slide"
    }
   },
   "source": [
    "\n",
    "# <center>NumPy案例</center>"
   ]
  },
  {
   "cell_type": "markdown",
   "metadata": {
    "slideshow": {
     "slide_type": "slide"
    }
   },
   "source": [
    "### 实践题目\n",
    "#### 泰坦尼克乘客数据分析生还率\n",
    "\n",
    "* 著名的数据分析竞赛网站Kaggle上，举行了很多数据分析比赛，其中比较著名的就有 泰坦尼克号乘客生还预测 。\n",
    "* Kaggle提供的数据集中，共有1309名乘客数据，其中891是已知存活情况，剩下418则是需要进行分析预测的。\n",
    "\n",
    "### 数据文件\n",
    "* titanic-data.csv\n",
    "\n",
    "### 本节任务\n",
    "* 分析探索原始数据，查看数据空值等情况\n",
    "* 构建特征工程，统计特征分布与生还关系"
   ]
  },
  {
   "cell_type": "markdown",
   "metadata": {},
   "source": [
    "数据主要字段说明如下：\n",
    "* PassengerId: 乘客编号\n",
    "* Survived: Survived (1) or died (0)是否存活\n",
    "* Pclass: 船舱\n",
    "* Name: 姓名\n",
    "* Sex: 性别\n",
    "* Age: 年龄\n",
    "* SibSp: 兄弟/姐妹/配偶的数量\n",
    "* Parch: 父母/子女的数量\n",
    "* Ticket: 票号\n",
    "* Fare: 票价\n",
    "* Cabin: 座号\n",
    "* Embarked: 登船港口"
   ]
  },
  {
   "cell_type": "markdown",
   "metadata": {
    "collapsed": true
   },
   "source": [
    "引入文件操作所需的包\n"
   ]
  },
  {
   "cell_type": "code",
   "execution_count": 1,
   "metadata": {},
   "outputs": [],
   "source": [
    "import os\n",
    "import numpy as np"
   ]
  },
  {
   "cell_type": "code",
   "execution_count": 2,
   "metadata": {},
   "outputs": [
    {
     "output_type": "execute_result",
     "data": {
      "text/plain": [
       "array(['PassengerId', 'Survived', 'Pclass', 'Name', 'Sex', 'Age', 'SibSp',\n",
       "       'Parch', 'Ticket', 'Fare', 'Cabin', 'Embarked'], dtype='<U11')"
      ]
     },
     "metadata": {},
     "execution_count": 2
    }
   ],
   "source": [
    "#在这里直接读取首行的时候会出现换行符 \\n 所以利用切边给它过滤掉，通过字符串分割转换成列表\n",
    "filename=\"titanic-data.csv\"  #文件在代码的当前目录，如果不在需要给出全路径\n",
    "with open(filename,encoding='utf-8') as f:\n",
    "    head_index=np.array(f.readline()[:-1].split(','))  #第一行是列名,多个函数通过.连起来，顺序执行\n",
    "head_index"
   ]
  },
  {
   "cell_type": "code",
   "execution_count": 3,
   "metadata": {},
   "outputs": [
    {
     "output_type": "execute_result",
     "data": {
      "text/plain": [
       "array([['1', '0', '3', ..., '7.25', '', 'S'],\n",
       "       ['2', '1', '1', ..., '71.2833', 'C85', 'C'],\n",
       "       ['3', '1', '3', ..., '7.925', '', 'S'],\n",
       "       ...,\n",
       "       ['889', '0', '3', ..., '23.45', '', 'S'],\n",
       "       ['890', '1', '1', ..., '30', 'C148', 'C'],\n",
       "       ['891', '0', '3', ..., '7.75', '', 'Q']], dtype='<U83')"
      ]
     },
     "metadata": {},
     "execution_count": 3
    }
   ],
   "source": [
    "data = np.loadtxt('titanic-data.csv', delimiter=',',dtype=np.str, skiprows=1) \n",
    "#从文件中加载数据直接生成array\n",
    "data"
   ]
  },
  {
   "cell_type": "code",
   "execution_count": 4,
   "metadata": {},
   "outputs": [
    {
     "output_type": "execute_result",
     "data": {
      "text/plain": [
       "array(['1', '0', '3', '\"Braund Mr. Owen Harris\"', 'male', '22', '1', '0',\n",
       "       'A/5 21171', '7.25', '', 'S'], dtype='<U83')"
      ]
     },
     "metadata": {},
     "execution_count": 4
    }
   ],
   "source": [
    "# 查看首行数据\n",
    "first_line = data[0]\n",
    "first_line"
   ]
  },
  {
   "cell_type": "code",
   "execution_count": 6,
   "metadata": {},
   "outputs": [
    {
     "output_type": "execute_result",
     "data": {
      "text/plain": [
       "array([ 0,  1,  2,  4,  5,  6,  7,  8,  9, 10, 11])"
      ]
     },
     "metadata": {},
     "execution_count": 6
    }
   ],
   "source": [
    "# 有效字段索引\n",
    "a = np.arange(12)\n",
    "data_index = np.delete(a, 3)  # name字段的值对生还率预测没有意义，可以删除\n",
    "data_index"
   ]
  },
  {
   "cell_type": "code",
   "execution_count": 7,
   "metadata": {},
   "outputs": [
    {
     "output_type": "execute_result",
     "data": {
      "text/plain": [
       "array(['PassengerId', 'Survived', 'Pclass', 'Sex', 'Age', 'SibSp',\n",
       "       'Parch', 'Ticket', 'Fare', 'Cabin', 'Embarked'], dtype='<U11')"
      ]
     },
     "metadata": {},
     "execution_count": 7
    }
   ],
   "source": [
    "# 去除name索引数据，通过整数数组来取ndarray的数据\n",
    "head_index = head_index[data_index]\n",
    "head_index"
   ]
  },
  {
   "cell_type": "code",
   "execution_count": 8,
   "metadata": {},
   "outputs": [
    {
     "output_type": "execute_result",
     "data": {
      "text/plain": [
       "array([['1', '0', '3', ..., '7.25', '', 'S'],\n",
       "       ['2', '1', '1', ..., '71.2833', 'C85', 'C'],\n",
       "       ['3', '1', '3', ..., '7.925', '', 'S'],\n",
       "       ...,\n",
       "       ['889', '0', '3', ..., '23.45', '', 'S'],\n",
       "       ['890', '1', '1', ..., '30', 'C148', 'C'],\n",
       "       ['891', '0', '3', ..., '7.75', '', 'Q']], dtype='<U83')"
      ]
     },
     "metadata": {},
     "execution_count": 8
    }
   ],
   "source": [
    "# 去除name那一列数据\n",
    "corpus_data = data[:,data_index]  #数组切片，冒号表示所有行都取，data_index是取的列的编号列表\n",
    "corpus_data"
   ]
  },
  {
   "cell_type": "markdown",
   "metadata": {},
   "source": [
    "### 缺失值分析\n",
    "\n",
    "Age和Cabin字段有较多缺失值，Embanked字段有2个缺失值"
   ]
  },
  {
   "cell_type": "code",
   "execution_count": 9,
   "metadata": {},
   "outputs": [
    {
     "output_type": "execute_result",
     "data": {
      "text/plain": [
       "(11, 891)"
      ]
     },
     "metadata": {},
     "execution_count": 9
    }
   ],
   "source": [
    "items_data = corpus_data.T  #矩阵转置， 旋转90度，原来每一列 成为 新矩阵的每一行\n",
    "items_data.shape"
   ]
  },
  {
   "cell_type": "code",
   "execution_count": 10,
   "metadata": {
    "scrolled": true
   },
   "outputs": [
    {
     "output_type": "stream",
     "name": "stdout",
     "text": [
      "PassengerId 空值个数： 0\nSurvived 空值个数： 0\nPclass 空值个数： 0\nSex 空值个数： 0\nAge 空值个数： 177\nSibSp 空值个数： 0\nParch 空值个数： 0\nTicket 空值个数： 0\nFare 空值个数： 0\nCabin 空值个数： 687\nEmbarked 空值个数： 2\n"
     ]
    }
   ],
   "source": [
    "null_data = []\n",
    "for col in items_data:    #对于 items_data每一行 复制给变量col\n",
    "    null_data.append(sum(col==''))   #计算这一行空值个数\n",
    "null_data\n",
    "\n",
    "for i in range(0,head_index.size):\n",
    "    print('%s 空值个数： %s' % (head_index[i], null_data[i]))"
   ]
  },
  {
   "cell_type": "markdown",
   "metadata": {},
   "source": [
    "处理缺失值\n",
    "\n",
    "需要进行缺失值处理的有：Age、Cabin、Embarked\n",
    "\n"
   ]
  },
  {
   "cell_type": "code",
   "execution_count": 11,
   "metadata": {},
   "outputs": [
    {
     "output_type": "execute_result",
     "data": {
      "text/plain": [
       "(11, 891)"
      ]
     },
     "metadata": {},
     "execution_count": 11
    }
   ],
   "source": [
    "items_data.shape"
   ]
  },
  {
   "cell_type": "code",
   "execution_count": 12,
   "metadata": {},
   "outputs": [
    {
     "output_type": "stream",
     "name": "stdout",
     "text": [
      "(11,)\n4\nage_index:4\n['22' '38' '26' '35' '35' '' '54' '2' '27' '14' '4' '58' '20' '39' '14'\n '55' '2' '' '31' '' '35' '34' '15' '28' '8' '38' '' '19' '' '' '40' '' ''\n '66' '28' '42' '' '21' '18' '14' '40' '27' '' '3' '19' '' '' '' '' '18'\n '7' '21' '49' '29' '65' '' '21' '28.5' '5' '11' '22' '38' '45' '4' '' ''\n '29' '19' '17' '26' '32' '16' '21' '26' '32' '25' '' '' '0.83' '30' '22'\n '29' '' '28' '17' '33' '16' '' '23' '24' '29' '20' '46' '26' '59' '' '71'\n '23' '34' '34' '28' '' '21' '33' '37' '28' '21' '' '38' '' '47' '14.5'\n '22' '20' '17' '21' '70.5' '29' '24' '2' '21' '' '32.5' '32.5' '54' '12'\n '' '24' '' '45' '33' '20' '47' '29' '25' '23' '19' '37' '16' '24' '' '22'\n '24' '19' '18' '19' '27' '9' '36.5' '42' '51' '22' '55.5' '40.5' '' '51'\n '16' '30' '' '' '44' '40' '26' '17' '1' '9' '' '45' '' '28' '61' '4' '1'\n '21' '56' '18' '' '50' '30' '36' '' '' '9' '1' '4' '' '' '45' '40' '36'\n '32' '19' '19' '3' '44' '58' '' '42' '' '24' '28' '' '34' '45.5' '18' '2'\n '32' '26' '16' '40' '24' '35' '22' '30' '' '31' '27' '42' '32' '30' '16'\n '27' '51' '' '38' '22' '19' '20.5' '18' '' '35' '29' '59' '5' '24' ''\n '44' '8' '19' '33' '' '' '29' '22' '30' '44' '25' '24' '37' '54' '' '29'\n '62' '30' '41' '29' '' '30' '35' '50' '' '3' '52' '40' '' '36' '16' '25'\n '58' '35' '' '25' '41' '37' '' '63' '45' '' '7' '35' '65' '28' '16' '19'\n '' '33' '30' '22' '42' '22' '26' '19' '36' '24' '24' '' '23.5' '2' ''\n '50' '' '' '19' '' '' '0.92' '' '17' '30' '30' '24' '18' '26' '28' '43'\n '26' '24' '54' '31' '40' '22' '27' '30' '22' '' '36' '61' '36' '31' '16'\n '' '45.5' '38' '16' '' '' '29' '41' '45' '45' '2' '24' '28' '25' '36'\n '24' '40' '' '3' '42' '23' '' '15' '25' '' '28' '22' '38' '' '' '40' '29'\n '45' '35' '' '30' '60' '' '' '24' '25' '18' '19' '22' '3' '' '22' '27'\n '20' '19' '42' '1' '32' '35' '' '18' '1' '36' '' '17' '36' '21' '28' '23'\n '24' '22' '31' '46' '23' '28' '39' '26' '21' '28' '20' '34' '51' '3' '21'\n '' '' '' '33' '' '44' '' '34' '18' '30' '10' '' '21' '29' '28' '18' ''\n '28' '19' '' '32' '28' '' '42' '17' '50' '14' '21' '24' '64' '31' '45'\n '20' '25' '28' '' '4' '13' '34' '5' '52' '36' '' '30' '49' '' '29' '65'\n '' '50' '' '48' '34' '47' '48' '' '38' '' '56' '' '0.75' '' '38' '33'\n '23' '22' '' '34' '29' '22' '2' '9' '' '50' '63' '25' '' '35' '58' '30'\n '9' '' '21' '55' '71' '21' '' '54' '' '25' '24' '17' '21' '' '37' '16'\n '18' '33' '' '28' '26' '29' '' '36' '54' '24' '47' '34' '' '36' '32' '30'\n '22' '' '44' '' '40.5' '50' '' '39' '23' '2' '' '17' '' '30' '7' '45'\n '30' '' '22' '36' '9' '11' '32' '50' '64' '19' '' '33' '8' '17' '27' ''\n '22' '22' '62' '48' '' '39' '36' '' '40' '28' '' '' '24' '19' '29' ''\n '32' '62' '53' '36' '' '16' '19' '34' '39' '' '32' '25' '39' '54' '36' ''\n '18' '47' '60' '22' '' '35' '52' '47' '' '37' '36' '' '49' '' '49' '24'\n '' '' '44' '35' '36' '30' '27' '22' '40' '39' '' '' '' '35' '24' '34'\n '26' '4' '26' '27' '42' '20' '21' '21' '61' '57' '21' '26' '' '80' '51'\n '32' '' '9' '28' '32' '31' '41' '' '20' '24' '2' '' '0.75' '48' '19' '56'\n '' '23' '' '18' '21' '' '18' '24' '' '32' '23' '58' '50' '40' '47' '36'\n '20' '32' '25' '' '43' '' '40' '31' '70' '31' '' '18' '24.5' '18' '43'\n '36' '' '27' '20' '14' '60' '25' '14' '19' '18' '15' '31' '4' '' '25'\n '60' '52' '44' '' '49' '42' '18' '35' '18' '25' '26' '39' '45' '42' '22'\n '' '24' '' '48' '29' '52' '19' '38' '27' '' '33' '6' '17' '34' '50' '27'\n '20' '30' '' '25' '25' '29' '11' '' '23' '23' '28.5' '48' '35' '' '' ''\n '36' '21' '24' '31' '70' '16' '30' '19' '31' '4' '6' '33' '23' '48'\n '0.67' '28' '18' '34' '33' '' '41' '20' '36' '16' '51' '' '30.5' '' '32'\n '24' '48' '57' '' '54' '18' '' '5' '' '43' '13' '17' '29' '' '25' '25'\n '18' '8' '1' '46' '' '16' '' '' '25' '39' '49' '31' '30' '30' '34' '31'\n '11' '0.42' '27' '31' '39' '18' '39' '33' '26' '39' '35' '6' '30.5' ''\n '23' '31' '43' '10' '52' '27' '38' '27' '2' '' '' '1' '' '62' '15' '0.83'\n '' '23' '18' '39' '21' '' '32' '' '20' '16' '30' '34.5' '17' '42' '' '35'\n '28' '' '4' '74' '9' '16' '44' '18' '45' '51' '24' '' '41' '21' '48' ''\n '24' '42' '27' '31' '' '4' '26' '47' '33' '47' '28' '15' '20' '19' ''\n '56' '25' '33' '22' '28' '25' '39' '27' '19' '' '26' '32']\n29.69911764705882\n"
     ]
    }
   ],
   "source": [
    "# age属性中有缺失, 通过计算该属性的均值将缺失处填补,使得数据的数量一致\n",
    "age_index = 4\n",
    "print(head_index.shape)\n",
    "print(age_index)\n",
    "\n",
    "print(\"age_index:%d\"%age_index) \n",
    "age_data = items_data[age_index]\n",
    "print(age_data)\n",
    "age_data_null = sum(age_data=='')\n",
    "handle_data = np.where(age_data == '', 0, age_data) #dkdkfdkkaa\n",
    "age_mean = sum(handle_data.astype(np.float))/(len(handle_data)-age_data_null) #非空的年龄的平均值\n",
    "print(age_mean)"
   ]
  },
  {
   "cell_type": "code",
   "execution_count": 13,
   "metadata": {},
   "outputs": [],
   "source": [
    "items_data[4] = np.where(items_data[4] == '', age_mean, items_data[4])  #数组赋值为数组"
   ]
  },
  {
   "cell_type": "code",
   "execution_count": 14,
   "metadata": {},
   "outputs": [
    {
     "output_type": "execute_result",
     "data": {
      "text/plain": [
       "array(['S', 'C', 'S', 'S', 'S', 'Q', 'S', 'S', 'S', 'C', 'S', 'S', 'S',\n",
       "       'S', 'S', 'S', 'Q', 'S', 'S', 'C', 'S', 'S', 'Q', 'S', 'S', 'S',\n",
       "       'C', 'S', 'Q', 'S', 'C', 'C', 'Q', 'S', 'C', 'S', 'C', 'S', 'S',\n",
       "       'C', 'S', 'S', 'C', 'C', 'Q', 'S', 'Q', 'Q', 'C', 'S', 'S', 'S',\n",
       "       'C', 'S', 'C', 'S', 'S', 'C', 'S', 'S', 'C', '', 'S', 'S', 'C',\n",
       "       'C', 'S', 'S', 'S', 'S', 'S', 'S', 'S', 'C', 'S', 'S', 'S', 'S',\n",
       "       'S', 'S', 'S', 'S', 'Q', 'S', 'S', 'S', 'S', 'S', 'S', 'S', 'S',\n",
       "       'S', 'S', 'S', 'S', 'S', 'C', 'C', 'S', 'S', 'S', 'S', 'S', 'S',\n",
       "       'S', 'S', 'S', 'S', 'S', 'Q', 'S', 'C', 'S', 'S', 'C', 'S', 'Q',\n",
       "       'S', 'C', 'S', 'S', 'S', 'C', 'S', 'S', 'C', 'Q', 'S', 'C', 'S',\n",
       "       'C', 'S', 'S', 'S', 'S', 'C', 'S', 'S', 'S', 'C', 'C', 'S', 'S',\n",
       "       'Q', 'S', 'S', 'S', 'S', 'S', 'S', 'S', 'S', 'S', 'S', 'S', 'C',\n",
       "       'Q', 'S', 'S', 'S', 'S', 'S', 'S', 'S', 'S', 'S', 'S', 'S', 'S',\n",
       "       'S', 'S', 'Q', 'S', 'S', 'C', 'S', 'S', 'C', 'S', 'S', 'S', 'C',\n",
       "       'S', 'S', 'S', 'S', 'Q', 'S', 'Q', 'S', 'S', 'S', 'S', 'S', 'C',\n",
       "       'C', 'Q', 'S', 'Q', 'S', 'S', 'S', 'S', 'C', 'S', 'S', 'S', 'C',\n",
       "       'Q', 'C', 'S', 'S', 'S', 'S', 'Q', 'C', 'S', 'S', 'C', 'S', 'S',\n",
       "       'S', 'S', 'S', 'S', 'S', 'S', 'S', 'S', 'S', 'S', 'S', 'S', 'S',\n",
       "       'S', 'S', 'S', 'S', 'S', 'S', 'C', 'Q', 'S', 'S', 'C', 'Q', 'S',\n",
       "       'S', 'S', 'S', 'S', 'S', 'S', 'S', 'S', 'C', 'C', 'S', 'C', 'S',\n",
       "       'Q', 'S', 'S', 'S', 'Q', 'S', 'S', 'S', 'S', 'S', 'S', 'S', 'S',\n",
       "       'C', 'Q', 'S', 'S', 'S', 'Q', 'S', 'Q', 'S', 'S', 'S', 'S', 'C',\n",
       "       'S', 'S', 'S', 'Q', 'S', 'C', 'C', 'S', 'S', 'C', 'C', 'S', 'S',\n",
       "       'C', 'Q', 'Q', 'S', 'Q', 'S', 'S', 'C', 'C', 'C', 'C', 'C', 'C',\n",
       "       'S', 'S', 'S', 'S', 'S', 'S', 'S', 'C', 'S', 'S', 'Q', 'S', 'S',\n",
       "       'C', 'S', 'S', 'S', 'C', 'Q', 'S', 'S', 'S', 'S', 'S', 'S', 'C',\n",
       "       'S', 'S', 'S', 'S', 'S', 'S', 'S', 'S', 'S', 'S', 'S', 'S', 'S',\n",
       "       'S', 'C', 'S', 'C', 'S', 'S', 'S', 'Q', 'Q', 'S', 'C', 'C', 'S',\n",
       "       'Q', 'S', 'C', 'C', 'Q', 'C', 'C', 'S', 'S', 'C', 'S', 'C', 'S',\n",
       "       'C', 'C', 'S', 'C', 'C', 'S', 'S', 'S', 'S', 'S', 'S', 'Q', 'C',\n",
       "       'S', 'S', 'S', 'C', 'S', 'S', 'S', 'S', 'S', 'S', 'S', 'S', 'S',\n",
       "       'S', 'S', 'S', 'S', 'S', 'S', 'S', 'S', 'Q', 'Q', 'S', 'S', 'S',\n",
       "       'S', 'S', 'S', 'S', 'C', 'Q', 'S', 'S', 'S', 'S', 'S', 'S', 'Q',\n",
       "       'S', 'S', 'S', 'S', 'S', 'S', 'S', 'S', 'S', 'S', 'S', 'S', 'S',\n",
       "       'S', 'S', 'S', 'S', 'S', 'S', 'C', 'S', 'S', 'S', 'C', 'C', 'S',\n",
       "       'C', 'S', 'S', 'S', 'Q', 'S', 'S', 'S', 'S', 'S', 'S', 'S', 'S',\n",
       "       'Q', 'C', 'S', 'S', 'S', 'C', 'S', 'S', 'S', 'S', 'S', 'S', 'S',\n",
       "       'S', 'S', 'S', 'C', 'S', 'S', 'C', 'S', 'S', 'S', 'S', 'S', 'C',\n",
       "       'S', 'C', 'C', 'S', 'S', 'S', 'S', 'Q', 'Q', 'S', 'S', 'C', 'S',\n",
       "       'S', 'S', 'S', 'Q', 'S', 'S', 'C', 'S', 'S', 'S', 'Q', 'S', 'S',\n",
       "       'S', 'S', 'C', 'C', 'C', 'Q', 'S', 'S', 'S', 'S', 'S', 'C', 'C',\n",
       "       'C', 'S', 'S', 'S', 'C', 'S', 'C', 'S', 'S', 'S', 'S', 'C', 'S',\n",
       "       'S', 'C', 'S', 'S', 'C', 'S', 'Q', 'C', 'S', 'S', 'C', 'C', 'S',\n",
       "       'S', 'Q', 'S', 'S', 'S', 'S', 'S', 'S', 'S', 'C', 'S', 'S', 'S',\n",
       "       'S', 'Q', 'S', 'S', 'S', 'S', 'C', 'S', 'S', 'C', 'S', 'C', 'C',\n",
       "       'S', 'S', 'C', 'S', 'S', 'S', 'C', 'S', 'Q', 'S', 'S', 'S', 'S',\n",
       "       'C', 'C', 'S', 'S', 'S', 'S', 'C', 'S', 'S', 'S', 'C', 'S', 'S',\n",
       "       'S', 'Q', 'Q', 'S', 'S', 'S', 'S', 'S', 'S', 'C', 'S', 'C', 'S',\n",
       "       'S', 'S', 'Q', 'S', 'S', 'Q', 'S', 'S', 'C', 'S', 'S', 'S', 'S',\n",
       "       'S', 'S', 'S', 'S', 'C', 'S', 'S', 'C', 'C', 'S', 'C', 'S', 'S',\n",
       "       'S', 'S', 'S', 'Q', 'Q', 'S', 'S', 'Q', 'S', 'C', 'S', 'C', 'S',\n",
       "       'S', 'S', 'S', 'S', 'S', 'S', 'S', 'S', 'S', 'S', 'S', 'S', 'S',\n",
       "       'S', 'S', 'S', 'C', 'Q', 'C', 'S', 'S', 'S', 'C', 'S', 'S', 'S',\n",
       "       'S', 'S', 'C', 'S', 'C', 'S', 'S', 'S', 'Q', 'C', 'S', 'C', 'S',\n",
       "       'C', 'Q', 'S', 'S', 'S', 'S', 'S', 'C', 'C', 'S', 'S', 'S', 'S',\n",
       "       'S', 'C', 'S', 'Q', 'S', 'S', 'S', 'S', 'S', 'S', 'S', 'S', 'Q',\n",
       "       'S', 'S', 'S', 'C', 'S', 'S', 'S', 'S', 'S', 'C', 'S', 'S', 'S',\n",
       "       'S', 'C', 'S', 'S', 'S', 'S', 'S', 'S', 'Q', 'S', 'S', 'S', 'S',\n",
       "       'S', 'S', 'S', 'S', 'S', 'S', 'S', 'S', 'C', 'S', 'S', 'S', 'C',\n",
       "       'Q', 'Q', 'S', 'S', 'S', 'S', 'C', 'S', 'S', 'Q', 'S', 'Q', 'S',\n",
       "       'C', 'S', 'S', 'S', 'S', 'S', 'S', 'Q', 'S', 'C', 'Q', 'S', 'S',\n",
       "       'C', 'S', 'S', 'S', 'S', 'C', 'S', 'S', 'S', 'S', 'C', 'S', 'S',\n",
       "       'S', 'S', 'S', 'S', 'S', 'S', 'S', 'S', 'S', 'S', 'S', 'C', 'S',\n",
       "       'S', 'S', 'S', 'S', 'S', 'S', 'Q', 'S', 'C', 'Q', '', 'C', 'S',\n",
       "       'C', 'S', 'S', 'C', 'S', 'S', 'S', 'C', 'S', 'S', 'C', 'C', 'S',\n",
       "       'S', 'S', 'C', 'S', 'C', 'S', 'S', 'C', 'S', 'S', 'S', 'S', 'S',\n",
       "       'C', 'C', 'S', 'S', 'S', 'S', 'S', 'S', 'C', 'S', 'S', 'S', 'S',\n",
       "       'S', 'S', 'S', 'C', 'C', 'S', 'S', 'S', 'C', 'S', 'S', 'S', 'S',\n",
       "       'S', 'Q', 'S', 'S', 'S', 'C', 'Q'], dtype='<U83')"
      ]
     },
     "metadata": {},
     "execution_count": 14
    }
   ],
   "source": [
    "#embarked填充众数\n",
    "embarked_index = 10\n",
    "embarked_data = items_data[embarked_index ]\n",
    "embarked_data"
   ]
  },
  {
   "cell_type": "code",
   "execution_count": 15,
   "metadata": {},
   "outputs": [
    {
     "output_type": "execute_result",
     "data": {
      "text/plain": [
       "array(['', 'C', 'Q', 'S'], dtype='<U83')"
      ]
     },
     "metadata": {},
     "execution_count": 15
    }
   ],
   "source": [
    "np.unique(embarked_data)"
   ]
  },
  {
   "cell_type": "code",
   "execution_count": 16,
   "metadata": {},
   "outputs": [
    {
     "output_type": "execute_result",
     "data": {
      "text/plain": [
       "Counter({'S': 644, 'C': 168, 'Q': 77, '': 2})"
      ]
     },
     "metadata": {},
     "execution_count": 16
    }
   ],
   "source": [
    "from collections import  Counter\n",
    "Counter(embarked_data)  #统计不同舱位数量"
   ]
  },
  {
   "cell_type": "markdown",
   "metadata": {},
   "source": [
    "解释：np.where(condition, x, y)\n",
    "函数参数：满足条件(condition)，输出x，不满足输出y， 对array每个数据迭代处理，最后输出还是一个array"
   ]
  },
  {
   "cell_type": "code",
   "execution_count": 17,
   "metadata": {},
   "outputs": [],
   "source": [
    "items_data[10] = np.where(items_data[10] == '', 'S', items_data[10])  #填充缺失值为 众数"
   ]
  },
  {
   "cell_type": "code",
   "execution_count": 18,
   "metadata": {},
   "outputs": [],
   "source": [
    "head_index = np.delete(head_index,9)   #座号 Cablin 可以删掉这一行\n",
    "items_data = np.delete(items_data,9, axis = 0)"
   ]
  },
  {
   "cell_type": "markdown",
   "metadata": {},
   "source": [
    "### 数据离散化\n",
    "```\n",
    "# 获取sex的值, 并用0和1代表男性和女性\n",
    "np.unique(items_data[3])\n",
    "items_data[3] = np.where(items_data[3] == 'male', 0, items_data[3])\n",
    "items_data[3] = np.where(items_data[3] == 'female', 1, items_data[3])\n",
    "\n",
    "# 获取embarked的值, 用0,1,2分别表示S,C,Q\n",
    "np.unique(items_data[9])\n",
    "items_data[9] = np.where(items_data[9] == 'S', 0, items_data[9])\n",
    "items_data[9] = np.where(items_data[9] == 'C', 1, items_data[9])\n",
    "items_data[9] = np.where(items_data[9] == 'Q', 2, items_data[9])\n",
    "```"
   ]
  },
  {
   "cell_type": "code",
   "execution_count": 19,
   "metadata": {},
   "outputs": [
    {
     "output_type": "execute_result",
     "data": {
      "text/plain": [
       "array(['female', 'male'], dtype='<U83')"
      ]
     },
     "metadata": {},
     "execution_count": 19
    }
   ],
   "source": [
    "np.unique(items_data[3])"
   ]
  },
  {
   "cell_type": "code",
   "execution_count": 20,
   "metadata": {},
   "outputs": [],
   "source": [
    "items_data[3] = np.where(items_data[3] == 'male', 0, items_data[3])\n",
    "items_data[3] = np.where(items_data[3] == 'female', 1, items_data[3])"
   ]
  },
  {
   "cell_type": "code",
   "execution_count": 21,
   "metadata": {},
   "outputs": [],
   "source": [
    "np.unique(items_data[9])\n",
    "items_data[9] = np.where(items_data[9] == 'S', 0, items_data[9])\n",
    "items_data[9] = np.where(items_data[9] == 'C', 1, items_data[9])\n",
    "items_data[9] = np.where(items_data[9] == 'Q', 2, items_data[9])"
   ]
  },
  {
   "cell_type": "markdown",
   "metadata": {},
   "source": [
    "### 数据分析1\n",
    "```\n",
    "# 生还者总数\n",
    "items_data[1].astype(np.int32).sum(axis=0)\n",
    "# 平均生还率\n",
    "items_data[1].astype(np.int32).mean(axis=0)\n",
    "```\n",
    "结论1：生还者总数为342人，平均生还率约为38%"
   ]
  },
  {
   "cell_type": "code",
   "execution_count": 22,
   "metadata": {},
   "outputs": [
    {
     "output_type": "execute_result",
     "data": {
      "text/plain": [
       "array(['PassengerId', 'Survived', 'Pclass', 'Sex', 'Age', 'SibSp',\n",
       "       'Parch', 'Ticket', 'Fare', 'Embarked'], dtype='<U11')"
      ]
     },
     "metadata": {},
     "execution_count": 22
    }
   ],
   "source": [
    "head_index"
   ]
  },
  {
   "cell_type": "code",
   "execution_count": 23,
   "metadata": {},
   "outputs": [
    {
     "output_type": "execute_result",
     "data": {
      "text/plain": [
       "342"
      ]
     },
     "metadata": {},
     "execution_count": 23
    }
   ],
   "source": [
    "items_data[1].astype(np.int32).sum()    #一维数组 axis只有0，可以不写"
   ]
  },
  {
   "cell_type": "code",
   "execution_count": 24,
   "metadata": {},
   "outputs": [
    {
     "output_type": "execute_result",
     "data": {
      "text/plain": [
       "0.3838383838383838"
      ]
     },
     "metadata": {},
     "execution_count": 24
    }
   ],
   "source": [
    "items_data[1].astype(np.int32).mean()  # 342/总人数"
   ]
  },
  {
   "cell_type": "markdown",
   "metadata": {},
   "source": [
    "### 数据分析2\n",
    "```\n",
    "# 各等级船舱Pclass乘客总数量统计：\n",
    "from collections import  Counter\n",
    "data = np.array(items_data[2])\n",
    "Counter(data)\n",
    "\n",
    "# 各等级船舱生还数量统计：'Pclass', 'Survived'\n",
    "pclass_survived = np.vstack((items_data[2],items_data[1]))\n",
    "unique, counts = np.unique(pclass_survived, return_counts=True,axis=1)\n",
    "\n",
    "# 各船舱等级对应的平均生还率\n",
    "```\n",
    "\n",
    "结论2：\n",
    "\n",
    "头等舱总人数为216人，二等舱为184人，三等舱为491人。\n",
    "\n",
    "头等舱生还人数为136人，二等舱为87人，三等舱为119人。\n",
    "\n",
    "头等舱生还率为62.96%，二等舱为47.28%，三等舱为24.24%。"
   ]
  },
  {
   "cell_type": "code",
   "execution_count": 25,
   "metadata": {},
   "outputs": [
    {
     "output_type": "execute_result",
     "data": {
      "text/plain": [
       "Counter({'3': 491, '1': 216, '2': 184})"
      ]
     },
     "metadata": {},
     "execution_count": 25
    }
   ],
   "source": [
    "from collections import  Counter\n",
    "data = np.array(items_data[2])\n",
    "Counter(data)"
   ]
  },
  {
   "cell_type": "code",
   "execution_count": 26,
   "metadata": {},
   "outputs": [],
   "source": [
    "pclass_survived = np.vstack((items_data[2],items_data[1]))  #两个数组 垂直方向连接， 本案例就是两行数据 并起来"
   ]
  },
  {
   "cell_type": "code",
   "execution_count": 27,
   "metadata": {},
   "outputs": [
    {
     "output_type": "execute_result",
     "data": {
      "text/plain": [
       "array([['3', '1', '3', ..., '3', '1', '3'],\n",
       "       ['0', '1', '1', ..., '0', '1', '0']], dtype='<U83')"
      ]
     },
     "metadata": {},
     "execution_count": 27
    }
   ],
   "source": [
    "pclass_survived"
   ]
  },
  {
   "cell_type": "code",
   "execution_count": 28,
   "metadata": {},
   "outputs": [],
   "source": [
    "unique, counts = np.unique(pclass_survived, return_counts=True,axis=1) # 垂直方向的组合 统计不同组合个数"
   ]
  },
  {
   "cell_type": "code",
   "execution_count": 29,
   "metadata": {},
   "outputs": [
    {
     "output_type": "execute_result",
     "data": {
      "text/plain": [
       "array([['1', '1', '2', '2', '3', '3'],\n",
       "       ['0', '1', '0', '1', '0', '1']], dtype='<U83')"
      ]
     },
     "metadata": {},
     "execution_count": 29
    }
   ],
   "source": [
    "unique"
   ]
  },
  {
   "cell_type": "code",
   "execution_count": 30,
   "metadata": {},
   "outputs": [
    {
     "output_type": "execute_result",
     "data": {
      "text/plain": [
       "array([ 80, 136,  97,  87, 372, 119])"
      ]
     },
     "metadata": {},
     "execution_count": 30
    }
   ],
   "source": [
    "counts"
   ]
  },
  {
   "cell_type": "code",
   "execution_count": 31,
   "metadata": {},
   "outputs": [
    {
     "output_type": "execute_result",
     "data": {
      "text/plain": [
       "array([0.62962963, 0.47282609, 0.24236253])"
      ]
     },
     "metadata": {},
     "execution_count": 31
    }
   ],
   "source": [
    "a = [216, 184, 491]\n",
    "b = [136, 87, 119]\n",
    "np.array(b)/np.array(a)  #不同舱位生还率"
   ]
  },
  {
   "cell_type": "markdown",
   "metadata": {
    "slideshow": {
     "slide_type": "slide"
    }
   },
   "source": [
    "### 编程练习\n",
    "\n",
    "模仿数据分析2， 计算不同性别平均生还率 ['Sex','Survived']\n",
    "\n"
   ]
  },
  {
   "cell_type": "code",
   "execution_count": 32,
   "metadata": {},
   "outputs": [
    {
     "output_type": "execute_result",
     "data": {
      "text/plain": [
       "Counter({'3': 491, '1': 216, '2': 184})"
      ]
     },
     "metadata": {},
     "execution_count": 32
    }
   ],
   "source": [
    "from collections import  Counter\n",
    "data = np.array(items_data[2])\n",
    "Counter(data)\n",
    "\n"
   ]
  },
  {
   "cell_type": "code",
   "execution_count": 60,
   "metadata": {},
   "outputs": [],
   "source": [
    "male = []\n",
    "female = []\n",
    "for i in range(len(items_data[3])):\n",
    "    if items_data[3][i] == '0':\n",
    "        male.append(int(items_data[1][i]))\n",
    "    else:\n",
    "        female.append(int(items_data[1][i]))"
   ]
  },
  {
   "cell_type": "code",
   "execution_count": 61,
   "metadata": {},
   "outputs": [
    {
     "output_type": "stream",
     "name": "stdout",
     "text": [
      "0.18890814558058924 0.7420382165605095\n"
     ]
    }
   ],
   "source": [
    "print(sum(male)/len(male), sum(female)/len(female))"
   ]
  },
  {
   "cell_type": "code",
   "execution_count": null,
   "metadata": {},
   "outputs": [],
   "source": []
  }
 ],
 "metadata": {
  "kernelspec": {
   "display_name": "Python 3",
   "language": "python",
   "name": "python3"
  },
  "language_info": {
   "codemirror_mode": {
    "name": "ipython",
    "version": 3
   },
   "file_extension": ".py",
   "mimetype": "text/x-python",
   "name": "python",
   "nbconvert_exporter": "python",
   "pygments_lexer": "ipython3",
   "version": "3.8.5-final"
  }
 },
 "nbformat": 4,
 "nbformat_minor": 1
}