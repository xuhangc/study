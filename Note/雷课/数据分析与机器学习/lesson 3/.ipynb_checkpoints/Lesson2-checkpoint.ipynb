{
 "cells": [
  {
   "cell_type": "markdown",
   "metadata": {},
   "source": [
    "# <center>网络爬虫——Lesson2</center>"
   ]
  },
  {
   "cell_type": "markdown",
   "metadata": {},
   "source": [
    "## 课程主要内容\n",
    "* 网页数据的获取\n",
    "* 网页信息的提取\n",
    "* 爬虫的搜索算法"
   ]
  },
  {
   "cell_type": "markdown",
   "metadata": {},
   "source": [
    "### 1、网页数据的获取"
   ]
  },
  {
   "cell_type": "code",
   "execution_count": 1,
   "metadata": {
    "collapsed": true
   },
   "outputs": [],
   "source": [
    "import requests"
   ]
  },
  {
   "cell_type": "code",
   "execution_count": 2,
   "metadata": {
    "collapsed": true
   },
   "outputs": [],
   "source": [
    "url = 'https://www.baidu.com/'\n",
    "response = requests.get(url)"
   ]
  },
  {
   "cell_type": "code",
   "execution_count": 3,
   "metadata": {},
   "outputs": [
    {
     "data": {
      "text/plain": [
       "<Response [200]>"
      ]
     },
     "execution_count": 3,
     "metadata": {},
     "output_type": "execute_result"
    }
   ],
   "source": [
    "response"
   ]
  },
  {
   "cell_type": "code",
   "execution_count": 4,
   "metadata": {},
   "outputs": [
    {
     "data": {
      "text/plain": [
       "200"
      ]
     },
     "execution_count": 4,
     "metadata": {},
     "output_type": "execute_result"
    }
   ],
   "source": [
    "# 请求是否成功,200成功，400失败\n",
    "response.status_code"
   ]
  },
  {
   "cell_type": "code",
   "execution_count": 5,
   "metadata": {},
   "outputs": [
    {
     "data": {
      "text/plain": [
       "'ISO-8859-1'"
      ]
     },
     "execution_count": 5,
     "metadata": {},
     "output_type": "execute_result"
    }
   ],
   "source": [
    "response.encoding # 程序编码"
   ]
  },
  {
   "cell_type": "code",
   "execution_count": 6,
   "metadata": {},
   "outputs": [
    {
     "data": {
      "text/plain": [
       "'utf-8'"
      ]
     },
     "execution_count": 6,
     "metadata": {},
     "output_type": "execute_result"
    }
   ],
   "source": [
    "response.apparent_encoding # 实际编码"
   ]
  },
  {
   "cell_type": "code",
   "execution_count": 7,
   "metadata": {},
   "outputs": [
    {
     "data": {
      "text/plain": [
       "{'Cache-Control': 'private, no-cache, no-store, proxy-revalidate, no-transform', 'Connection': 'keep-alive', 'Content-Encoding': 'gzip', 'Content-Type': 'text/html', 'Date': 'Tue, 08 Sep 2020 13:08:05 GMT', 'Last-Modified': 'Mon, 23 Jan 2017 13:23:50 GMT', 'Pragma': 'no-cache', 'Server': 'bfe/1.0.8.18', 'Set-Cookie': 'BDORZ=27315; max-age=86400; domain=.baidu.com; path=/', 'Transfer-Encoding': 'chunked'}"
      ]
     },
     "execution_count": 7,
     "metadata": {},
     "output_type": "execute_result"
    }
   ],
   "source": [
    "response.headers"
   ]
  },
  {
   "cell_type": "code",
   "execution_count": 9,
   "metadata": {
    "collapsed": true
   },
   "outputs": [],
   "source": [
    "response.encoding = response.apparent_encoding"
   ]
  },
  {
   "cell_type": "code",
   "execution_count": 10,
   "metadata": {},
   "outputs": [
    {
     "data": {
      "text/plain": [
       "'<!DOCTYPE html>\\r\\n<!--STATUS OK--><html> <head><meta http-equiv=content-type content=text/html;charset=utf-8><meta http-equiv=X-UA-Compatible content=IE=Edge><meta content=always name=referrer><link rel=stylesheet type=text/css href=https://ss1.bdstatic.com/5eN1bjq8AAUYm2zgoY3K/r/www/cache/bdorz/baidu.min.css><title>百度一下，你就知道</title></head> <body link=#0000cc> <div id=wrapper> <div id=head> <div class=head_wrapper> <div class=s_form> <div class=s_form_wrapper> <div id=lg> <img hidefocus=true src=//www.baidu.com/img/bd_logo1.png width=270 height=129> </div> <form id=form name=f action=//www.baidu.com/s class=fm> <input type=hidden name=bdorz_come value=1> <input type=hidden name=ie value=utf-8> <input type=hidden name=f value=8> <input type=hidden name=rsv_bp value=1> <input type=hidden name=rsv_idx value=1> <input type=hidden name=tn value=baidu><span class=\"bg s_ipt_wr\"><input id=kw name=wd class=s_ipt value maxlength=255 autocomplete=off autofocus=autofocus></span><span class=\"bg s_btn_wr\"><input type=submit id=su value=百度一下 class=\"bg s_btn\" autofocus></span> </form> </div> </div> <div id=u1> <a href=http://news.baidu.com name=tj_trnews class=mnav>新闻</a> <a href=https://www.hao123.com name=tj_trhao123 class=mnav>hao123</a> <a href=http://map.baidu.com name=tj_trmap class=mnav>地图</a> <a href=http://v.baidu.com name=tj_trvideo class=mnav>视频</a> <a href=http://tieba.baidu.com name=tj_trtieba class=mnav>贴吧</a> <noscript> <a href=http://www.baidu.com/bdorz/login.gif?login&amp;tpl=mn&amp;u=http%3A%2F%2Fwww.baidu.com%2f%3fbdorz_come%3d1 name=tj_login class=lb>登录</a> </noscript> <script>document.write(\\'<a href=\"http://www.baidu.com/bdorz/login.gif?login&tpl=mn&u=\\'+ encodeURIComponent(window.location.href+ (window.location.search === \"\" ? \"?\" : \"&\")+ \"bdorz_come=1\")+ \\'\" name=\"tj_login\" class=\"lb\">登录</a>\\');\\r\\n                </script> <a href=//www.baidu.com/more/ name=tj_briicon class=bri style=\"display: block;\">更多产品</a> </div> </div> </div> <div id=ftCon> <div id=ftConw> <p id=lh> <a href=http://home.baidu.com>关于百度</a> <a href=http://ir.baidu.com>About Baidu</a> </p> <p id=cp>&copy;2017&nbsp;Baidu&nbsp;<a href=http://www.baidu.com/duty/>使用百度前必读</a>&nbsp; <a href=http://jianyi.baidu.com/ class=cp-feedback>意见反馈</a>&nbsp;京ICP证030173号&nbsp; <img src=//www.baidu.com/img/gs.gif> </p> </div> </div> </div> </body> </html>\\r\\n'"
      ]
     },
     "execution_count": 10,
     "metadata": {},
     "output_type": "execute_result"
    }
   ],
   "source": [
    "response.text"
   ]
  },
  {
   "cell_type": "code",
   "execution_count": 11,
   "metadata": {},
   "outputs": [
    {
     "data": {
      "text/plain": [
       "b'<!DOCTYPE html>\\r\\n<!--STATUS OK--><html> <head><meta http-equiv=content-type content=text/html;charset=utf-8><meta http-equiv=X-UA-Compatible content=IE=Edge><meta content=always name=referrer><link rel=stylesheet type=text/css href=https://ss1.bdstatic.com/5eN1bjq8AAUYm2zgoY3K/r/www/cache/bdorz/baidu.min.css><title>\\xe7\\x99\\xbe\\xe5\\xba\\xa6\\xe4\\xb8\\x80\\xe4\\xb8\\x8b\\xef\\xbc\\x8c\\xe4\\xbd\\xa0\\xe5\\xb0\\xb1\\xe7\\x9f\\xa5\\xe9\\x81\\x93</title></head> <body link=#0000cc> <div id=wrapper> <div id=head> <div class=head_wrapper> <div class=s_form> <div class=s_form_wrapper> <div id=lg> <img hidefocus=true src=//www.baidu.com/img/bd_logo1.png width=270 height=129> </div> <form id=form name=f action=//www.baidu.com/s class=fm> <input type=hidden name=bdorz_come value=1> <input type=hidden name=ie value=utf-8> <input type=hidden name=f value=8> <input type=hidden name=rsv_bp value=1> <input type=hidden name=rsv_idx value=1> <input type=hidden name=tn value=baidu><span class=\"bg s_ipt_wr\"><input id=kw name=wd class=s_ipt value maxlength=255 autocomplete=off autofocus=autofocus></span><span class=\"bg s_btn_wr\"><input type=submit id=su value=\\xe7\\x99\\xbe\\xe5\\xba\\xa6\\xe4\\xb8\\x80\\xe4\\xb8\\x8b class=\"bg s_btn\" autofocus></span> </form> </div> </div> <div id=u1> <a href=http://news.baidu.com name=tj_trnews class=mnav>\\xe6\\x96\\xb0\\xe9\\x97\\xbb</a> <a href=https://www.hao123.com name=tj_trhao123 class=mnav>hao123</a> <a href=http://map.baidu.com name=tj_trmap class=mnav>\\xe5\\x9c\\xb0\\xe5\\x9b\\xbe</a> <a href=http://v.baidu.com name=tj_trvideo class=mnav>\\xe8\\xa7\\x86\\xe9\\xa2\\x91</a> <a href=http://tieba.baidu.com name=tj_trtieba class=mnav>\\xe8\\xb4\\xb4\\xe5\\x90\\xa7</a> <noscript> <a href=http://www.baidu.com/bdorz/login.gif?login&amp;tpl=mn&amp;u=http%3A%2F%2Fwww.baidu.com%2f%3fbdorz_come%3d1 name=tj_login class=lb>\\xe7\\x99\\xbb\\xe5\\xbd\\x95</a> </noscript> <script>document.write(\\'<a href=\"http://www.baidu.com/bdorz/login.gif?login&tpl=mn&u=\\'+ encodeURIComponent(window.location.href+ (window.location.search === \"\" ? \"?\" : \"&\")+ \"bdorz_come=1\")+ \\'\" name=\"tj_login\" class=\"lb\">\\xe7\\x99\\xbb\\xe5\\xbd\\x95</a>\\');\\r\\n                </script> <a href=//www.baidu.com/more/ name=tj_briicon class=bri style=\"display: block;\">\\xe6\\x9b\\xb4\\xe5\\xa4\\x9a\\xe4\\xba\\xa7\\xe5\\x93\\x81</a> </div> </div> </div> <div id=ftCon> <div id=ftConw> <p id=lh> <a href=http://home.baidu.com>\\xe5\\x85\\xb3\\xe4\\xba\\x8e\\xe7\\x99\\xbe\\xe5\\xba\\xa6</a> <a href=http://ir.baidu.com>About Baidu</a> </p> <p id=cp>&copy;2017&nbsp;Baidu&nbsp;<a href=http://www.baidu.com/duty/>\\xe4\\xbd\\xbf\\xe7\\x94\\xa8\\xe7\\x99\\xbe\\xe5\\xba\\xa6\\xe5\\x89\\x8d\\xe5\\xbf\\x85\\xe8\\xaf\\xbb</a>&nbsp; <a href=http://jianyi.baidu.com/ class=cp-feedback>\\xe6\\x84\\x8f\\xe8\\xa7\\x81\\xe5\\x8f\\x8d\\xe9\\xa6\\x88</a>&nbsp;\\xe4\\xba\\xacICP\\xe8\\xaf\\x81030173\\xe5\\x8f\\xb7&nbsp; <img src=//www.baidu.com/img/gs.gif> </p> </div> </div> </div> </body> </html>\\r\\n'"
      ]
     },
     "execution_count": 11,
     "metadata": {},
     "output_type": "execute_result"
    }
   ],
   "source": [
    "response.content"
   ]
  },
  {
   "cell_type": "code",
   "execution_count": 12,
   "metadata": {},
   "outputs": [
    {
     "data": {
      "text/plain": [
       "'text/html'"
      ]
     },
     "execution_count": 12,
     "metadata": {},
     "output_type": "execute_result"
    }
   ],
   "source": [
    "response.headers['Content-Type']"
   ]
  },
  {
   "cell_type": "code",
   "execution_count": 13,
   "metadata": {},
   "outputs": [
    {
     "name": "stdout",
     "output_type": "stream",
     "text": [
      "<!DOCTYPE html>\r\n",
      "<!--STATUS OK--><html> <head><meta http-equiv=content-type content=text/html;charset=utf-8><meta http-equiv=X-UA-Compatible content=IE=Edge><meta content=always name=referrer><link rel=stylesheet type=text/css href=https://ss1.bdstatic.com/5eN1bjq8AAUYm2zgoY3K/r/www/cache/bdorz/baidu.min.css><title>百度一下，你就知道</title></head> <body link=#0000cc> <div id=wrapper> <div id=head> <div class=head_wrapper> <div class=s_form> <div class=s_form_wrapper> <div id=lg> <img hidefocus=true src=//www.baidu.com/img/bd_logo1.png width=270 height=129> </div> <form id=form name=f action=//www.baidu.com/s class=fm> <input type=hidden name=bdorz_come value=1> <input type=hidden name=ie value=utf-8> <input type=hidden name=f value=8> <input type=hidden name=rsv_bp value=1> <input type=hidden name=rsv_idx value=1> <input type=hidden name=tn value=baidu><span class=\"bg s_ipt_wr\"><input id=kw name=wd class=s_ipt value maxlength=255 autocomplete=off autofocus=autofocus></span><span class=\"bg s_btn_wr\"><input type=submit id=su value=百度一下 class=\"bg s_btn\" autofocus></span> </form> </div> </div> <div id=u1> <a href=http://news.baidu.com name=tj_trnews class=mnav>新闻</a> <a href=https://www.hao123.com name=tj_trhao123 class=mnav>hao123</a> <a href=http://map.baidu.com name=tj_trmap class=mnav>地图</a> <a href=http://v.baidu.com name=tj_trvideo class=mnav>视频</a> <a href=http://tieba.baidu.com name=tj_trtieba class=mnav>贴吧</a> <noscript> <a href=http://www.baidu.com/bdorz/login.gif?login&amp;tpl=mn&amp;u=http%3A%2F%2Fwww.baidu.com%2f%3fbdorz_come%3d1 name=tj_login class=lb>登录</a> </noscript> <script>document.write('<a href=\"http://www.baidu.com/bdorz/login.gif?login&tpl=mn&u='+ encodeURIComponent(window.location.href+ (window.location.search === \"\" ? \"?\" : \"&\")+ \"bdorz_come=1\")+ '\" name=\"tj_login\" class=\"lb\">登录</a>');\r\n",
      "                </script> <a href=//www.baidu.com/more/ name=tj_briicon class=bri style=\"display: block;\">更多产品</a> </div> </div> </div> <div id=ftCon> <div id=ftConw> <p id=lh> <a href=http://home.baidu.com>关于百度</a> <a href=http://ir.baidu.com>About Baidu</a> </p> <p id=cp>&copy;2017&nbsp;Baidu&nbsp;<a href=http://www.baidu.com/duty/>使用百度前必读</a>&nbsp; <a href=http://jianyi.baidu.com/ class=cp-feedback>意见反馈</a>&nbsp;京ICP证030173号&nbsp; <img src=//www.baidu.com/img/gs.gif> </p> </div> </div> </div> </body> </html>\r\n",
      "\n"
     ]
    }
   ],
   "source": [
    "import requests\n",
    "\n",
    "url = 'https://www.baidu.com/'\n",
    "response = requests.get(url)\n",
    "\n",
    "if response.status_code == 200:\n",
    "    response.encoding = response.apparent_encoding\n",
    "    if response.headers['Content-Type'] == 'text/html':\n",
    "        print(response.text)"
   ]
  },
  {
   "cell_type": "code",
   "execution_count": 18,
   "metadata": {},
   "outputs": [
    {
     "name": "stdout",
     "output_type": "stream",
     "text": [
      "200\n"
     ]
    }
   ],
   "source": [
    "url = 'https://zhuanlan.zhihu.com/zimei'\n",
    "headers = {'user-agent':'Mozilla/5.0 (Windows NT 10.0; Win64; x64) AppleWebKit/537.36 (KHTML, like Gecko) Chrome/83.0.4103.97 Safari/537.36'}\n",
    "response = requests.get(url, headers = headers)\n",
    "print(response.status_code)\n",
    "\n",
    "if response.status_code == 200:\n",
    "    response.encoding = response.apparent_encoding\n",
    "    if response.headers['Content-Type'] == 'text/html':\n",
    "        print(response.text)\n",
    "else:\n",
    "    print(response.status_code)\n",
    "    print('请求失败')"
   ]
  },
  {
   "cell_type": "code",
   "execution_count": 19,
   "metadata": {},
   "outputs": [
    {
     "data": {
      "text/plain": [
       "'text/html; charset=utf-8'"
      ]
     },
     "execution_count": 19,
     "metadata": {},
     "output_type": "execute_result"
    }
   ],
   "source": [
    "response.headers['Content-Type']"
   ]
  },
  {
   "cell_type": "code",
   "execution_count": 20,
   "metadata": {},
   "outputs": [
    {
     "data": {
      "text/plain": [
       "'<!doctype html>\\n<html lang=\"zh\" data-hairline=\"true\" data-theme=\"light\"><head><meta charSet=\"utf-8\"/><title data-react-helmet=\"true\">Python中文社区 - 知乎</title><meta name=\"viewport\" content=\"width=device-width,initial-scale=1,maximum-scale=1\"/><meta name=\"renderer\" content=\"webkit\"/><meta name=\"force-rendering\" content=\"webkit\"/><meta http-equiv=\"X-UA-Compatible\" content=\"IE=edge,chrome=1\"/><meta name=\"google-site-verification\" content=\"FTeR0c8arOPKh8c5DYh_9uu98_zJbaWw53J-Sch9MTg\"/><meta data-react-helmet=\"true\" name=\"description\" content=\"微信公众号：Python中文社区，欢迎投稿\"/><meta data-react-helmet=\"true\" property=\"og:title\" content=\"Python中文社区\"/><meta data-react-helmet=\"true\" property=\"og:url\" content=\"https://www.zhihu.com/column/zimei\"/><meta data-react-helmet=\"true\" property=\"og:description\" content=\"微信公众号：Python中文社区，欢迎投稿\"/><meta data-react-helmet=\"true\" property=\"og:image\" content=\"https://pic3.zhimg.com/v2-c249d0cd37b86513ea9d4a4270b63549_b.jpg\"/><meta data-react-helmet=\"true\" property=\"og:site_name\" content=\"知乎专栏\"/><link data-react-helmet=\"true\" rel=\"apple-touch-icon\" href=\"https://static.zhihu.com/heifetz/assets/apple-touch-icon-152.67c7b278.png\"/><link data-react-helmet=\"true\" rel=\"apple-touch-icon\" href=\"https://static.zhihu.com/heifetz/assets/apple-touch-icon-152.67c7b278.png\" sizes=\"152x152\"/><link data-react-helmet=\"true\" rel=\"apple-touch-icon\" href=\"https://static.zhihu.com/heifetz/assets/apple-touch-icon-120.b3e6278d.png\" sizes=\"120x120\"/><link data-react-helmet=\"true\" rel=\"apple-touch-icon\" href=\"https://static.zhihu.com/heifetz/assets/apple-touch-icon-76.7a750095.png\" sizes=\"76x76\"/><link data-react-helmet=\"true\" rel=\"apple-touch-icon\" href=\"https://static.zhihu.com/heifetz/assets/apple-touch-icon-60.a4a761d4.png\" sizes=\"60x60\"/><link rel=\"shortcut icon\" type=\"image/x-icon\" href=\"https://static.zhihu.com/static/favicon.ico\"/><link rel=\"search\" type=\"application/opensearchdescription+xml\" href=\"https://static.zhihu.com/static/search.xml\" title=\"知乎\"/><link rel=\"dns-prefetch\" href=\"//static.zhimg.com\"/><link rel=\"dns-prefetch\" href=\"//pic1.zhimg.com\"/><link rel=\"dns-prefetch\" href=\"//pic2.zhimg.com\"/><link rel=\"dns-prefetch\" href=\"//pic3.zhimg.com\"/><link rel=\"dns-prefetch\" href=\"//pic4.zhimg.com\"/><style>\\n.u-safeAreaInset-top {\\n  height: constant(safe-area-inset-top) !important;\\n  height: env(safe-area-inset-top) !important;\\n  \\n}\\n.u-safeAreaInset-bottom {\\n  height: constant(safe-area-inset-bottom) !important;\\n  height: env(safe-area-inset-bottom) !important;\\n  \\n}\\n</style><link href=\"https://static.zhihu.com/heifetz/column.app.216a26f4.8b7ee4de6b8d016a3b58.css\" rel=\"stylesheet\"/><script defer=\"\" crossorigin=\"anonymous\" src=\"https://unpkg.zhimg.com/@cfe/sentry-script@latest/dist/init.js\" data-sentry-config=\"{&quot;dsn&quot;:&quot;https://2d8d764432cc4f6fb3bc78ab9528299d@crash2.zhihu.com/1224&quot;,&quot;sampleRate&quot;:0.1,&quot;release&quot;:&quot;637-cbbc2f1f&quot;,&quot;ignoreErrorNames&quot;:[&quot;NetworkError&quot;,&quot;SecurityError&quot;],&quot;ignoreErrors&quot;:[&quot;origin message&quot;,&quot;Network request failed&quot;,&quot;Loading chunk&quot;,&quot;这个系统不支持该功能。&quot;,&quot;Can&#x27;t find variable: webkit&quot;,&quot;Can&#x27;t find variable: $&quot;,&quot;内存不足&quot;,&quot;out of memory&quot;,&quot;DOM Exception 18&quot;,&quot;The operation is insecure&quot;,&quot;[object Event]&quot;,&quot;[object FileError]&quot;,&quot;[object DOMError]&quot;,&quot;[object Object]&quot;,&quot;拒绝访问。&quot;,&quot;Maximum call stack size exceeded&quot;,&quot;UploadError&quot;,&quot;无法 fetch&quot;,&quot;draft-js&quot;,&quot;缺少 JavaScript 对象&quot;,&quot;componentWillEnter&quot;,&quot;componentWillLeave&quot;,&quot;componentWillAppear&quot;,&quot;getInlineStyleAt&quot;,&quot;getCharacterList&quot;],&quot;whitelistUrls&quot;:[&quot;static.zhihu.com&quot;]}\"></script></head><body class=\"GreyBg-body\"><div id=\"root\"><div class=\"App\"><div class=\"LoadingBar\"></div><main role=\"main\" class=\"App-main\"><div><div class=\"ColumnPageHeader-Wrapper\"><div><div class=\"Sticky ColumnPageHeader\"><div class=\"ColumnPageHeader-content\"><a class=\"ZhihuLogoLink\" href=\"//www.zhihu.com\" aria-label=\"知乎\"><svg viewBox=\"0 0 200 91\" fill=\"#0084FF\" width=\"64\" height=\"30\"><path d=\"M53.29 80.035l7.32.002 2.41 8.24 13.128-8.24h15.477v-67.98H53.29v67.978zm7.79-60.598h22.756v53.22h-8.73l-8.718 5.473-1.587-5.46-3.72-.012v-53.22zM46.818 43.162h-16.35c.545-8.467.687-16.12.687-22.955h15.987s.615-7.05-2.68-6.97H16.807c1.09-4.1 2.46-8.332 4.1-12.708 0 0-7.523 0-10.085 6.74-1.06 2.78-4.128 13.48-9.592 24.41 1.84-.2 7.927-.37 11.512-6.94.66-1.84.785-2.08 1.605-4.54h9.02c0 3.28-.374 20.9-.526 22.95H6.51c-3.67 0-4.863 7.38-4.863 7.38H22.14C20.765 66.11 13.385 79.24 0 89.62c6.403 1.828 12.784-.29 15.937-3.094 0 0 7.182-6.53 11.12-21.64L43.92 85.18s2.473-8.402-.388-12.496c-2.37-2.788-8.768-10.33-11.496-13.064l-4.57 3.627c1.363-4.368 2.183-8.61 2.46-12.71H49.19s-.027-7.38-2.372-7.38zm128.752-.502c6.51-8.013 14.054-18.302 14.054-18.302s-5.827-4.625-8.556-1.27c-1.874 2.548-11.51 15.063-11.51 15.063l6.012 4.51zm-46.903-18.462c-2.814-2.577-8.096.667-8.096.667s12.35 17.2 12.85 17.953l6.08-4.29s-8.02-11.752-10.83-14.33zM199.99 46.5c-6.18 0-40.908.292-40.953.292v-31.56c1.503 0 3.882-.124 7.14-.376 12.773-.753 21.914-1.25 27.427-1.504 0 0 3.817-8.496-.185-10.45-.96-.37-7.24 1.43-7.24 1.43s-51.63 5.153-72.61 5.64c.5 2.756 2.38 5.336 4.93 6.11 4.16 1.087 7.09.53 15.36.277 7.76-.5 13.65-.76 17.66-.76v31.19h-41.71s.88 6.97 7.97 7.14h33.73v22.16c0 4.364-3.498 6.87-7.65 6.6-4.4.034-8.15-.36-13.027-.566.623 1.24 1.977 4.496 6.035 6.824 3.087 1.502 5.054 2.053 8.13 2.053 9.237 0 14.27-5.4 14.027-14.16V53.93h38.235c3.026 0 2.72-7.432 2.72-7.432z\" fill-rule=\"evenodd\"></path></svg></a><i class=\"ColumnPageHeader-Line\"></i><div class=\"ColumnPageHeader-Title\"><div class=\"ColumnPageHeader-TitleName\"><span class=\"ColumnPageHeader-TitleMeta\">专栏</span><a class=\"ColumnLink ColumnPageHeader-TitleColumn\" href=\"//www.zhihu.com/column/zimei\">Python中文社区</a></div></div><div class=\"ColumnPageHeader-Button\"><button type=\"button\" class=\"Button ColumnPageHeader-WriteButton Button--blue\"><svg class=\"Zi Zi--EditSurround\" fill=\"currentColor\" viewBox=\"0 0 24 24\" width=\"24\" height=\"24\"><path d=\"M18.453 7.992l-1.833-1.65.964-.978a1.223 1.223 0 0 1 1.73-.012l.005.006a1.24 1.24 0 0 1 .007 1.748l-.873.886zm-1.178 1.194l-5.578 5.66-1.935.697a.393.393 0 0 1-.504-.504l.697-1.935 5.488-5.567 1.832 1.65zM7.58 5.848l5.654.006-1.539 1.991-3.666.012A1.02 1.02 0 0 0 7 8.868v7.993c0 .558.46 1.01 1.029 1.01l7.941-.01c.568 0 1.03-.453 1.03-1.012v-4.061l2-1.442v6.002c0 1.397-1.2 2.501-2.62 2.501H7.574C6.153 19.85 5 18.717 5 17.32V8.35c0-1.397 1.16-2.502 2.58-2.502z\"></path></svg>写文章</button></div></div></div></div></div><style data-emotion-css=\"10l2ro8\">.css-10l2ro8{box-sizing:border-box;margin:0;min-width:0;width:100vw;}</style><div class=\"Card css-10l2ro8\"><style data-emotion-css=\"4ezr4w\">.css-4ezr4w{margin:24px auto;}</style><style data-emotion-css=\"1xy3kyp\">.css-1xy3kyp{box-sizing:border-box;margin:0;min-width:0;width:100vw;max-width:726px;-webkit-flex-direction:column;-ms-flex-direction:column;flex-direction:column;padding-left:16px;padding-right:16px;display:-webkit-box;display:-webkit-flex;display:-ms-flexbox;display:flex;margin:24px auto;}</style><div class=\"css-1xy3kyp\"><style data-emotion-css=\"zyehvu\">.css-zyehvu{box-sizing:border-box;margin:0;min-width:0;font-size:26px;line-height:36px;font-weight:600;}</style><div class=\"css-zyehvu\">Python中文社区</div><style data-emotion-css=\"1bnklpv\">.css-1bnklpv{box-sizing:border-box;margin:0;min-width:0;color:#444444;font-size:18px;line-height:22px;margin-top:8px;}</style><div class=\"css-1bnklpv\">微信公众号：Python中文社区，欢迎投稿</div><style data-emotion-css=\"16qos9m\">.css-16qos9m{box-sizing:border-box;margin:0;min-width:0;margin-top:12px;-webkit-align-items:center;-webkit-box-align:center;-ms-flex-align:center;align-items:center;line-height:normal;display:-webkit-box;display:-webkit-flex;display:-ms-flexbox;display:flex;}</style><div class=\"css-16qos9m\"><div class=\"AuthorInfo AuthorInfo--plain\" itemProp=\"author\" itemscope=\"\" itemType=\"http://schema.org/Person\"><meta itemProp=\"name\" content=\"阿橙\"/><meta itemProp=\"image\" content=\"https://pic1.zhimg.com/v2-95c0cf14fefebd1b61fc74141a1fd7df_l.jpg\"/><meta itemProp=\"url\" content=\"https://www.zhihu.com/people/andywong188\"/><meta itemProp=\"zhihu:followerCount\"/><span class=\"UserLink AuthorInfo-avatarWrapper\"><a class=\"UserLink-link\" data-za-detail-view-element_name=\"User\" target=\"_blank\" href=\"//www.zhihu.com/people/andywong188\"><img class=\"Avatar AuthorInfo-avatar\" width=\"24\" height=\"24\" src=\"https://pic1.zhimg.com/v2-95c0cf14fefebd1b61fc74141a1fd7df_s.jpg\" srcSet=\"https://pic1.zhimg.com/v2-95c0cf14fefebd1b61fc74141a1fd7df_xs.jpg 2x\" alt=\"阿橙\"/></a></span><div class=\"AuthorInfo-content\"><div class=\"AuthorInfo-head\"><span class=\"UserLink AuthorInfo-name\"><a class=\"UserLink-link\" data-za-detail-view-element_name=\"User\" target=\"_blank\" href=\"//www.zhihu.com/people/andywong188\">阿橙</a><style data-emotion-css=\"1cd9gw4\">.css-1cd9gw4{margin-left:.3em;}</style></span></div><div class=\"AuthorInfo-detail\"><div class=\"AuthorInfo-badge\"></div></div></div></div><style data-emotion-css=\"1kxrhf3\">.css-1kxrhf3{white-space:pre-wrap;}</style><style data-emotion-css=\"1uan5v7\">.css-1uan5v7{box-sizing:border-box;margin:0;min-width:0;-webkit-align-items:center;-webkit-box-align:center;-ms-flex-align:center;align-items:center;color:#8590A6;font-size:15px;line-height:24px;display:-webkit-box;display:-webkit-flex;display:-ms-flexbox;display:flex;white-space:pre-wrap;}</style><div class=\"css-1uan5v7\"><style data-emotion-css=\"vurnku\">.css-vurnku{box-sizing:border-box;margin:0;min-width:0;}</style><div class=\"css-vurnku\"> · </div><style data-emotion-css=\"wh3ya8\">.css-wh3ya8{box-sizing:border-box;margin:0;min-width:0;color:#444444;display:-webkit-box;display:-webkit-flex;display:-ms-flexbox;display:flex;}</style><div class=\"css-wh3ya8\">636 </div>篇内容</div><style data-emotion-css=\"7q9l37\">.css-7q9l37{box-sizing:border-box;margin:0;min-width:0;margin-left:17px;height:24px;}</style><div class=\"css-7q9l37\"><div class=\"Popover\"><button id=\"null-toggle\" aria-haspopup=\"true\" aria-expanded=\"false\" aria-owns=\"null-content\" type=\"button\" class=\"Button Button--plain\"><svg class=\"Zi Zi--Dots\" fill=\"currentColor\" viewBox=\"0 0 24 24\" width=\"24\" height=\"24\"><path d=\"M5 14a2 2 0 1 1 0-4 2 2 0 0 1 0 4zm7 0a2 2 0 1 1 0-4 2 2 0 0 1 0 4zm7 0a2 2 0 1 1 0-4 2 2 0 0 1 0 4z\" fill-rule=\"evenodd\"></path></svg></button></div></div></div></div></div><div style=\"width:0;height:0;visibility:hidden\"><a href=\"/zimei?page=2\">下一页</a></div><style data-emotion-css=\"rqlzeb\">.css-rqlzeb{width:694px;box-sizing:content-box;max-width:100vw;margin:10px auto 0;}</style><style data-emotion-css=\"1voxft1\">.css-1voxft1{box-sizing:border-box;margin:0;min-width:0;display:-webkit-box;display:-webkit-flex;display:-ms-flexbox;display:flex;width:694px;box-sizing:content-box;max-width:100vw;margin:10px auto 0;}</style><div class=\"Card css-1voxft1\"><div class=\"\"><div></div></div></div></div></main></div></div><script nonce=\"7b8a97b3-24dd-45dc-a29a-b802f9f50fa0\" async=\"\" src=\"https://www.googletagmanager.com/gtag/js?id=UA-149949619-1\"></script><script nonce=\"7b8a97b3-24dd-45dc-a29a-b802f9f50fa0\">function gtag(){dataLayer.push(arguments)}window.dataLayer=window.dataLayer||[],gtag(\"js\",new Date),gtag(\"config\",\"UA-149949619-1\");</script><script id=\"js-clientConfig\" type=\"text/json\">{\"host\":\"zhihu.com\",\"protocol\":\"https:\",\"wwwHost\":\"www.zhihu.com\",\"fetchRoot\":{\"www\":\"https:\\\\u002F\\\\u002Fwww.zhihu.com\",\"api\":\"https:\\\\u002F\\\\u002Fapi.zhihu.com\",\"zhuanlan\":\"https:\\\\u002F\\\\u002Fzhuanlan.zhihu.com\"}}</script><script id=\"js-initialData\" type=\"text/json\">{\"initialState\":{\"common\":{\"ask\":{}},\"loading\":{\"global\":{\"count\":0},\"local\":{\"env\\\\u002FgetIpinfo\\\\u002F\":false,\"column\\\\u002Fget\\\\u002F\":false}},\"club\":{\"tags\":{},\"admins\":{\"data\":[]},\"members\":{\"data\":[]},\"explore\":{},\"profile\":{},\"checkin\":{},\"comments\":{\"paging\":{},\"loading\":{},\"meta\":{},\"ids\":{}},\"postList\":{\"paging\":{},\"loading\":{},\"ids\":{}},\"recommend\":{\"data\":[]},\"silences\":{\"data\":[]},\"application\":{\"profile\":null}},\"entities\":{\"users\":{},\"questions\":{},\"answers\":{},\"articles\":{},\"columns\":{\"zimei\":{\"updated\":1599131922,\"description\":\"微信公众号同名，欢迎投稿。全平台约20万开发者关注，会员来自全球十多个国家和地区，拥有十多个线上线下技术社群，向本专栏投稿即默认发布到Python中文社区全平台。Telegram：t.me\\\\u002FPyChina\",\"columnType\":\"normal\",\"topics\":[{\"url\":\"https:\\\\u002F\\\\u002Fwww.zhihu.com\\\\u002Fapi\\\\u002Fv4\\\\u002Ftopics\\\\u002F19815465\",\"type\":\"topic\",\"id\":\"19815465\",\"name\":\"量化交易\"},{\"url\":\"https:\\\\u002F\\\\u002Fwww.zhihu.com\\\\u002Fapi\\\\u002Fv4\\\\u002Ftopics\\\\u002F19552832\",\"type\":\"topic\",\"id\":\"19552832\",\"name\":\"Python\"},{\"url\":\"https:\\\\u002F\\\\u002Fwww.zhihu.com\\\\u002Fapi\\\\u002Fv4\\\\u002Ftopics\\\\u002F19609455\",\"type\":\"topic\",\"id\":\"19609455\",\"name\":\"金融\"}],\"canManage\":false,\"intro\":\"微信公众号：Python中文社区，欢迎投稿\",\"isFollowing\":false,\"urlToken\":\"zimei\",\"id\":\"zimei\",\"articlesCount\":636,\"acceptSubmission\":true,\"itemsCount\":636,\"title\":\"Python中文社区\",\"url\":\"https:\\\\u002F\\\\u002Fzhuanlan.zhihu.com\\\\u002Fzimei\",\"commentPermission\":\"all\",\"created\":1468858186,\"videosCount\":0,\"imageUrl\":\"https:\\\\u002F\\\\u002Fpic3.zhimg.com\\\\u002Fv2-c249d0cd37b86513ea9d4a4270b63549_b.jpg\",\"author\":{\"isFollowed\":false,\"avatarUrlTemplate\":\"https:\\\\u002F\\\\u002Fpic1.zhimg.com\\\\u002Fv2-95c0cf14fefebd1b61fc74141a1fd7df_{size}.jpg\",\"uid\":\"29659517419520\",\"userType\":\"people\",\"isFollowing\":false,\"urlToken\":\"andywong188\",\"id\":\"9826f79b7d26d8d015245dd394e83f3e\",\"description\":\"关注人工智能和区块链技术发展，记录日常思考和读书笔记，微博\\\\u002F微信公众号：阿橙杂记\",\"name\":\"阿橙\",\"isAdvertiser\":false,\"headline\":\"\",\"gender\":1,\"url\":\"\\\\u002Fpeople\\\\u002F9826f79b7d26d8d015245dd394e83f3e\",\"avatarUrl\":\"https:\\\\u002F\\\\u002Fpic1.zhimg.com\\\\u002Fv2-95c0cf14fefebd1b61fc74141a1fd7df_l.jpg\",\"isOrg\":false,\"type\":\"people\"},\"followers\":56572,\"voteupCount\":65551,\"type\":\"column\"}},\"topics\":{},\"roundtables\":{},\"favlists\":{},\"comments\":{},\"notifications\":{},\"ebooks\":{},\"activities\":{},\"feeds\":{},\"pins\":{},\"promotions\":{},\"drafts\":{},\"chats\":{},\"posts\":{},\"clubs\":{},\"clubTags\":{}},\"currentUser\":\"\",\"account\":{\"lockLevel\":{},\"unlockTicketStatus\":false,\"unlockTicket\":null,\"challenge\":[],\"errorStatus\":false,\"message\":\"\",\"isFetching\":false,\"accountInfo\":{},\"urlToken\":{\"loading\":false}},\"settings\":{\"socialBind\":null,\"inboxMsg\":null,\"notification\":{},\"email\":{},\"privacyFlag\":null,\"blockedUsers\":{\"isFetching\":false,\"paging\":{\"pageNo\":1,\"pageSize\":6},\"data\":[]},\"blockedFollowees\":{\"isFetching\":false,\"paging\":{\"pageNo\":1,\"pageSize\":6},\"data\":[]},\"ignoredTopics\":{\"isFetching\":false,\"paging\":{\"pageNo\":1,\"pageSize\":6},\"data\":[]},\"restrictedTopics\":null,\"laboratory\":{}},\"notification\":{},\"people\":{\"profileStatus\":{},\"activitiesByUser\":{},\"answersByUser\":{},\"answersSortByVotesByUser\":{},\"answersIncludedByUser\":{},\"votedAnswersByUser\":{},\"thankedAnswersByUser\":{},\"voteAnswersByUser\":{},\"thankAnswersByUser\":{},\"topicAnswersByUser\":{},\"zvideosByUser\":{},\"articlesByUser\":{},\"articlesSortByVotesByUser\":{},\"articlesIncludedByUser\":{},\"pinsByUser\":{},\"questionsByUser\":{},\"commercialQuestionsByUser\":{},\"favlistsByUser\":{},\"followingByUser\":{},\"followersByUser\":{},\"mutualsByUser\":{},\"followingColumnsByUser\":{},\"followingQuestionsByUser\":{},\"followingFavlistsByUser\":{},\"followingTopicsByUser\":{},\"publicationsByUser\":{},\"columnsByUser\":{},\"allFavlistsByUser\":{},\"brands\":null,\"creationsByUser\":{},\"creationsSortByVotesByUser\":{},\"creationsFeed\":{},\"infinity\":{}},\"env\":{\"ab\":{\"config\":{\"experiments\":[{\"expId\":\"launch-qa_cl_guest-2\",\"expPrefix\":\"qa_cl_guest\",\"isDynamicallyUpdated\":true,\"isRuntime\":false,\"includeTriggerInfo\":false},{\"expId\":\"launch-us_foltopic_user-10\",\"expPrefix\":\"us_foltopic_user\",\"isDynamicallyUpdated\":true,\"isRuntime\":false,\"includeTriggerInfo\":false},{\"expId\":\"launch-vd_bullet_second-2\",\"expPrefix\":\"vd_bullet_second\",\"isDynamicallyUpdated\":true,\"isRuntime\":false,\"includeTriggerInfo\":false},{\"expId\":\"launch-vd_profile_video-11\",\"expPrefix\":\"vd_profile_video\",\"isDynamicallyUpdated\":true,\"isRuntime\":false,\"includeTriggerInfo\":false},{\"expId\":\"launch-vd_sharpness-3\",\"expPrefix\":\"vd_sharpness\",\"isDynamicallyUpdated\":true,\"isRuntime\":false,\"includeTriggerInfo\":false},{\"expId\":\"launch-vd_timeguide-2\",\"expPrefix\":\"vd_timeguide\",\"isDynamicallyUpdated\":true,\"isRuntime\":false,\"includeTriggerInfo\":false},{\"expId\":\"launch-vd_video_replay-3\",\"expPrefix\":\"vd_video_replay\",\"isDynamicallyUpdated\":true,\"isRuntime\":false,\"includeTriggerInfo\":false},{\"expId\":\"launch-vd_zvideo_link-10\",\"expPrefix\":\"vd_zvideo_link\",\"isDynamicallyUpdated\":true,\"isRuntime\":false,\"includeTriggerInfo\":false},{\"expId\":\"vd_bullet_gui-3\",\"expPrefix\":\"vd_bullet_gui\",\"isDynamicallyUpdated\":true,\"isRuntime\":false,\"includeTriggerInfo\":false},{\"expId\":\"vd_vserial-5\",\"expPrefix\":\"vd_vserial\",\"isDynamicallyUpdated\":true,\"isRuntime\":false,\"includeTriggerInfo\":false}],\"params\":[{\"id\":\"ug_follow_topic_1\",\"type\":\"String\",\"value\":\"2\",\"chainId\":\"_all_\",\"layerId\":\"ugus_layer_3\"},{\"id\":\"web_scl_rec\",\"type\":\"String\",\"value\":\"0\",\"layerId\":\"webgw_layer_759\"},{\"id\":\"li_edu_page\",\"type\":\"String\",\"value\":\"old\",\"chainId\":\"_all_\",\"layerId\":\"lili_layer_580\"},{\"id\":\"gue_q_intercept\",\"type\":\"String\",\"value\":\"0\",\"layerId\":\"gueqa_layer_2\"},{\"id\":\"zr_expslotpaid\",\"type\":\"String\",\"value\":\"1\",\"chainId\":\"_all_\",\"layerId\":\"zrrec_layer_11\"},{\"id\":\"tp_topic_style\",\"type\":\"String\",\"value\":\"0\",\"chainId\":\"_all_\",\"layerId\":\"tptp_layer_4\"},{\"id\":\"top_ebook\",\"type\":\"String\",\"value\":\"0\",\"chainId\":\"_all_\",\"layerId\":\"toptop_layer_1\"},{\"id\":\"tsp_hotlist_ui\",\"type\":\"String\",\"value\":\"1\",\"chainId\":\"_all_\",\"layerId\":\"tsptop_layer_1\"},{\"id\":\"gue_push2follow\",\"type\":\"String\",\"value\":\"1\",\"layerId\":\"gueqa_layer_3\"},{\"id\":\"gue_recmess\",\"type\":\"String\",\"value\":\"0\",\"layerId\":\"gueqa_layer_795\"},{\"id\":\"ge_ge02\",\"type\":\"String\",\"value\":\"6\",\"chainId\":\"_gene_\",\"layerId\":\"gese_layer_742\",\"key\":2599},{\"id\":\"gue_zvideo_link\",\"type\":\"String\",\"value\":\"1\",\"layerId\":\"guevd_layer_2\"},{\"id\":\"li_car_meta\",\"type\":\"String\",\"value\":\"0\",\"chainId\":\"_all_\",\"layerId\":\"lili_layer_0\"},{\"id\":\"ge_v061\",\"type\":\"String\",\"value\":\"0\",\"chainId\":\"_gene_\",\"layerId\":\"gese_layer_858\",\"key\":2854},{\"id\":\"pf_adjust\",\"type\":\"String\",\"value\":\"0\",\"chainId\":\"_all_\",\"layerId\":\"pfus_layer_9\"},{\"id\":\"gue_art2qa\",\"type\":\"String\",\"value\":\"0\",\"layerId\":\"gueqa_layer_579\"},{\"id\":\"gue_visit_n_artcard\",\"type\":\"String\",\"value\":\"1\",\"layerId\":\"gueqa_layer_579\"},{\"id\":\"ge_infinity6\",\"type\":\"String\",\"value\":\"0\",\"chainId\":\"_gene_\",\"layerId\":\"gese_layer_742\",\"key\":2817},{\"id\":\"ge_social_v2\",\"type\":\"String\",\"value\":\"0\",\"chainId\":\"_gene_\",\"layerId\":\"gese_layer_858\",\"key\":2795},{\"id\":\"tp_header_style\",\"type\":\"String\",\"value\":\"1\",\"chainId\":\"_all_\",\"layerId\":\"tptp_layer_2\"},{\"id\":\"gue_video_replay\",\"type\":\"String\",\"value\":\"2\",\"layerId\":\"guevd_layer_3\"},{\"id\":\"gue_zvideo_title\",\"type\":\"String\",\"value\":\"0\",\"layerId\":\"guevd_layer_559\"},{\"id\":\"gue_self_censoring\",\"type\":\"String\",\"value\":\"1\",\"layerId\":\"gueqa_layer_1\"},{\"id\":\"web_answer_list_ad\",\"type\":\"String\",\"value\":\"1\",\"layerId\":\"webqa_layer_4\"},{\"id\":\"web_img_up\",\"type\":\"String\",\"value\":\"1\",\"layerId\":\"webqa_layer_862\"},{\"id\":\"web_table\",\"type\":\"String\",\"value\":\"0\",\"layerId\":\"webqa_layer_862\"},{\"id\":\"ge_ge01\",\"type\":\"String\",\"value\":\"5\",\"chainId\":\"_gene_\",\"layerId\":\"gese_layer_742\",\"key\":2597},{\"id\":\"tp_fenqu_wei\",\"type\":\"String\",\"value\":\"0\",\"chainId\":\"_all_\",\"layerId\":\"tptp_layer_626\"},{\"id\":\"gue_card_test\",\"type\":\"String\",\"value\":\"1\",\"layerId\":\"gueqa_layer_2\"},{\"id\":\"ge_v_v010\",\"type\":\"String\",\"value\":\"0\",\"chainId\":\"_gene_\",\"layerId\":\"gese_layer_838\",\"key\":2787},{\"id\":\"tp_m_intro_re_topic\",\"type\":\"String\",\"value\":\"1\",\"chainId\":\"_all_\",\"layerId\":\"tptp_layer_2\"},{\"id\":\"tp_dingyue_video\",\"type\":\"String\",\"value\":\"0\",\"chainId\":\"_all_\",\"layerId\":\"tptp_layer_4\"},{\"id\":\"tp_clubhyb\",\"type\":\"String\",\"value\":\"0\",\"chainId\":\"_all_\",\"layerId\":\"tptp_layer_619\"},{\"id\":\"gue_vid_tab\",\"type\":\"String\",\"value\":\"0\",\"layerId\":\"guevd_layer_896\"},{\"id\":\"li_sp_mqbk\",\"type\":\"String\",\"value\":\"0\",\"chainId\":\"_all_\",\"layerId\":\"lili_layer_748\"},{\"id\":\"web_collection_guest\",\"type\":\"String\",\"value\":\"1\",\"layerId\":\"webqa_layer_4\"},{\"id\":\"ge_sug_dnn\",\"type\":\"String\",\"value\":\"0\",\"chainId\":\"_gene_\",\"layerId\":\"gese_layer_834\",\"key\":2878},{\"id\":\"se_usercard\",\"type\":\"String\",\"value\":\"0\",\"chainId\":\"_all_\",\"layerId\":\"sese_layer_581\"},{\"id\":\"tp_meta_card\",\"type\":\"String\",\"value\":\"0\",\"chainId\":\"_all_\",\"layerId\":\"tptp_layer_1\"},{\"id\":\"li_paid_answer_exp\",\"type\":\"String\",\"value\":\"0\",\"chainId\":\"_all_\",\"layerId\":\"lili_layer_3\"},{\"id\":\"gue_fo_recom\",\"type\":\"String\",\"value\":\"0\",\"layerId\":\"gueqa_layer_780\"},{\"id\":\"se_colorfultab\",\"type\":\"String\",\"value\":\"1\",\"chainId\":\"_all_\",\"layerId\":\"sese_layer_2\"},{\"id\":\"se_recommend\",\"type\":\"String\",\"value\":\"1\",\"chainId\":\"_all_\",\"layerId\":\"sese_layer_623\"},{\"id\":\"ge_video\",\"type\":\"String\",\"value\":\"0\",\"chainId\":\"_gene_\",\"layerId\":\"geli_layer_856\",\"key\":2831},{\"id\":\"gue_repost\",\"type\":\"String\",\"value\":\"0\",\"layerId\":\"gueqa_layer_671\"},{\"id\":\"web_column_auto_invite\",\"type\":\"String\",\"value\":\"0\",\"layerId\":\"webqa_layer_1\"},{\"id\":\"se_col_boost\",\"type\":\"String\",\"value\":\"0\",\"chainId\":\"_all_\",\"layerId\":\"sese_layer_11\"},{\"id\":\"li_catalog_card\",\"type\":\"String\",\"value\":\"1\",\"chainId\":\"_all_\",\"layerId\":\"lili_layer_11\"},{\"id\":\"ge_vip_cont\",\"type\":\"String\",\"value\":\"0\",\"chainId\":\"_gene_\",\"layerId\":\"gese_layer_742\",\"key\":2828},{\"id\":\"se_entity22\",\"type\":\"String\",\"value\":\"0\",\"chainId\":\"_all_\",\"layerId\":\"sese_layer_26\"},{\"id\":\"ge_flow_ai\",\"type\":\"String\",\"value\":\"0\",\"chainId\":\"_gene_\",\"layerId\":\"getp_layer_872\",\"key\":2872},{\"id\":\"ge_qnfd\",\"type\":\"String\",\"value\":\"0\",\"chainId\":\"_gene_\",\"layerId\":\"getp_layer_872\",\"key\":2858},{\"id\":\"gue_repost1\",\"type\":\"String\",\"value\":\"1\",\"layerId\":\"guere_layer_819\"},{\"id\":\"ge_usercard1\",\"type\":\"String\",\"value\":\"0\",\"chainId\":\"_gene_\",\"layerId\":\"gese_layer_742\",\"key\":2740},{\"id\":\"ge_return\",\"type\":\"String\",\"value\":\"0\",\"chainId\":\"_gene_\",\"layerId\":\"gese_layer_788\",\"key\":2856},{\"id\":\"se_whitelist\",\"type\":\"String\",\"value\":\"0\",\"chainId\":\"_all_\",\"layerId\":\"sese_layer_2\"},{\"id\":\"se_searchwiki\",\"type\":\"String\",\"value\":\"0\",\"chainId\":\"_all_\",\"layerId\":\"sese_layer_599\"},{\"id\":\"gue_share_icon\",\"type\":\"String\",\"value\":\"0\",\"layerId\":\"gueqa_layer_647\"},{\"id\":\"zw_sameq_sorce\",\"type\":\"String\",\"value\":\"999\",\"chainId\":\"_all_\",\"layerId\":\"zwqa_layer_2\"},{\"id\":\"se_college\",\"type\":\"String\",\"value\":\"default\",\"chainId\":\"_all_\",\"layerId\":\"sese_layer_2\"},{\"id\":\"tp_topic_tab\",\"type\":\"String\",\"value\":\"0\",\"chainId\":\"_all_\",\"layerId\":\"tptp_layer_1\"},{\"id\":\"top_universalebook\",\"type\":\"String\",\"value\":\"1\",\"chainId\":\"_all_\",\"layerId\":\"toptop_layer_13\"},{\"id\":\"pf_profile2_tab\",\"type\":\"String\",\"value\":\"0\",\"chainId\":\"_all_\",\"layerId\":\"pfus_layer_601\"},{\"id\":\"gue_article_sicon\",\"type\":\"String\",\"value\":\"0\",\"layerId\":\"gueqa_layer_647\"},{\"id\":\"web_answerlist_ad\",\"type\":\"String\",\"value\":\"0\",\"layerId\":\"webqa_layer_1\"},{\"id\":\"web_sem_ab\",\"type\":\"String\",\"value\":\"1\",\"layerId\":\"webgw_layer_3\"},{\"id\":\"li_pl_xj\",\"type\":\"String\",\"value\":\"0\",\"chainId\":\"_all_\",\"layerId\":\"lili_layer_580\"},{\"id\":\"gue_art_sani\",\"type\":\"String\",\"value\":\"0\",\"layerId\":\"gueqa_layer_647\"},{\"id\":\"soc_notification\",\"type\":\"String\",\"value\":\"1\",\"chainId\":\"_all_\",\"layerId\":\"socus_layer_4\"},{\"id\":\"ge_newyanzhi\",\"type\":\"String\",\"value\":\"0\",\"chainId\":\"_gene_\",\"layerId\":\"geus_layer_839\",\"key\":2788},{\"id\":\"zr_rec_answer_cp\",\"type\":\"String\",\"value\":\"open\",\"chainId\":\"_all_\",\"layerId\":\"zrrec_layer_2\"},{\"id\":\"ge_ltr_v1\",\"type\":\"String\",\"value\":\"0\",\"chainId\":\"_gene_\",\"layerId\":\"gese_layer_858\",\"key\":2873},{\"id\":\"se_topicfeed\",\"type\":\"String\",\"value\":\"0\",\"chainId\":\"_all_\",\"layerId\":\"sese_layer_12\"},{\"id\":\"li_ebook_gen_search\",\"type\":\"String\",\"value\":\"0\",\"chainId\":\"_all_\",\"layerId\":\"lili_layer_10\"},{\"id\":\"li_video_section\",\"type\":\"String\",\"value\":\"0\",\"chainId\":\"_all_\",\"layerId\":\"lili_layer_7\"},{\"id\":\"ge_relation2\",\"type\":\"String\",\"value\":\"0\",\"chainId\":\"_gene_\",\"layerId\":\"gese_layer_815\",\"key\":2796},{\"id\":\"pf_fuceng\",\"type\":\"String\",\"value\":\"1\",\"chainId\":\"_all_\",\"layerId\":\"pfus_layer_2\"},{\"id\":\"pf_foltopic_usernum\",\"type\":\"String\",\"value\":\"50\",\"chainId\":\"_all_\",\"layerId\":\"pfus_layer_5\"},{\"id\":\"ls_video_commercial\",\"type\":\"String\",\"value\":\"0\",\"chainId\":\"_all_\",\"layerId\":\"lsvd_layer_7\"},{\"id\":\"gue_q_share\",\"type\":\"String\",\"value\":\"0\",\"layerId\":\"gueqa_layer_647\"},{\"id\":\"tp_zrec\",\"type\":\"String\",\"value\":\"0\",\"chainId\":\"_all_\",\"layerId\":\"tptp_layer_619\"},{\"id\":\"tp_topic_tab_new\",\"type\":\"String\",\"value\":\"0-0-0\",\"chainId\":\"_all_\",\"layerId\":\"tptp_layer_3\"},{\"id\":\"top_root\",\"type\":\"String\",\"value\":\"0\",\"chainId\":\"_all_\",\"layerId\":\"toptop_layer_1\"},{\"id\":\"ge_v062\",\"type\":\"String\",\"value\":\"0\",\"chainId\":\"_gene_\",\"layerId\":\"gese_layer_858\",\"key\":2863},{\"id\":\"li_topics_search\",\"type\":\"String\",\"value\":\"0\",\"chainId\":\"_all_\",\"layerId\":\"lili_layer_0\"},{\"id\":\"gue_goods_card\",\"type\":\"String\",\"value\":\"0\",\"layerId\":\"gueqa_layer_1\"},{\"id\":\"li_viptab_name\",\"type\":\"String\",\"value\":\"0\",\"chainId\":\"_all_\",\"layerId\":\"lili_layer_0\"},{\"id\":\"li_svip_tab_search\",\"type\":\"String\",\"value\":\"1\",\"chainId\":\"_all_\",\"layerId\":\"lili_layer_1\"},{\"id\":\"gue_art_ui\",\"type\":\"String\",\"value\":\"0\",\"layerId\":\"gueqa_layer_769\"},{\"id\":\"top_v_album\",\"type\":\"String\",\"value\":\"1\",\"chainId\":\"_all_\",\"layerId\":\"toptop_layer_0\"},{\"id\":\"tp_sft\",\"type\":\"String\",\"value\":\"a\",\"chainId\":\"_all_\",\"layerId\":\"tptp_layer_1\"},{\"id\":\"ug_newtag\",\"type\":\"String\",\"value\":\"1\",\"chainId\":\"_all_\",\"layerId\":\"ugus_layer_4\"},{\"id\":\"gue_profile_video\",\"type\":\"String\",\"value\":\"1\",\"layerId\":\"guevd_layer_5\"},{\"id\":\"li_panswer_topic\",\"type\":\"String\",\"value\":\"0\",\"chainId\":\"_all_\",\"layerId\":\"lili_layer_602\"},{\"id\":\"web_unfriendly_comm\",\"type\":\"String\",\"value\":\"0\",\"layerId\":\"webre_layer_1\"},{\"id\":\"se_guess\",\"type\":\"String\",\"value\":\"0\",\"chainId\":\"_all_\",\"layerId\":\"sese_layer_623\"},{\"id\":\"tp_contents\",\"type\":\"String\",\"value\":\"2\",\"chainId\":\"_all_\",\"layerId\":\"tptp_layer_627\"},{\"id\":\"top_test_4_liguangyi\",\"type\":\"String\",\"value\":\"1\",\"chainId\":\"_all_\",\"layerId\":\"iosus_layer_1\"},{\"id\":\"gue_bulletmb\",\"type\":\"String\",\"value\":\"0\",\"layerId\":\"guevd_layer_812\"},{\"id\":\"web_login\",\"type\":\"String\",\"value\":\"0\",\"layerId\":\"webgw_layer_759\"},{\"id\":\"qap_question_author\",\"type\":\"String\",\"value\":\"0\",\"chainId\":\"_all_\",\"layerId\":\"qapqa_layer_2\"},{\"id\":\"ge_club_feed\",\"type\":\"String\",\"value\":\"0\",\"chainId\":\"_gene_\",\"layerId\":\"getp_layer_882\",\"key\":2882},{\"id\":\"top_quality\",\"type\":\"String\",\"value\":\"0\",\"chainId\":\"_all_\",\"layerId\":\"toptop_layer_0\"},{\"id\":\"pf_noti_entry_num\",\"type\":\"String\",\"value\":\"0\",\"chainId\":\"_all_\",\"layerId\":\"pfus_layer_718\"},{\"id\":\"web_pcleft\",\"type\":\"String\",\"value\":\"0\",\"layerId\":\"webtop_layer_701\"},{\"id\":\"gue_bullet_guide\",\"type\":\"String\",\"value\":\"没弹幕？你是第一个\",\"layerId\":\"guevd_layer_0\"},{\"id\":\"web_ad_banner\",\"type\":\"String\",\"value\":\"0\",\"layerId\":\"webgw_layer_3\"},{\"id\":\"li_svip_cardshow\",\"type\":\"String\",\"value\":\"1\",\"chainId\":\"_all_\",\"layerId\":\"lili_layer_0\"},{\"id\":\"li_vip_verti_search\",\"type\":\"String\",\"value\":\"0\",\"chainId\":\"_all_\",\"layerId\":\"lili_layer_2\"},{\"id\":\"zr_sim3\",\"type\":\"String\",\"value\":\"0\",\"chainId\":\"_all_\",\"layerId\":\"zrrec_layer_756\"},{\"id\":\"li_yxzl_new_style_a\",\"type\":\"String\",\"value\":\"1\",\"chainId\":\"_all_\",\"layerId\":\"lili_layer_607\"},{\"id\":\"zr_intervene\",\"type\":\"String\",\"value\":\"0\",\"chainId\":\"_all_\",\"layerId\":\"zrrec_layer_2\"},{\"id\":\"ge_v063\",\"type\":\"String\",\"value\":\"0\",\"chainId\":\"_gene_\",\"layerId\":\"gese_layer_858\",\"key\":2883},{\"id\":\"ge_rm_d2q\",\"type\":\"String\",\"value\":\"0\",\"chainId\":\"_gene_\",\"layerId\":\"gese_layer_859\",\"key\":2834},{\"id\":\"gue_video_guide\",\"type\":\"String\",\"value\":\"1\",\"layerId\":\"guevd_layer_625\"},{\"id\":\"web_heifetz_grow_ad\",\"type\":\"String\",\"value\":\"1\",\"layerId\":\"webgw_layer_3\"},{\"id\":\"li_answer_card\",\"type\":\"String\",\"value\":\"0\",\"chainId\":\"_all_\",\"layerId\":\"lili_layer_3\"},{\"id\":\"qap_labeltype\",\"type\":\"String\",\"value\":\"1\",\"chainId\":\"_all_\",\"layerId\":\"qapqa_layer_1\"},{\"id\":\"zr_slot_training\",\"type\":\"String\",\"value\":\"1\",\"chainId\":\"_all_\",\"layerId\":\"zrrec_layer_1\"},{\"id\":\"se_club_ui\",\"type\":\"String\",\"value\":\"0\",\"chainId\":\"_all_\",\"layerId\":\"sese_layer_581\"},{\"id\":\"ge_qngz1\",\"type\":\"String\",\"value\":\"1\",\"chainId\":\"_gene_\",\"layerId\":\"getp_layer_827\",\"key\":2797},{\"id\":\"pf_newguide_vertical\",\"type\":\"String\",\"value\":\"0\",\"chainId\":\"_all_\",\"layerId\":\"pfus_layer_4\"},{\"id\":\"gue_cdzixun\",\"type\":\"String\",\"value\":\"0\",\"layerId\":\"gueqa_layer_3\"},{\"id\":\"zr_slotpaidexp\",\"type\":\"String\",\"value\":\"1\",\"chainId\":\"_all_\",\"layerId\":\"zrrec_layer_5\"},{\"id\":\"web_audit_01\",\"type\":\"String\",\"value\":\"case1\",\"layerId\":\"webre_layer_1\"},{\"id\":\"se_ffzx_jushen1\",\"type\":\"String\",\"value\":\"0\",\"chainId\":\"_all_\",\"layerId\":\"sese_layer_4\"},{\"id\":\"gue_bullet_second\",\"type\":\"String\",\"value\":\"1\",\"layerId\":\"guevd_layer_1\"},{\"id\":\"gue_sharp\",\"type\":\"String\",\"value\":\"1\",\"layerId\":\"guevd_layer_686\"},{\"id\":\"gue_v_serial\",\"type\":\"String\",\"value\":\"3\",\"layerId\":\"guevd_layer_695\"},{\"id\":\"qap_question_visitor\",\"type\":\"String\",\"value\":\" 0\",\"chainId\":\"_all_\",\"layerId\":\"qapqa_layer_2\"},{\"id\":\"ge_v060\",\"type\":\"String\",\"value\":\"0\",\"chainId\":\"_gene_\",\"layerId\":\"gese_layer_858\",\"key\":2782},{\"id\":\"se_hi_trunc\",\"type\":\"String\",\"value\":\"0\",\"chainId\":\"_all_\",\"layerId\":\"sese_layer_606\"},{\"id\":\"ge_club_pin\",\"type\":\"String\",\"value\":\"1\",\"chainId\":\"_gene_\",\"layerId\":\"getp_layer_881\",\"key\":2775},{\"id\":\"tp_discover\",\"type\":\"String\",\"value\":\"0\",\"chainId\":\"_all_\",\"layerId\":\"tptp_layer_3\"},{\"id\":\"web_creator_route\",\"type\":\"String\",\"value\":\"1\",\"layerId\":\"webtop_layer_1\"},{\"id\":\"pf_creator_card\",\"type\":\"String\",\"value\":\"1\",\"chainId\":\"_all_\",\"layerId\":\"pfus_layer_1\"}],\"chains\":[{\"chainId\":\"_all_\"}],\"encodedParams\":\"Ci4nCiYLAQvrCiUK4wo+Cw8LDAs4CyoLtAooC+QKOQvsCi8LQgtDCxIL7QreCtcKEhcGAAAABQAAAAAAAAAAAAAAAAAAAAEAAQ==\"},\"triggers\":{}},\"userAgent\":{\"Edge\":false,\"Wechat\":false,\"Weibo\":false,\"QQ\":false,\"MQQBrowser\":false,\"Qzone\":false,\"Mobile\":false,\"Android\":false,\"iOS\":false,\"isAppleDevice\":false,\"Zhihu\":false,\"ZhihuHybrid\":false,\"isBot\":false,\"Tablet\":false,\"UC\":false,\"Sogou\":false,\"Qihoo\":false,\"Baidu\":false,\"BaiduApp\":false,\"Safari\":false,\"GoogleBot\":false,\"AndroidDaily\":false,\"iOSDaily\":false,\"WxMiniProgram\":false,\"BaiduMiniProgram\":false,\"QQMiniProgram\":false,\"JDMiniProgram\":false,\"isWebView\":false,\"isMiniProgram\":false,\"origin\":\"Mozilla\\\\u002F5.0 (Windows NT 10.0; Win64; x64) AppleWebKit\\\\u002F537.36 (KHTML, like Gecko) Chrome\\\\u002F83.0.4103.97 Safari\\\\u002F537.36\"},\"appViewConfig\":{},\"ctx\":{\"path\":\"\\\\u002Fzimei\",\"query\":{},\"href\":\"http:\\\\u002F\\\\u002Fzhuanlan.zhihu.com\\\\u002Fzimei\",\"host\":\"zhuanlan.zhihu.com\"},\"trafficSource\":\"production\",\"edition\":{\"beijing\":true,\"baidu\":false,\"sogou\":false,\"baiduBeijing\":false,\"sogouBeijing\":false,\"sogouInput\":false,\"baiduSearch\":false,\"googleSearch\":false,\"miniProgram\":false,\"xiaomi\":false},\"theme\":\"light\",\"enableShortcut\":true,\"referer\":\"\",\"conf\":{},\"xTrafficFreeOrigin\":\"\",\"ipInfo\":{\"cityName\":\"北京\",\"countryName\":\"中国\",\"regionName\":\"北京\",\"countryCode\":\"CN\"},\"logged\":false},\"me\":{\"columnContributions\":[]},\"label\":{\"recognizerLists\":{}},\"ecommerce\":{},\"comments\":{\"pagination\":{},\"collapsed\":{},\"reverse\":{},\"reviewing\":{},\"conversation\":{},\"parent\":{}},\"commentsV2\":{\"stickers\":[],\"commentWithPicPermission\":{},\"notificationsComments\":{},\"pagination\":{},\"collapsed\":{},\"reverse\":{},\"reviewing\":{},\"conversation\":{},\"conversationMore\":{},\"parent\":{}},\"pushNotifications\":{\"default\":{\"isFetching\":false,\"isDrained\":false,\"ids\":[]},\"follow\":{\"isFetching\":false,\"isDrained\":false,\"ids\":[]},\"vote_thank\":{\"isFetching\":false,\"isDrained\":false,\"ids\":[]},\"currentTab\":\"default\",\"notificationsCount\":{\"default\":0,\"follow\":0,\"vote_thank\":0}},\"messages\":{\"data\":{},\"currentTab\":\"common\",\"messageCount\":0},\"register\":{\"registerValidateSucceeded\":null,\"registerValidateErrors\":{},\"registerConfirmError\":null,\"sendDigitsError\":null,\"registerConfirmSucceeded\":null},\"login\":{\"loginUnregisteredError\":false,\"loginBindWechatError\":false,\"loginConfirmError\":null,\"sendDigitsError\":null,\"needSMSIdentify\":false,\"validateDigitsError\":false,\"loginConfirmSucceeded\":null,\"qrcodeLoginToken\":\"\",\"qrcodeLoginScanStatus\":0,\"qrcodeLoginError\":null,\"qrcodeLoginReturnNewToken\":false},\"active\":{\"sendDigitsError\":null,\"activeConfirmSucceeded\":null,\"activeConfirmError\":null},\"switches\":{},\"captcha\":{\"captchaNeeded\":false,\"captchaValidated\":false,\"captchaBase64String\":null,\"captchaValidationMessage\":null,\"loginCaptchaExpires\":false},\"sms\":{\"supportedCountries\":[]},\"chat\":{\"chats\":{},\"inbox\":{\"recents\":{\"isFetching\":false,\"isDrained\":false,\"isPrevDrained\":false,\"result\":[],\"next\":null,\"key\":null},\"strangers\":{\"isFetching\":false,\"isDrained\":false,\"isPrevDrained\":false,\"result\":[],\"next\":null,\"key\":null},\"friends\":{\"isFetching\":false,\"isDrained\":false,\"isPrevDrained\":false,\"result\":[],\"next\":null,\"key\":null},\"search\":{\"isFetching\":false,\"isDrained\":false,\"isPrevDrained\":false,\"result\":[],\"next\":null,\"key\":null},\"config\":{\"newCount\":0,\"strangerMessageSwitch\":false,\"strangerMessageUnread\":false,\"friendCount\":0}},\"global\":{\"isChatMqttExisted\":false}},\"emoticons\":{\"emoticonGroupList\":[],\"emoticonGroupDetail\":{}},\"creator\":{\"currentCreatorUrlToken\":null,\"homeData\":{\"recommendQuestions\":[]},\"tools\":{\"question\":{\"invitationCount\":{\"questionFolloweeCount\":0,\"questionTotalCount\":0},\"goodatTopics\":[]},\"customPromotion\":{\"itemLists\":{}},\"recommend\":{\"recommendTimes\":{}}},\"explore\":{\"academy\":{\"tabs\":[],\"article\":{}}},\"rights\":[],\"rightsStatus\":{},\"levelUpperLimit\":10,\"account\":{\"growthLevel\":{}},\"mcn\":{},\"applyStatus\":{},\"videoSupport\":{}},\"recommendation\":{\"homeRecommendations\":[]},\"shareTexts\":{},\"articles\":{\"voters\":{}},\"previewPost\":{},\"favlists\":{\"relations\":{}},\"columns\":{\"voters\":{}},\"reward\":{\"answer\":{},\"article\":{},\"question\":{}},\"video\":{\"data\":{},\"shareVideoDetail\":{},\"last\":{}},\"topstory\":{\"recommend\":{\"isFetching\":false,\"isDrained\":false,\"afterId\":0,\"items\":[],\"next\":null},\"follow\":{\"isFetching\":false,\"isDrained\":false,\"afterId\":0,\"items\":[],\"next\":null},\"room\":{\"meta\":{},\"isFetching\":false,\"isDrained\":false,\"afterId\":0,\"items\":[],\"next\":null},\"followWonderful\":{\"isFetching\":false,\"isDrained\":false,\"afterId\":0,\"items\":[],\"next\":null},\"sidebar\":null,\"announcement\":{},\"hotListCategories\":[],\"hotList\":[],\"guestFeeds\":{\"isFetching\":false,\"isDrained\":false,\"afterId\":0,\"items\":[],\"next\":null},\"followExtra\":{\"isNewUser\":null,\"isFetched\":false,\"followCount\":0,\"followers\":[]}},\"readStatus\":{},\"column\":{},\"requestColumn\":{\"categories\":[],\"error\":null},\"articleContribution\":{\"contributeRequests\":[],\"deleteContributeIdList\":[],\"handledContributeIdList\":[],\"recommendedColumns\":[],\"pinnedColumns\":[],\"sentContributeRequestsIdList\":[null,null,null,null,null,null,null,null,null,null,null,null,null,null,null]},\"columnContribution\":{\"contributeRequests\":[],\"autoInviteEnabled\":false,\"recommendedContributors\":[],\"contributionInvitation\":null},\"draftHistory\":{\"history\":{},\"drafts\":{}},\"upload\":{},\"articleDraft\":{\"titleImage\":\"\",\"titleImageSize\":{},\"isTitleImageFullScreen\":false,\"canTitleImageFullScreen\":false,\"title\":\"\",\"titleImageUploading\":false,\"error\":\"\",\"content\":\"\",\"draftLoading\":false,\"updating\":false,\"globalLoading\":false,\"pendingVideo\":{\"resource\":null,\"error\":null},\"deleteFail\":{\"fail\":false},\"recommendTopics\":[],\"selectedColumn\":0,\"articleDisclaimers\":[]},\"articleDrafts\":{\"isDrained\":false,\"isLoading\":false,\"items\":[]},\"columnAutocomplete\":{\"users\":[],\"friends\":[]},\"columnCollection\":{},\"userProfit\":{\"permission\":{\"permissionStatus\":{\"zhiZixuan\":0,\"recommend\":-1,\"task\":0,\"plugin\":0},\"visible\":false}},\"mcn\":{\"bindInfo\":{},\"memberCategoryList\":[],\"producerList\":[],\"categoryList\":[],\"lists\":{}},\"zvideos\":{\"campaigns\":{},\"tagoreCategory\":[],\"recommendations\":{},\"insertable\":{},\"recruit\":{\"form\":{\"platform\":\"\",\"nickname\":\"\",\"followerCount\":\"\",\"domain\":\"\",\"contact\":\"\"},\"submited\":false,\"ranking\":[]}},\"republish\":{}},\"fetchHost\":\"www.zhihu.com\",\"subAppName\":\"column\"}</script><script src=\"https://static.zhihu.com/heifetz/vendor.caa1c8048e4304e7b5ca.js\"></script><script src=\"https://static.zhihu.com/heifetz/column.app.6367d456b70ccf5f274a.js\"></script></body><script src=\"https://hm.baidu.com/hm.js?98beee57fd2ef70ccdd5ca52b9740c49\" async=\"\"></script></html>'"
      ]
     },
     "execution_count": 20,
     "metadata": {},
     "output_type": "execute_result"
    }
   ],
   "source": [
    "response.text"
   ]
  },
  {
   "cell_type": "markdown",
   "metadata": {},
   "source": [
    "### 2、网页信息的抽取"
   ]
  },
  {
   "cell_type": "code",
   "execution_count": 2,
   "metadata": {
    "collapsed": true
   },
   "outputs": [],
   "source": [
    "import re"
   ]
  },
  {
   "cell_type": "code",
   "execution_count": 3,
   "metadata": {
    "collapsed": true
   },
   "outputs": [],
   "source": [
    "str1 = 'abcd 123 hello 456'\n",
    "str2 = 'leike100python123456'"
   ]
  },
  {
   "cell_type": "code",
   "execution_count": 4,
   "metadata": {},
   "outputs": [
    {
     "data": {
      "text/plain": [
       "['123', '456']"
      ]
     },
     "execution_count": 4,
     "metadata": {},
     "output_type": "execute_result"
    }
   ],
   "source": [
    "rs1 = re.findall(r'\\d+', str1)\n",
    "rs1"
   ]
  },
  {
   "cell_type": "code",
   "execution_count": 5,
   "metadata": {},
   "outputs": [
    {
     "data": {
      "text/plain": [
       "['100', '123456']"
      ]
     },
     "execution_count": 5,
     "metadata": {},
     "output_type": "execute_result"
    }
   ],
   "source": [
    "rs2 = re.findall(r'\\d+', str2)\n",
    "rs2"
   ]
  },
  {
   "cell_type": "code",
   "execution_count": null,
   "metadata": {
    "collapsed": true
   },
   "outputs": [],
   "source": [
    "# re.findall(正则表达式，字符串文本)"
   ]
  },
  {
   "cell_type": "code",
   "execution_count": 26,
   "metadata": {
    "collapsed": true
   },
   "outputs": [],
   "source": [
    "content = '我的邮箱密码：123456，QQ密码：654321，淘宝密码：111111，请记住'"
   ]
  },
  {
   "cell_type": "code",
   "execution_count": 27,
   "metadata": {},
   "outputs": [
    {
     "data": {
      "text/plain": [
       "['123456，QQ密码：654321，淘宝密码：111111，请记住']"
      ]
     },
     "execution_count": 27,
     "metadata": {},
     "output_type": "execute_result"
    }
   ],
   "source": [
    "# 分析文本特点：密码：xxxx，\n",
    "rs1 = re.findall('密码：(.*)', content)\n",
    "rs1"
   ]
  },
  {
   "cell_type": "code",
   "execution_count": 31,
   "metadata": {},
   "outputs": [
    {
     "data": {
      "text/plain": [
       "['123456', '654321', '111111']"
      ]
     },
     "execution_count": 31,
     "metadata": {},
     "output_type": "execute_result"
    }
   ],
   "source": [
    "rs2 = re.findall('密码：(.*?)，', content)\n",
    "rs2"
   ]
  },
  {
   "cell_type": "code",
   "execution_count": null,
   "metadata": {
    "collapsed": true
   },
   "outputs": [],
   "source": [
    "#爬虫提取数据最常用的方法 (.*?) 获取最短的能满足条件的表达式"
   ]
  },
  {
   "cell_type": "markdown",
   "metadata": {},
   "source": [
    "#### 案例"
   ]
  },
  {
   "cell_type": "code",
   "execution_count": 32,
   "metadata": {
    "collapsed": true
   },
   "outputs": [],
   "source": [
    "url = 'http://quotes.toscrape.com/'"
   ]
  },
  {
   "cell_type": "code",
   "execution_count": 33,
   "metadata": {},
   "outputs": [
    {
     "data": {
      "text/plain": [
       "<Response [200]>"
      ]
     },
     "execution_count": 33,
     "metadata": {},
     "output_type": "execute_result"
    }
   ],
   "source": [
    "# 1、请求数据\n",
    "response = requests.get(url)\n",
    "response"
   ]
  },
  {
   "cell_type": "code",
   "execution_count": 35,
   "metadata": {},
   "outputs": [
    {
     "data": {
      "text/plain": [
       "'text/html; charset=utf-8'"
      ]
     },
     "execution_count": 35,
     "metadata": {},
     "output_type": "execute_result"
    }
   ],
   "source": [
    "response.headers['Content-Type']"
   ]
  },
  {
   "cell_type": "code",
   "execution_count": 36,
   "metadata": {},
   "outputs": [
    {
     "data": {
      "text/plain": [
       "'<!DOCTYPE html>\\n<html lang=\"en\">\\n<head>\\n\\t<meta charset=\"UTF-8\">\\n\\t<title>Quotes to Scrape</title>\\n    <link rel=\"stylesheet\" href=\"/static/bootstrap.min.css\">\\n    <link rel=\"stylesheet\" href=\"/static/main.css\">\\n</head>\\n<body>\\n    <div class=\"container\">\\n        <div class=\"row header-box\">\\n            <div class=\"col-md-8\">\\n                <h1>\\n                    <a href=\"/\" style=\"text-decoration: none\">Quotes to Scrape</a>\\n                </h1>\\n            </div>\\n            <div class=\"col-md-4\">\\n                <p>\\n                \\n                    <a href=\"/login\">Login</a>\\n                \\n                </p>\\n            </div>\\n        </div>\\n    \\n\\n<div class=\"row\">\\n    <div class=\"col-md-8\">\\n\\n    <div class=\"quote\" itemscope itemtype=\"http://schema.org/CreativeWork\">\\n        <span class=\"text\" itemprop=\"text\">“The world as we have created it is a process of our thinking. It cannot be changed without changing our thinking.”</span>\\n        <span>by <small class=\"author\" itemprop=\"author\">Albert Einstein</small>\\n        <a href=\"/author/Albert-Einstein\">(about)</a>\\n        </span>\\n        <div class=\"tags\">\\n            Tags:\\n            <meta class=\"keywords\" itemprop=\"keywords\" content=\"change,deep-thoughts,thinking,world\" /    > \\n            \\n            <a class=\"tag\" href=\"/tag/change/page/1/\">change</a>\\n            \\n            <a class=\"tag\" href=\"/tag/deep-thoughts/page/1/\">deep-thoughts</a>\\n            \\n            <a class=\"tag\" href=\"/tag/thinking/page/1/\">thinking</a>\\n            \\n            <a class=\"tag\" href=\"/tag/world/page/1/\">world</a>\\n            \\n        </div>\\n    </div>\\n\\n    <div class=\"quote\" itemscope itemtype=\"http://schema.org/CreativeWork\">\\n        <span class=\"text\" itemprop=\"text\">“It is our choices, Harry, that show what we truly are, far more than our abilities.”</span>\\n        <span>by <small class=\"author\" itemprop=\"author\">J.K. Rowling</small>\\n        <a href=\"/author/J-K-Rowling\">(about)</a>\\n        </span>\\n        <div class=\"tags\">\\n            Tags:\\n            <meta class=\"keywords\" itemprop=\"keywords\" content=\"abilities,choices\" /    > \\n            \\n            <a class=\"tag\" href=\"/tag/abilities/page/1/\">abilities</a>\\n            \\n            <a class=\"tag\" href=\"/tag/choices/page/1/\">choices</a>\\n            \\n        </div>\\n    </div>\\n\\n    <div class=\"quote\" itemscope itemtype=\"http://schema.org/CreativeWork\">\\n        <span class=\"text\" itemprop=\"text\">“There are only two ways to live your life. One is as though nothing is a miracle. The other is as though everything is a miracle.”</span>\\n        <span>by <small class=\"author\" itemprop=\"author\">Albert Einstein</small>\\n        <a href=\"/author/Albert-Einstein\">(about)</a>\\n        </span>\\n        <div class=\"tags\">\\n            Tags:\\n            <meta class=\"keywords\" itemprop=\"keywords\" content=\"inspirational,life,live,miracle,miracles\" /    > \\n            \\n            <a class=\"tag\" href=\"/tag/inspirational/page/1/\">inspirational</a>\\n            \\n            <a class=\"tag\" href=\"/tag/life/page/1/\">life</a>\\n            \\n            <a class=\"tag\" href=\"/tag/live/page/1/\">live</a>\\n            \\n            <a class=\"tag\" href=\"/tag/miracle/page/1/\">miracle</a>\\n            \\n            <a class=\"tag\" href=\"/tag/miracles/page/1/\">miracles</a>\\n            \\n        </div>\\n    </div>\\n\\n    <div class=\"quote\" itemscope itemtype=\"http://schema.org/CreativeWork\">\\n        <span class=\"text\" itemprop=\"text\">“The person, be it gentleman or lady, who has not pleasure in a good novel, must be intolerably stupid.”</span>\\n        <span>by <small class=\"author\" itemprop=\"author\">Jane Austen</small>\\n        <a href=\"/author/Jane-Austen\">(about)</a>\\n        </span>\\n        <div class=\"tags\">\\n            Tags:\\n            <meta class=\"keywords\" itemprop=\"keywords\" content=\"aliteracy,books,classic,humor\" /    > \\n            \\n            <a class=\"tag\" href=\"/tag/aliteracy/page/1/\">aliteracy</a>\\n            \\n            <a class=\"tag\" href=\"/tag/books/page/1/\">books</a>\\n            \\n            <a class=\"tag\" href=\"/tag/classic/page/1/\">classic</a>\\n            \\n            <a class=\"tag\" href=\"/tag/humor/page/1/\">humor</a>\\n            \\n        </div>\\n    </div>\\n\\n    <div class=\"quote\" itemscope itemtype=\"http://schema.org/CreativeWork\">\\n        <span class=\"text\" itemprop=\"text\">“Imperfection is beauty, madness is genius and it&#39;s better to be absolutely ridiculous than absolutely boring.”</span>\\n        <span>by <small class=\"author\" itemprop=\"author\">Marilyn Monroe</small>\\n        <a href=\"/author/Marilyn-Monroe\">(about)</a>\\n        </span>\\n        <div class=\"tags\">\\n            Tags:\\n            <meta class=\"keywords\" itemprop=\"keywords\" content=\"be-yourself,inspirational\" /    > \\n            \\n            <a class=\"tag\" href=\"/tag/be-yourself/page/1/\">be-yourself</a>\\n            \\n            <a class=\"tag\" href=\"/tag/inspirational/page/1/\">inspirational</a>\\n            \\n        </div>\\n    </div>\\n\\n    <div class=\"quote\" itemscope itemtype=\"http://schema.org/CreativeWork\">\\n        <span class=\"text\" itemprop=\"text\">“Try not to become a man of success. Rather become a man of value.”</span>\\n        <span>by <small class=\"author\" itemprop=\"author\">Albert Einstein</small>\\n        <a href=\"/author/Albert-Einstein\">(about)</a>\\n        </span>\\n        <div class=\"tags\">\\n            Tags:\\n            <meta class=\"keywords\" itemprop=\"keywords\" content=\"adulthood,success,value\" /    > \\n            \\n            <a class=\"tag\" href=\"/tag/adulthood/page/1/\">adulthood</a>\\n            \\n            <a class=\"tag\" href=\"/tag/success/page/1/\">success</a>\\n            \\n            <a class=\"tag\" href=\"/tag/value/page/1/\">value</a>\\n            \\n        </div>\\n    </div>\\n\\n    <div class=\"quote\" itemscope itemtype=\"http://schema.org/CreativeWork\">\\n        <span class=\"text\" itemprop=\"text\">“It is better to be hated for what you are than to be loved for what you are not.”</span>\\n        <span>by <small class=\"author\" itemprop=\"author\">André Gide</small>\\n        <a href=\"/author/Andre-Gide\">(about)</a>\\n        </span>\\n        <div class=\"tags\">\\n            Tags:\\n            <meta class=\"keywords\" itemprop=\"keywords\" content=\"life,love\" /    > \\n            \\n            <a class=\"tag\" href=\"/tag/life/page/1/\">life</a>\\n            \\n            <a class=\"tag\" href=\"/tag/love/page/1/\">love</a>\\n            \\n        </div>\\n    </div>\\n\\n    <div class=\"quote\" itemscope itemtype=\"http://schema.org/CreativeWork\">\\n        <span class=\"text\" itemprop=\"text\">“I have not failed. I&#39;ve just found 10,000 ways that won&#39;t work.”</span>\\n        <span>by <small class=\"author\" itemprop=\"author\">Thomas A. Edison</small>\\n        <a href=\"/author/Thomas-A-Edison\">(about)</a>\\n        </span>\\n        <div class=\"tags\">\\n            Tags:\\n            <meta class=\"keywords\" itemprop=\"keywords\" content=\"edison,failure,inspirational,paraphrased\" /    > \\n            \\n            <a class=\"tag\" href=\"/tag/edison/page/1/\">edison</a>\\n            \\n            <a class=\"tag\" href=\"/tag/failure/page/1/\">failure</a>\\n            \\n            <a class=\"tag\" href=\"/tag/inspirational/page/1/\">inspirational</a>\\n            \\n            <a class=\"tag\" href=\"/tag/paraphrased/page/1/\">paraphrased</a>\\n            \\n        </div>\\n    </div>\\n\\n    <div class=\"quote\" itemscope itemtype=\"http://schema.org/CreativeWork\">\\n        <span class=\"text\" itemprop=\"text\">“A woman is like a tea bag; you never know how strong it is until it&#39;s in hot water.”</span>\\n        <span>by <small class=\"author\" itemprop=\"author\">Eleanor Roosevelt</small>\\n        <a href=\"/author/Eleanor-Roosevelt\">(about)</a>\\n        </span>\\n        <div class=\"tags\">\\n            Tags:\\n            <meta class=\"keywords\" itemprop=\"keywords\" content=\"misattributed-eleanor-roosevelt\" /    > \\n            \\n            <a class=\"tag\" href=\"/tag/misattributed-eleanor-roosevelt/page/1/\">misattributed-eleanor-roosevelt</a>\\n            \\n        </div>\\n    </div>\\n\\n    <div class=\"quote\" itemscope itemtype=\"http://schema.org/CreativeWork\">\\n        <span class=\"text\" itemprop=\"text\">“A day without sunshine is like, you know, night.”</span>\\n        <span>by <small class=\"author\" itemprop=\"author\">Steve Martin</small>\\n        <a href=\"/author/Steve-Martin\">(about)</a>\\n        </span>\\n        <div class=\"tags\">\\n            Tags:\\n            <meta class=\"keywords\" itemprop=\"keywords\" content=\"humor,obvious,simile\" /    > \\n            \\n            <a class=\"tag\" href=\"/tag/humor/page/1/\">humor</a>\\n            \\n            <a class=\"tag\" href=\"/tag/obvious/page/1/\">obvious</a>\\n            \\n            <a class=\"tag\" href=\"/tag/simile/page/1/\">simile</a>\\n            \\n        </div>\\n    </div>\\n\\n    <nav>\\n        <ul class=\"pager\">\\n            \\n            \\n            <li class=\"next\">\\n                <a href=\"/page/2/\">Next <span aria-hidden=\"true\">&rarr;</span></a>\\n            </li>\\n            \\n        </ul>\\n    </nav>\\n    </div>\\n    <div class=\"col-md-4 tags-box\">\\n        \\n            <h2>Top Ten tags</h2>\\n            \\n            <span class=\"tag-item\">\\n            <a class=\"tag\" style=\"font-size: 28px\" href=\"/tag/love/\">love</a>\\n            </span>\\n            \\n            <span class=\"tag-item\">\\n            <a class=\"tag\" style=\"font-size: 26px\" href=\"/tag/inspirational/\">inspirational</a>\\n            </span>\\n            \\n            <span class=\"tag-item\">\\n            <a class=\"tag\" style=\"font-size: 26px\" href=\"/tag/life/\">life</a>\\n            </span>\\n            \\n            <span class=\"tag-item\">\\n            <a class=\"tag\" style=\"font-size: 24px\" href=\"/tag/humor/\">humor</a>\\n            </span>\\n            \\n            <span class=\"tag-item\">\\n            <a class=\"tag\" style=\"font-size: 22px\" href=\"/tag/books/\">books</a>\\n            </span>\\n            \\n            <span class=\"tag-item\">\\n            <a class=\"tag\" style=\"font-size: 14px\" href=\"/tag/reading/\">reading</a>\\n            </span>\\n            \\n            <span class=\"tag-item\">\\n            <a class=\"tag\" style=\"font-size: 10px\" href=\"/tag/friendship/\">friendship</a>\\n            </span>\\n            \\n            <span class=\"tag-item\">\\n            <a class=\"tag\" style=\"font-size: 8px\" href=\"/tag/friends/\">friends</a>\\n            </span>\\n            \\n            <span class=\"tag-item\">\\n            <a class=\"tag\" style=\"font-size: 8px\" href=\"/tag/truth/\">truth</a>\\n            </span>\\n            \\n            <span class=\"tag-item\">\\n            <a class=\"tag\" style=\"font-size: 6px\" href=\"/tag/simile/\">simile</a>\\n            </span>\\n            \\n        \\n    </div>\\n</div>\\n\\n    </div>\\n    <footer class=\"footer\">\\n        <div class=\"container\">\\n            <p class=\"text-muted\">\\n                Quotes by: <a href=\"https://www.goodreads.com/quotes\">GoodReads.com</a>\\n            </p>\\n            <p class=\"copyright\">\\n                Made with <span class=\\'sh-red\\'>❤</span> by <a href=\"https://scrapinghub.com\">Scrapinghub</a>\\n            </p>\\n        </div>\\n    </footer>\\n</body>\\n</html>'"
      ]
     },
     "execution_count": 36,
     "metadata": {},
     "output_type": "execute_result"
    }
   ],
   "source": [
    "html = response.text\n",
    "html"
   ]
  },
  {
   "cell_type": "code",
   "execution_count": 38,
   "metadata": {},
   "outputs": [
    {
     "data": {
      "text/plain": [
       "['\\n        <span class=\"text\" itemprop=\"text\">“The world as we have created it is a process of our thinking. It cannot be changed without changing our thinking.”</span>\\n        <span>by <small class=\"author\" itemprop=\"author\">Albert Einstein</small>\\n        <a href=\"/author/Albert-Einstein\">(about)</a>\\n        </span>\\n        <div class=\"tags\">\\n            Tags:\\n            <meta class=\"keywords\" itemprop=\"keywords\" content=\"change,deep-thoughts,thinking,world\" /    > \\n            \\n            <a class=\"tag\" href=\"/tag/change/page/1/\">change</a>\\n            \\n            <a class=\"tag\" href=\"/tag/deep-thoughts/page/1/\">deep-thoughts</a>\\n            \\n            <a class=\"tag\" href=\"/tag/thinking/page/1/\">thinking</a>\\n            \\n            <a class=\"tag\" href=\"/tag/world/page/1/\">world</a>\\n            \\n        ',\n",
       " '\\n        <span class=\"text\" itemprop=\"text\">“It is our choices, Harry, that show what we truly are, far more than our abilities.”</span>\\n        <span>by <small class=\"author\" itemprop=\"author\">J.K. Rowling</small>\\n        <a href=\"/author/J-K-Rowling\">(about)</a>\\n        </span>\\n        <div class=\"tags\">\\n            Tags:\\n            <meta class=\"keywords\" itemprop=\"keywords\" content=\"abilities,choices\" /    > \\n            \\n            <a class=\"tag\" href=\"/tag/abilities/page/1/\">abilities</a>\\n            \\n            <a class=\"tag\" href=\"/tag/choices/page/1/\">choices</a>\\n            \\n        ',\n",
       " '\\n        <span class=\"text\" itemprop=\"text\">“There are only two ways to live your life. One is as though nothing is a miracle. The other is as though everything is a miracle.”</span>\\n        <span>by <small class=\"author\" itemprop=\"author\">Albert Einstein</small>\\n        <a href=\"/author/Albert-Einstein\">(about)</a>\\n        </span>\\n        <div class=\"tags\">\\n            Tags:\\n            <meta class=\"keywords\" itemprop=\"keywords\" content=\"inspirational,life,live,miracle,miracles\" /    > \\n            \\n            <a class=\"tag\" href=\"/tag/inspirational/page/1/\">inspirational</a>\\n            \\n            <a class=\"tag\" href=\"/tag/life/page/1/\">life</a>\\n            \\n            <a class=\"tag\" href=\"/tag/live/page/1/\">live</a>\\n            \\n            <a class=\"tag\" href=\"/tag/miracle/page/1/\">miracle</a>\\n            \\n            <a class=\"tag\" href=\"/tag/miracles/page/1/\">miracles</a>\\n            \\n        ',\n",
       " '\\n        <span class=\"text\" itemprop=\"text\">“The person, be it gentleman or lady, who has not pleasure in a good novel, must be intolerably stupid.”</span>\\n        <span>by <small class=\"author\" itemprop=\"author\">Jane Austen</small>\\n        <a href=\"/author/Jane-Austen\">(about)</a>\\n        </span>\\n        <div class=\"tags\">\\n            Tags:\\n            <meta class=\"keywords\" itemprop=\"keywords\" content=\"aliteracy,books,classic,humor\" /    > \\n            \\n            <a class=\"tag\" href=\"/tag/aliteracy/page/1/\">aliteracy</a>\\n            \\n            <a class=\"tag\" href=\"/tag/books/page/1/\">books</a>\\n            \\n            <a class=\"tag\" href=\"/tag/classic/page/1/\">classic</a>\\n            \\n            <a class=\"tag\" href=\"/tag/humor/page/1/\">humor</a>\\n            \\n        ',\n",
       " '\\n        <span class=\"text\" itemprop=\"text\">“Imperfection is beauty, madness is genius and it&#39;s better to be absolutely ridiculous than absolutely boring.”</span>\\n        <span>by <small class=\"author\" itemprop=\"author\">Marilyn Monroe</small>\\n        <a href=\"/author/Marilyn-Monroe\">(about)</a>\\n        </span>\\n        <div class=\"tags\">\\n            Tags:\\n            <meta class=\"keywords\" itemprop=\"keywords\" content=\"be-yourself,inspirational\" /    > \\n            \\n            <a class=\"tag\" href=\"/tag/be-yourself/page/1/\">be-yourself</a>\\n            \\n            <a class=\"tag\" href=\"/tag/inspirational/page/1/\">inspirational</a>\\n            \\n        ',\n",
       " '\\n        <span class=\"text\" itemprop=\"text\">“Try not to become a man of success. Rather become a man of value.”</span>\\n        <span>by <small class=\"author\" itemprop=\"author\">Albert Einstein</small>\\n        <a href=\"/author/Albert-Einstein\">(about)</a>\\n        </span>\\n        <div class=\"tags\">\\n            Tags:\\n            <meta class=\"keywords\" itemprop=\"keywords\" content=\"adulthood,success,value\" /    > \\n            \\n            <a class=\"tag\" href=\"/tag/adulthood/page/1/\">adulthood</a>\\n            \\n            <a class=\"tag\" href=\"/tag/success/page/1/\">success</a>\\n            \\n            <a class=\"tag\" href=\"/tag/value/page/1/\">value</a>\\n            \\n        ',\n",
       " '\\n        <span class=\"text\" itemprop=\"text\">“It is better to be hated for what you are than to be loved for what you are not.”</span>\\n        <span>by <small class=\"author\" itemprop=\"author\">André Gide</small>\\n        <a href=\"/author/Andre-Gide\">(about)</a>\\n        </span>\\n        <div class=\"tags\">\\n            Tags:\\n            <meta class=\"keywords\" itemprop=\"keywords\" content=\"life,love\" /    > \\n            \\n            <a class=\"tag\" href=\"/tag/life/page/1/\">life</a>\\n            \\n            <a class=\"tag\" href=\"/tag/love/page/1/\">love</a>\\n            \\n        ',\n",
       " '\\n        <span class=\"text\" itemprop=\"text\">“I have not failed. I&#39;ve just found 10,000 ways that won&#39;t work.”</span>\\n        <span>by <small class=\"author\" itemprop=\"author\">Thomas A. Edison</small>\\n        <a href=\"/author/Thomas-A-Edison\">(about)</a>\\n        </span>\\n        <div class=\"tags\">\\n            Tags:\\n            <meta class=\"keywords\" itemprop=\"keywords\" content=\"edison,failure,inspirational,paraphrased\" /    > \\n            \\n            <a class=\"tag\" href=\"/tag/edison/page/1/\">edison</a>\\n            \\n            <a class=\"tag\" href=\"/tag/failure/page/1/\">failure</a>\\n            \\n            <a class=\"tag\" href=\"/tag/inspirational/page/1/\">inspirational</a>\\n            \\n            <a class=\"tag\" href=\"/tag/paraphrased/page/1/\">paraphrased</a>\\n            \\n        ',\n",
       " '\\n        <span class=\"text\" itemprop=\"text\">“A woman is like a tea bag; you never know how strong it is until it&#39;s in hot water.”</span>\\n        <span>by <small class=\"author\" itemprop=\"author\">Eleanor Roosevelt</small>\\n        <a href=\"/author/Eleanor-Roosevelt\">(about)</a>\\n        </span>\\n        <div class=\"tags\">\\n            Tags:\\n            <meta class=\"keywords\" itemprop=\"keywords\" content=\"misattributed-eleanor-roosevelt\" /    > \\n            \\n            <a class=\"tag\" href=\"/tag/misattributed-eleanor-roosevelt/page/1/\">misattributed-eleanor-roosevelt</a>\\n            \\n        ',\n",
       " '\\n        <span class=\"text\" itemprop=\"text\">“A day without sunshine is like, you know, night.”</span>\\n        <span>by <small class=\"author\" itemprop=\"author\">Steve Martin</small>\\n        <a href=\"/author/Steve-Martin\">(about)</a>\\n        </span>\\n        <div class=\"tags\">\\n            Tags:\\n            <meta class=\"keywords\" itemprop=\"keywords\" content=\"humor,obvious,simile\" /    > \\n            \\n            <a class=\"tag\" href=\"/tag/humor/page/1/\">humor</a>\\n            \\n            <a class=\"tag\" href=\"/tag/obvious/page/1/\">obvious</a>\\n            \\n            <a class=\"tag\" href=\"/tag/simile/page/1/\">simile</a>\\n            \\n        ']"
      ]
     },
     "execution_count": 38,
     "metadata": {},
     "output_type": "execute_result"
    }
   ],
   "source": [
    "# 2、提取数据\n",
    "items = re.findall(r'<div class=\"quote\" itemscope itemtype=\"http://schema.org/CreativeWork\">(.*?)</div>', html, re.S)\n",
    "items"
   ]
  },
  {
   "cell_type": "code",
   "execution_count": 39,
   "metadata": {},
   "outputs": [
    {
     "data": {
      "text/plain": [
       "10"
      ]
     },
     "execution_count": 39,
     "metadata": {},
     "output_type": "execute_result"
    }
   ],
   "source": [
    "len(items)"
   ]
  },
  {
   "cell_type": "code",
   "execution_count": 42,
   "metadata": {},
   "outputs": [
    {
     "data": {
      "text/plain": [
       "'\\n        <span class=\"text\" itemprop=\"text\">“The world as we have created it is a process of our thinking. It cannot be changed without changing our thinking.”</span>\\n        <span>by <small class=\"author\" itemprop=\"author\">Albert Einstein</small>\\n        <a href=\"/author/Albert-Einstein\">(about)</a>\\n        </span>\\n        <div class=\"tags\">\\n            Tags:\\n            <meta class=\"keywords\" itemprop=\"keywords\" content=\"change,deep-thoughts,thinking,world\" /    > \\n            \\n            <a class=\"tag\" href=\"/tag/change/page/1/\">change</a>\\n            \\n            <a class=\"tag\" href=\"/tag/deep-thoughts/page/1/\">deep-thoughts</a>\\n            \\n            <a class=\"tag\" href=\"/tag/thinking/page/1/\">thinking</a>\\n            \\n            <a class=\"tag\" href=\"/tag/world/page/1/\">world</a>\\n            \\n        '"
      ]
     },
     "execution_count": 42,
     "metadata": {},
     "output_type": "execute_result"
    }
   ],
   "source": [
    "item = items[0]\n",
    "item"
   ]
  },
  {
   "cell_type": "code",
   "execution_count": 43,
   "metadata": {},
   "outputs": [
    {
     "data": {
      "text/plain": [
       "['“The world as we have created it is a process of our thinking. It cannot be changed without changing our thinking.”']"
      ]
     },
     "execution_count": 43,
     "metadata": {},
     "output_type": "execute_result"
    }
   ],
   "source": [
    "texts = re.findall(r'<span class=\"text\" itemprop=\"text\">(.*?)</span>', item, re.S)\n",
    "texts"
   ]
  },
  {
   "cell_type": "code",
   "execution_count": 44,
   "metadata": {},
   "outputs": [
    {
     "data": {
      "text/plain": [
       "['Albert Einstein']"
      ]
     },
     "execution_count": 44,
     "metadata": {},
     "output_type": "execute_result"
    }
   ],
   "source": [
    "authors = re.findall(r'<small class=\"author\" itemprop=\"author\">(.*?)</small>', item, re.S)\n",
    "authors"
   ]
  },
  {
   "cell_type": "code",
   "execution_count": 45,
   "metadata": {},
   "outputs": [
    {
     "data": {
      "text/plain": [
       "['change', 'deep-thoughts', 'thinking', 'world']"
      ]
     },
     "execution_count": 45,
     "metadata": {},
     "output_type": "execute_result"
    }
   ],
   "source": [
    "tags = re.findall(r'<a class=\"tag\" href=.*?>(.*?)</a>', item, re.S)\n",
    "tags"
   ]
  },
  {
   "cell_type": "code",
   "execution_count": null,
   "metadata": {
    "collapsed": true
   },
   "outputs": [],
   "source": [
    "# 总结，正则提取信息的方法\n",
    "# re.findall(r'前缀特征+(.*?)+后缀特征', 待匹配文本, re.S) \n",
    "# re.S 不忽略回车\n",
    "# 结果以数组形式返回"
   ]
  },
  {
   "cell_type": "markdown",
   "metadata": {},
   "source": [
    "### 小练习\n",
    "* https://movie.douban.com/chart"
   ]
  }
 ],
 "metadata": {
  "kernelspec": {
   "display_name": "Python [conda env:pytorch]",
   "language": "python",
   "name": "conda-env-pytorch-py"
  },
  "language_info": {
   "codemirror_mode": {
    "name": "ipython",
    "version": 3
   },
   "file_extension": ".py",
   "mimetype": "text/x-python",
   "name": "python",
   "nbconvert_exporter": "python",
   "pygments_lexer": "ipython3",
   "version": "3.6.8"
  }
 },
 "nbformat": 4,
 "nbformat_minor": 2
}
