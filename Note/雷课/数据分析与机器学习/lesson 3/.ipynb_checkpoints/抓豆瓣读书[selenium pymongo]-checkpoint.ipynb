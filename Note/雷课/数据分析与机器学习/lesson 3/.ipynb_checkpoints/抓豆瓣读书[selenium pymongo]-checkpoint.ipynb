{
 "cells": [
  {
   "cell_type": "code",
   "execution_count": 53,
   "metadata": {},
   "outputs": [
    {
     "name": "stdout",
     "output_type": "stream",
     "text": [
      "https://book.douban.com/subject_search?search_text=爬虫&cat=1001&start=75\n",
      "https://book.douban.com/subject_search?search_text=爬虫&cat=1001&start=90\n",
      "https://book.douban.com/subject_search?search_text=爬虫&cat=1001&start=105\n",
      "【没有更多的数据了，抓取结束】\n",
      "已抓取数据： 22 条\n",
      "{'_id': ObjectId('5cc55cd7186d1b5104c92f14'), 'title': 'ハ·ペト·ロジー 爬虫·両生類と正しい付き合いを楽しむ雑誌(Vol.2 2004.Aug)', 'rate': '暂无评分', 'profile': '江吉彬 张良均 / 人民邮电出版社 / 39.8元'}\n",
      "{'_id': ObjectId('5cc55cd7186d1b5104c92f15'), 'title': 'DK炫动科技:奇妙的爬虫+动物诺亚舟+奇妙的恐龙(套装共3册)', 'rate': '暂无评分', 'profile': '江吉彬 张良均 / 人民邮电出版社 / 39.8元'}\n",
      "{'_id': ObjectId('5cc55cd7186d1b5104c92f16'), 'title': 'ハ·ペト·ロジー 爬虫·両生類と正しい付き合いを楽しむ雑誌(Vol.3 2005.Aug)', 'rate': '暂无评分', 'profile': '江吉彬 张良均 / 人民邮电出版社 / 39.8元'}\n",
      "{'_id': ObjectId('5cc55cd8186d1b5104c92f17'), 'title': '驚奇立體酷百科:兩棲爬蟲的奇異世界', 'rate': '暂无评分', 'profile': '江吉彬 张良均 / 人民邮电出版社 / 39.8元'}\n",
      "{'_id': ObjectId('5cc55cd8186d1b5104c92f18'), 'title': '我的第一本花园爬虫书', 'rate': '暂无评分', 'profile': '江吉彬 张良均 / 人民邮电出版社 / 39.8元'}\n",
      "{'_id': ObjectId('5cc55cd8186d1b5104c92f19'), 'title': 'Python网络爬虫技术', 'rate': '暂无评分', 'profile': '江吉彬 张良均 / 人民邮电出版社 / 39.8元'}\n",
      "{'_id': ObjectId('5cc55cd8186d1b5104c92f1a'), 'title': '网络机器人Java编程指南', 'rate': '7.8', 'profile': '江吉彬 张良均 / 人民邮电出版社 / 39.8元'}\n",
      "{'_id': ObjectId('5cc55cd8186d1b5104c92f1b'), 'title': 'Webbots、Spiders和Screen Scrapers : 技术解析与应用实践', 'rate': '暂无评分', 'profile': '江吉彬 张良均 / 人民邮电出版社 / 39.8元'}\n",
      "{'_id': ObjectId('5cc55cd8186d1b5104c92f1c'), 'title': 'Spidering Hacks : 100 Industrial-Strength Tips & Tools', 'rate': '暂无评分', 'profile': '江吉彬 张良均 / 人民邮电出版社 / 39.8元'}\n",
      "{'_id': ObjectId('5cc55cd8186d1b5104c92f1d'), 'title': '众妙之门：JavaScript与jQuery技术精粹', 'rate': '7.2', 'profile': '江吉彬 张良均 / 人民邮电出版社 / 39.8元'}\n",
      "{'_id': ObjectId('5cc55cd8186d1b5104c92f1e'), 'title': 'Webbots, Spiders, and Screen Scrapers : A Guide to Developing Internet Agents with PHP/CURL', 'rate': '暂无评分', 'profile': '江吉彬 张良均 / 人民邮电出版社 / 39.8元'}\n",
      "{'_id': ObjectId('5cc55cd8186d1b5104c92f1f'), 'title': '解密搜索引擎技术实战：Lucene &Java精华版(第2版) : Lucene & Java精华版', 'rate': '暂无评分', 'profile': '江吉彬 张良均 / 人民邮电出版社 / 39.8元'}\n",
      "{'_id': ObjectId('5cc55cd8186d1b5104c92f20'), 'title': 'Web Scraping with Python', 'rate': '7.8', 'profile': '江吉彬 张良均 / 人民邮电出版社 / 39.8元'}\n",
      "{'_id': ObjectId('5cc55cd8186d1b5104c92f21'), 'title': 'XML and Web Technologies for Data Sciences with R', 'rate': '暂无评分', 'profile': '江吉彬 张良均 / 人民邮电出版社 / 39.8元'}\n",
      "{'_id': ObjectId('5cc55cd8186d1b5104c92f22'), 'title': 'Python数据抓取技术与实战', 'rate': '5.4', 'profile': '江吉彬 张良均 / 人民邮电出版社 / 39.8元'}\n",
      "{'_id': ObjectId('5cc55cda186d1b5104c92f23'), 'title': 'Getting Started with Beautiful Soup : Build your own web scraper and learn all about web scraping with', 'rate': '暂无评分', 'profile': 'Vineeth G. Nair / Packt Publishing / 2014-1-24 / USD 31.49'}\n",
      "{'_id': ObjectId('5cc55cda186d1b5104c92f24'), 'title': 'Learning Selenium Testing Tools with Python', 'rate': '暂无评分', 'profile': 'Vineeth G. Nair / Packt Publishing / 2014-1-24 / USD 31.49'}\n",
      "{'_id': ObjectId('5cc55cda186d1b5104c92f25'), 'title': 'Python Requests Essentials', 'rate': '暂无评分', 'profile': 'Vineeth G. Nair / Packt Publishing / 2014-1-24 / USD 31.49'}\n",
      "{'_id': ObjectId('5cc55cda186d1b5104c92f26'), 'title': 'Learning Selenium Testing Tools - Third Edition : Leverage the power of Selenium to build your own real-time test', 'rate': '暂无评分', 'profile': 'Vineeth G. Nair / Packt Publishing / 2014-1-24 / USD 31.49'}\n",
      "{'_id': ObjectId('5cc55cda186d1b5104c92f27'), 'title': \"Spider Webb's Angels\", 'rate': '暂无评分', 'profile': 'Vineeth G. Nair / Packt Publishing / 2014-1-24 / USD 31.49'}\n",
      "{'_id': ObjectId('5cc55cda186d1b5104c92f28'), 'title': 'Python Web Scraping - Second Edition', 'rate': '暂无评分', 'profile': 'Vineeth G. Nair / Packt Publishing / 2014-1-24 / USD 31.49'}\n",
      "{'_id': ObjectId('5cc55cda186d1b5104c92f29'), 'title': '兩棲爬蟲動物 蜥蜴、蛇類特輯Ⅰ——观赏鱼大百科65', 'rate': '暂无评分', 'profile': 'Vineeth G. Nair / Packt Publishing / 2014-1-24 / USD 31.49'}\n",
      "【好了，犯罪现场已经清理干净了】\n"
     ]
    }
   ],
   "source": [
    "import selenium\n",
    "from selenium import webdriver\n",
    "import time\n",
    "options = webdriver.FirefoxOptions()\n",
    "options.headless = True\n",
    "browser = webdriver.Firefox(options=options)\n",
    "page = 5\n",
    "keyword = '爬虫'\n",
    "\n",
    "while True:\n",
    "    url = 'https://book.douban.com/subject_search?search_text='+ keyword + '&cat=1001&start=' + str(page*15)\n",
    "    browser.get(url)\n",
    "    print(url)\n",
    "    detail_elements = browser.find_elements_by_class_name('detail')\n",
    "    if detail_elements != []:\n",
    "        page += 1\n",
    "    else:\n",
    "        print(\"【没有更多的数据了，抓取结束】\")\n",
    "        print(\"已抓取数据：\", collection.count_documents({}), \"条\")\n",
    "        break\n",
    "    for detail_element in detail_elements:\n",
    "        title = detail_element.find_element_by_class_name('title-text').text\n",
    "        rate = detail_element.find_elements_by_class_name('rating_nums')\n",
    "        if rate == []:\n",
    "            rate = '暂无评分'\n",
    "        else:\n",
    "            rate = rate[0].text\n",
    "        profile = detail_element.find_element_by_xpath(\"//div[@class='meta abstract']\").text\n",
    "#         print(title, rate, profile)\n",
    "        result = collection.insert_one({'title':title, 'rate':rate, 'profile':profile})\n",
    "#         print(result.inserted_id)\n",
    "\n",
    "browser.quit()\n",
    "\n",
    "for doc in collection.find({}):\n",
    "    print(doc)\n",
    "collection.delete_many({})\n",
    "if collection.count_documents({}) == 0:\n",
    "    print(\"【好了，数据库已经被删个精光了】\")"
   ]
  },
  {
   "cell_type": "code",
   "execution_count": null,
   "metadata": {
    "collapsed": true
   },
   "outputs": [],
   "source": []
  }
 ],
 "metadata": {
  "kernelspec": {
   "display_name": "Python [default]",
   "language": "python",
   "name": "python3"
  },
  "language_info": {
   "codemirror_mode": {
    "name": "ipython",
    "version": 3
   },
   "file_extension": ".py",
   "mimetype": "text/x-python",
   "name": "python",
   "nbconvert_exporter": "python",
   "pygments_lexer": "ipython3",
   "version": "3.6.1"
  }
 },
 "nbformat": 4,
 "nbformat_minor": 2
}
