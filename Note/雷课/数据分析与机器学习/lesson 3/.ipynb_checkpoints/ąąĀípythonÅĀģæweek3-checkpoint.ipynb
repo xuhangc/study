{
 "cells": [
  {
   "cell_type": "markdown",
   "metadata": {},
   "source": [
    "课程地址:https://www.icourse163.org/course/BIT-1001870001  \n",
    "笔记内容结合课件整理。"
   ]
  },
  {
   "cell_type": "markdown",
   "metadata": {},
   "source": [
    "这里对北理爬虫课程第三周内容回顾,本周主要介绍了正则表达式"
   ]
  },
  {
   "cell_type": "markdown",
   "metadata": {},
   "source": [
    "### 1.正则表达式的概念"
   ]
  },
  {
   "cell_type": "markdown",
   "metadata": {},
   "source": [
    "正则表达式是用来简洁表达一组字符串的表达式  \n",
    "正则表达式是一种通用的字符串表达框架  \n",
    "进一步  \n",
    "正则表达式是一种针对字符串表达“简洁” 和“特征” 思想的工具  \n",
    "正则表达式可以用来判断某字符串的特征归属"
   ]
  },
  {
   "cell_type": "markdown",
   "metadata": {},
   "source": [
    "#### 正则表达式的常用操作符\n",
    "\n",
    "操作符| 说明| 实例\n",
    "--|--|--\n",
    ". |表示任何单个字符|\n",
    "[ ] |字符集，对单个字符给出取值范围 |[abc]表示a、 b、 c，[a‐z]表示a到z单个字符\n",
    "[^ ] |非字符集，对单个字符给出排除范围 |[^abc]表示非a或b或c的单个字符\n",
    "\\* |前一个字符0次或无限次扩展 |abc\\* 表示 ab、 abc、 abcc、 abccc等\n",
    "\\+ |前一个字符1次或无限次扩展 |abc+ 表示 abc、 abcc、 abccc等\n",
    "? |前一个字符0次或1次扩展| abc? 表示 ab、 abc\n",
    "&#124;| 左右表达式任意一个 |abc&#124;def 表示 abc、 def\n",
    "{m} |扩展前一个字符m次 |ab{2}c表示abbc\n",
    "{m,n} |扩展前一个字符m至n次（含n） |ab{1,2}c表示abc、 abbc\n",
    "^| 匹配字符串开头 |^abc表示abc且在一个字符串的开头\n",
    "\\$| 匹配字符串结尾 |abc$表示abc且在一个字符串的结尾\n",
    "( ) |分组标记，内部只能使用 &#124; 操作符 |(abc)表示abc，(abc&#124;def)表示abc、 def\n",
    "\\d |数字，等价于[0‐9]|\n",
    "\\w |单词字符，等价于[A‐Za‐z0‐9_]|"
   ]
  },
  {
   "cell_type": "markdown",
   "metadata": {},
   "source": [
    "来看几个具体例子\n",
    "\n",
    "正则表达式|对应字符串\n",
    "--|--\n",
    "P(Y&#124;YT&#124;YTH&#124;YTHO)?N| 'PN'、 'PYN'、 'PYTN'、 'PYTHN'、 'PYTHON'\n",
    "PYTHON+ |'PYTHON'、 'PYTHONN'、 'PYTHONNN' …\n",
    "PY[TH]ON |'PYTON'、 'PYHON'\n",
    "PY[^TH]?ON |'PYON'、 'PYaON'、 'PYbON'、 'PYcON'…\n",
    "PY{:3}N |'PN'、 'PYN'、 'PYYN'、 'PYYYN'"
   ]
  },
  {
   "cell_type": "markdown",
   "metadata": {},
   "source": [
    "再来看几个经典正则表达式的例子\n",
    "\n",
    "正则表达式|对应字符串\n",
    "--|--\n",
    "^[A‐Za‐z]+\\$|由26个字母组成的字符串\n",
    "^[A‐Za‐z0‐9]+\\$|由26个字母和数字组成的字符串\n",
    "^‐?\\d+\\$|整数形式的字符串\n",
    "^[0‐9]\\*[1‐9][0‐9]\\*\\$|正整数形式的字符串\n",
    "[1‐9]\\d{5}|中国境内邮政编码，6位\n",
    "[\\u4e00‐\\u9fa5]|匹配中文字符\n",
    "\\d{3}‐\\d{8}&#124;\\d{4}‐\\d{7}|国内电话号码，010‐68913536"
   ]
  },
  {
   "cell_type": "markdown",
   "metadata": {},
   "source": [
    "### 2.Re库的基本使用\n",
    "\n",
    "Re库是Python的标准库，主要用于字符串匹配"
   ]
  },
  {
   "cell_type": "markdown",
   "metadata": {},
   "source": [
    "#### Re库主要功能函数\n",
    "函数 |说明\n",
    "--|--\n",
    "re.search() |在一个字符串中搜索匹配正则表达式的第一个位置，返回match对象\n",
    "re.match()| 从一个字符串的开始位置起匹配正则表达式，返回match对象\n",
    "re.findall() |搜索字符串，以列表类型返回全部能匹配的子串\n",
    "re.split() |将一个字符串按照正则表达式匹配结果进行分割，返回列表类型\n",
    "re.finditer() |搜索字符串，返回一个匹配结果的迭代类型，每个迭代元素是match对象\n",
    "re.sub() |在一个字符串中替换所有匹配正则表达式的子串，返回替换后的字符串\n",
    "\n",
    "下面分别介绍下"
   ]
  },
  {
   "cell_type": "markdown",
   "metadata": {},
   "source": [
    "- 1.re.search(pattern, string, flags=0)  \n",
    "在一个字符串中搜索匹配正则表达式的第一个位置返回match对象  \n",
    "∙ pattern : 正则表达式的字符串或原生字符串表示  \n",
    "∙ string : 待匹配字符串  \n",
    "∙ flags : 正则表达式使用时的控制标记  \n",
    "这里再详细介绍下flags参数  \n",
    "\n",
    "常用标记 |说明\n",
    "--|--\n",
    "re.I |re.IGNORECASE 忽略正则表达式的大小写，[A‐Z]能够匹配小写字符\n",
    "re.M |re.MULTILINE 正则表达式中的^操作符能够将给定字符串的每行当作匹配开始\n",
    "re.S |re.DOTALL 正则表达式中的.操作符能够匹配所有字符，默认匹配除换行外的所有字符"
   ]
  },
  {
   "cell_type": "code",
   "execution_count": null,
   "metadata": {},
   "outputs": [],
   "source": [
    "import re\n",
    "match=re.search(r'[1-9]\\d{5}','BIT 100081')\n",
    "\n",
    "if match:\n",
    "    print(match.group(0))"
   ]
  },
  {
   "cell_type": "markdown",
   "metadata": {},
   "source": [
    "- 2.re.match(pattern, string, flags=0)  \n",
    "从一个字符串的开始位置起匹配正则表达式返回match对象  \n",
    "∙ pattern : 正则表达式的字符串或原生字符串表示  \n",
    "∙ string : 待匹配字符串  \n",
    "∙ flags : 正则表达式使用时的控制标记  "
   ]
  },
  {
   "cell_type": "markdown",
   "metadata": {},
   "source": [
    "re.match和re.search最大的不同在于match从开始位置起匹配"
   ]
  },
  {
   "cell_type": "code",
   "execution_count": null,
   "metadata": {},
   "outputs": [],
   "source": [
    "import re\n",
    "match=re.match(r'[1-9]\\d{5}','BIT 100081')\n",
    "\n",
    "if match:\n",
    "    print(match.group(0))\n",
    "    \n",
    "match.group(0)"
   ]
  },
  {
   "cell_type": "code",
   "execution_count": null,
   "metadata": {},
   "outputs": [],
   "source": [
    "import re\n",
    "match=re.match(r'[1-9]\\d{5}','100081 BIT')\n",
    "\n",
    "if match:\n",
    "    print(match.group(0))"
   ]
  },
  {
   "cell_type": "markdown",
   "metadata": {},
   "source": [
    "- 3.re.findall(pattern, string, flags=0)  \n",
    "搜索字符串，以列表类型返回全部能匹配的子串  \n",
    "∙ pattern : 正则表达式的字符串或原生字符串表示  \n",
    "∙ string : 待匹配字符串  \n",
    "∙ flags : 正则表达式使用时的控制标记  "
   ]
  },
  {
   "cell_type": "code",
   "execution_count": null,
   "metadata": {},
   "outputs": [],
   "source": [
    "import re\n",
    "ls=re.findall(r'[1-9]\\d{5}','BIT100081 TSU100084')\n",
    "\n",
    "ls"
   ]
  },
  {
   "cell_type": "markdown",
   "metadata": {},
   "source": [
    "- 4.re.split(pattern, string, maxsplit=0, flags=0)  \n",
    "将一个字符串按照正则表达式匹配结果进行分割返回列表类型  \n",
    "∙ pattern : 正则表达式的字符串或原生字符串表示  \n",
    "∙ string : 待匹配字符串  \n",
    "∙ maxsplit: 最大分割数，剩余部分作为最后一个元素输出  \n",
    "∙ flags : 正则表达式使用时的控制标记"
   ]
  },
  {
   "cell_type": "code",
   "execution_count": null,
   "metadata": {},
   "outputs": [],
   "source": [
    "import re\n",
    "re.split(r'[1-9]\\d{5}','BIT100081 TSU100084')"
   ]
  },
  {
   "cell_type": "code",
   "execution_count": null,
   "metadata": {},
   "outputs": [],
   "source": [
    "re.split(r'[1-9]\\d{5}','BIT100081 TSU100084',maxsplit=1)"
   ]
  },
  {
   "cell_type": "markdown",
   "metadata": {},
   "source": [
    "- 5.re.finditer(pattern, string, flags=0)  \n",
    "搜索字符串，返回一个匹配结果的迭代类型，每个迭代元素是match对象  \n",
    "∙ pattern : 正则表达式的字符串或原生字符串表示  \n",
    "∙ string : 待匹配字符串  \n",
    "∙ flags : 正则表达式使用时的控制标记"
   ]
  },
  {
   "cell_type": "code",
   "execution_count": null,
   "metadata": {},
   "outputs": [],
   "source": [
    "import re\n",
    "for m in re.finditer(r'[1-9]\\d{5}','BIT100081 TSU100084'):\n",
    "    if m:\n",
    "        print(m.group(0))"
   ]
  },
  {
   "cell_type": "markdown",
   "metadata": {},
   "source": [
    "- 6.re.sub(pattern, repl, string, count=0, flags=0)  \n",
    "在一个字符串中替换所有匹配正则表达式的子串返回替换后的字符串  \n",
    "∙ pattern : 正则表达式的字符串或原生字符串表示  \n",
    "∙ repl : 替换匹配字符串的字符串  \n",
    "∙ string : 待匹配字符串  \n",
    "∙ count : 匹配的最大替换次数  \n",
    "∙ flags : 正则表达式使用时的控制标记  "
   ]
  },
  {
   "cell_type": "code",
   "execution_count": null,
   "metadata": {},
   "outputs": [],
   "source": [
    "import re\n",
    "re.sub(r'[1-9]\\d{5}',':zipcode','BIT100081 TSU100084')"
   ]
  },
  {
   "cell_type": "markdown",
   "metadata": {},
   "source": [
    "#### Re库的另一种等价用法\n",
    "\n",
    "函数式用法：一次性操作  \n",
    "rst = re.search(r'[1‐9]\\d{5}', 'BIT 100081')\n",
    "\n",
    "面向对象用法：编译后的多次操作  \n",
    "pat = re.compile(r'[1‐9]\\d{5}')  \n",
    "rst = pat.search('BIT 100081')\n",
    "\n",
    "regex = re.compile(pattern, flags=0)  \n",
    "将正则表达式的字符串形式编译成正则表达式对象  \n",
    "∙ pattern : 正则表达式的字符串或原生字符串表示  \n",
    "∙ flags : 正则表达式使用时的控制标记"
   ]
  },
  {
   "cell_type": "markdown",
   "metadata": {},
   "source": [
    "#### Re库的Match对象\n",
    "\n",
    "Match对象是一次匹配的结果，包含匹配的很多信息"
   ]
  },
  {
   "cell_type": "code",
   "execution_count": null,
   "metadata": {},
   "outputs": [],
   "source": [
    "import re\n",
    "match=re.search(r'[1-9]\\d{5}','BIT 100081')\n",
    "\n",
    "if match:\n",
    "    print(match.group(0))\n",
    "    \n",
    "type(match)"
   ]
  },
  {
   "cell_type": "markdown",
   "metadata": {},
   "source": [
    "Match对象的属性\n",
    "\n",
    "属性| 说明\n",
    "--|--\n",
    ".string| 待匹配的文本\n",
    ".re| 匹配时使用的patter对象（正则表达式）\n",
    ".pos |正则表达式搜索文本的开始位置\n",
    ".endpos |正则表达式搜索文本的结束位置"
   ]
  },
  {
   "cell_type": "markdown",
   "metadata": {},
   "source": [
    "Match对象的方法\n",
    "\n",
    "方法| 说明\n",
    "--|--\n",
    ".group(0)| 获得匹配后的字符串\n",
    ".start()| 匹配字符串在原始字符串的开始位置\n",
    ".end() |匹配字符串在原始字符串的结束位置\n",
    ".span() |返回(.start(), .end())"
   ]
  },
  {
   "cell_type": "code",
   "execution_count": null,
   "metadata": {
    "collapsed": true
   },
   "outputs": [],
   "source": [
    "import re\n",
    "m=re.search(r'[1-9]\\d{5}','BIT 100081')"
   ]
  },
  {
   "cell_type": "code",
   "execution_count": null,
   "metadata": {},
   "outputs": [],
   "source": [
    "m.string"
   ]
  },
  {
   "cell_type": "code",
   "execution_count": null,
   "metadata": {},
   "outputs": [],
   "source": [
    "m.re"
   ]
  },
  {
   "cell_type": "code",
   "execution_count": null,
   "metadata": {},
   "outputs": [],
   "source": [
    "m.pos"
   ]
  },
  {
   "cell_type": "code",
   "execution_count": null,
   "metadata": {},
   "outputs": [],
   "source": [
    "m.endpos"
   ]
  },
  {
   "cell_type": "code",
   "execution_count": null,
   "metadata": {},
   "outputs": [],
   "source": [
    "m.group(0)"
   ]
  },
  {
   "cell_type": "code",
   "execution_count": null,
   "metadata": {},
   "outputs": [],
   "source": [
    "m.start()"
   ]
  },
  {
   "cell_type": "code",
   "execution_count": null,
   "metadata": {},
   "outputs": [],
   "source": [
    "m.end()"
   ]
  },
  {
   "cell_type": "code",
   "execution_count": null,
   "metadata": {},
   "outputs": [],
   "source": [
    "m.span()"
   ]
  },
  {
   "cell_type": "markdown",
   "metadata": {},
   "source": [
    "#### Re库的贪婪匹配和最小匹配\n",
    "\n",
    "实例\n",
    "```python\n",
    "match = re.search(r'PY.*N', 'PYANBNCNDN')\n",
    "match.group(0)\n",
    "```\n",
    "同时匹配长短不同的多项，返回哪一个呢？"
   ]
  },
  {
   "cell_type": "code",
   "execution_count": null,
   "metadata": {},
   "outputs": [],
   "source": [
    "import re\n",
    "match = re.search(r'PY.*N', 'PYANBNCNDN')\n",
    "match.group(0)"
   ]
  },
  {
   "cell_type": "markdown",
   "metadata": {},
   "source": [
    "Re库默认采用贪婪匹配，即输出匹配最长的子串。那么如何输出最短的子串呢？这里就要用到最小匹配操作符了。"
   ]
  },
  {
   "cell_type": "markdown",
   "metadata": {},
   "source": [
    "最小匹配操作符\n",
    "\n",
    "操作符| 说明\n",
    "--|--\n",
    "\\*?| 前一个字符0次或无限次扩展，最小匹配\n",
    "+?| 前一个字符1次或无限次扩展，最小匹配\n",
    "??| 前一个字符0次或1次扩展，最小匹配\n",
    "{m,n}?| 扩展前一个字符m至n次（含n），最小匹配\n",
    "\n",
    "只要长度输出可能不同的，都可以通过在操作符后增加?变成最小匹配"
   ]
  },
  {
   "cell_type": "code",
   "execution_count": null,
   "metadata": {},
   "outputs": [],
   "source": [
    "import re\n",
    "\n",
    "match = re.search(r'PY.*?N', 'PYANBNCNDN')\n",
    "match.group(0)"
   ]
  },
  {
   "cell_type": "markdown",
   "metadata": {},
   "source": [
    "### 3.“淘宝商品比价定向爬虫”\n",
    "\n",
    "程序的结构设计  \n",
    "步骤1：提交商品搜索请求，循环获取页面  \n",
    "步骤2：对于每个页面，提取商品名称和价格信息  \n",
    "步骤3：将信息输出到屏幕上"
   ]
  },
  {
   "cell_type": "code",
   "execution_count": null,
   "metadata": {
    "scrolled": false
   },
   "outputs": [],
   "source": [
    "import requests\n",
    "import re\n",
    "\n",
    "#获取页面信息\n",
    "def getHTMLText(url):\n",
    "    try:\n",
    "        r=requests.get(url,timeout=200)\n",
    "        r.raise_for_status()\n",
    "        r.encoding=r.apparent_encoding\n",
    "        return r.text\n",
    "    except:\n",
    "        return \"\"\n",
    "\n",
    "#解析页面\n",
    "def parsePage(ilt,html):\n",
    "    try:\n",
    "        tlt=re.findall(r'\\\"raw_title\\\"\\:\\\".*?\\\"',html)\n",
    "        plt=re.findall(r'\\\"view_price\\\"\\:\\\"[\\d\\.]*\\\"',html)\n",
    "        for i in range(len(plt)):\n",
    "            price=eval(plt[i].split(\":\")[1])\n",
    "            title=eval(tlt[i].split(\":\")[1])\n",
    "            ilt.append([price,title])\n",
    "    except:\n",
    "        print(\"\")\n",
    "\n",
    "#打印信息\n",
    "def printGoodsList(ilt):\n",
    "    tplt=\"{:4}\\t{:8}\\t{:16}\"\n",
    "    print(tplt.format(\"序号\",\"价格\",\"商品名称\"))\n",
    "    count=0\n",
    "    for g in ilt:\n",
    "        count=count+1\n",
    "        print(tplt.format(count,g[0],g[1]))\n",
    "\n",
    "def main():\n",
    "    goods=\"书包\"\n",
    "    depth=2\n",
    "    start_url=\"https://s.taobao.com/search?q=\"+goods\n",
    "    infoList=[]\n",
    "    for i in range(depth):\n",
    "        try:\n",
    "            url=start_url+\"&s=\"+str(i*44)\n",
    "            html=getHTMLText(url)\n",
    "            parsePage(infoList,html)\n",
    "        except:\n",
    "            continue\n",
    "    printGoodsList(infoList)\n",
    "    \n",
    "main()       "
   ]
  },
  {
   "cell_type": "markdown",
   "metadata": {},
   "source": [
    "这里再增加两个字段，店名，地区"
   ]
  },
  {
   "cell_type": "code",
   "execution_count": null,
   "metadata": {},
   "outputs": [],
   "source": [
    "import requests\n",
    "import re\n",
    "\n",
    "#获取页面信息\n",
    "def getHTMLText(url):\n",
    "    try:\n",
    "        r=requests.get(url,timeout=200)\n",
    "        r.raise_for_status()\n",
    "        r.encoding=r.apparent_encoding\n",
    "        return r.text\n",
    "    except:\n",
    "        return \"\"\n",
    "\n",
    "#解析页面\n",
    "def parsePage(ilt,html):\n",
    "    try:\n",
    "        tlt=re.findall(r'\\\"raw_title\\\"\\:\\\".*?\\\"',html)\n",
    "        plt=re.findall(r'\\\"view_price\\\"\\:\\\"[\\d\\.]*\\\"',html)\n",
    "        nlt=re.findall(r'\"nick\":\".*?\"',html)\n",
    "        llt=re.findall(r'\"item_loc\":\".*?\"',html)\n",
    "        for i in range(len(plt)):\n",
    "            price=eval(plt[i].split(\":\")[1])\n",
    "            title=eval(tlt[i].split(\":\")[1])\n",
    "            name=eval(nlt[i].split(\":\")[1]).strip()\n",
    "            loc=eval(llt[i].split(\":\")[1]).strip()\n",
    "            ilt.append([price,title,name,loc])\n",
    "    except:\n",
    "        print(\"\")\n",
    "\n",
    "#打印信息\n",
    "def printGoodsList(ilt):\n",
    "    tplt=\"{:4}\\t{:8}\\t{:20}\\t{:18}\\t{:16}\"\n",
    "    print(tplt.format(\"序号\",\"价格\",\"店名\",\"地区\",\"商品名称\"))\n",
    "    count=0\n",
    "    for g in ilt:\n",
    "        count=count+1\n",
    "        print(tplt.format(count,g[0],g[2],g[3],g[1]))\n",
    "\n",
    "def main():\n",
    "    goods=\"书包\"\n",
    "    depth=2\n",
    "    start_url=\"https://s.taobao.com/search?q=\"+goods\n",
    "    infoList=[]\n",
    "    for i in range(depth):\n",
    "        try:\n",
    "            url=start_url+\"&s=\"+str(i*44)\n",
    "            html=getHTMLText(url)\n",
    "            parsePage(infoList,html)\n",
    "        except:\n",
    "            continue\n",
    "    printGoodsList(infoList)\n",
    "    \n",
    "main()       "
   ]
  },
  {
   "cell_type": "markdown",
   "metadata": {},
   "source": [
    "### 4.股票数据定向爬虫\n",
    "\n",
    "程序的结构设计  \n",
    "步骤1：从东方财富网获取股票列表  \n",
    "步骤2：根据股票列表逐个到百度股票获取个股信息  \n",
    "步骤3：将结果存储到文件"
   ]
  },
  {
   "cell_type": "code",
   "execution_count": null,
   "metadata": {
    "collapsed": true
   },
   "outputs": [],
   "source": [
    "import requests\n",
    "from bs4 import BeautifulSoup\n",
    "import traceback\n",
    "import re\n",
    "\n",
    "#获取页面信息\n",
    "def getHTMLText(url):\n",
    "    try:\n",
    "        r=requests.get(url,timeout=200)\n",
    "        r.raise_for_status()\n",
    "        r.encoding=r.apparent_encoding\n",
    "        return r.text\n",
    "    except:\n",
    "        return \"\"\n",
    "\n",
    "#获取股票列表\n",
    "def getStockList(lst,stockURL):\n",
    "    html=getHTMLText(stockURL)\n",
    "    soup=BeautifulSoup(html,'html.parser')\n",
    "    a=soup.find_all('a')\n",
    "    for i in a:\n",
    "        try:\n",
    "            href=i.attrs['href']\n",
    "            lst.append(re.findall(r\"[s][hz]\\d{6}\",href)[0])\n",
    "        except:\n",
    "            continue\n",
    "\n",
    "#获取股票信息\n",
    "def getStockInfo(lst,stockURL,fpath):\n",
    "    print(lst)\n",
    "    for stock in lst:\n",
    "        url=stockURL+stock+\".html\"\n",
    "        html=getHTMLText(url)\n",
    "        try:\n",
    "            if html==\"\":\n",
    "                continue\n",
    "            infoDict={}\n",
    "            soup=BeautifulSoup(html,'html.parser')\n",
    "            stockInfo=soup.find(\"div\",attrs={'class':'stock-bets'})\n",
    "            \n",
    "            name=stockInfo.find_all(attrs={'class':'bets-name'})[0]\n",
    "            infoDict.update({'股票名称':name.text.split()[0]})\n",
    "            \n",
    "            keyList=stockInfo.find_all('dt')\n",
    "            valueList=stockInfo.find_all('dd')\n",
    "            for i in range(len(keyList)):\n",
    "                key=keyList[i].text\n",
    "                val=valueList[i].text\n",
    "                infoDict[key]=val\n",
    "            \n",
    "            with open(fpath,'a',encoding='utf-8') as f:\n",
    "                f.write(str(infoDict)+'\\n')\n",
    "        \n",
    "        except:\n",
    "            traceback.print_exc()\n",
    "            continue\n",
    "\n",
    "def main():\n",
    "    stock_list_url = 'http://quote.eastmoney.com/stocklist.html'\n",
    "    stock_info_url = 'https://gupiao.baidu.com/stock/'\n",
    "    output_file = 'D:/BaiduStockInfo.txt'\n",
    "    slist=[]\n",
    "    getStockList(slist,stock_list_url)\n",
    "    getStockInfo(slist,stock_info_url,output_file)\n"
   ]
  },
  {
   "cell_type": "markdown",
   "metadata": {},
   "source": [
    "再对代码做些优化处理"
   ]
  },
  {
   "cell_type": "code",
   "execution_count": null,
   "metadata": {},
   "outputs": [],
   "source": [
    "import requests\n",
    "from bs4 import BeautifulSoup\n",
    "import traceback\n",
    "import re\n",
    " \n",
    "def getHTMLText(url, code=\"utf-8\"):\n",
    "    try:\n",
    "        r = requests.get(url)\n",
    "        r.raise_for_status()\n",
    "        r.encoding = code\n",
    "        return r.text\n",
    "    except:\n",
    "        return \"\"\n",
    "\n",
    "def getStockList(lst, stockURL):\n",
    "    html = getHTMLText(stockURL, \"GB2312\")\n",
    "    soup = BeautifulSoup(html, 'html.parser') \n",
    "    a = soup.find_all('a')\n",
    "    for i in a:\n",
    "        try:\n",
    "            href = i.attrs['href']\n",
    "            lst.append(re.findall(r\"[s][hz]\\d{6}\", href)[0])\n",
    "        except:\n",
    "            continue\n",
    "\n",
    "def getStockInfo(lst, stockURL, fpath):\n",
    "    count = 0\n",
    "    for stock in lst:\n",
    "        url = stockURL + stock + \".html\"\n",
    "        html = getHTMLText(url)\n",
    "        try:\n",
    "            if html==\"\":\n",
    "                continue\n",
    "            infoDict = {}\n",
    "            soup = BeautifulSoup(html, 'html.parser')\n",
    "            stockInfo = soup.find('div',attrs={'class':'stock-bets'})\n",
    " \n",
    "            name = stockInfo.find_all(attrs={'class':'bets-name'})[0]\n",
    "            infoDict.update({'股票名称': name.text.split()[0]})\n",
    "             \n",
    "            keyList = stockInfo.find_all('dt')\n",
    "            valueList = stockInfo.find_all('dd')\n",
    "            for i in range(len(keyList)):\n",
    "                key = keyList[i].text\n",
    "                val = valueList[i].text\n",
    "                infoDict[key] = val\n",
    "             \n",
    "            with open(fpath, 'a', encoding='utf-8') as f:\n",
    "                f.write( str(infoDict) + '\\n' )\n",
    "                count = count + 1\n",
    "                print(\"\\r当前进度: {:.2f}%\".format(count*100/len(lst)),end=\"\")\n",
    "        except:\n",
    "            count = count + 1\n",
    "            print(\"\\r当前进度: {:.2f}%\".format(count*100/len(lst)),end=\"\")\n",
    "            continue\n",
    "\n",
    "def main():\n",
    "    stock_list_url = 'http://quote.eastmoney.com/stocklist.html'\n",
    "    stock_info_url = 'https://gupiao.baidu.com/stock/'\n",
    "    output_file = 'D:/BaiduStockInfo.txt'\n",
    "    slist=[]\n",
    "    getStockList(slist, stock_list_url)\n",
    "    getStockInfo(slist, stock_info_url, output_file)\n",
    "\n",
    "main()"
   ]
  }
 ],
 "metadata": {
  "kernelspec": {
   "display_name": "Python [default]",
   "language": "python",
   "name": "python3"
  },
  "language_info": {
   "codemirror_mode": {
    "name": "ipython",
    "version": 3
   },
   "file_extension": ".py",
   "mimetype": "text/x-python",
   "name": "python",
   "nbconvert_exporter": "python",
   "pygments_lexer": "ipython3",
   "version": "3.6.1"
  }
 },
 "nbformat": 4,
 "nbformat_minor": 2
}
