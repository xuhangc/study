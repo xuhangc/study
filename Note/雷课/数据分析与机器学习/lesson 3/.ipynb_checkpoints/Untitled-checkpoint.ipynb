{
 "cells": [
  {
   "cell_type": "markdown",
   "metadata": {},
   "source": [
    "### 爬取上交所问询函"
   ]
  },
  {
   "cell_type": "code",
   "execution_count": null,
   "metadata": {
    "collapsed": true
   },
   "outputs": [],
   "source": [
    "# 导入包\n",
    "import requests\n",
    "import os"
   ]
  },
  {
   "cell_type": "code",
   "execution_count": null,
   "metadata": {
    "collapsed": true
   },
   "outputs": [],
   "source": [
    "# 构造URL\n",
    "def downlourl(currentpage):\n",
    "    url=\"http://query.sse.com.cn/commonSoaQuery.do?siteId=28&sqlId=BS_GGLL&extGGLX=&stockcode=&channelId=10743%2C10744%2C10012&extGGDL=&order=createTime%7Cdesc%2Cstockcode%7Casc&isPagination=true&pageHelp.pageSize=15&pageHelp.pageNo=\" + repr(currentpage) + \"&pageHelp.beginPage=\" + repr(currentpage) +\"&pageHelp.cacheSize=1\"\n",
    "    return(url)"
   ]
  },
  {
   "cell_type": "code",
   "execution_count": null,
   "metadata": {
    "collapsed": true
   },
   "outputs": [],
   "source": [
    "# 构造headers\n",
    "headers = {\n",
    "    'Referer':'http://www.sse.com.cn/disclosure/credibility/supervision/inquiries/',\n",
    "    'User-Agent':'Mozilla/5.0 (Macintosh; Intel Mac OS X 10_11_6) AppleWebKit/537.36 (KHTML, like Gecko) Chrome/58.0.3029.110 Safari/537.36'\n",
    "}"
   ]
  },
  {
   "cell_type": "code",
   "execution_count": null,
   "metadata": {},
   "outputs": [],
   "source": [
    "# 从第0页获取页码范围\n",
    "url0 = downlourl(0)\n",
    "r = requests.get(url0, headers=headers)\n",
    "r.json()"
   ]
  },
  {
   "cell_type": "code",
   "execution_count": null,
   "metadata": {},
   "outputs": [],
   "source": [
    "print(r.json()['pageHelp']['beginPage'])\n",
    "print(r.json()['pageHelp']['pageCount'])\n",
    "print(r.json()['pageHelp']['pageSize'])\n",
    "print(r.json()['pageHelp']['total'])"
   ]
  },
  {
   "cell_type": "code",
   "execution_count": null,
   "metadata": {},
   "outputs": [],
   "source": [
    "# 获取下载文件列表\n",
    "file_list = []\n",
    "with open('上交所列表.txt',\"w\") as f:\n",
    "    for page in range(1, 130):\n",
    "        r = requests.get(downlourl(page), headers=headers)\n",
    "        for i in r.json()['result']:\n",
    "            file_list.append(i['docURL'])\n",
    "            f.write('\\t'.join([i['cmsOpDate'],i['docTitle'],i['stockcode'],i['extWTFL'],i['extGSJC'],i['docType'],i['createTime'],i['docURL']])+'\\n')\n",
    "        print('完成爬取第%d页'%page) "
   ]
  },
  {
   "cell_type": "code",
   "execution_count": null,
   "metadata": {},
   "outputs": [],
   "source": [
    "# 指定存储位置\n",
    "cur_dir = '/'.join(os.path.abspath('__file__').split('/')[:-1])\n",
    "paper_dir = os.path.join(cur_dir, 'files')\n",
    "if not os.path.exists(paper_dir):\n",
    "    os.makedirs(paper_dir) # 新建文件夹"
   ]
  },
  {
   "cell_type": "code",
   "execution_count": null,
   "metadata": {},
   "outputs": [],
   "source": [
    "# 循环下载文件\n",
    "for i in range(len(file_list):    \n",
    "    try:\n",
    "        file_name = file_list[i].split('/')[-1]\n",
    "        file_path = os.path.join(paper_dir, file_name)\n",
    "        url = 'http://' + file_list[i]\n",
    "        r = requests.get(url)\n",
    "        f = open(file_path, 'wb')\n",
    "        f.write(r.content)\n",
    "        f.close()        \n",
    "    except Exception as e:\n",
    "        print(e)"
   ]
  }
 ],
 "metadata": {
  "kernelspec": {
   "display_name": "Python [conda env:learn]",
   "language": "python",
   "name": "conda-env-learn-py"
  },
  "language_info": {
   "codemirror_mode": {
    "name": "ipython",
    "version": 3
   },
   "file_extension": ".py",
   "mimetype": "text/x-python",
   "name": "python",
   "nbconvert_exporter": "python",
   "pygments_lexer": "ipython3",
   "version": "3.6.10"
  }
 },
 "nbformat": 4,
 "nbformat_minor": 2
}
