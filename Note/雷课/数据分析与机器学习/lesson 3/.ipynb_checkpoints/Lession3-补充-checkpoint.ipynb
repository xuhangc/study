{
 "cells": [
  {
   "cell_type": "markdown",
   "metadata": {
    "slideshow": {
     "slide_type": "slide"
    }
   },
   "source": [
    "\n",
    "# <center>网络数据获取——补充知识</center>"
   ]
  },
  {
   "cell_type": "markdown",
   "metadata": {
    "collapsed": true
   },
   "source": [
    "### 1.Re——正则表达式\n",
    "\n",
    "正则表达式本身是一种小型的、高度专业化的编程语言，而在python中，通过内嵌集成re模块，程序员们可以直接调用来实现正则匹配。正则表达式模式被编译成一系列的字节码，然后由用C编写的匹配引擎执行。\n",
    "\n",
    "![](./img/re.png)"
   ]
  },
  {
   "cell_type": "code",
   "execution_count": null,
   "metadata": {
    "collapsed": true
   },
   "outputs": [],
   "source": [
    "import re"
   ]
  },
  {
   "cell_type": "markdown",
   "metadata": {},
   "source": [
    "### 1.1 re.findall 方法\n",
    "\n",
    "搜索字符串，以列表形式返回所有匹配的子串\n",
    "\n",
    "语法格式为：\n",
    "```\n",
    "findall(string[, pos[, endpos]])\n",
    "```\n",
    "\n",
    "参数：\n",
    "\n",
    "* string 待匹配的字符串。\n",
    "* pos 可选参数，指定字符串的起始位置，默认为 0。\n",
    "* endpos 可选参数，指定字符串的结束位置，默认为字符串的长度。"
   ]
  },
  {
   "cell_type": "code",
   "execution_count": null,
   "metadata": {
    "collapsed": true
   },
   "outputs": [],
   "source": [
    "result1 = re.findall(r'\\d+', 'runoob 123 google 456')\n",
    "result1"
   ]
  },
  {
   "cell_type": "markdown",
   "metadata": {},
   "source": [
    "### 1.2 re.split方法 \n",
    "split 方法按照能够匹配的子串将字符串分割后返回列表，它的使用形式如下：\n",
    "\n",
    "re.split(pattern, string[, maxsplit=0, flags=0])"
   ]
  },
  {
   "cell_type": "code",
   "execution_count": null,
   "metadata": {
    "collapsed": true
   },
   "outputs": [],
   "source": [
    "re.split('\\W+', 'runoob, runoob, runoob')"
   ]
  },
  {
   "cell_type": "markdown",
   "metadata": {},
   "source": [
    "### 1.3 常用匹配规则\n",
    "\n",
    "\n",
    "![](./img/re1.png)"
   ]
  },
  {
   "cell_type": "markdown",
   "metadata": {},
   "source": [
    "re模块手册：https://docs.python.org/zh-cn/3.6/library/re.html"
   ]
  },
  {
   "cell_type": "markdown",
   "metadata": {},
   "source": [
    "### 1.4 正则匹配实战"
   ]
  },
  {
   "cell_type": "markdown",
   "metadata": {},
   "source": [
    "* 经典例子\n",
    "\n",
    "正则表达式|对应字符串\n",
    "--|--\n",
    "^[A‐Za‐z]+\\$|由26个字母组成的字符串\n",
    "^[A‐Za‐z0‐9]+\\$|由26个字母和数字组成的字符串\n",
    "^‐?\\d+\\$|整数形式的字符串\n",
    "^[0‐9]\\*[1‐9][0‐9]\\*\\$|正整数形式的字符串\n",
    "[1‐9]\\d{5}|中国境内邮政编码，6位\n",
    "[\\u4e00‐\\u9fa5]|匹配中文字符\n",
    "\\d{3}‐\\d{8}&#124;\\d{4}‐\\d{7}|国内电话号码，010‐68913536"
   ]
  },
  {
   "cell_type": "markdown",
   "metadata": {},
   "source": [
    "#### 实例1：提取数字"
   ]
  },
  {
   "cell_type": "code",
   "execution_count": null,
   "metadata": {
    "collapsed": true
   },
   "outputs": [],
   "source": [
    "import re\n",
    "str = \"a123b456b\"\n",
    "result1 = re.findall(r\"\\d+\", str)\n",
    "result1"
   ]
  },
  {
   "cell_type": "markdown",
   "metadata": {},
   "source": [
    "#### 实例2：提取日期"
   ]
  },
  {
   "cell_type": "code",
   "execution_count": null,
   "metadata": {
    "collapsed": true
   },
   "outputs": [],
   "source": [
    "# 匹配时间，20181011 15:28:39\n",
    "str = \"WARNING:tensorflow: 20181011 15:28:39 Initialize training\"\n",
    "pattern = re.compile(r'\\d{4}\\d{2}\\d{2}\\s\\d{2}:\\d{2}:\\d{2}')\n",
    "result1 = pattern.findall(str)\n",
    "result1"
   ]
  },
  {
   "cell_type": "markdown",
   "metadata": {},
   "source": [
    "#### 实例3：提取价格"
   ]
  },
  {
   "cell_type": "code",
   "execution_count": null,
   "metadata": {
    "collapsed": true
   },
   "outputs": [],
   "source": [
    "text='POLO1.4自动舒适　　标准价121000元　　现价111600元　　降幅9400元'\n",
    "pattern = re.compile('\\d+元')\n",
    "result1 = pattern.findall(text)\n",
    "result1"
   ]
  },
  {
   "cell_type": "markdown",
   "metadata": {},
   "source": [
    "#### 实例4：提取电话"
   ]
  },
  {
   "cell_type": "code",
   "execution_count": null,
   "metadata": {
    "collapsed": true
   },
   "outputs": [],
   "source": [
    "tel = '13579246810'\n",
    "ret = re.findall(r\"^1[35678]\\d{9}$\", tel)\n",
    "if ret:\n",
    "    print(\"匹配成功\")\n",
    "else:\n",
    "    print(\"匹配失败\")"
   ]
  },
  {
   "cell_type": "code",
   "execution_count": null,
   "metadata": {
    "collapsed": true
   },
   "outputs": [],
   "source": [
    "tel = '01q01‐68913536'\n",
    "ret = re.findall(r\"\\d{3}‐\\d{8}|\\d{4}‐\\d{7}\", tel)\n",
    "if ret:\n",
    "    print(\"匹配成功\")\n",
    "else:\n",
    "    print(\"匹配失败\")"
   ]
  },
  {
   "cell_type": "code",
   "execution_count": null,
   "metadata": {
    "collapsed": true
   },
   "outputs": [],
   "source": [
    "tel = '我的手机号是13579246810'\n",
    "ret = re.findall(r\"1[35678]\\d{9}\", tel)\n",
    "ret"
   ]
  },
  {
   "cell_type": "markdown",
   "metadata": {},
   "source": [
    "#### 实例5：提取邮箱"
   ]
  },
  {
   "cell_type": "code",
   "execution_count": null,
   "metadata": {
    "collapsed": true
   },
   "outputs": [],
   "source": [
    "str = \"我的邮箱是mzr@qq.cn和mzr@163.com\"\n",
    "pattern = re.compile(r'([a-zA-Z0-9_]+@[a-zA-Z\\d]+.(com|cn))')\n",
    "result1 = pattern.findall(str)\n",
    "result1"
   ]
  },
  {
   "cell_type": "markdown",
   "metadata": {},
   "source": [
    "### 2.Selenium库网页解析"
   ]
  },
  {
   "cell_type": "code",
   "execution_count": null,
   "metadata": {
    "collapsed": true
   },
   "outputs": [],
   "source": [
    "from selenium import webdriver\n",
    "import time"
   ]
  },
  {
   "cell_type": "markdown",
   "metadata": {},
   "source": [
    "#### 2.1 单个元素查找"
   ]
  },
  {
   "cell_type": "code",
   "execution_count": null,
   "metadata": {
    "collapsed": true
   },
   "outputs": [],
   "source": [
    "# 申明一个浏览器对象\n",
    "browser = webdriver.Chrome()\n",
    "# 使用浏览器访问淘宝\n",
    "browser.get('https://www.taobao.com')\n",
    "# 在响应结果中通过id查找元素\n",
    "input_first = browser.find_element_by_id('q')\n",
    "# 在响应结果中通过css选择器查找元素\n",
    "input_second = browser.find_element_by_css_selector('#q')\n",
    "# 在响应结果中通过xpath查找元素\n",
    "input_third = browser.find_element_by_xpath('//*[@id=\"q\"]')\n",
    "print(input_first)\n",
    "print(input_second)\n",
    "print(input_third)\n",
    "time.sleep(10)\n",
    "browser.close()"
   ]
  },
  {
   "cell_type": "markdown",
   "metadata": {},
   "source": [
    "查找后返回的是一个Webelement对象。\n",
    "\n",
    "查找多个元素: 将其中的element加上一个s，则是对应的多个查找方法。\n",
    "\n",
    "![](img/driver.png)"
   ]
  },
  {
   "cell_type": "markdown",
   "metadata": {},
   "source": [
    "#### 2.2 多个元素查找\n",
    "\n",
    "其实多个元素和单个元素的区别，举个例子：find_elements,单个元素是find_element,其他使用上没什么区别，通过其中的一个例子演示："
   ]
  },
  {
   "cell_type": "code",
   "execution_count": null,
   "metadata": {
    "collapsed": true
   },
   "outputs": [],
   "source": [
    "browser = webdriver.Chrome()\n",
    "browser.get(\"http://www.taobao.com\")\n",
    "lis = browser.find_elements_by_css_selector('.service-bd li')\n",
    "print(lis)\n",
    "browser.close()"
   ]
  },
  {
   "cell_type": "markdown",
   "metadata": {},
   "source": [
    "#### 2.3 前进后退"
   ]
  },
  {
   "cell_type": "code",
   "execution_count": null,
   "metadata": {
    "collapsed": true
   },
   "outputs": [],
   "source": [
    "import time\n",
    "from selenium import webdriver\n",
    "\n",
    "browser = webdriver.Chrome()\n",
    "browser.get('https://www.baidu.com/')\n",
    "browser.get('https://www.taobao.com/')\n",
    "browser.get('http://www.leike100.com/')\n",
    "browser.back()\n",
    "time.sleep(1)\n",
    "browser.forward()\n",
    "browser.close()"
   ]
  },
  {
   "cell_type": "markdown",
   "metadata": {},
   "source": [
    "#### 2.4 选项卡管理"
   ]
  },
  {
   "cell_type": "code",
   "execution_count": null,
   "metadata": {
    "collapsed": true
   },
   "outputs": [],
   "source": [
    "import time\n",
    "from selenium import webdriver\n",
    "\n",
    "browser = webdriver.Chrome()\n",
    "browser.get('https://www.baidu.com')\n",
    "browser.execute_script('window.open()')\n",
    "print(browser.window_handles)\n",
    "browser.switch_to_window(browser.window_handles[1])\n",
    "browser.get('https://www.taobao.com')\n",
    "browser.close()\n",
    "time.sleep(1)\n",
    "browser.switch_to_window(browser.window_handles[0])\n",
    "browser.get('http://www.leike100.com/')\n",
    "browser.close()"
   ]
  },
  {
   "cell_type": "markdown",
   "metadata": {
    "slideshow": {
     "slide_type": "slide"
    }
   },
   "source": [
    "# Any Questions?"
   ]
  }
 ],
 "metadata": {
  "celltoolbar": "Edit Metadata",
  "kernelspec": {
   "display_name": "Python [conda env:pytorch]",
   "language": "python",
   "name": "conda-env-pytorch-py"
  },
  "language_info": {
   "codemirror_mode": {
    "name": "ipython",
    "version": 3
   },
   "file_extension": ".py",
   "mimetype": "text/x-python",
   "name": "python",
   "nbconvert_exporter": "python",
   "pygments_lexer": "ipython3",
   "version": "3.6.8"
  }
 },
 "nbformat": 4,
 "nbformat_minor": 1
}
