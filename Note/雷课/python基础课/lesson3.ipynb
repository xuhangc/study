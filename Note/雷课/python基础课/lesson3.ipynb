{
 "metadata": {
  "language_info": {
   "codemirror_mode": {
    "name": "ipython",
    "version": 3
   },
   "file_extension": ".py",
   "mimetype": "text/x-python",
   "name": "python",
   "nbconvert_exporter": "python",
   "pygments_lexer": "ipython3",
   "version": "3.8.5-final"
  },
  "orig_nbformat": 2,
  "kernelspec": {
   "name": "python3",
   "display_name": "Python 3",
   "language": "python"
  }
 },
 "nbformat": 4,
 "nbformat_minor": 2,
 "cells": [
  {
   "source": [
    "### 逻辑与条件控制\n",
    "- bool\n",
    "- if elif else"
   ],
   "cell_type": "markdown",
   "metadata": {}
  },
  {
   "cell_type": "code",
   "execution_count": 1,
   "metadata": {},
   "outputs": [
    {
     "output_type": "stream",
     "name": "stdout",
     "text": [
      "True\nFalse\nTrue\nFalse\nFalse\nTrue\n"
     ]
    }
   ],
   "source": [
    "# bool True False\n",
    "# 比较运算的结果是bool类型的值\n",
    "print(1 > 0) # 对的 就是True\n",
    "print(1 < 0)\n",
    "print(1 >= 0) # \n",
    "print(1 <= 0)\n",
    "print(1 == 0) # 等于\n",
    "print(1 != 0) # 不等于"
   ]
  },
  {
   "cell_type": "code",
   "execution_count": 2,
   "metadata": {},
   "outputs": [
    {
     "output_type": "execute_result",
     "data": {
      "text/plain": [
       "bool"
      ]
     },
     "metadata": {},
     "execution_count": 2
    }
   ],
   "source": [
    "b = 1 > 0\n",
    "type(b)"
   ]
  },
  {
   "cell_type": "code",
   "execution_count": 3,
   "metadata": {},
   "outputs": [
    {
     "output_type": "stream",
     "name": "stdout",
     "text": [
      "2\n1\n0\n1\n"
     ]
    }
   ],
   "source": [
    "# 布尔类型的运算\n",
    "# True的值是1 False的值是0\n",
    "print(True + True)\n",
    "print(True + False)\n",
    "print(False + False)\n",
    "print(int(True))"
   ]
  },
  {
   "cell_type": "code",
   "execution_count": 4,
   "metadata": {},
   "outputs": [
    {
     "output_type": "stream",
     "name": "stdout",
     "text": [
      "True\nFalse\nTrue\nFalse\nFalse\nTrue\n"
     ]
    }
   ],
   "source": [
    "# 布尔类逻辑运算 与and 或or 非not\n",
    "print(True and True)\n",
    "print(True and False)\n",
    "\n",
    "print(True or False)\n",
    "print(False or False)\n",
    "\n",
    "print(not True)\n",
    "print(not False)"
   ]
  },
  {
   "cell_type": "code",
   "execution_count": 6,
   "metadata": {},
   "outputs": [
    {
     "output_type": "execute_result",
     "data": {
      "text/plain": [
       "False"
      ]
     },
     "metadata": {},
     "execution_count": 6
    }
   ],
   "source": [
    "(2 > 1) and (3 < 4) or (5 ==6)\n",
    "\n",
    "# 定义业务规则，控制逻辑\n",
    "\n",
    "birthday = '2020-9-5'\n",
    "\n",
    "age = 20\n",
    "\n",
    "gender = 'female'\n",
    "\n",
    "(age > 18) and (gender == 'male') or age < 6"
   ]
  },
  {
   "cell_type": "code",
   "execution_count": 8,
   "metadata": {},
   "outputs": [
    {
     "output_type": "stream",
     "name": "stdout",
     "text": [
      "They are same!\nfinish\n"
     ]
    }
   ],
   "source": [
    "# 如果 **** 条件下，那么做*****：否则做#####\n",
    "'''\n",
    "if first_condition:\n",
    "    first_body\n",
    "elif second_condition:\n",
    "    second_body\n",
    "else:\n",
    "    third_body\n",
    "'''\n",
    "#每个语句块都有缩进\n",
    "#每个语句块里的每条语句相同缩进\n",
    "a = 1\n",
    "b = 1\n",
    "if a > b:#每个condition后面有一个冒号\n",
    "    print(a) #一个条件满足，执行对应的语句，然后结束整个控制\n",
    "elif a < b:\n",
    "    print(b)\n",
    "else:\n",
    "    print(\"They are same!\")\n",
    "print(\"finish\")"
   ]
  },
  {
   "cell_type": "code",
   "execution_count": 9,
   "metadata": {},
   "outputs": [
    {
     "output_type": "stream",
     "name": "stdout",
     "text": [
      "good2\n"
     ]
    }
   ],
   "source": [
    "## 布尔值 比较运算符 逻辑运算符\n",
    "\n",
    "## 约定了一些值是False\n",
    "\n",
    "if '':\n",
    "    print(\"good1\")\n",
    "elif '   ':\n",
    "    print(\"good2\")\n",
    "elif 10:\n",
    "    print(\"good3\")"
   ]
  },
  {
   "cell_type": "code",
   "execution_count": 10,
   "metadata": {},
   "outputs": [
    {
     "output_type": "stream",
     "name": "stdout",
     "text": [
      "good\n"
     ]
    }
   ],
   "source": [
    "if -1:# 0是False，其他所有值都是True\n",
    "    print(\"good\")"
   ]
  },
  {
   "cell_type": "code",
   "execution_count": null,
   "metadata": {},
   "outputs": [],
   "source": [
    "# False None 0 '' \"\" [] {} 都是假False，其余都是True"
   ]
  },
  {
   "cell_type": "code",
   "execution_count": 11,
   "metadata": {},
   "outputs": [
    {
     "output_type": "stream",
     "name": "stdout",
     "text": [
      "Unlock\nOpen\nadvance\n"
     ]
    }
   ],
   "source": [
    "## 条件控制\n",
    "# if elif是可以嵌套的，可以组合 定义复杂的控制逻辑\n",
    "\n",
    "door_is_closed = True\n",
    "door_is_locked = True\n",
    "if door_is_closed:\n",
    "    if door_is_locked:\n",
    "        print(\"Unlock\")\n",
    "    print(\"Open\")\n",
    "elif not door_is_closed:\n",
    "    if door_is_locked:\n",
    "        print(\"Unlock\")\n",
    "print(\"advance\")"
   ]
  },
  {
   "cell_type": "code",
   "execution_count": null,
   "metadata": {},
   "outputs": [],
   "source": [
    "# 逻辑控制，AI的最起源的理论基础\n",
    "#把我们现实世界通过逻辑来定义和表达"
   ]
  },
  {
   "cell_type": "code",
   "execution_count": 13,
   "metadata": {},
   "outputs": [],
   "source": [
    "day = 'Wednesday'\n",
    "age = 20\n",
    "if day == 'Monday' and age == 12:\n",
    "    print(\"No ticket needed\")"
   ]
  },
  {
   "cell_type": "code",
   "execution_count": 14,
   "metadata": {},
   "outputs": [
    {
     "output_type": "stream",
     "name": "stdout",
     "text": [
      "yes\n"
     ]
    }
   ],
   "source": [
    "if 18 < age < 60:\n",
    "    print(\"yes\")\n",
    "else:\n",
    "    print(\"no\")"
   ]
  },
  {
   "cell_type": "code",
   "execution_count": null,
   "metadata": {},
   "outputs": [],
   "source": []
  }
 ]
}