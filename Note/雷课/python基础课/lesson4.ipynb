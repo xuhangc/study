{
 "metadata": {
  "language_info": {
   "codemirror_mode": {
    "name": "ipython",
    "version": 3
   },
   "file_extension": ".py",
   "mimetype": "text/x-python",
   "name": "python",
   "nbconvert_exporter": "python",
   "pygments_lexer": "ipython3",
   "version": "3.8.5-final"
  },
  "orig_nbformat": 2,
  "kernelspec": {
   "name": "python3",
   "display_name": "Python 3",
   "language": "python"
  }
 },
 "nbformat": 4,
 "nbformat_minor": 2,
 "cells": [
  {
   "cell_type": "code",
   "execution_count": 1,
   "metadata": {},
   "outputs": [
    {
     "output_type": "execute_result",
     "data": {
      "text/plain": [
       "list"
      ]
     },
     "metadata": {},
     "execution_count": 1
    }
   ],
   "source": [
    "#列表 list 数据结构 序列结构 存储一组数据\n",
    "one_friend = 'xiao ming'\n",
    "second_friend = 'xiao qiang'\n",
    "my_friends = ['xiao ming', 'xiao qiang', 'xiao xing']\n",
    "type(my_friends)"
   ]
  },
  {
   "cell_type": "code",
   "execution_count": 2,
   "metadata": {},
   "outputs": [
    {
     "output_type": "stream",
     "name": "stdout",
     "text": [
      "[1, 2, 3, 4, 5]\n[1, 2, 3, 'a', 'b']\n"
     ]
    }
   ],
   "source": [
    "list1 = [1, 2, 3, 4, 5]\n",
    "print(list1)\n",
    "list2 = [1, 2, 3, 'a', 'b']\n",
    "print(list2)"
   ]
  },
  {
   "source": [
    "### list的管理\n",
    "- 增加数据\n",
    "- 修改数据\n",
    "- 查询数据\n",
    "- 删除数据"
   ],
   "cell_type": "markdown",
   "metadata": {}
  },
  {
   "cell_type": "code",
   "execution_count": 3,
   "metadata": {},
   "outputs": [
    {
     "output_type": "stream",
     "name": "stdout",
     "text": [
      "abcde\na\nabc\n"
     ]
    }
   ],
   "source": [
    "# list数据的访问\n",
    "# list的数据访问和字符串str中字符和字串的访问完全一致\n",
    "str1 = 'abcde'\n",
    "print(str1)\n",
    "print(str1[0])\n",
    "print(str1[0:3])"
   ]
  },
  {
   "cell_type": "code",
   "execution_count": 4,
   "metadata": {},
   "outputs": [
    {
     "output_type": "stream",
     "name": "stdout",
     "text": [
      "1\n[1, 2, 3]\n[1, 3]\n[1, 2, 3, 4, 5, 1, 2, 3, 4, 5]\n[1, 2, 3, 4, 5, 7, 8, 9, 10]\n"
     ]
    }
   ],
   "source": [
    "print(list1[0])\n",
    "print(list1[0:3])\n",
    "print(list1[0:3:2])\n",
    "print(list1*2)\n",
    "print(list1+[7,8,9,10])"
   ]
  },
  {
   "cell_type": "code",
   "execution_count": 5,
   "metadata": {},
   "outputs": [
    {
     "output_type": "stream",
     "name": "stdout",
     "text": [
      "5\n5\n1\n"
     ]
    }
   ],
   "source": [
    "print(len(list1))\n",
    "print(max(list1))\n",
    "print(min(list1))"
   ]
  },
  {
   "cell_type": "code",
   "execution_count": 6,
   "metadata": {},
   "outputs": [
    {
     "output_type": "stream",
     "name": "stdout",
     "text": [
      "[1, 2, 10, 3, 4, 5]\n"
     ]
    }
   ],
   "source": [
    "list1.insert(2, 10)\n",
    "print(list1)"
   ]
  },
  {
   "cell_type": "code",
   "execution_count": 7,
   "metadata": {},
   "outputs": [
    {
     "output_type": "stream",
     "name": "stdout",
     "text": [
      "[1, 2, [10, 11], 10, 3, 4, 5]\n"
     ]
    }
   ],
   "source": [
    "list1.insert(2, [10, 11])\n",
    "print(list1)"
   ]
  },
  {
   "cell_type": "code",
   "execution_count": 8,
   "metadata": {},
   "outputs": [],
   "source": [
    "list1.append(8)#在list最后增加元素\n",
    "print(list1)"
   ]
  },
  {
   "cell_type": "code",
   "execution_count": 9,
   "metadata": {},
   "outputs": [
    {
     "output_type": "stream",
     "name": "stdout",
     "text": [
      "[100, 2, [10, 11], 10, 3, 4, 5, 8]\n[100, 101, [10, 11], 10, 3, 4, 5, 8]\n"
     ]
    }
   ],
   "source": [
    "list1[0] = 100\n",
    "print(list1)\n",
    "list1[0:2]=[100,101]\n",
    "print(list1)"
   ]
  },
  {
   "cell_type": "code",
   "execution_count": 10,
   "metadata": {},
   "outputs": [
    {
     "output_type": "stream",
     "name": "stdout",
     "text": [
      "[100, [10, 11], 10, 3, 4, 5, 8]\n"
     ]
    }
   ],
   "source": [
    "list1.pop(1)\n",
    "print(list1)"
   ]
  },
  {
   "cell_type": "code",
   "execution_count": 11,
   "metadata": {},
   "outputs": [
    {
     "output_type": "stream",
     "name": "stdout",
     "text": [
      "[100, [10, 11], 10, 4, 5, 8]\n"
     ]
    }
   ],
   "source": [
    "list1.remove(3)#移除某个值第一次出现的地方\n",
    "print(list1)"
   ]
  },
  {
   "cell_type": "code",
   "execution_count": 12,
   "metadata": {},
   "outputs": [
    {
     "output_type": "stream",
     "name": "stdout",
     "text": [
      "[100, 10, 4, 5, 8]\n"
     ]
    }
   ],
   "source": [
    "del list1[1]\n",
    "print(list1)"
   ]
  },
  {
   "cell_type": "code",
   "execution_count": 13,
   "metadata": {},
   "outputs": [
    {
     "output_type": "stream",
     "name": "stdout",
     "text": [
      "[5, 8]\n"
     ]
    }
   ],
   "source": [
    "del list1[0:2], list1[0]#顺序执行多个删除操作，每次都是在新的list操作\n",
    "print(list1)"
   ]
  },
  {
   "cell_type": "code",
   "execution_count": 14,
   "metadata": {},
   "outputs": [
    {
     "output_type": "stream",
     "name": "stdout",
     "text": [
      "[]\n"
     ]
    }
   ],
   "source": [
    "list1.clear()\n",
    "print(list1)"
   ]
  },
  {
   "cell_type": "code",
   "execution_count": 15,
   "metadata": {},
   "outputs": [
    {
     "output_type": "stream",
     "name": "stdout",
     "text": [
      "[5, 4, 3, 2, 1]\n"
     ]
    }
   ],
   "source": [
    "list1 = [1,2,3,4,5]\n",
    "list1.sort(reverse=True)#不支持里面有str的排序\n",
    "print(list1)"
   ]
  },
  {
   "source": [
    "### 循环"
   ],
   "cell_type": "markdown",
   "metadata": {}
  },
  {
   "cell_type": "code",
   "execution_count": 16,
   "metadata": {},
   "outputs": [
    {
     "output_type": "stream",
     "name": "stdout",
     "text": [
      "15\n"
     ]
    }
   ],
   "source": [
    "list1 = [1,2,3,4,5]\n",
    "print(sum(list1))\n",
    "#如何求和\n",
    "#for循环\n"
   ]
  },
  {
   "cell_type": "code",
   "execution_count": 17,
   "metadata": {},
   "outputs": [
    {
     "output_type": "stream",
     "name": "stdout",
     "text": [
      "15\n"
     ]
    }
   ],
   "source": [
    "sum1 = 0\n",
    "for num in list1:#对于list，每一次循环，从左往右读取一个元素，赋值给num\n",
    "    sum1 += num#每个循环更新sum1\n",
    "print(sum1)"
   ]
  },
  {
   "cell_type": "code",
   "execution_count": null,
   "metadata": {},
   "outputs": [],
   "source": [
    "'''\n",
    "for <variable> in <sequence>:#有个冒号\n",
    "    <statements>#一个语句块必须有缩进，相同缩进，和if elif一样\n",
    "else:\n",
    "    <statements>#for循环执行完，会执行一次else\n",
    "'''"
   ]
  },
  {
   "cell_type": "code",
   "execution_count": 18,
   "metadata": {},
   "outputs": [
    {
     "output_type": "stream",
     "name": "stdout",
     "text": [
      "for对应的else\n12\n"
     ]
    }
   ],
   "source": [
    "list1 = [1,2,3,4,5]\n",
    "sum1 = 0\n",
    "for num in list1:\n",
    "    if num == 3:\n",
    "        continue#本轮循环结束，开始下一轮\n",
    "    sum1 += num\n",
    "else:\n",
    "    print(\"for对应的else\")\n",
    "print(sum1)"
   ]
  },
  {
   "cell_type": "code",
   "execution_count": 19,
   "metadata": {},
   "outputs": [
    {
     "output_type": "stream",
     "name": "stdout",
     "text": [
      "3\n"
     ]
    }
   ],
   "source": [
    "list1 = [1,2,3,4,5]\n",
    "sum1 = 0\n",
    "for num in list1:\n",
    "    if num == 3:\n",
    "        break#循环终止，跳到循环体后面第一行代码\n",
    "    sum1 += num\n",
    "else:\n",
    "    print(\"for对应的else\")#break的时候，这个else也不执行\n",
    "print(sum1)"
   ]
  },
  {
   "cell_type": "code",
   "execution_count": null,
   "metadata": {},
   "outputs": [],
   "source": [
    "# for/else continue break"
   ]
  },
  {
   "cell_type": "code",
   "execution_count": 20,
   "metadata": {},
   "outputs": [
    {
     "output_type": "stream",
     "name": "stdout",
     "text": [
      "15\n"
     ]
    }
   ],
   "source": [
    "# while 循环语句\n",
    "# for语句 主要就是为了对 一个序列数据结构的元素进行处理\n",
    "i = 1\n",
    "sum1 = 0\n",
    "while i <= 5:\n",
    "    sum1 += i\n",
    "    i += 1\n",
    "print(sum1)"
   ]
  },
  {
   "cell_type": "code",
   "execution_count": null,
   "metadata": {},
   "outputs": [],
   "source": [
    "#while里面也可以使用continue break\n",
    "#while实现一个长期的服务"
   ]
  },
  {
   "cell_type": "code",
   "execution_count": null,
   "metadata": {},
   "outputs": [],
   "source": [
    "#list for while"
   ]
  },
  {
   "cell_type": "code",
   "execution_count": 22,
   "metadata": {},
   "outputs": [
    {
     "output_type": "stream",
     "name": "stdout",
     "text": [
      "[1, 3, 5, 7, 9, 11, 13, 15, 17, 19, 21, 23, 25, 27, 29, 31, 33, 35, 37, 39, 41, 43, 45, 47, 49, 51, 53, 55, 57, 59, 61, 63, 65, 67, 69, 71, 73, 75, 77, 79, 81, 83, 85, 87, 89, 91, 93, 95, 97, 99]\n[99, 97, 95, 93, 91, 89, 87, 85, 83, 81, 79, 77, 75, 73, 71, 69, 67, 65, 63, 61, 59, 57, 55, 53, 51, 49, 47, 45, 43, 41, 39, 37, 35, 33, 31, 29, 27, 25, 23, 21, 19, 17, 15, 13, 11, 9, 7, 5, 3, 1]\n[97, 95, 91, 89, 85, 83, 79, 77, 73, 71, 67, 65, 61, 59, 55, 53, 49, 47, 43, 41, 37, 35, 31, 29, 25, 23, 19, 17, 13, 11, 7, 5, 1]\n"
     ]
    }
   ],
   "source": [
    "i = 0\n",
    "list1.clear()\n",
    "while i < 100:\n",
    "    if i % 2:\n",
    "        list1.append(i)\n",
    "    i += 1\n",
    "print(list1)\n",
    "list1.sort(reverse=True)\n",
    "print(list1)\n",
    "for num in list1:\n",
    "    if not (num % 3):\n",
    "        list1.remove(num)\n",
    "print(list1)"
   ]
  },
  {
   "cell_type": "code",
   "execution_count": 24,
   "metadata": {},
   "outputs": [
    {
     "output_type": "stream",
     "name": "stdout",
     "text": [
      "1633\n1633\n"
     ]
    }
   ],
   "source": [
    "sum1 = 0\n",
    "for num in list1:\n",
    "    sum1 += num\n",
    "print(sum1)\n",
    "sum1 = 0\n",
    "i = 0\n",
    "while i < len(list1):\n",
    "    sum1 += list1[i]\n",
    "    i += 1\n",
    "print(sum1)"
   ]
  },
  {
   "cell_type": "code",
   "execution_count": null,
   "metadata": {},
   "outputs": [],
   "source": []
  }
 ]
}