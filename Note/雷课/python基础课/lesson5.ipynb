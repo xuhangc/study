{
 "metadata": {
  "language_info": {
   "codemirror_mode": {
    "name": "ipython",
    "version": 3
   },
   "file_extension": ".py",
   "mimetype": "text/x-python",
   "name": "python",
   "nbconvert_exporter": "python",
   "pygments_lexer": "ipython3",
   "version": "3.8.5-final"
  },
  "orig_nbformat": 2,
  "kernelspec": {
   "name": "python3",
   "display_name": "Python 3",
   "language": "python"
  }
 },
 "nbformat": 4,
 "nbformat_minor": 2,
 "cells": [
  {
   "source": [
    "### 函数"
   ],
   "cell_type": "markdown",
   "metadata": {}
  },
  {
   "cell_type": "code",
   "execution_count": 1,
   "metadata": {},
   "outputs": [
    {
     "output_type": "stream",
     "name": "stdout",
     "text": [
      "29\n"
     ]
    }
   ],
   "source": [
    "# 代码的复用\n",
    "list1 = [1, 4, 6, 8, 10]\n",
    "sum1 = 0\n",
    "for num in list1:\n",
    "    sum1 += num\n",
    "print(sum1)"
   ]
  },
  {
   "cell_type": "code",
   "execution_count": 4,
   "metadata": {},
   "outputs": [
    {
     "output_type": "execute_result",
     "data": {
      "text/plain": [
       "function"
      ]
     },
     "metadata": {},
     "execution_count": 4
    }
   ],
   "source": [
    "# f(x) = x + 2 一个数学里的函数\n",
    "# f(3) = 3 + 2 = 5 函数代入\n",
    "def list_sum_func(list1):\n",
    "    sum1 = 0\n",
    "    for num in list1:\n",
    "        sum1 += num\n",
    "    return sum1\n",
    "type(list_sum_func)"
   ]
  },
  {
   "cell_type": "code",
   "execution_count": 5,
   "metadata": {},
   "outputs": [
    {
     "output_type": "stream",
     "name": "stdout",
     "text": [
      "29\n"
     ]
    }
   ],
   "source": [
    "print(list_sum_func(list1))"
   ]
  },
  {
   "cell_type": "code",
   "execution_count": 6,
   "metadata": {},
   "outputs": [
    {
     "output_type": "stream",
     "name": "stdout",
     "text": [
      "hello\n"
     ]
    }
   ],
   "source": [
    "'''\n",
    "def functionname(parameters):\n",
    "    statements\n",
    "    return [expression] #return可以不需要\n",
    "'''\n",
    "\n",
    "print(\"hello\") #python内置函数"
   ]
  },
  {
   "cell_type": "code",
   "execution_count": 7,
   "metadata": {},
   "outputs": [
    {
     "output_type": "stream",
     "name": "stdout",
     "text": [
      "6\n3\n"
     ]
    }
   ],
   "source": [
    "# 函数的参数\n",
    "def func1(a, b=2):#b的默认值是2\n",
    "    return a + b\n",
    "print(func1(1, 5))\n",
    "print(func1(1))"
   ]
  },
  {
   "cell_type": "code",
   "execution_count": 8,
   "metadata": {},
   "outputs": [
    {
     "output_type": "stream",
     "name": "stdout",
     "text": [
      "4\n6\n"
     ]
    }
   ],
   "source": [
    "print(func1(a=1,b=3))\n",
    "print(func1(b=5,a=1))"
   ]
  },
  {
   "cell_type": "code",
   "execution_count": 9,
   "metadata": {},
   "outputs": [
    {
     "output_type": "stream",
     "name": "stdout",
     "text": [
      "9\n"
     ]
    }
   ],
   "source": [
    "def func2(a, b=2,c=7):#具有缺省值参数的后面的参数都需要具有缺省值\n",
    "    return a + b + c\n",
    "print(func2(1,3,5))"
   ]
  },
  {
   "source": [
    "## 函数参数的变与不变\n",
    "## 内置的数据类型作为参数，函数不会改变参数变量原来的值\n",
    "## list序列的数据结构，函数会改变这个变量的值"
   ],
   "cell_type": "markdown",
   "metadata": {}
  },
  {
   "cell_type": "code",
   "execution_count": 10,
   "metadata": {},
   "outputs": [
    {
     "output_type": "stream",
     "name": "stdout",
     "text": [
      "5\n"
     ]
    }
   ],
   "source": [
    "def changedata(a):\n",
    "    a += 1\n",
    "x = 5\n",
    "changedata(x)\n",
    "print(x)"
   ]
  },
  {
   "cell_type": "code",
   "execution_count": 11,
   "metadata": {},
   "outputs": [
    {
     "output_type": "stream",
     "name": "stdout",
     "text": [
      "[10, 20, 30, 1]\n"
     ]
    }
   ],
   "source": [
    "def changedata2(list1):\n",
    "    list1.append(1)\n",
    "x = [10, 20, 30]\n",
    "changedata2(x)\n",
    "print(x)"
   ]
  },
  {
   "source": [
    "## 函数变量的作用域"
   ],
   "cell_type": "markdown",
   "metadata": {}
  },
  {
   "cell_type": "code",
   "execution_count": 12,
   "metadata": {},
   "outputs": [
    {
     "output_type": "error",
     "ename": "NameError",
     "evalue": "name 'y' is not defined",
     "traceback": [
      "\u001b[0;31m---------------------------------------------------------------------------\u001b[0m",
      "\u001b[0;31mNameError\u001b[0m                                 Traceback (most recent call last)",
      "\u001b[0;32m<ipython-input-12-febc0ae170c4>\u001b[0m in \u001b[0;36m<module>\u001b[0;34m\u001b[0m\n\u001b[1;32m      2\u001b[0m     \u001b[0ma\u001b[0m \u001b[0;34m+=\u001b[0m \u001b[0;36m1\u001b[0m\u001b[0;34m\u001b[0m\u001b[0;34m\u001b[0m\u001b[0m\n\u001b[1;32m      3\u001b[0m     \u001b[0my\u001b[0m \u001b[0;34m=\u001b[0m \u001b[0ma\u001b[0m\u001b[0;34m\u001b[0m\u001b[0;34m\u001b[0m\u001b[0m\n\u001b[0;32m----> 4\u001b[0;31m \u001b[0mprint\u001b[0m\u001b[0;34m(\u001b[0m\u001b[0my\u001b[0m\u001b[0;34m)\u001b[0m\u001b[0;31m#函数体里面定义的新变量，在函数外面访问不了\u001b[0m\u001b[0;34m\u001b[0m\u001b[0;34m\u001b[0m\u001b[0m\n\u001b[0m",
      "\u001b[0;31mNameError\u001b[0m: name 'y' is not defined"
     ]
    }
   ],
   "source": [
    "def changedata(a):\n",
    "    a += 1\n",
    "    y = a\n",
    "print(y)#函数体里面定义的新变量，在函数外面访问不了"
   ]
  },
  {
   "cell_type": "code",
   "execution_count": 25,
   "metadata": {},
   "outputs": [
    {
     "output_type": "stream",
     "name": "stdout",
     "text": [
      "20\n20\n"
     ]
    }
   ],
   "source": [
    "y = 20 # 全局变量，在函数里面可以访问\n",
    "def changedata(a):\n",
    "    global y\n",
    "    a += y\n",
    "    print(y)\n",
    "\n",
    "changedata(2)\n",
    "print(y)"
   ]
  },
  {
   "cell_type": "code",
   "execution_count": 27,
   "metadata": {},
   "outputs": [
    {
     "output_type": "stream",
     "name": "stdout",
     "text": [
      "105\n"
     ]
    }
   ],
   "source": [
    "## 模块 module\n",
    "import myfunc\n",
    "x = 5\n",
    "print(myfunc.changedata100(x))"
   ]
  },
  {
   "cell_type": "code",
   "execution_count": 28,
   "metadata": {},
   "outputs": [
    {
     "output_type": "stream",
     "name": "stdout",
     "text": [
      "105\n"
     ]
    }
   ],
   "source": [
    "from myfunc import changedata100 # * 导入myfunc文件里所有函数\n",
    "x = 5\n",
    "y = changedata100(x)\n",
    "print(y)"
   ]
  },
  {
   "cell_type": "code",
   "execution_count": null,
   "metadata": {},
   "outputs": [],
   "source": [
    "## 包 package\n",
    "## 一个module有多个函数，一个package包含多个module\n",
    "# 一个package里包含多个文件夹，每个文件夹里需要有一个__init__.py\n",
    "# package可以通过conda或者pip等安装\n",
    "# TensorFlow，jieba，都是package，pip install tensorflow"
   ]
  },
  {
   "source": [
    "### 类"
   ],
   "cell_type": "markdown",
   "metadata": {}
  },
  {
   "cell_type": "code",
   "execution_count": null,
   "metadata": {},
   "outputs": [],
   "source": [
    "# 面向对象等编程方法，java是典型等面向对象，C面向过程等编程方法\n",
    "# 类，实例，属性，类的继承......"
   ]
  },
  {
   "cell_type": "code",
   "execution_count": 29,
   "metadata": {},
   "outputs": [],
   "source": [
    "class Student:\n",
    "    student_count = 0\n",
    "\n",
    "    def __init__(self, name, age): # init前后是两个下划线\n",
    "        self.name = name\n",
    "        self.age = age\n",
    "        Student.student_count += 1\n",
    "\n",
    "    def display_student(self):\n",
    "        print(\"name:\", self.name, \"age\", self.age)"
   ]
  },
  {
   "cell_type": "code",
   "execution_count": 31,
   "metadata": {},
   "outputs": [
    {
     "output_type": "stream",
     "name": "stdout",
     "text": [
      "name: xiaoming age 19\nname: xiaogang age 20\n"
     ]
    }
   ],
   "source": [
    "student1 = Student('xiaoming', 19)#初始化类 构造一个对象student\n",
    "student1.display_student()#调用类等方法，类的函数\n",
    "\n",
    "student2 = Student('xiaogang', 20)#初始化类 构造一个对象student\n",
    "student2.display_student()#调用类等方法，类的函数"
   ]
  },
  {
   "source": [
    "def find_max(list1):\n",
    "    max = list1[0]\n",
    "    for num in list1:\n",
    "        if num > max:\n",
    "            max = num\n",
    "    return max"
   ],
   "cell_type": "code",
   "metadata": {},
   "execution_count": 32,
   "outputs": []
  },
  {
   "cell_type": "code",
   "execution_count": 33,
   "metadata": {},
   "outputs": [
    {
     "output_type": "stream",
     "name": "stdout",
     "text": [
      "10086\n"
     ]
    }
   ],
   "source": [
    "list1 = [1, 2 ,3, 5, 10086, 10, 80, 90]\n",
    "print(find_max(list1))"
   ]
  },
  {
   "cell_type": "code",
   "execution_count": 34,
   "metadata": {},
   "outputs": [
    {
     "output_type": "stream",
     "name": "stdout",
     "text": [
      "10086\n"
     ]
    }
   ],
   "source": [
    "from findmax import find_max\n",
    "print(find_max(list1))"
   ]
  },
  {
   "cell_type": "code",
   "execution_count": null,
   "metadata": {},
   "outputs": [],
   "source": []
  }
 ]
}