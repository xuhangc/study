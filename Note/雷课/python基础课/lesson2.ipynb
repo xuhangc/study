{
 "metadata": {
  "language_info": {
   "codemirror_mode": {
    "name": "ipython",
    "version": 3
   },
   "file_extension": ".py",
   "mimetype": "text/x-python",
   "name": "python",
   "nbconvert_exporter": "python",
   "pygments_lexer": "ipython3",
   "version": "3.8.5-final"
  },
  "orig_nbformat": 2,
  "kernelspec": {
   "name": "python3",
   "display_name": "Python 3",
   "language": "python"
  }
 },
 "nbformat": 4,
 "nbformat_minor": 2,
 "cells": [
  {
   "source": [
    "### 字符串类型及函数\n",
    "- "
   ],
   "cell_type": "markdown",
   "metadata": {}
  },
  {
   "source": [
    "字符串的定义"
   ],
   "cell_type": "markdown",
   "metadata": {}
  },
  {
   "cell_type": "code",
   "execution_count": 1,
   "metadata": {},
   "outputs": [
    {
     "output_type": "stream",
     "name": "stdout",
     "text": [
      "Hello World!\nHello World!\n"
     ]
    }
   ],
   "source": [
    "print(\"Hello World!\")\n",
    "print('Hello World!')"
   ]
  },
  {
   "cell_type": "code",
   "execution_count": 2,
   "metadata": {},
   "outputs": [
    {
     "output_type": "stream",
     "name": "stdout",
     "text": [
      "Hello\n"
     ]
    },
    {
     "output_type": "execute_result",
     "data": {
      "text/plain": [
       "str"
      ]
     },
     "metadata": {},
     "execution_count": 2
    }
   ],
   "source": [
    "str1 = \"Hello\"\n",
    "print(str1)\n",
    "type(str1)"
   ]
  },
  {
   "cell_type": "code",
   "execution_count": 3,
   "metadata": {},
   "outputs": [
    {
     "output_type": "stream",
     "name": "stdout",
     "text": [
      "12\n"
     ]
    }
   ],
   "source": [
    "print('1' + '2')"
   ]
  },
  {
   "cell_type": "code",
   "execution_count": 4,
   "metadata": {},
   "outputs": [
    {
     "output_type": "stream",
     "name": "stdout",
     "text": [
      "111\n"
     ]
    }
   ],
   "source": [
    "print('1' * 3)"
   ]
  },
  {
   "cell_type": "code",
   "execution_count": 5,
   "metadata": {},
   "outputs": [],
   "source": [
    "str1 = 'abcdefg'"
   ]
  },
  {
   "cell_type": "code",
   "execution_count": 7,
   "metadata": {},
   "outputs": [
    {
     "output_type": "stream",
     "name": "stdout",
     "text": [
      "b\na\ng\n"
     ]
    }
   ],
   "source": [
    "print(str1[1])#字符串中字符的位置从0开始\n",
    "print(str1[0])\n",
    "print(str1[-1])"
   ]
  },
  {
   "cell_type": "code",
   "execution_count": 8,
   "metadata": {},
   "outputs": [
    {
     "output_type": "stream",
     "name": "stdout",
     "text": [
      "abcd\n"
     ]
    }
   ],
   "source": [
    "# slice\n",
    "# str[start:end:step]\n",
    "print(str1[0:4:1])"
   ]
  },
  {
   "cell_type": "code",
   "execution_count": 9,
   "metadata": {},
   "outputs": [
    {
     "output_type": "stream",
     "name": "stdout",
     "text": [
      "ac\n"
     ]
    }
   ],
   "source": [
    "print(str1[0:4:2])"
   ]
  },
  {
   "cell_type": "code",
   "execution_count": 10,
   "metadata": {},
   "outputs": [
    {
     "output_type": "stream",
     "name": "stdout",
     "text": [
      "abcdefg\n"
     ]
    }
   ],
   "source": [
    "print(str1[0:])"
   ]
  },
  {
   "cell_type": "code",
   "execution_count": 11,
   "metadata": {},
   "outputs": [
    {
     "output_type": "stream",
     "name": "stdout",
     "text": [
      "gfedcb\n"
     ]
    }
   ],
   "source": [
    "print(str1[8:0:-1])"
   ]
  },
  {
   "cell_type": "code",
   "execution_count": 12,
   "metadata": {},
   "outputs": [
    {
     "output_type": "stream",
     "name": "stdout",
     "text": [
      "ge\nabcdefg\n"
     ]
    }
   ],
   "source": [
    "print(str1[-1:-5:-2])\n",
    "print(str1[::])"
   ]
  },
  {
   "source": [
    "字符串格式化"
   ],
   "cell_type": "markdown",
   "metadata": {}
  },
  {
   "cell_type": "code",
   "execution_count": 13,
   "metadata": {},
   "outputs": [
    {
     "output_type": "stream",
     "name": "stdout",
     "text": [
      "我是 小明 我今年 10 岁\n我是小明,我今年10岁\n"
     ]
    }
   ],
   "source": [
    "name = \"小明\"\n",
    "age = 10\n",
    "print(\"我是\",name, \"我今年\",age,\"岁\")\n",
    "print(\"我是%s,我今年%d岁\"%(name, age))"
   ]
  },
  {
   "cell_type": "code",
   "execution_count": 17,
   "metadata": {},
   "outputs": [
    {
     "output_type": "stream",
     "name": "stdout",
     "text": [
      "我是 小明,我体重  120.50斤\n"
     ]
    }
   ],
   "source": [
    "print(\"我是%3s,我体重%8.2f斤\"%(name, 120.5))"
   ]
  },
  {
   "cell_type": "code",
   "execution_count": 18,
   "metadata": {},
   "outputs": [
    {
     "output_type": "stream",
     "name": "stdout",
     "text": [
      "3520\n55\n"
     ]
    }
   ],
   "source": [
    "str1 = '35'\n",
    "str2 = '20'\n",
    "print(str1 + str2)\n",
    "print(int(str1) + int(str2))"
   ]
  },
  {
   "cell_type": "code",
   "execution_count": 20,
   "metadata": {},
   "outputs": [
    {
     "output_type": "stream",
     "name": "stdout",
     "text": [
      "35+20.5=55.50\n35 + 20.5 = 55.5\n"
     ]
    }
   ],
   "source": [
    "str2 = 20.5\n",
    "print(\"%s+%s=%.2f\"%(str1,str2,int(str1) + float(str2)))\n",
    "print(str1,\"+\",str2,\"=\",int(str1) + float(str2))"
   ]
  },
  {
   "cell_type": "code",
   "execution_count": 21,
   "metadata": {},
   "outputs": [
    {
     "output_type": "stream",
     "name": "stdout",
     "text": [
      "ABCDE\n"
     ]
    }
   ],
   "source": [
    "print('abcde'.upper())"
   ]
  },
  {
   "cell_type": "code",
   "execution_count": 22,
   "metadata": {},
   "outputs": [
    {
     "output_type": "stream",
     "name": "stdout",
     "text": [
      "abcde\n"
     ]
    }
   ],
   "source": [
    "print('ABCDE'.lower())"
   ]
  },
  {
   "cell_type": "code",
   "execution_count": 23,
   "metadata": {},
   "outputs": [
    {
     "output_type": "stream",
     "name": "stdout",
     "text": [
      "Abcde\n"
     ]
    }
   ],
   "source": [
    "print('abcde'.capitalize())"
   ]
  },
  {
   "source": [
    "字符串的搜索、替换"
   ],
   "cell_type": "markdown",
   "metadata": {}
  },
  {
   "cell_type": "code",
   "execution_count": 24,
   "metadata": {},
   "outputs": [],
   "source": [
    "str1 = \"My name was Xiaoming. He was sad yesterday\""
   ]
  },
  {
   "cell_type": "code",
   "execution_count": 25,
   "metadata": {},
   "outputs": [
    {
     "output_type": "stream",
     "name": "stdout",
     "text": [
      "My name is Xiaoming. He is sad yesterday\n"
     ]
    }
   ],
   "source": [
    "print(str1.replace('was', 'is'))"
   ]
  },
  {
   "cell_type": "code",
   "execution_count": 26,
   "metadata": {},
   "outputs": [
    {
     "output_type": "stream",
     "name": "stdout",
     "text": [
      "My name is Xiaoming. He was sad yesterday\n"
     ]
    }
   ],
   "source": [
    "print(str1.replace('was', 'is',1))\n",
    "#先定位，再处理"
   ]
  },
  {
   "cell_type": "code",
   "execution_count": 27,
   "metadata": {},
   "outputs": [
    {
     "output_type": "execute_result",
     "data": {
      "text/plain": [
       "25"
      ]
     },
     "metadata": {},
     "execution_count": 27
    }
   ],
   "source": [
    "index1 = str1.find('was')\n",
    "index2 = str1.find('was', index1 + 1)\n",
    "index2"
   ]
  },
  {
   "cell_type": "code",
   "execution_count": 28,
   "metadata": {},
   "outputs": [
    {
     "output_type": "execute_result",
     "data": {
      "text/plain": [
       "'My name was Xiaoming. He is sad yesterday'"
      ]
     },
     "metadata": {},
     "execution_count": 28
    }
   ],
   "source": [
    "str2 = str1[0:index2] + 'is' + str1[index2+3:]\n",
    "str2"
   ]
  },
  {
   "cell_type": "code",
   "execution_count": 29,
   "metadata": {},
   "outputs": [
    {
     "output_type": "execute_result",
     "data": {
      "text/plain": [
       "8"
      ]
     },
     "metadata": {},
     "execution_count": 29
    }
   ],
   "source": [
    "str1.index('was')"
   ]
  },
  {
   "source": [
    "# 信息提取\n",
    "str3 = \"<xml><name>xiaoming</name><age>18</age></xml>\""
   ],
   "cell_type": "code",
   "metadata": {},
   "execution_count": 31,
   "outputs": []
  },
  {
   "cell_type": "code",
   "execution_count": 32,
   "metadata": {},
   "outputs": [
    {
     "output_type": "execute_result",
     "data": {
      "text/plain": [
       "'xiaoming'"
      ]
     },
     "metadata": {},
     "execution_count": 32
    }
   ],
   "source": [
    "name = str3[str3.index('<name>') + 6 : str3.index('</name>')]\n",
    "name"
   ]
  },
  {
   "cell_type": "code",
   "execution_count": 33,
   "metadata": {},
   "outputs": [
    {
     "output_type": "execute_result",
     "data": {
      "text/plain": [
       "'8'"
      ]
     },
     "metadata": {},
     "execution_count": 33
    }
   ],
   "source": [
    "age = str3[str3.index('<age>')+6:str3.index('</age>')]\n",
    "age"
   ]
  },
  {
   "cell_type": "code",
   "execution_count": 34,
   "metadata": {},
   "outputs": [
    {
     "output_type": "stream",
     "name": "stdout",
     "text": [
      "His name is xiaoming, and he is 8 year old.\n"
     ]
    }
   ],
   "source": [
    "print(\"His name is %s, and he is %s year old.\"%(name, age))"
   ]
  },
  {
   "cell_type": "code",
   "execution_count": 35,
   "metadata": {},
   "outputs": [
    {
     "output_type": "stream",
     "name": "stdout",
     "text": [
      "5\n"
     ]
    }
   ],
   "source": [
    "str4 = \"1,2,3,4,5,6\"\n",
    "print(str4.split(',')[4])"
   ]
  },
  {
   "source": [
    "转义字符"
   ],
   "cell_type": "markdown",
   "metadata": {}
  },
  {
   "cell_type": "code",
   "execution_count": 36,
   "metadata": {},
   "outputs": [
    {
     "output_type": "stream",
     "name": "stdout",
     "text": [
      "I am 5 years \n old!\n"
     ]
    }
   ],
   "source": [
    "print(\"I am 5 years \\n old!\")"
   ]
  },
  {
   "cell_type": "code",
   "execution_count": 37,
   "metadata": {},
   "outputs": [
    {
     "output_type": "stream",
     "name": "stdout",
     "text": [
      "I am 5 years \t old\n"
     ]
    }
   ],
   "source": [
    "print(\"I am 5 years \\t old\")"
   ]
  },
  {
   "cell_type": "code",
   "execution_count": 40,
   "metadata": {},
   "outputs": [
    {
     "output_type": "stream",
     "name": "stdout",
     "text": [
      " old\n"
     ]
    }
   ],
   "source": [
    "print(\"I am 5 years \\r old\")"
   ]
  },
  {
   "cell_type": "code",
   "execution_count": 41,
   "metadata": {},
   "outputs": [
    {
     "output_type": "stream",
     "name": "stdout",
     "text": [
      "I am 5 years \\r old\n"
     ]
    }
   ],
   "source": [
    "print(r\"I am 5 years \\r old\")"
   ]
  },
  {
   "cell_type": "code",
   "execution_count": 43,
   "metadata": {},
   "outputs": [
    {
     "output_type": "stream",
     "name": "stdout",
     "text": [
      "He Said:'hello'\n"
     ]
    }
   ],
   "source": [
    "print('He Said:\\'hello\\'')"
   ]
  },
  {
   "cell_type": "code",
   "execution_count": 45,
   "metadata": {},
   "outputs": [
    {
     "output_type": "stream",
     "name": "stdout",
     "text": [
      "<html><body>\"Hi, what is your name?\" \"My Name is Hanmeimei\"</body></html>\n"
     ]
    }
   ],
   "source": [
    "str1 = \"<html><body>\\\"Hi, what is your name?\\\" \\\"My Name is Hanmeimei\\\"</body></html>\"\n",
    "print(str1)"
   ]
  },
  {
   "cell_type": "code",
   "execution_count": 46,
   "metadata": {},
   "outputs": [
    {
     "output_type": "stream",
     "name": "stdout",
     "text": [
      "<html><body>\"Hi, what is your name?\" \"My Name is Liming\"</body></html>\n"
     ]
    }
   ],
   "source": [
    "print(str1.replace(\"Hanmeimei\",\"Liming\"))"
   ]
  },
  {
   "cell_type": "code",
   "execution_count": 47,
   "metadata": {},
   "outputs": [
    {
     "output_type": "execute_result",
     "data": {
      "text/plain": [
       "'\"Hi, what is your name?\" \"My Name is Hanmeimei\"'"
      ]
     },
     "metadata": {},
     "execution_count": 47
    }
   ],
   "source": [
    "sub = str1[str1.index('<body>') + 6 : str1.index('</body>')]\n",
    "sub"
   ]
  },
  {
   "cell_type": "code",
   "execution_count": null,
   "metadata": {},
   "outputs": [],
   "source": []
  }
 ]
}